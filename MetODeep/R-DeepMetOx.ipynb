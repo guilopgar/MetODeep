{
 "cells": [
  {
   "cell_type": "markdown",
   "metadata": {},
   "source": [
    "# Analysis of the obtained results\n",
    "\n",
    "In this notebook, we will use the code of several R scripts (analyse_test_results_boostrap.R and analyse_test_results_boostrap_BS.R), to perform an analysis of the obtained results applying MusiteDeep model to the methionine-oxidation problem.\n",
    "\n",
    "We first load the MetOx dataset:"
   ]
  },
  {
   "cell_type": "code",
   "execution_count": 1,
   "metadata": {},
   "outputs": [],
   "source": [
    "load('../MetOData.RData')"
   ]
  },
  {
   "cell_type": "code",
   "execution_count": 2,
   "metadata": {
    "scrolled": true
   },
   "outputs": [
    {
     "data": {
      "text/html": [
       "<table>\n",
       "<thead><tr><th scope=col>ACC</th><th scope=col>PDB</th><th scope=col>Met</th><th scope=col>Oxidable</th><th scope=col>Yd.chain</th><th scope=col>Fd.chain</th><th scope=col>Wd.chain</th><th scope=col>nY.chain</th><th scope=col>nF.chain</th><th scope=col>nW.chain</th><th scope=col>⋯</th><th scope=col>CT_M</th><th scope=col>CT_N</th><th scope=col>CT_P</th><th scope=col>CT_Q</th><th scope=col>CT_R</th><th scope=col>CT_S</th><th scope=col>CT_T</th><th scope=col>CT_V</th><th scope=col>CT_W</th><th scope=col>CT_Y</th></tr></thead>\n",
       "<tbody>\n",
       "\t<tr><td>A5YKK6</td><td>4C0D  </td><td>1883  </td><td>No    </td><td>10.6  </td><td> 4.8  </td><td> 8.6  </td><td>0     </td><td>2     </td><td>0     </td><td>⋯     </td><td>22    </td><td>37    </td><td>38    </td><td> 2    </td><td>14    </td><td>27    </td><td> 8    </td><td>24    </td><td>155   </td><td>28    </td></tr>\n",
       "\t<tr><td>A5YKK6</td><td>4C0D  </td><td>1905  </td><td>No    </td><td>10.9  </td><td> 8.8  </td><td>12.6  </td><td>0     </td><td>0     </td><td>0     </td><td>⋯     </td><td>22    </td><td>15    </td><td>16    </td><td> 9    </td><td> 7    </td><td> 5    </td><td>21    </td><td> 2    </td><td>133   </td><td> 6    </td></tr>\n",
       "\t<tr><td>A5YKK6</td><td>4C0D  </td><td>1996  </td><td>No    </td><td> 8.3  </td><td>11.6  </td><td>14.2  </td><td>0     </td><td>0     </td><td>0     </td><td>⋯     </td><td>55    </td><td> 6    </td><td> 8    </td><td>18    </td><td>31    </td><td>47    </td><td>14    </td><td>11    </td><td> 42   </td><td>40    </td></tr>\n",
       "\t<tr><td>A5YKK6</td><td>4C0D  </td><td>2051  </td><td>No    </td><td> 6.8  </td><td> 4.8  </td><td> 9.2  </td><td>1     </td><td>1     </td><td>0     </td><td>⋯     </td><td>12    </td><td>30    </td><td> 5    </td><td> 6    </td><td>29    </td><td>83    </td><td> 4    </td><td>31    </td><td> 10   </td><td>13    </td></tr>\n",
       "\t<tr><td>A5YKK6</td><td>4C0D  </td><td>2063  </td><td>No    </td><td> 9.8  </td><td> 5.8  </td><td>10.5  </td><td>0     </td><td>1     </td><td>0     </td><td>⋯     </td><td>25    </td><td>18    </td><td>14    </td><td> 3    </td><td>17    </td><td>71    </td><td>22    </td><td>19    </td><td>257   </td><td> 1    </td></tr>\n",
       "\t<tr><td>A5YKK6</td><td>4C0D  </td><td>2088  </td><td>No    </td><td> 5.9  </td><td> 4.4  </td><td>12.8  </td><td>1     </td><td>1     </td><td>0     </td><td>⋯     </td><td>52    </td><td>36    </td><td>19    </td><td> 1    </td><td> 9    </td><td>46    </td><td> 7    </td><td>10    </td><td>232   </td><td> 4    </td></tr>\n",
       "</tbody>\n",
       "</table>\n"
      ],
      "text/latex": [
       "\\begin{tabular}{r|llllllllllllllllllllllllllllllllllllllllllllllllllllllllllllllllllllllllllllllll}\n",
       " ACC & PDB & Met & Oxidable & Yd.chain & Fd.chain & Wd.chain & nY.chain & nF.chain & nW.chain & ⋯ & CT\\_M & CT\\_N & CT\\_P & CT\\_Q & CT\\_R & CT\\_S & CT\\_T & CT\\_V & CT\\_W & CT\\_Y\\\\\n",
       "\\hline\n",
       "\t A5YKK6 & 4C0D   & 1883   & No     & 10.6   &  4.8   &  8.6   & 0      & 2      & 0      & ⋯      & 22     & 37     & 38     &  2     & 14     & 27     &  8     & 24     & 155    & 28    \\\\\n",
       "\t A5YKK6 & 4C0D   & 1905   & No     & 10.9   &  8.8   & 12.6   & 0      & 0      & 0      & ⋯      & 22     & 15     & 16     &  9     &  7     &  5     & 21     &  2     & 133    &  6    \\\\\n",
       "\t A5YKK6 & 4C0D   & 1996   & No     &  8.3   & 11.6   & 14.2   & 0      & 0      & 0      & ⋯      & 55     &  6     &  8     & 18     & 31     & 47     & 14     & 11     &  42    & 40    \\\\\n",
       "\t A5YKK6 & 4C0D   & 2051   & No     &  6.8   &  4.8   &  9.2   & 1      & 1      & 0      & ⋯      & 12     & 30     &  5     &  6     & 29     & 83     &  4     & 31     &  10    & 13    \\\\\n",
       "\t A5YKK6 & 4C0D   & 2063   & No     &  9.8   &  5.8   & 10.5   & 0      & 1      & 0      & ⋯      & 25     & 18     & 14     &  3     & 17     & 71     & 22     & 19     & 257    &  1    \\\\\n",
       "\t A5YKK6 & 4C0D   & 2088   & No     &  5.9   &  4.4   & 12.8   & 1      & 1      & 0      & ⋯      & 52     & 36     & 19     &  1     &  9     & 46     &  7     & 10     & 232    &  4    \\\\\n",
       "\\end{tabular}\n"
      ],
      "text/markdown": [
       "\n",
       "ACC | PDB | Met | Oxidable | Yd.chain | Fd.chain | Wd.chain | nY.chain | nF.chain | nW.chain | ⋯ | CT_M | CT_N | CT_P | CT_Q | CT_R | CT_S | CT_T | CT_V | CT_W | CT_Y | \n",
       "|---|---|---|---|---|---|\n",
       "| A5YKK6 | 4C0D   | 1883   | No     | 10.6   |  4.8   |  8.6   | 0      | 2      | 0      | ⋯      | 22     | 37     | 38     |  2     | 14     | 27     |  8     | 24     | 155    | 28     | \n",
       "| A5YKK6 | 4C0D   | 1905   | No     | 10.9   |  8.8   | 12.6   | 0      | 0      | 0      | ⋯      | 22     | 15     | 16     |  9     |  7     |  5     | 21     |  2     | 133    |  6     | \n",
       "| A5YKK6 | 4C0D   | 1996   | No     |  8.3   | 11.6   | 14.2   | 0      | 0      | 0      | ⋯      | 55     |  6     |  8     | 18     | 31     | 47     | 14     | 11     |  42    | 40     | \n",
       "| A5YKK6 | 4C0D   | 2051   | No     |  6.8   |  4.8   |  9.2   | 1      | 1      | 0      | ⋯      | 12     | 30     |  5     |  6     | 29     | 83     |  4     | 31     |  10    | 13     | \n",
       "| A5YKK6 | 4C0D   | 2063   | No     |  9.8   |  5.8   | 10.5   | 0      | 1      | 0      | ⋯      | 25     | 18     | 14     |  3     | 17     | 71     | 22     | 19     | 257    |  1     | \n",
       "| A5YKK6 | 4C0D   | 2088   | No     |  5.9   |  4.4   | 12.8   | 1      | 1      | 0      | ⋯      | 52     | 36     | 19     |  1     |  9     | 46     |  7     | 10     | 232    |  4     | \n",
       "\n",
       "\n"
      ],
      "text/plain": [
       "  ACC    PDB  Met  Oxidable Yd.chain Fd.chain Wd.chain nY.chain nF.chain\n",
       "1 A5YKK6 4C0D 1883 No       10.6      4.8      8.6     0        2       \n",
       "2 A5YKK6 4C0D 1905 No       10.9      8.8     12.6     0        0       \n",
       "3 A5YKK6 4C0D 1996 No        8.3     11.6     14.2     0        0       \n",
       "4 A5YKK6 4C0D 2051 No        6.8      4.8      9.2     1        1       \n",
       "5 A5YKK6 4C0D 2063 No        9.8      5.8     10.5     0        1       \n",
       "6 A5YKK6 4C0D 2088 No        5.9      4.4     12.8     1        1       \n",
       "  nW.chain ⋯ CT_M CT_N CT_P CT_Q CT_R CT_S CT_T CT_V CT_W CT_Y\n",
       "1 0        ⋯ 22   37   38    2   14   27    8   24   155  28  \n",
       "2 0        ⋯ 22   15   16    9    7    5   21    2   133   6  \n",
       "3 0        ⋯ 55    6    8   18   31   47   14   11    42  40  \n",
       "4 0        ⋯ 12   30    5    6   29   83    4   31    10  13  \n",
       "5 0        ⋯ 25   18   14    3   17   71   22   19   257   1  \n",
       "6 0        ⋯ 52   36   19    1    9   46    7   10   232   4  "
      ]
     },
     "metadata": {},
     "output_type": "display_data"
    }
   ],
   "source": [
    "head(MetOData)"
   ]
  },
  {
   "cell_type": "code",
   "execution_count": 3,
   "metadata": {},
   "outputs": [],
   "source": [
    "get_ids <- function(cad){\n",
    "    unlist(strsplit(unlist(strsplit(cad, '[|]'))[2], '[.]'))[1]\n",
    "}\n",
    "\n",
    "\n",
    "test_analysis <- function(train.ids, metox.data, results.path) {\n",
    "    test_acc <- ACC_ids[-train.ids]\n",
    "\n",
    "    # Load results (previously computed with keras/theano - deep learning)\n",
    "    test_results <- read.table(results.path, sep = '\\t', col.names = c('id', 'pos', 'res', 'prob'))\n",
    "\n",
    "    test_results$id <- as.character(test_results$id)\n",
    "\n",
    "    test_res_ids <- sapply(test_results$id, get_ids)\n",
    "\n",
    "    test_results$id <- test_res_ids\n",
    "\n",
    "    test_results$Prediction <- factor(ifelse(test_results$prob > 0.5, 'Yes', 'No'), levels = c('Yes','No'))\n",
    "\n",
    "    test_results <- test_results[, c('id', 'pos', 'prob', 'Prediction')]\n",
    "\n",
    "    names(test_results) <- c('ACC', 'Met', 'Prob', 'Prediction')\n",
    "\n",
    "    MetOData_test <- metox.data[metox.data$ACC %in% test_acc,c('ACC','Met','Oxidable')]\n",
    "    \n",
    "    return(list(test_results=test_results, MetOData_test=MetOData_test))\n",
    "}\n",
    "\n",
    "\n",
    "metrics_analysis <- function(test_results) {\n",
    "    lvl <- rev(levels(test_results$Oxidable))\n",
    "    tstROC <- roc(test_results$Oxidable, test_results$Prob, levels = lvl)\n",
    "    bestVals <- coords(tstROC, 0.5, ret=c(\"accuracy\", \"sensitivity\", \"specificity\", \"tp\", \"tn\", \"fp\", \"fn\"))\n",
    "\n",
    "    tp <- bestVals[4]\n",
    "    tn <- bestVals[5]\n",
    "    fp <- bestVals[6]\n",
    "    fn <- bestVals[7]\n",
    "    precision <- tp / (tp + fp)\n",
    "    # In binary classification, sensibility=recall\n",
    "    recall <- tp / (tp + fn)\n",
    "    mcc <- (tp * tn - fp * fn)/sqrt((tp + fp) * (tp + fn) * (tn + fp) * (tn + fn))\n",
    "    Fmeasure <- 2 * precision * recall / (precision + recall)\n",
    "    return(c(0.5, \n",
    "             tstROC$auc, \n",
    "             bestVals[1:3],\n",
    "             precision,\n",
    "             recall,\n",
    "             mcc,\n",
    "             Fmeasure\n",
    "    ))\n",
    "}\n",
    "\n",
    "\n",
    "results_analysis_all <- function(train.ids, metox.data, results.path) {\n",
    "    # Using all the methionines not marked as positive in MetOData as the negative samples\n",
    "    \n",
    "    res <- test_analysis(train.ids, metox.data, results.path)\n",
    "    test_results <- res$test_results\n",
    "    MetOData_test <- res$MetOData_test\n",
    "\n",
    "    test_results$Oxidable <- rep(factor(\"No\", levels = c(\"Yes\", \"No\")), dim(test_results)[1])\n",
    "    for (j in 1:(dim(MetOData_test)[1])){\n",
    "        test_results[test_results$ACC == MetOData_test$ACC[j] & test_results$Met == MetOData_test$Met[j], \n",
    "                     'Oxidable'] <- MetOData_test$Oxidable[j]\n",
    "    }\n",
    "\n",
    "    # Remove the methionines at the beginning of the sequence:\n",
    "    # NO! AS WE ARE CONSIDERING ALL THE NON-POSITIVE Ms AS NEGATIVE SAMPLES\n",
    "    # test_results <- test_results[test_results$Met != 1,]\n",
    "\n",
    "    return(metrics_analysis(test_results))\n",
    "}\n",
    "\n",
    "\n",
    "results_analysis_no_first <- function(train.ids, metox.data, results.path) {\n",
    "    # Using all the methionines not marked as positive in MetOData as the negative samples, except the first ones\n",
    "    \n",
    "    res <- test_analysis(train.ids, metox.data, results.path)\n",
    "    test_results <- res$test_results\n",
    "    MetOData_test <- res$MetOData_test\n",
    "    \n",
    "    # As we removed the first Met\n",
    "    test_results$Met <- test_results$Met + 1\n",
    "    \n",
    "    test_results$Oxidable <- rep(factor(\"No\", levels = c(\"Yes\", \"No\")), dim(test_results)[1])\n",
    "    for (j in 1:(dim(MetOData_test)[1])){\n",
    "        test_results[test_results$ACC == MetOData_test$ACC[j] & test_results$Met == MetOData_test$Met[j], \n",
    "                     'Oxidable'] <- MetOData_test$Oxidable[j]\n",
    "    }\n",
    "\n",
    "    return(metrics_analysis(test_results))\n",
    "}\n",
    "\n",
    "\n",
    "results_analysis_original <- function(train.ids, metox.data, results.path) {\n",
    "    # Using only the methionines contained in MetOData\n",
    "    \n",
    "    res <- test_analysis(train.ids, metox.data, results.path)\n",
    "    test_results <- res$test_results\n",
    "    MetOData_test <- res$MetOData_test\n",
    "\n",
    "    test_results <- merge(test_results, MetOData_test)\n",
    "\n",
    "    return(metrics_analysis(test_results))\n",
    "}"
   ]
  },
  {
   "cell_type": "markdown",
   "metadata": {},
   "source": [
    "## Using repeated holdout strategy"
   ]
  },
  {
   "cell_type": "code",
   "execution_count": 4,
   "metadata": {
    "scrolled": true
   },
   "outputs": [
    {
     "name": "stderr",
     "output_type": "stream",
     "text": [
      "Type 'citation(\"pROC\")' for a citation.\n",
      "\n",
      "Attaching package: ‘pROC’\n",
      "\n",
      "The following objects are masked from ‘package:stats’:\n",
      "\n",
      "    cov, smooth, var\n",
      "\n"
     ]
    }
   ],
   "source": [
    "library(pROC)\n",
    "\n",
    "NM_BS <- 10 # Number of holdout repetitions\n",
    "\n",
    "ACC_ids <- unique(MetOData$ACC)\n",
    "\n",
    "sts <- as.data.frame(matrix(rep(0,9*NM_BS),NM_BS,9))\n",
    "\n",
    "names(sts) <- c(\"cut\", \n",
    "                \"ROC\", \n",
    "                \"Acc\", \n",
    "                \"Sens\", \n",
    "                \"Spec\", \n",
    "                \"Prec\", \n",
    "                \"Recal\", \n",
    "                'MCC', \n",
    "                'FMeas')"
   ]
  },
  {
   "cell_type": "code",
   "execution_count": 5,
   "metadata": {},
   "outputs": [],
   "source": [
    "# To compare all obtained results using repeated-holdout strategy\n",
    "r.names <- c('Original', 'Custom ST 5', 'Custom ST 1', 'Custom ST 1 non-M', 'Custom STY 5', 'Custom STY 1', \n",
    "             'Custom STY 1 lr=0.00075', 'Custom STY 1 tl=0 lr=0.00075', 'Custom STY 1 lr=0.0005', \n",
    "             'Custom STY 1 tl=0 lr=0.0005', 'Custom STY 1 lr=0.0003', 'Custom STY 1 lr=0.0001', \n",
    "             'Custom STY 1 tl=0 lr=0.0001', 'Custom STY 1 lr=0.005', 'Custom STY 1 lr=0.01', 'Custom STY 1 tl=0', \n",
    "             'Custom STY 1 tl=3', 'Custom STY 1 tl=5', 'Custom STY 1 non-M', 'DeepBind ST 1')"
   ]
  },
  {
   "cell_type": "code",
   "execution_count": 6,
   "metadata": {},
   "outputs": [],
   "source": [
    "rep.hold.mean <- as.data.frame(matrix(rep(0,length(r.names)*9),length(r.names),9))\n",
    "colnames(rep.hold.mean) <- names(sts)\n",
    "rownames(rep.hold.mean) <- r.names\n",
    "rep.hold.std <- rep.hold.mean"
   ]
  },
  {
   "cell_type": "markdown",
   "metadata": {},
   "source": [
    "### Using all methionines\n",
    "\n",
    "#### Original pre-trained model\n",
    "\n",
    "We analyse the results obtained using the original general model pre-trained by the authors on general phosphorylation data (S, T residues)."
   ]
  },
  {
   "cell_type": "code",
   "execution_count": 7,
   "metadata": {},
   "outputs": [],
   "source": [
    "for (i in 1:NM_BS){\n",
    "    # Split proteins for training and testing\n",
    "    set.seed(i)\n",
    "    train_ids <- sample(length(ACC_ids), floor(length(ACC_ids) * 0.7))\n",
    "    \n",
    "    sts[i,] <- results_analysis_all(train_ids, MetOData, paste0('../../MusiteDeep/metox_results_' , i, \n",
    "                                                            '.txt_custom.txt'))\n",
    "}"
   ]
  },
  {
   "cell_type": "code",
   "execution_count": 8,
   "metadata": {},
   "outputs": [
    {
     "name": "stdout",
     "output_type": "stream",
     "text": [
      "[1] \"Mean:\"\n",
      "         cut       ROC       Acc      Sens      Spec      Prec     Recal\n",
      "Original 0.5 0.8238655 0.8163017 0.6090743 0.8315699 0.2076082 0.6090743\n",
      "               MCC     FMeas\n",
      "Original 0.2768966 0.3086881\n",
      "[1] \"Std:\"\n",
      "         cut        ROC        Acc       Sens       Spec       Prec      Recal\n",
      "Original   0 0.03109605 0.01066145 0.09122282 0.01422944 0.02478852 0.09122282\n",
      "                MCC      FMeas\n",
      "Original 0.04660424 0.03500513\n"
     ]
    }
   ],
   "source": [
    "print('Mean:')\n",
    "rep.hold.mean['Original', ] <- sapply(sts,mean)\n",
    "print(rep.hold.mean['Original', ])\n",
    "\n",
    "print('Std:')\n",
    "rep.hold.std['Original', ] <- sapply(sts,sd)\n",
    "print(rep.hold.std['Original', ])"
   ]
  },
  {
   "cell_type": "markdown",
   "metadata": {},
   "source": [
    "#### Custom pre-training\n",
    "\n",
    "We now analyse the results obtained using our custom general model pre-trained on general phosphorylation data."
   ]
  },
  {
   "cell_type": "markdown",
   "metadata": {},
   "source": [
    "##### Residues S, T\n",
    "\n",
    "Using nclass=5:"
   ]
  },
  {
   "cell_type": "code",
   "execution_count": 9,
   "metadata": {},
   "outputs": [],
   "source": [
    "for (i in 1:NM_BS){\n",
    "    # Split proteins for training and testing\n",
    "    set.seed(i)\n",
    "    train_ids <- sample(length(ACC_ids), floor(length(ACC_ids) * 0.7))\n",
    "    \n",
    "    sts[i,] <- results_analysis_all(train_ids, MetOData, paste0('results/rephold-ST-nclass5/metox_result_custom_general_ST_', \n",
    "                                                            i, '.txt_custom.txt'))\n",
    "}"
   ]
  },
  {
   "cell_type": "code",
   "execution_count": 10,
   "metadata": {
    "scrolled": true
   },
   "outputs": [
    {
     "name": "stdout",
     "output_type": "stream",
     "text": [
      "[1] \"Mean:\"\n",
      "            cut      ROC       Acc      Sens      Spec      Prec     Recal\n",
      "Custom ST 5 0.5 0.815396 0.7961064 0.6075792 0.8100338 0.1881427 0.6075792\n",
      "                  MCC     FMeas\n",
      "Custom ST 5 0.2532618 0.2863049\n",
      "[1] \"Std:\"\n",
      "            cut       ROC        Acc       Sens       Spec       Prec\n",
      "Custom ST 5   0 0.0284932 0.01576468 0.09300165 0.02054169 0.02030786\n",
      "                 Recal        MCC      FMeas\n",
      "Custom ST 5 0.09300165 0.04231361 0.02983927\n"
     ]
    }
   ],
   "source": [
    "print('Mean:')\n",
    "rep.hold.mean['Custom ST 5', ] <- sapply(sts,mean)\n",
    "print(rep.hold.mean['Custom ST 5', ])\n",
    "\n",
    "print('Std:')\n",
    "rep.hold.std['Custom ST 5', ] <- sapply(sts,sd)\n",
    "print(rep.hold.std['Custom ST 5', ])"
   ]
  },
  {
   "cell_type": "markdown",
   "metadata": {},
   "source": [
    "Using nclass=1:"
   ]
  },
  {
   "cell_type": "code",
   "execution_count": 11,
   "metadata": {},
   "outputs": [],
   "source": [
    "for (i in 1:NM_BS){\n",
    "    # Split proteins for training and testing\n",
    "    set.seed(i)\n",
    "    train_ids <- sample(length(ACC_ids), floor(length(ACC_ids) * 0.7))\n",
    "    \n",
    "    sts[i,] <- results_analysis_all(train_ids, MetOData, paste0('results/rephold-ST-nclass1/metox_result_custom_general_ST_', \n",
    "                                                            i, '_custom.txt'))\n",
    "}"
   ]
  },
  {
   "cell_type": "code",
   "execution_count": 12,
   "metadata": {
    "scrolled": true
   },
   "outputs": [
    {
     "name": "stdout",
     "output_type": "stream",
     "text": [
      "[1] \"Mean:\"\n",
      "            cut       ROC       Acc      Sens     Spec      Prec     Recal\n",
      "Custom ST 1 0.5 0.8148884 0.8012263 0.6172389 0.814869 0.1939756 0.6172389\n",
      "                  MCC     FMeas\n",
      "Custom ST 1 0.2631361 0.2933656\n",
      "[1] \"Std:\"\n",
      "            cut        ROC        Acc      Sens      Spec       Prec     Recal\n",
      "Custom ST 1   0 0.02918357 0.01768064 0.1172025 0.0272063 0.01470539 0.1172025\n",
      "                   MCC      FMeas\n",
      "Custom ST 1 0.04149572 0.02465926\n"
     ]
    }
   ],
   "source": [
    "print('Mean:')\n",
    "rep.hold.mean['Custom ST 1', ] <- sapply(sts,mean)\n",
    "print(rep.hold.mean['Custom ST 1', ])\n",
    "\n",
    "print('Std:')\n",
    "rep.hold.std['Custom ST 1', ] <- sapply(sts,sd)\n",
    "print(rep.hold.std['Custom ST 1', ])"
   ]
  },
  {
   "cell_type": "markdown",
   "metadata": {},
   "source": [
    "Results seem to be so slightly better and more stable when using a value of 5 for nclass parameter, though nclass=1 is less computationally demanding."
   ]
  },
  {
   "cell_type": "markdown",
   "metadata": {},
   "source": [
    "##### Residues S, T, Y\n",
    "\n",
    "Using nclass=5:"
   ]
  },
  {
   "cell_type": "code",
   "execution_count": 13,
   "metadata": {},
   "outputs": [],
   "source": [
    "for (i in 1:NM_BS){\n",
    "    # Split proteins for training and testing\n",
    "    set.seed(i)\n",
    "    train_ids <- sample(length(ACC_ids), floor(length(ACC_ids) * 0.7))\n",
    "    \n",
    "    sts[i,] <- results_analysis_all(train_ids, MetOData, paste0('results/rephold-STY-nclass5/metox_result_custom_general_STY_', \n",
    "                                                            i, '_custom.txt'))\n",
    "}"
   ]
  },
  {
   "cell_type": "code",
   "execution_count": 14,
   "metadata": {
    "scrolled": true
   },
   "outputs": [
    {
     "name": "stdout",
     "output_type": "stream",
     "text": [
      "[1] \"Mean:\"\n",
      "             cut       ROC       Acc      Sens      Spec      Prec     Recal\n",
      "Custom STY 5 0.5 0.8294423 0.8028139 0.6742581 0.8124572 0.2083341 0.6742581\n",
      "                   MCC     FMeas\n",
      "Custom STY 5 0.2953061 0.3167181\n",
      "[1] \"Std:\"\n",
      "             cut        ROC        Acc       Sens       Spec       Prec\n",
      "Custom STY 5   0 0.02671342 0.02351413 0.09254205 0.02806553 0.02753488\n",
      "                  Recal        MCC      FMeas\n",
      "Custom STY 5 0.09254205 0.04495629 0.03585001\n"
     ]
    }
   ],
   "source": [
    "print('Mean:')\n",
    "rep.hold.mean['Custom STY 5', ] <- sapply(sts,mean)\n",
    "print(rep.hold.mean['Custom STY 5', ])\n",
    "\n",
    "print('Std:')\n",
    "rep.hold.std['Custom STY 5', ] <- sapply(sts,sd)\n",
    "print(rep.hold.std['Custom STY 5', ])"
   ]
  },
  {
   "cell_type": "markdown",
   "metadata": {},
   "source": [
    "Using nclass=1:"
   ]
  },
  {
   "cell_type": "code",
   "execution_count": 15,
   "metadata": {},
   "outputs": [],
   "source": [
    "for (i in 1:NM_BS){\n",
    "    # Split proteins for training and testing\n",
    "    set.seed(i)\n",
    "    train_ids <- sample(length(ACC_ids), floor(length(ACC_ids) * 0.7))\n",
    "    \n",
    "    sts[i,] <- results_analysis_all(train_ids, MetOData, paste0('results/rephold-STY-nclass1/metox_result_custom_general_STY_', \n",
    "                                                            i, '_custom.txt'))\n",
    "}"
   ]
  },
  {
   "cell_type": "code",
   "execution_count": 16,
   "metadata": {
    "scrolled": true
   },
   "outputs": [
    {
     "name": "stdout",
     "output_type": "stream",
     "text": [
      "[1] \"Mean:\"\n",
      "             cut      ROC       Acc      Sens      Spec      Prec     Recal\n",
      "Custom STY 1 0.5 0.826321 0.7988595 0.6681704 0.8087247 0.2047675 0.6681704\n",
      "                   MCC     FMeas\n",
      "Custom STY 1 0.2886493 0.3113627\n",
      "[1] \"Std:\"\n",
      "             cut        ROC    Acc       Sens       Spec       Prec      Recal\n",
      "Custom STY 1   0 0.02939644 0.0295 0.08494603 0.03502025 0.02891143 0.08494603\n",
      "                    MCC      FMeas\n",
      "Custom STY 1 0.03946518 0.03425851\n"
     ]
    }
   ],
   "source": [
    "print('Mean:')\n",
    "rep.hold.mean['Custom STY 1', ] <- sapply(sts,mean)\n",
    "print(rep.hold.mean['Custom STY 1', ])\n",
    "\n",
    "print('Std:')\n",
    "rep.hold.std['Custom STY 1', ] <- sapply(sts,sd)\n",
    "print(rep.hold.std['Custom STY 1', ])"
   ]
  },
  {
   "cell_type": "markdown",
   "metadata": {},
   "source": [
    "Comparing the results obtained when pre-training on residues S, T and S, T, Y, better results are obtained when using the three residues."
   ]
  },
  {
   "cell_type": "markdown",
   "metadata": {},
   "source": [
    "###### Learning-rate\n",
    "\n",
    "We will now try different values of the learning-rate used by the Adam optimizer, using the custom pre-trained model on S, T, Y residues using nclass=1."
   ]
  },
  {
   "cell_type": "markdown",
   "metadata": {},
   "source": [
    "Using lr=0.00075:"
   ]
  },
  {
   "cell_type": "code",
   "execution_count": 17,
   "metadata": {},
   "outputs": [],
   "source": [
    "for (i in 1:NM_BS){\n",
    "    # Split proteins for training and testing\n",
    "    set.seed(i)\n",
    "    train_ids <- sample(length(ACC_ids), floor(length(ACC_ids) * 0.7))\n",
    "    \n",
    "    sts[i,] <- results_analysis_all(train_ids, MetOData, paste0('lr/results/rephold-STY-nclass1-lr00075/metox_result_custom_general_STY_', \n",
    "                                                            i, '_custom.txt'))\n",
    "}"
   ]
  },
  {
   "cell_type": "code",
   "execution_count": 18,
   "metadata": {
    "scrolled": true
   },
   "outputs": [
    {
     "name": "stdout",
     "output_type": "stream",
     "text": [
      "[1] \"Mean:\"\n",
      "                        cut       ROC       Acc      Sens      Spec      Prec\n",
      "Custom STY 1 lr=0.00075 0.5 0.8216875 0.7717383 0.7071945 0.7766227 0.1874095\n",
      "                            Recal       MCC     FMeas\n",
      "Custom STY 1 lr=0.00075 0.7071945 0.2784662 0.2953826\n",
      "[1] \"Std:\"\n",
      "                        cut        ROC        Acc      Sens       Spec\n",
      "Custom STY 1 lr=0.00075   0 0.02782368 0.02107715 0.0777472 0.02569073\n",
      "                              Prec     Recal        MCC      FMeas\n",
      "Custom STY 1 lr=0.00075 0.01893803 0.0777472 0.03312665 0.02477944\n"
     ]
    }
   ],
   "source": [
    "print('Mean:')\n",
    "rep.hold.mean['Custom STY 1 lr=0.00075', ] <- sapply(sts,mean)\n",
    "print(rep.hold.mean['Custom STY 1 lr=0.00075', ])\n",
    "\n",
    "print('Std:')\n",
    "rep.hold.std['Custom STY 1 lr=0.00075', ] <- sapply(sts,sd)\n",
    "print(rep.hold.std['Custom STY 1 lr=0.00075', ])"
   ]
  },
  {
   "cell_type": "markdown",
   "metadata": {},
   "source": [
    "Using lr=0.0005:"
   ]
  },
  {
   "cell_type": "code",
   "execution_count": 19,
   "metadata": {},
   "outputs": [],
   "source": [
    "for (i in 1:NM_BS){\n",
    "    # Split proteins for training and testing\n",
    "    set.seed(i)\n",
    "    train_ids <- sample(length(ACC_ids), floor(length(ACC_ids) * 0.7))\n",
    "    \n",
    "    sts[i,] <- results_analysis_all(train_ids, MetOData, paste0('lr/results/rephold-STY-nclass1-lr0005/metox_result_custom_general_STY_', \n",
    "                                                            i, '_custom.txt'))\n",
    "}"
   ]
  },
  {
   "cell_type": "code",
   "execution_count": 20,
   "metadata": {
    "scrolled": true
   },
   "outputs": [
    {
     "name": "stdout",
     "output_type": "stream",
     "text": [
      "[1] \"Mean:\"\n",
      "                       cut       ROC       Acc      Sens      Spec      Prec\n",
      "Custom STY 1 lr=0.0005 0.5 0.8161592 0.7423471 0.7334584 0.7431334 0.1717636\n",
      "                           Recal       MCC     FMeas\n",
      "Custom STY 1 lr=0.0005 0.7334584 0.2639003 0.2776253\n",
      "[1] \"Std:\"\n",
      "                       cut        ROC        Acc       Sens       Spec\n",
      "Custom STY 1 lr=0.0005   0 0.02857603 0.02420475 0.09474244 0.03038141\n",
      "                             Prec      Recal        MCC      FMeas\n",
      "Custom STY 1 lr=0.0005 0.01366154 0.09474244 0.03500368 0.02054266\n"
     ]
    }
   ],
   "source": [
    "print('Mean:')\n",
    "rep.hold.mean['Custom STY 1 lr=0.0005', ] <- sapply(sts,mean)\n",
    "print(rep.hold.mean['Custom STY 1 lr=0.0005', ])\n",
    "\n",
    "print('Std:')\n",
    "rep.hold.std['Custom STY 1 lr=0.0005', ] <- sapply(sts,sd)\n",
    "print(rep.hold.std['Custom STY 1 lr=0.0005', ])"
   ]
  },
  {
   "cell_type": "markdown",
   "metadata": {},
   "source": [
    "Using lr=0.0003:"
   ]
  },
  {
   "cell_type": "code",
   "execution_count": 21,
   "metadata": {},
   "outputs": [],
   "source": [
    "for (i in 1:NM_BS){\n",
    "    # Split proteins for training and testing\n",
    "    set.seed(i)\n",
    "    train_ids <- sample(length(ACC_ids), floor(length(ACC_ids) * 0.7))\n",
    "    \n",
    "    sts[i,] <- results_analysis_all(train_ids, MetOData, paste0('lr/results/rephold-STY-nclass1-lr0003/metox_result_custom_general_STY_', \n",
    "                                                            i, '_custom.txt'))\n",
    "}"
   ]
  },
  {
   "cell_type": "code",
   "execution_count": 22,
   "metadata": {
    "scrolled": true
   },
   "outputs": [
    {
     "name": "stdout",
     "output_type": "stream",
     "text": [
      "[1] \"Mean:\"\n",
      "                       cut       ROC       Acc      Sens      Spec      Prec\n",
      "Custom STY 1 lr=0.0003 0.5 0.8163477 0.7404969 0.7305155 0.7413243 0.1711594\n",
      "                           Recal       MCC     FMeas\n",
      "Custom STY 1 lr=0.0003 0.7305155 0.2617963 0.2764799\n",
      "[1] \"Std:\"\n",
      "                       cut        ROC        Acc       Sens       Spec\n",
      "Custom STY 1 lr=0.0003   0 0.02314375 0.03224602 0.08296853 0.03808021\n",
      "                            Prec      Recal        MCC      FMeas\n",
      "Custom STY 1 lr=0.0003 0.0188306 0.08296853 0.03527307 0.02655794\n"
     ]
    }
   ],
   "source": [
    "print('Mean:')\n",
    "rep.hold.mean['Custom STY 1 lr=0.0003', ] <- sapply(sts,mean)\n",
    "print(rep.hold.mean['Custom STY 1 lr=0.0003', ])\n",
    "\n",
    "print('Std:')\n",
    "rep.hold.std['Custom STY 1 lr=0.0003', ] <- sapply(sts,sd)\n",
    "print(rep.hold.std['Custom STY 1 lr=0.0003', ])"
   ]
  },
  {
   "cell_type": "markdown",
   "metadata": {},
   "source": [
    "Using lr=0.0001:"
   ]
  },
  {
   "cell_type": "code",
   "execution_count": 23,
   "metadata": {},
   "outputs": [],
   "source": [
    "for (i in 1:NM_BS){\n",
    "    # Split proteins for training and testing\n",
    "    set.seed(i)\n",
    "    train_ids <- sample(length(ACC_ids), floor(length(ACC_ids) * 0.7))\n",
    "    \n",
    "    sts[i,] <- results_analysis_all(train_ids, MetOData, paste0('lr/results/rephold-STY-nclass1-lr0001/metox_result_custom_general_STY_', \n",
    "                                                            i, '_custom.txt'))\n",
    "}"
   ]
  },
  {
   "cell_type": "code",
   "execution_count": 24,
   "metadata": {
    "scrolled": true
   },
   "outputs": [
    {
     "name": "stdout",
     "output_type": "stream",
     "text": [
      "[1] \"Mean:\"\n",
      "                       cut       ROC       Acc      Sens      Spec      Prec\n",
      "Custom STY 1 lr=0.0001 0.5 0.8044292 0.6875145 0.7993104 0.6792511 0.1536202\n",
      "                           Recal      MCC     FMeas\n",
      "Custom STY 1 lr=0.0001 0.7993104 0.251902 0.2575997\n",
      "[1] \"Std:\"\n",
      "                       cut        ROC        Acc       Sens      Spec\n",
      "Custom STY 1 lr=0.0001   0 0.02984998 0.02876941 0.07526568 0.0312009\n",
      "                             Prec      Recal        MCC      FMeas\n",
      "Custom STY 1 lr=0.0001 0.01525182 0.07526568 0.04151994 0.02474123\n"
     ]
    }
   ],
   "source": [
    "print('Mean:')\n",
    "rep.hold.mean['Custom STY 1 lr=0.0001', ] <- sapply(sts,mean)\n",
    "print(rep.hold.mean['Custom STY 1 lr=0.0001', ])\n",
    "\n",
    "print('Std:')\n",
    "rep.hold.std['Custom STY 1 lr=0.0001', ] <- sapply(sts,sd)\n",
    "print(rep.hold.std['Custom STY 1 lr=0.0001', ])"
   ]
  },
  {
   "cell_type": "markdown",
   "metadata": {},
   "source": [
    "Using lr=0.005:"
   ]
  },
  {
   "cell_type": "code",
   "execution_count": 25,
   "metadata": {},
   "outputs": [],
   "source": [
    "for (i in 1:NM_BS){\n",
    "    # Split proteins for training and testing\n",
    "    set.seed(i)\n",
    "    train_ids <- sample(length(ACC_ids), floor(length(ACC_ids) * 0.7))\n",
    "    \n",
    "    sts[i,] <- results_analysis_all(train_ids, MetOData, paste0('lr/results/rephold-STY-nclass1-lr005/metox_result_custom_general_STY_', \n",
    "                                                            i, '_custom.txt'))\n",
    "}"
   ]
  },
  {
   "cell_type": "code",
   "execution_count": 26,
   "metadata": {
    "scrolled": true
   },
   "outputs": [
    {
     "name": "stdout",
     "output_type": "stream",
     "text": [
      "[1] \"Mean:\"\n",
      "                      cut       ROC       Acc      Sens      Spec      Prec\n",
      "Custom STY 1 lr=0.005 0.5 0.8283994 0.8805647 0.4458099 0.9123172 0.2688491\n",
      "                          Recal       MCC     FMeas\n",
      "Custom STY 1 lr=0.005 0.4458099 0.2838178 0.3325091\n",
      "[1] \"Std:\"\n",
      "                      cut        ROC        Acc      Sens       Spec       Prec\n",
      "Custom STY 1 lr=0.005   0 0.03294771 0.01355111 0.1095603 0.01684532 0.04365477\n",
      "                          Recal        MCC      FMeas\n",
      "Custom STY 1 lr=0.005 0.1095603 0.06756945 0.05876657\n"
     ]
    }
   ],
   "source": [
    "print('Mean:')\n",
    "rep.hold.mean['Custom STY 1 lr=0.005', ] <- sapply(sts,mean)\n",
    "print(rep.hold.mean['Custom STY 1 lr=0.005', ])\n",
    "\n",
    "print('Std:')\n",
    "rep.hold.std['Custom STY 1 lr=0.005', ] <- sapply(sts,sd)\n",
    "print(rep.hold.std['Custom STY 1 lr=0.005', ])"
   ]
  },
  {
   "cell_type": "markdown",
   "metadata": {},
   "source": [
    "Using lr=0.01:"
   ]
  },
  {
   "cell_type": "code",
   "execution_count": 27,
   "metadata": {},
   "outputs": [],
   "source": [
    "for (i in 1:NM_BS){\n",
    "    # Split proteins for training and testing\n",
    "    set.seed(i)\n",
    "    train_ids <- sample(length(ACC_ids), floor(length(ACC_ids) * 0.7))\n",
    "    \n",
    "    sts[i,] <- results_analysis_all(train_ids, MetOData, paste0('lr/results/rephold-STY-nclass1-lr01/metox_result_custom_general_STY_', \n",
    "                                                            i, '_custom.txt'))\n",
    "}"
   ]
  },
  {
   "cell_type": "code",
   "execution_count": 28,
   "metadata": {
    "scrolled": true
   },
   "outputs": [
    {
     "name": "stdout",
     "output_type": "stream",
     "text": [
      "[1] \"Mean:\"\n",
      "                     cut       ROC       Acc      Sens      Spec      Prec\n",
      "Custom STY 1 lr=0.01 0.5 0.8261484 0.8507798 0.5159344 0.8750115 0.2343945\n",
      "                         Recal       MCC    FMeas\n",
      "Custom STY 1 lr=0.01 0.5159344 0.2746472 0.315121\n",
      "[1] \"Std:\"\n",
      "                     cut        ROC        Acc      Sens       Spec       Prec\n",
      "Custom STY 1 lr=0.01   0 0.03853304 0.03770155 0.1799897 0.04856218 0.04212801\n",
      "                         Recal        MCC      FMeas\n",
      "Custom STY 1 lr=0.01 0.1799897 0.07926811 0.06124987\n"
     ]
    }
   ],
   "source": [
    "print('Mean:')\n",
    "rep.hold.mean['Custom STY 1 lr=0.01', ] <- sapply(sts,mean)\n",
    "print(rep.hold.mean['Custom STY 1 lr=0.01', ])\n",
    "\n",
    "print('Std:')\n",
    "rep.hold.std['Custom STY 1 lr=0.01', ] <- sapply(sts,sd)\n",
    "print(rep.hold.std['Custom STY 1 lr=0.01', ])"
   ]
  },
  {
   "cell_type": "markdown",
   "metadata": {},
   "source": [
    "###### Transfer-leayer\n",
    "\n",
    "We will now try different values of the transfer-leayer argument, using the custom pre-trained model on S, T, Y residues using nclass=1."
   ]
  },
  {
   "cell_type": "markdown",
   "metadata": {},
   "source": [
    "Using transfer-leayer=0:"
   ]
  },
  {
   "cell_type": "code",
   "execution_count": 29,
   "metadata": {},
   "outputs": [],
   "source": [
    "for (i in 1:NM_BS){\n",
    "    # Split proteins for training and testing\n",
    "    set.seed(i)\n",
    "    train_ids <- sample(length(ACC_ids), floor(length(ACC_ids) * 0.7))\n",
    "    \n",
    "    sts[i,] <- results_analysis_all(train_ids, MetOData, paste0('transfer-leayer/results/rephold-STY-nclass1-tl0/metox_result_custom_general_STY_', \n",
    "                                                            i, '_custom.txt'))\n",
    "}"
   ]
  },
  {
   "cell_type": "code",
   "execution_count": 30,
   "metadata": {
    "scrolled": true
   },
   "outputs": [
    {
     "name": "stdout",
     "output_type": "stream",
     "text": [
      "[1] \"Mean:\"\n",
      "                  cut       ROC       Acc      Sens      Spec      Prec\n",
      "Custom STY 1 tl=0 0.5 0.8340293 0.8383975 0.6011161 0.8558756 0.2314928\n",
      "                      Recal       MCC     FMeas\n",
      "Custom STY 1 tl=0 0.6011161 0.3007892 0.3330084\n",
      "[1] \"Std:\"\n",
      "                  cut        ROC         Acc      Sens       Spec       Prec\n",
      "Custom STY 1 tl=0   0 0.02889968 0.008445571 0.1023009 0.01288152 0.02631334\n",
      "                      Recal        MCC      FMeas\n",
      "Custom STY 1 tl=0 0.1023009 0.05124698 0.03801741\n"
     ]
    }
   ],
   "source": [
    "print('Mean:')\n",
    "rep.hold.mean['Custom STY 1 tl=0', ] <- sapply(sts,mean)\n",
    "print(rep.hold.mean['Custom STY 1 tl=0', ])\n",
    "\n",
    "print('Std:')\n",
    "rep.hold.std['Custom STY 1 tl=0', ] <- sapply(sts,sd)\n",
    "print(rep.hold.std['Custom STY 1 tl=0', ])"
   ]
  },
  {
   "cell_type": "markdown",
   "metadata": {},
   "source": [
    "Using transfer-leayer=3:"
   ]
  },
  {
   "cell_type": "code",
   "execution_count": 31,
   "metadata": {},
   "outputs": [],
   "source": [
    "for (i in 1:NM_BS){\n",
    "    # Split proteins for training and testing\n",
    "    set.seed(i)\n",
    "    train_ids <- sample(length(ACC_ids), floor(length(ACC_ids) * 0.7))\n",
    "    \n",
    "    sts[i,] <- results_analysis_all(train_ids, MetOData, paste0('transfer-leayer/results/rephold-STY-nclass1-tl3/metox_result_custom_general_STY_', \n",
    "                                                            i, '_custom.txt'))\n",
    "}"
   ]
  },
  {
   "cell_type": "code",
   "execution_count": 32,
   "metadata": {
    "scrolled": true
   },
   "outputs": [
    {
     "name": "stdout",
     "output_type": "stream",
     "text": [
      "[1] \"Mean:\"\n",
      "                  cut     ROC      Acc      Sens      Spec      Prec     Recal\n",
      "Custom STY 1 tl=3 0.5 0.82536 0.794317 0.6613467 0.8042168 0.1973269 0.6613467\n",
      "                        MCC     FMeas\n",
      "Custom STY 1 tl=3 0.2788386 0.3027874\n",
      "[1] \"Std:\"\n",
      "                  cut        ROC        Acc      Sens       Spec       Prec\n",
      "Custom STY 1 tl=3   0 0.03084594 0.02116507 0.1044433 0.02494828 0.02628709\n",
      "                      Recal       MCC      FMeas\n",
      "Custom STY 1 tl=3 0.1044433 0.0519605 0.03768799\n"
     ]
    }
   ],
   "source": [
    "print('Mean:')\n",
    "rep.hold.mean['Custom STY 1 tl=3', ] <- sapply(sts,mean)\n",
    "print(rep.hold.mean['Custom STY 1 tl=3', ])\n",
    "\n",
    "print('Std:')\n",
    "rep.hold.std['Custom STY 1 tl=3', ] <- sapply(sts,sd)\n",
    "print(rep.hold.std['Custom STY 1 tl=3', ])"
   ]
  },
  {
   "cell_type": "markdown",
   "metadata": {},
   "source": [
    "Using transfer-leayer=5:"
   ]
  },
  {
   "cell_type": "code",
   "execution_count": 33,
   "metadata": {},
   "outputs": [],
   "source": [
    "for (i in 1:NM_BS){\n",
    "    # Split proteins for training and testing\n",
    "    set.seed(i)\n",
    "    train_ids <- sample(length(ACC_ids), floor(length(ACC_ids) * 0.7))\n",
    "    \n",
    "    sts[i,] <- results_analysis_all(train_ids, MetOData, paste0('transfer-leayer/results/rephold-STY-nclass1-tl5/metox_result_custom_general_STY_', \n",
    "                                                            i, '_custom.txt'))\n",
    "}"
   ]
  },
  {
   "cell_type": "code",
   "execution_count": 34,
   "metadata": {
    "scrolled": true
   },
   "outputs": [
    {
     "name": "stdout",
     "output_type": "stream",
     "text": [
      "[1] \"Mean:\"\n",
      "                  cut       ROC      Acc      Sens      Spec      Prec\n",
      "Custom STY 1 tl=5 0.5 0.7981474 0.770023 0.6420739 0.7794126 0.1754853\n",
      "                      Recal       MCC     FMeas\n",
      "Custom STY 1 tl=5 0.6420739 0.2453631 0.2745123\n",
      "[1] \"Std:\"\n",
      "                  cut        ROC       Acc      Sens       Spec       Prec\n",
      "Custom STY 1 tl=5   0 0.02740713 0.0270307 0.0839048 0.03264291 0.01891957\n",
      "                      Recal        MCC      FMeas\n",
      "Custom STY 1 tl=5 0.0839048 0.03437418 0.02556955\n"
     ]
    }
   ],
   "source": [
    "print('Mean:')\n",
    "rep.hold.mean['Custom STY 1 tl=5', ] <- sapply(sts,mean)\n",
    "print(rep.hold.mean['Custom STY 1 tl=5', ])\n",
    "\n",
    "print('Std:')\n",
    "rep.hold.std['Custom STY 1 tl=5', ] <- sapply(sts,sd)\n",
    "print(rep.hold.std['Custom STY 1 tl=5', ])"
   ]
  },
  {
   "cell_type": "markdown",
   "metadata": {},
   "source": [
    "##### Transfer-leayer and learning-rate\n",
    "\n",
    "Using transfer-leayer=0 and lr=0.00075:"
   ]
  },
  {
   "cell_type": "code",
   "execution_count": 35,
   "metadata": {},
   "outputs": [],
   "source": [
    "for (i in 1:NM_BS){\n",
    "    # Split proteins for training and testing\n",
    "    set.seed(i)\n",
    "    train_ids <- sample(length(ACC_ids), floor(length(ACC_ids) * 0.7))\n",
    "    \n",
    "    sts[i,] <- results_analysis_all(train_ids, MetOData, paste0('transfer-leayer/results/rephold-STY-nclass1-tl0-lr00075/metox_result_custom_general_STY_', \n",
    "                                                            i, '_custom.txt'))\n",
    "}"
   ]
  },
  {
   "cell_type": "code",
   "execution_count": 36,
   "metadata": {
    "scrolled": true
   },
   "outputs": [
    {
     "name": "stdout",
     "output_type": "stream",
     "text": [
      "[1] \"Mean:\"\n",
      "                             cut       ROC      Acc      Sens      Spec\n",
      "Custom STY 1 tl=0 lr=0.00075 0.5 0.8322186 0.824983 0.6085878 0.8409189\n",
      "                                  Prec     Recal       MCC     FMeas\n",
      "Custom STY 1 tl=0 lr=0.00075 0.2171963 0.6085878 0.2873916 0.3188084\n",
      "[1] \"Std:\"\n",
      "                             cut       ROC        Acc      Sens      Spec\n",
      "Custom STY 1 tl=0 lr=0.00075   0 0.0298327 0.01477558 0.1008747 0.0192692\n",
      "                                   Prec     Recal        MCC      FMeas\n",
      "Custom STY 1 tl=0 lr=0.00075 0.02538421 0.1008747 0.04826204 0.03592851\n"
     ]
    }
   ],
   "source": [
    "print('Mean:')\n",
    "rep.hold.mean['Custom STY 1 tl=0 lr=0.00075', ] <- sapply(sts,mean)\n",
    "print(rep.hold.mean['Custom STY 1 tl=0 lr=0.00075', ])\n",
    "\n",
    "print('Std:')\n",
    "rep.hold.std['Custom STY 1 tl=0 lr=0.00075', ] <- sapply(sts,sd)\n",
    "print(rep.hold.std['Custom STY 1 tl=0 lr=0.00075', ])"
   ]
  },
  {
   "cell_type": "markdown",
   "metadata": {},
   "source": [
    "Using transfer-leayer=0 and lr=0.0005:"
   ]
  },
  {
   "cell_type": "code",
   "execution_count": 37,
   "metadata": {},
   "outputs": [],
   "source": [
    "for (i in 1:NM_BS){\n",
    "    # Split proteins for training and testing\n",
    "    set.seed(i)\n",
    "    train_ids <- sample(length(ACC_ids), floor(length(ACC_ids) * 0.7))\n",
    "    \n",
    "    sts[i,] <- results_analysis_all(train_ids, MetOData, paste0('transfer-leayer/results/rephold-STY-nclass1-tl0-lr0005/metox_result_custom_general_STY_', \n",
    "                                                            i, '_custom.txt'))\n",
    "}"
   ]
  },
  {
   "cell_type": "code",
   "execution_count": 38,
   "metadata": {
    "scrolled": true
   },
   "outputs": [
    {
     "name": "stdout",
     "output_type": "stream",
     "text": [
      "[1] \"Mean:\"\n",
      "                            cut       ROC       Acc      Sens      Spec\n",
      "Custom STY 1 tl=0 lr=0.0005 0.5 0.8310176 0.8007972 0.6855445 0.8093064\n",
      "                                 Prec     Recal       MCC     FMeas\n",
      "Custom STY 1 tl=0 lr=0.0005 0.2064366 0.6855445 0.2973089 0.3167262\n",
      "[1] \"Std:\"\n",
      "                            cut        ROC         Acc       Sens       Spec\n",
      "Custom STY 1 tl=0 lr=0.0005   0 0.02875841 0.009928408 0.09362511 0.01270257\n",
      "                                  Prec      Recal        MCC     FMeas\n",
      "Custom STY 1 tl=0 lr=0.0005 0.02156982 0.09362511 0.04660939 0.0327711\n"
     ]
    }
   ],
   "source": [
    "print('Mean:')\n",
    "rep.hold.mean['Custom STY 1 tl=0 lr=0.0005', ] <- sapply(sts,mean)\n",
    "print(rep.hold.mean['Custom STY 1 tl=0 lr=0.0005', ])\n",
    "\n",
    "print('Std:')\n",
    "rep.hold.std['Custom STY 1 tl=0 lr=0.0005', ] <- sapply(sts,sd)\n",
    "print(rep.hold.std['Custom STY 1 tl=0 lr=0.0005', ])"
   ]
  },
  {
   "cell_type": "markdown",
   "metadata": {},
   "source": [
    "Using transfer-leayer=0 and lr=0.0001:"
   ]
  },
  {
   "cell_type": "code",
   "execution_count": 39,
   "metadata": {},
   "outputs": [],
   "source": [
    "for (i in 1:NM_BS){\n",
    "    # Split proteins for training and testing\n",
    "    set.seed(i)\n",
    "    train_ids <- sample(length(ACC_ids), floor(length(ACC_ids) * 0.7))\n",
    "    \n",
    "    sts[i,] <- results_analysis_all(train_ids, MetOData, paste0('transfer-leayer/results/rephold-STY-nclass1-tl0-lr0001/metox_result_custom_general_STY_', \n",
    "                                                            i, '_custom.txt'))\n",
    "}"
   ]
  },
  {
   "cell_type": "code",
   "execution_count": 40,
   "metadata": {
    "scrolled": true
   },
   "outputs": [
    {
     "name": "stdout",
     "output_type": "stream",
     "text": [
      "[1] \"Mean:\"\n",
      "                            cut       ROC       Acc     Sens      Spec\n",
      "Custom STY 1 tl=0 lr=0.0001 0.5 0.8225759 0.7403841 0.746837 0.7400286\n",
      "                                 Prec    Recal       MCC     FMeas\n",
      "Custom STY 1 tl=0 lr=0.0001 0.1728334 0.746837 0.2687882 0.2800834\n",
      "[1] \"Std:\"\n",
      "                            cut        ROC        Acc       Sens       Spec\n",
      "Custom STY 1 tl=0 lr=0.0001   0 0.02775231 0.02022582 0.09889931 0.02388347\n",
      "                                  Prec      Recal        MCC      FMeas\n",
      "Custom STY 1 tl=0 lr=0.0001 0.02166504 0.09889931 0.04805319 0.03296256\n"
     ]
    }
   ],
   "source": [
    "print('Mean:')\n",
    "rep.hold.mean['Custom STY 1 tl=0 lr=0.0001', ] <- sapply(sts,mean)\n",
    "print(rep.hold.mean['Custom STY 1 tl=0 lr=0.0001', ])\n",
    "\n",
    "print('Std:')\n",
    "rep.hold.std['Custom STY 1 tl=0 lr=0.0001', ] <- sapply(sts,sd)\n",
    "print(rep.hold.std['Custom STY 1 tl=0 lr=0.0001', ])"
   ]
  },
  {
   "cell_type": "markdown",
   "metadata": {},
   "source": [
    "#### DeepBind pre-training\n",
    "\n",
    "We now analyse the results obtained using the DeepBind model, fristly pre-trained on general phosphorylation data and then fine-tuned on methionine-oxidation data."
   ]
  },
  {
   "cell_type": "markdown",
   "metadata": {},
   "source": [
    "##### Residues S, T\n",
    "\n",
    "Using nclass=1:"
   ]
  },
  {
   "cell_type": "code",
   "execution_count": 41,
   "metadata": {},
   "outputs": [],
   "source": [
    "for (i in 1:NM_BS){\n",
    "    # Split proteins for training and testing\n",
    "    set.seed(i)\n",
    "    train_ids <- sample(length(ACC_ids), floor(length(ACC_ids) * 0.7))\n",
    "    \n",
    "    sts[i,] <- results_analysis_all(train_ids, MetOData, paste0('deepbind/results/rephold-ST-nclass1/metox_result_deep_bind_ST_', \n",
    "                                                            i, '_custom.txt'))\n",
    "}"
   ]
  },
  {
   "cell_type": "code",
   "execution_count": 42,
   "metadata": {},
   "outputs": [
    {
     "name": "stdout",
     "output_type": "stream",
     "text": [
      "[1] \"Mean:\"\n",
      "              cut       ROC       Acc Sens Spec Prec Recal MCC FMeas\n",
      "DeepBind ST 1 0.5 0.7064368 0.9322569    0    1  NaN     0 NaN   NaN\n",
      "[1] \"Std:\"\n",
      "              cut        ROC         Acc Sens Spec Prec Recal MCC FMeas\n",
      "DeepBind ST 1   0 0.04500395 0.004716135    0    0   NA     0  NA    NA\n"
     ]
    }
   ],
   "source": [
    "print('Mean:')\n",
    "rep.hold.mean['DeepBind ST 1', ] <- sapply(sts,mean)\n",
    "print(rep.hold.mean['DeepBind ST 1', ])\n",
    "\n",
    "print('Std:')\n",
    "rep.hold.std['DeepBind ST 1', ] <- sapply(sts,sd)\n",
    "print(rep.hold.std['DeepBind ST 1', ])"
   ]
  },
  {
   "cell_type": "markdown",
   "metadata": {},
   "source": [
    "### Using all methionines except the N-terminal Met"
   ]
  },
  {
   "cell_type": "markdown",
   "metadata": {},
   "source": [
    "#### Custom pre-training\n",
    "\n",
    "We analyse the results obtained using our custom general model pre-trained on general phosphorylation data."
   ]
  },
  {
   "cell_type": "markdown",
   "metadata": {},
   "source": [
    "##### Residues S, T\n",
    "\n",
    "Using nclass=1:"
   ]
  },
  {
   "cell_type": "code",
   "execution_count": 43,
   "metadata": {},
   "outputs": [],
   "source": [
    "for (i in 1:NM_BS){\n",
    "    # Split proteins for training and testing\n",
    "    set.seed(i)\n",
    "    train_ids <- sample(length(ACC_ids), floor(length(ACC_ids) * 0.7))\n",
    "    \n",
    "    sts[i,] <- results_analysis_no_first(train_ids, MetOData, paste0('musite-fasta-M/results/rephold-ST-nclass1/metox_result_custom_general_ST_', \n",
    "                                                            i, '_custom.txt'))\n",
    "}"
   ]
  },
  {
   "cell_type": "code",
   "execution_count": 44,
   "metadata": {},
   "outputs": [
    {
     "name": "stdout",
     "output_type": "stream",
     "text": [
      "[1] \"Mean:\"\n",
      "                  cut       ROC       Acc      Sens      Spec      Prec\n",
      "Custom ST 1 non-M 0.5 0.8012535 0.7815378 0.6149266 0.7948345 0.1885375\n",
      "                      Recal      MCC    FMeas\n",
      "Custom ST 1 non-M 0.6149266 0.249182 0.287114\n",
      "[1] \"Std:\"\n",
      "                  cut        ROC        Acc      Sens       Spec       Prec\n",
      "Custom ST 1 non-M   0 0.03145652 0.01991037 0.1130456 0.02803016 0.01792801\n",
      "                      Recal        MCC      FMeas\n",
      "Custom ST 1 non-M 0.1130456 0.04397392 0.02789756\n"
     ]
    }
   ],
   "source": [
    "print('Mean:')\n",
    "rep.hold.mean['Custom ST 1 non-M', ] <- sapply(sts,mean)\n",
    "print(rep.hold.mean['Custom ST 1 non-M', ])\n",
    "\n",
    "print('Std:')\n",
    "rep.hold.std['Custom ST 1 non-M', ] <- sapply(sts,sd)\n",
    "print(rep.hold.std['Custom ST 1 non-M', ])"
   ]
  },
  {
   "cell_type": "markdown",
   "metadata": {},
   "source": [
    "##### Residues S, T, Y\n",
    "\n",
    "Using nclass=1:"
   ]
  },
  {
   "cell_type": "code",
   "execution_count": 45,
   "metadata": {},
   "outputs": [],
   "source": [
    "for (i in 1:NM_BS){\n",
    "    # Split proteins for training and testing\n",
    "    set.seed(i)\n",
    "    train_ids <- sample(length(ACC_ids), floor(length(ACC_ids) * 0.7))\n",
    "    \n",
    "    sts[i,] <- results_analysis_no_first(train_ids, MetOData, paste0('musite-fasta-M/results/rephold-STY-nclass1/metox_result_custom_general_STY_', \n",
    "                                                            i, '_custom.txt'))\n",
    "}"
   ]
  },
  {
   "cell_type": "code",
   "execution_count": 46,
   "metadata": {},
   "outputs": [
    {
     "name": "stdout",
     "output_type": "stream",
     "text": [
      "[1] \"Mean:\"\n",
      "                   cut       ROC       Acc      Sens      Spec      Prec\n",
      "Custom STY 1 non-M 0.5 0.8107846 0.7780797 0.6900976 0.7852456 0.2016288\n",
      "                       Recal       MCC     FMeas\n",
      "Custom STY 1 non-M 0.6900976 0.2851584 0.3106313\n",
      "[1] \"Std:\"\n",
      "                   cut        ROC       Acc       Sens      Spec       Prec\n",
      "Custom STY 1 non-M   0 0.02905392 0.0264928 0.08565022 0.0313047 0.02863806\n",
      "                        Recal       MCC      FMeas\n",
      "Custom STY 1 non-M 0.08565022 0.0432396 0.03660558\n"
     ]
    }
   ],
   "source": [
    "print('Mean:')\n",
    "rep.hold.mean['Custom STY 1 non-M', ] <- sapply(sts,mean)\n",
    "print(rep.hold.mean['Custom STY 1 non-M', ])\n",
    "\n",
    "print('Std:')\n",
    "rep.hold.std['Custom STY 1 non-M', ] <- sapply(sts,sd)\n",
    "print(rep.hold.std['Custom STY 1 non-M', ])"
   ]
  },
  {
   "cell_type": "markdown",
   "metadata": {},
   "source": [
    "### Final results"
   ]
  },
  {
   "cell_type": "code",
   "execution_count": 47,
   "metadata": {},
   "outputs": [
    {
     "data": {
      "text/html": [
       "<table>\n",
       "<thead><tr><th></th><th scope=col>cut</th><th scope=col>ROC</th><th scope=col>Acc</th><th scope=col>Sens</th><th scope=col>Spec</th><th scope=col>Prec</th><th scope=col>Recal</th><th scope=col>MCC</th><th scope=col>FMeas</th></tr></thead>\n",
       "<tbody>\n",
       "\t<tr><th scope=row>Original</th><td>0.5      </td><td>0.8238655</td><td>0.8163017</td><td>0.6090743</td><td>0.8315699</td><td>0.2076082</td><td>0.6090743</td><td>0.2768966</td><td>0.3086881</td></tr>\n",
       "\t<tr><th scope=row>Custom ST 5</th><td>0.5      </td><td>0.8153960</td><td>0.7961064</td><td>0.6075792</td><td>0.8100338</td><td>0.1881427</td><td>0.6075792</td><td>0.2532618</td><td>0.2863049</td></tr>\n",
       "\t<tr><th scope=row>Custom ST 1</th><td>0.5      </td><td>0.8148884</td><td>0.8012263</td><td>0.6172389</td><td>0.8148690</td><td>0.1939756</td><td>0.6172389</td><td>0.2631361</td><td>0.2933656</td></tr>\n",
       "\t<tr><th scope=row>Custom ST 1 non-M</th><td>0.5      </td><td>0.8012535</td><td>0.7815378</td><td>0.6149266</td><td>0.7948345</td><td>0.1885375</td><td>0.6149266</td><td>0.2491820</td><td>0.2871140</td></tr>\n",
       "\t<tr><th scope=row>Custom STY 5</th><td>0.5      </td><td>0.8294423</td><td>0.8028139</td><td>0.6742581</td><td>0.8124572</td><td>0.2083341</td><td>0.6742581</td><td>0.2953061</td><td>0.3167181</td></tr>\n",
       "\t<tr><th scope=row>Custom STY 1</th><td>0.5      </td><td>0.8263210</td><td>0.7988595</td><td>0.6681704</td><td>0.8087247</td><td>0.2047675</td><td>0.6681704</td><td>0.2886493</td><td>0.3113627</td></tr>\n",
       "\t<tr><th scope=row>Custom STY 1 non-M</th><td>0.5      </td><td>0.8107846</td><td>0.7780797</td><td>0.6900976</td><td>0.7852456</td><td>0.2016288</td><td>0.6900976</td><td>0.2851584</td><td>0.3106313</td></tr>\n",
       "</tbody>\n",
       "</table>\n"
      ],
      "text/latex": [
       "\\begin{tabular}{r|lllllllll}\n",
       "  & cut & ROC & Acc & Sens & Spec & Prec & Recal & MCC & FMeas\\\\\n",
       "\\hline\n",
       "\tOriginal & 0.5       & 0.8238655 & 0.8163017 & 0.6090743 & 0.8315699 & 0.2076082 & 0.6090743 & 0.2768966 & 0.3086881\\\\\n",
       "\tCustom ST 5 & 0.5       & 0.8153960 & 0.7961064 & 0.6075792 & 0.8100338 & 0.1881427 & 0.6075792 & 0.2532618 & 0.2863049\\\\\n",
       "\tCustom ST 1 & 0.5       & 0.8148884 & 0.8012263 & 0.6172389 & 0.8148690 & 0.1939756 & 0.6172389 & 0.2631361 & 0.2933656\\\\\n",
       "\tCustom ST 1 non-M & 0.5       & 0.8012535 & 0.7815378 & 0.6149266 & 0.7948345 & 0.1885375 & 0.6149266 & 0.2491820 & 0.2871140\\\\\n",
       "\tCustom STY 5 & 0.5       & 0.8294423 & 0.8028139 & 0.6742581 & 0.8124572 & 0.2083341 & 0.6742581 & 0.2953061 & 0.3167181\\\\\n",
       "\tCustom STY 1 & 0.5       & 0.8263210 & 0.7988595 & 0.6681704 & 0.8087247 & 0.2047675 & 0.6681704 & 0.2886493 & 0.3113627\\\\\n",
       "\tCustom STY 1 non-M & 0.5       & 0.8107846 & 0.7780797 & 0.6900976 & 0.7852456 & 0.2016288 & 0.6900976 & 0.2851584 & 0.3106313\\\\\n",
       "\\end{tabular}\n"
      ],
      "text/markdown": [
       "\n",
       "| <!--/--> | cut | ROC | Acc | Sens | Spec | Prec | Recal | MCC | FMeas | \n",
       "|---|---|---|---|---|---|---|\n",
       "| Original | 0.5       | 0.8238655 | 0.8163017 | 0.6090743 | 0.8315699 | 0.2076082 | 0.6090743 | 0.2768966 | 0.3086881 | \n",
       "| Custom ST 5 | 0.5       | 0.8153960 | 0.7961064 | 0.6075792 | 0.8100338 | 0.1881427 | 0.6075792 | 0.2532618 | 0.2863049 | \n",
       "| Custom ST 1 | 0.5       | 0.8148884 | 0.8012263 | 0.6172389 | 0.8148690 | 0.1939756 | 0.6172389 | 0.2631361 | 0.2933656 | \n",
       "| Custom ST 1 non-M | 0.5       | 0.8012535 | 0.7815378 | 0.6149266 | 0.7948345 | 0.1885375 | 0.6149266 | 0.2491820 | 0.2871140 | \n",
       "| Custom STY 5 | 0.5       | 0.8294423 | 0.8028139 | 0.6742581 | 0.8124572 | 0.2083341 | 0.6742581 | 0.2953061 | 0.3167181 | \n",
       "| Custom STY 1 | 0.5       | 0.8263210 | 0.7988595 | 0.6681704 | 0.8087247 | 0.2047675 | 0.6681704 | 0.2886493 | 0.3113627 | \n",
       "| Custom STY 1 non-M | 0.5       | 0.8107846 | 0.7780797 | 0.6900976 | 0.7852456 | 0.2016288 | 0.6900976 | 0.2851584 | 0.3106313 | \n",
       "\n",
       "\n"
      ],
      "text/plain": [
       "                   cut ROC       Acc       Sens      Spec      Prec     \n",
       "Original           0.5 0.8238655 0.8163017 0.6090743 0.8315699 0.2076082\n",
       "Custom ST 5        0.5 0.8153960 0.7961064 0.6075792 0.8100338 0.1881427\n",
       "Custom ST 1        0.5 0.8148884 0.8012263 0.6172389 0.8148690 0.1939756\n",
       "Custom ST 1 non-M  0.5 0.8012535 0.7815378 0.6149266 0.7948345 0.1885375\n",
       "Custom STY 5       0.5 0.8294423 0.8028139 0.6742581 0.8124572 0.2083341\n",
       "Custom STY 1       0.5 0.8263210 0.7988595 0.6681704 0.8087247 0.2047675\n",
       "Custom STY 1 non-M 0.5 0.8107846 0.7780797 0.6900976 0.7852456 0.2016288\n",
       "                   Recal     MCC       FMeas    \n",
       "Original           0.6090743 0.2768966 0.3086881\n",
       "Custom ST 5        0.6075792 0.2532618 0.2863049\n",
       "Custom ST 1        0.6172389 0.2631361 0.2933656\n",
       "Custom ST 1 non-M  0.6149266 0.2491820 0.2871140\n",
       "Custom STY 5       0.6742581 0.2953061 0.3167181\n",
       "Custom STY 1       0.6681704 0.2886493 0.3113627\n",
       "Custom STY 1 non-M 0.6900976 0.2851584 0.3106313"
      ]
     },
     "metadata": {},
     "output_type": "display_data"
    },
    {
     "data": {
      "text/html": [
       "<table>\n",
       "<thead><tr><th></th><th scope=col>cut</th><th scope=col>ROC</th><th scope=col>Acc</th><th scope=col>Sens</th><th scope=col>Spec</th><th scope=col>Prec</th><th scope=col>Recal</th><th scope=col>MCC</th><th scope=col>FMeas</th></tr></thead>\n",
       "<tbody>\n",
       "\t<tr><th scope=row>Original</th><td>0         </td><td>0.03109605</td><td>0.01066145</td><td>0.09122282</td><td>0.01422944</td><td>0.02478852</td><td>0.09122282</td><td>0.04660424</td><td>0.03500513</td></tr>\n",
       "\t<tr><th scope=row>Custom ST 5</th><td>0         </td><td>0.02849320</td><td>0.01576468</td><td>0.09300165</td><td>0.02054169</td><td>0.02030786</td><td>0.09300165</td><td>0.04231361</td><td>0.02983927</td></tr>\n",
       "\t<tr><th scope=row>Custom ST 1</th><td>0         </td><td>0.02918357</td><td>0.01768064</td><td>0.11720252</td><td>0.02720630</td><td>0.01470539</td><td>0.11720252</td><td>0.04149572</td><td>0.02465926</td></tr>\n",
       "\t<tr><th scope=row>Custom ST 1 non-M</th><td>0         </td><td>0.03145652</td><td>0.01991037</td><td>0.11304556</td><td>0.02803016</td><td>0.01792801</td><td>0.11304556</td><td>0.04397392</td><td>0.02789756</td></tr>\n",
       "\t<tr><th scope=row>Custom STY 5</th><td>0         </td><td>0.02671342</td><td>0.02351413</td><td>0.09254205</td><td>0.02806553</td><td>0.02753488</td><td>0.09254205</td><td>0.04495629</td><td>0.03585001</td></tr>\n",
       "\t<tr><th scope=row>Custom STY 1</th><td>0         </td><td>0.02939644</td><td>0.02950000</td><td>0.08494603</td><td>0.03502025</td><td>0.02891143</td><td>0.08494603</td><td>0.03946518</td><td>0.03425851</td></tr>\n",
       "\t<tr><th scope=row>Custom STY 1 non-M</th><td>0         </td><td>0.02905392</td><td>0.02649280</td><td>0.08565022</td><td>0.03130470</td><td>0.02863806</td><td>0.08565022</td><td>0.04323960</td><td>0.03660558</td></tr>\n",
       "</tbody>\n",
       "</table>\n"
      ],
      "text/latex": [
       "\\begin{tabular}{r|lllllllll}\n",
       "  & cut & ROC & Acc & Sens & Spec & Prec & Recal & MCC & FMeas\\\\\n",
       "\\hline\n",
       "\tOriginal & 0          & 0.03109605 & 0.01066145 & 0.09122282 & 0.01422944 & 0.02478852 & 0.09122282 & 0.04660424 & 0.03500513\\\\\n",
       "\tCustom ST 5 & 0          & 0.02849320 & 0.01576468 & 0.09300165 & 0.02054169 & 0.02030786 & 0.09300165 & 0.04231361 & 0.02983927\\\\\n",
       "\tCustom ST 1 & 0          & 0.02918357 & 0.01768064 & 0.11720252 & 0.02720630 & 0.01470539 & 0.11720252 & 0.04149572 & 0.02465926\\\\\n",
       "\tCustom ST 1 non-M & 0          & 0.03145652 & 0.01991037 & 0.11304556 & 0.02803016 & 0.01792801 & 0.11304556 & 0.04397392 & 0.02789756\\\\\n",
       "\tCustom STY 5 & 0          & 0.02671342 & 0.02351413 & 0.09254205 & 0.02806553 & 0.02753488 & 0.09254205 & 0.04495629 & 0.03585001\\\\\n",
       "\tCustom STY 1 & 0          & 0.02939644 & 0.02950000 & 0.08494603 & 0.03502025 & 0.02891143 & 0.08494603 & 0.03946518 & 0.03425851\\\\\n",
       "\tCustom STY 1 non-M & 0          & 0.02905392 & 0.02649280 & 0.08565022 & 0.03130470 & 0.02863806 & 0.08565022 & 0.04323960 & 0.03660558\\\\\n",
       "\\end{tabular}\n"
      ],
      "text/markdown": [
       "\n",
       "| <!--/--> | cut | ROC | Acc | Sens | Spec | Prec | Recal | MCC | FMeas | \n",
       "|---|---|---|---|---|---|---|\n",
       "| Original | 0          | 0.03109605 | 0.01066145 | 0.09122282 | 0.01422944 | 0.02478852 | 0.09122282 | 0.04660424 | 0.03500513 | \n",
       "| Custom ST 5 | 0          | 0.02849320 | 0.01576468 | 0.09300165 | 0.02054169 | 0.02030786 | 0.09300165 | 0.04231361 | 0.02983927 | \n",
       "| Custom ST 1 | 0          | 0.02918357 | 0.01768064 | 0.11720252 | 0.02720630 | 0.01470539 | 0.11720252 | 0.04149572 | 0.02465926 | \n",
       "| Custom ST 1 non-M | 0          | 0.03145652 | 0.01991037 | 0.11304556 | 0.02803016 | 0.01792801 | 0.11304556 | 0.04397392 | 0.02789756 | \n",
       "| Custom STY 5 | 0          | 0.02671342 | 0.02351413 | 0.09254205 | 0.02806553 | 0.02753488 | 0.09254205 | 0.04495629 | 0.03585001 | \n",
       "| Custom STY 1 | 0          | 0.02939644 | 0.02950000 | 0.08494603 | 0.03502025 | 0.02891143 | 0.08494603 | 0.03946518 | 0.03425851 | \n",
       "| Custom STY 1 non-M | 0          | 0.02905392 | 0.02649280 | 0.08565022 | 0.03130470 | 0.02863806 | 0.08565022 | 0.04323960 | 0.03660558 | \n",
       "\n",
       "\n"
      ],
      "text/plain": [
       "                   cut ROC        Acc        Sens       Spec       Prec      \n",
       "Original           0   0.03109605 0.01066145 0.09122282 0.01422944 0.02478852\n",
       "Custom ST 5        0   0.02849320 0.01576468 0.09300165 0.02054169 0.02030786\n",
       "Custom ST 1        0   0.02918357 0.01768064 0.11720252 0.02720630 0.01470539\n",
       "Custom ST 1 non-M  0   0.03145652 0.01991037 0.11304556 0.02803016 0.01792801\n",
       "Custom STY 5       0   0.02671342 0.02351413 0.09254205 0.02806553 0.02753488\n",
       "Custom STY 1       0   0.02939644 0.02950000 0.08494603 0.03502025 0.02891143\n",
       "Custom STY 1 non-M 0   0.02905392 0.02649280 0.08565022 0.03130470 0.02863806\n",
       "                   Recal      MCC        FMeas     \n",
       "Original           0.09122282 0.04660424 0.03500513\n",
       "Custom ST 5        0.09300165 0.04231361 0.02983927\n",
       "Custom ST 1        0.11720252 0.04149572 0.02465926\n",
       "Custom ST 1 non-M  0.11304556 0.04397392 0.02789756\n",
       "Custom STY 5       0.09254205 0.04495629 0.03585001\n",
       "Custom STY 1       0.08494603 0.03946518 0.03425851\n",
       "Custom STY 1 non-M 0.08565022 0.04323960 0.03660558"
      ]
     },
     "metadata": {},
     "output_type": "display_data"
    }
   ],
   "source": [
    "# To compare the results obtained using default values of the learning rate (lr=0.001) and the transfer-leayer (=1)\n",
    "\n",
    "# Mean values\n",
    "rep.hold.mean[c('Original', 'Custom ST 5', 'Custom ST 1', 'Custom ST 1 non-M', 'Custom STY 5', 'Custom STY 1', \n",
    "               'Custom STY 1 non-M'), ]\n",
    "\n",
    "# Std values\n",
    "rep.hold.std[c('Original', 'Custom ST 5', 'Custom ST 1', 'Custom ST 1 non-M', 'Custom STY 5', 'Custom STY 1', \n",
    "               'Custom STY 1 non-M'), ]"
   ]
  },
  {
   "cell_type": "markdown",
   "metadata": {},
   "source": [
    "Comparing the results obtained when using the original and the custom pre-trained models, according to ROC and Sens, results are better when using our S, T, Y custom general model, although ACC and Spec values are better when using the original model pre-trained on S, T residues."
   ]
  },
  {
   "cell_type": "code",
   "execution_count": 48,
   "metadata": {},
   "outputs": [
    {
     "data": {
      "text/html": [
       "<table>\n",
       "<thead><tr><th></th><th scope=col>cut</th><th scope=col>ROC</th><th scope=col>Acc</th><th scope=col>Sens</th><th scope=col>Spec</th><th scope=col>Prec</th><th scope=col>Recal</th><th scope=col>MCC</th><th scope=col>FMeas</th></tr></thead>\n",
       "<tbody>\n",
       "\t<tr><th scope=row>Custom STY 1</th><td>0.5      </td><td>0.8263210</td><td>0.7988595</td><td>0.6681704</td><td>0.8087247</td><td>0.2047675</td><td>0.6681704</td><td>0.2886493</td><td>0.3113627</td></tr>\n",
       "\t<tr><th scope=row>Custom STY 1 lr=0.00075</th><td>0.5      </td><td>0.8216875</td><td>0.7717383</td><td>0.7071945</td><td>0.7766227</td><td>0.1874095</td><td>0.7071945</td><td>0.2784662</td><td>0.2953826</td></tr>\n",
       "\t<tr><th scope=row>Custom STY 1 lr=0.0005</th><td>0.5      </td><td>0.8161592</td><td>0.7423471</td><td>0.7334584</td><td>0.7431334</td><td>0.1717636</td><td>0.7334584</td><td>0.2639003</td><td>0.2776253</td></tr>\n",
       "\t<tr><th scope=row>Custom STY 1 lr=0.0003</th><td>0.5      </td><td>0.8163477</td><td>0.7404969</td><td>0.7305155</td><td>0.7413243</td><td>0.1711594</td><td>0.7305155</td><td>0.2617963</td><td>0.2764799</td></tr>\n",
       "\t<tr><th scope=row>Custom STY 1 lr=0.0001</th><td>0.5      </td><td>0.8044292</td><td>0.6875145</td><td>0.7993104</td><td>0.6792511</td><td>0.1536202</td><td>0.7993104</td><td>0.2519020</td><td>0.2575997</td></tr>\n",
       "\t<tr><th scope=row>Custom STY 1 lr=0.005</th><td>0.5      </td><td>0.8283994</td><td>0.8805647</td><td>0.4458099</td><td>0.9123172</td><td>0.2688491</td><td>0.4458099</td><td>0.2838178</td><td>0.3325091</td></tr>\n",
       "\t<tr><th scope=row>Custom STY 1 lr=0.01</th><td>0.5      </td><td>0.8261484</td><td>0.8507798</td><td>0.5159344</td><td>0.8750115</td><td>0.2343945</td><td>0.5159344</td><td>0.2746472</td><td>0.3151210</td></tr>\n",
       "</tbody>\n",
       "</table>\n"
      ],
      "text/latex": [
       "\\begin{tabular}{r|lllllllll}\n",
       "  & cut & ROC & Acc & Sens & Spec & Prec & Recal & MCC & FMeas\\\\\n",
       "\\hline\n",
       "\tCustom STY 1 & 0.5       & 0.8263210 & 0.7988595 & 0.6681704 & 0.8087247 & 0.2047675 & 0.6681704 & 0.2886493 & 0.3113627\\\\\n",
       "\tCustom STY 1 lr=0.00075 & 0.5       & 0.8216875 & 0.7717383 & 0.7071945 & 0.7766227 & 0.1874095 & 0.7071945 & 0.2784662 & 0.2953826\\\\\n",
       "\tCustom STY 1 lr=0.0005 & 0.5       & 0.8161592 & 0.7423471 & 0.7334584 & 0.7431334 & 0.1717636 & 0.7334584 & 0.2639003 & 0.2776253\\\\\n",
       "\tCustom STY 1 lr=0.0003 & 0.5       & 0.8163477 & 0.7404969 & 0.7305155 & 0.7413243 & 0.1711594 & 0.7305155 & 0.2617963 & 0.2764799\\\\\n",
       "\tCustom STY 1 lr=0.0001 & 0.5       & 0.8044292 & 0.6875145 & 0.7993104 & 0.6792511 & 0.1536202 & 0.7993104 & 0.2519020 & 0.2575997\\\\\n",
       "\tCustom STY 1 lr=0.005 & 0.5       & 0.8283994 & 0.8805647 & 0.4458099 & 0.9123172 & 0.2688491 & 0.4458099 & 0.2838178 & 0.3325091\\\\\n",
       "\tCustom STY 1 lr=0.01 & 0.5       & 0.8261484 & 0.8507798 & 0.5159344 & 0.8750115 & 0.2343945 & 0.5159344 & 0.2746472 & 0.3151210\\\\\n",
       "\\end{tabular}\n"
      ],
      "text/markdown": [
       "\n",
       "| <!--/--> | cut | ROC | Acc | Sens | Spec | Prec | Recal | MCC | FMeas | \n",
       "|---|---|---|---|---|---|---|\n",
       "| Custom STY 1 | 0.5       | 0.8263210 | 0.7988595 | 0.6681704 | 0.8087247 | 0.2047675 | 0.6681704 | 0.2886493 | 0.3113627 | \n",
       "| Custom STY 1 lr=0.00075 | 0.5       | 0.8216875 | 0.7717383 | 0.7071945 | 0.7766227 | 0.1874095 | 0.7071945 | 0.2784662 | 0.2953826 | \n",
       "| Custom STY 1 lr=0.0005 | 0.5       | 0.8161592 | 0.7423471 | 0.7334584 | 0.7431334 | 0.1717636 | 0.7334584 | 0.2639003 | 0.2776253 | \n",
       "| Custom STY 1 lr=0.0003 | 0.5       | 0.8163477 | 0.7404969 | 0.7305155 | 0.7413243 | 0.1711594 | 0.7305155 | 0.2617963 | 0.2764799 | \n",
       "| Custom STY 1 lr=0.0001 | 0.5       | 0.8044292 | 0.6875145 | 0.7993104 | 0.6792511 | 0.1536202 | 0.7993104 | 0.2519020 | 0.2575997 | \n",
       "| Custom STY 1 lr=0.005 | 0.5       | 0.8283994 | 0.8805647 | 0.4458099 | 0.9123172 | 0.2688491 | 0.4458099 | 0.2838178 | 0.3325091 | \n",
       "| Custom STY 1 lr=0.01 | 0.5       | 0.8261484 | 0.8507798 | 0.5159344 | 0.8750115 | 0.2343945 | 0.5159344 | 0.2746472 | 0.3151210 | \n",
       "\n",
       "\n"
      ],
      "text/plain": [
       "                        cut ROC       Acc       Sens      Spec      Prec     \n",
       "Custom STY 1            0.5 0.8263210 0.7988595 0.6681704 0.8087247 0.2047675\n",
       "Custom STY 1 lr=0.00075 0.5 0.8216875 0.7717383 0.7071945 0.7766227 0.1874095\n",
       "Custom STY 1 lr=0.0005  0.5 0.8161592 0.7423471 0.7334584 0.7431334 0.1717636\n",
       "Custom STY 1 lr=0.0003  0.5 0.8163477 0.7404969 0.7305155 0.7413243 0.1711594\n",
       "Custom STY 1 lr=0.0001  0.5 0.8044292 0.6875145 0.7993104 0.6792511 0.1536202\n",
       "Custom STY 1 lr=0.005   0.5 0.8283994 0.8805647 0.4458099 0.9123172 0.2688491\n",
       "Custom STY 1 lr=0.01    0.5 0.8261484 0.8507798 0.5159344 0.8750115 0.2343945\n",
       "                        Recal     MCC       FMeas    \n",
       "Custom STY 1            0.6681704 0.2886493 0.3113627\n",
       "Custom STY 1 lr=0.00075 0.7071945 0.2784662 0.2953826\n",
       "Custom STY 1 lr=0.0005  0.7334584 0.2639003 0.2776253\n",
       "Custom STY 1 lr=0.0003  0.7305155 0.2617963 0.2764799\n",
       "Custom STY 1 lr=0.0001  0.7993104 0.2519020 0.2575997\n",
       "Custom STY 1 lr=0.005   0.4458099 0.2838178 0.3325091\n",
       "Custom STY 1 lr=0.01    0.5159344 0.2746472 0.3151210"
      ]
     },
     "metadata": {},
     "output_type": "display_data"
    },
    {
     "data": {
      "text/html": [
       "<table>\n",
       "<thead><tr><th></th><th scope=col>cut</th><th scope=col>ROC</th><th scope=col>Acc</th><th scope=col>Sens</th><th scope=col>Spec</th><th scope=col>Prec</th><th scope=col>Recal</th><th scope=col>MCC</th><th scope=col>FMeas</th></tr></thead>\n",
       "<tbody>\n",
       "\t<tr><th scope=row>Custom STY 1</th><td>0         </td><td>0.02939644</td><td>0.02950000</td><td>0.08494603</td><td>0.03502025</td><td>0.02891143</td><td>0.08494603</td><td>0.03946518</td><td>0.03425851</td></tr>\n",
       "\t<tr><th scope=row>Custom STY 1 lr=0.00075</th><td>0         </td><td>0.02782368</td><td>0.02107715</td><td>0.07774720</td><td>0.02569073</td><td>0.01893803</td><td>0.07774720</td><td>0.03312665</td><td>0.02477944</td></tr>\n",
       "\t<tr><th scope=row>Custom STY 1 lr=0.0005</th><td>0         </td><td>0.02857603</td><td>0.02420475</td><td>0.09474244</td><td>0.03038141</td><td>0.01366154</td><td>0.09474244</td><td>0.03500368</td><td>0.02054266</td></tr>\n",
       "\t<tr><th scope=row>Custom STY 1 lr=0.0003</th><td>0         </td><td>0.02314375</td><td>0.03224602</td><td>0.08296853</td><td>0.03808021</td><td>0.01883060</td><td>0.08296853</td><td>0.03527307</td><td>0.02655794</td></tr>\n",
       "\t<tr><th scope=row>Custom STY 1 lr=0.0001</th><td>0         </td><td>0.02984998</td><td>0.02876941</td><td>0.07526568</td><td>0.03120090</td><td>0.01525182</td><td>0.07526568</td><td>0.04151994</td><td>0.02474123</td></tr>\n",
       "\t<tr><th scope=row>Custom STY 1 lr=0.005</th><td>0         </td><td>0.03294771</td><td>0.01355111</td><td>0.10956028</td><td>0.01684532</td><td>0.04365477</td><td>0.10956028</td><td>0.06756945</td><td>0.05876657</td></tr>\n",
       "\t<tr><th scope=row>Custom STY 1 lr=0.01</th><td>0         </td><td>0.03853304</td><td>0.03770155</td><td>0.17998967</td><td>0.04856218</td><td>0.04212801</td><td>0.17998967</td><td>0.07926811</td><td>0.06124987</td></tr>\n",
       "</tbody>\n",
       "</table>\n"
      ],
      "text/latex": [
       "\\begin{tabular}{r|lllllllll}\n",
       "  & cut & ROC & Acc & Sens & Spec & Prec & Recal & MCC & FMeas\\\\\n",
       "\\hline\n",
       "\tCustom STY 1 & 0          & 0.02939644 & 0.02950000 & 0.08494603 & 0.03502025 & 0.02891143 & 0.08494603 & 0.03946518 & 0.03425851\\\\\n",
       "\tCustom STY 1 lr=0.00075 & 0          & 0.02782368 & 0.02107715 & 0.07774720 & 0.02569073 & 0.01893803 & 0.07774720 & 0.03312665 & 0.02477944\\\\\n",
       "\tCustom STY 1 lr=0.0005 & 0          & 0.02857603 & 0.02420475 & 0.09474244 & 0.03038141 & 0.01366154 & 0.09474244 & 0.03500368 & 0.02054266\\\\\n",
       "\tCustom STY 1 lr=0.0003 & 0          & 0.02314375 & 0.03224602 & 0.08296853 & 0.03808021 & 0.01883060 & 0.08296853 & 0.03527307 & 0.02655794\\\\\n",
       "\tCustom STY 1 lr=0.0001 & 0          & 0.02984998 & 0.02876941 & 0.07526568 & 0.03120090 & 0.01525182 & 0.07526568 & 0.04151994 & 0.02474123\\\\\n",
       "\tCustom STY 1 lr=0.005 & 0          & 0.03294771 & 0.01355111 & 0.10956028 & 0.01684532 & 0.04365477 & 0.10956028 & 0.06756945 & 0.05876657\\\\\n",
       "\tCustom STY 1 lr=0.01 & 0          & 0.03853304 & 0.03770155 & 0.17998967 & 0.04856218 & 0.04212801 & 0.17998967 & 0.07926811 & 0.06124987\\\\\n",
       "\\end{tabular}\n"
      ],
      "text/markdown": [
       "\n",
       "| <!--/--> | cut | ROC | Acc | Sens | Spec | Prec | Recal | MCC | FMeas | \n",
       "|---|---|---|---|---|---|---|\n",
       "| Custom STY 1 | 0          | 0.02939644 | 0.02950000 | 0.08494603 | 0.03502025 | 0.02891143 | 0.08494603 | 0.03946518 | 0.03425851 | \n",
       "| Custom STY 1 lr=0.00075 | 0          | 0.02782368 | 0.02107715 | 0.07774720 | 0.02569073 | 0.01893803 | 0.07774720 | 0.03312665 | 0.02477944 | \n",
       "| Custom STY 1 lr=0.0005 | 0          | 0.02857603 | 0.02420475 | 0.09474244 | 0.03038141 | 0.01366154 | 0.09474244 | 0.03500368 | 0.02054266 | \n",
       "| Custom STY 1 lr=0.0003 | 0          | 0.02314375 | 0.03224602 | 0.08296853 | 0.03808021 | 0.01883060 | 0.08296853 | 0.03527307 | 0.02655794 | \n",
       "| Custom STY 1 lr=0.0001 | 0          | 0.02984998 | 0.02876941 | 0.07526568 | 0.03120090 | 0.01525182 | 0.07526568 | 0.04151994 | 0.02474123 | \n",
       "| Custom STY 1 lr=0.005 | 0          | 0.03294771 | 0.01355111 | 0.10956028 | 0.01684532 | 0.04365477 | 0.10956028 | 0.06756945 | 0.05876657 | \n",
       "| Custom STY 1 lr=0.01 | 0          | 0.03853304 | 0.03770155 | 0.17998967 | 0.04856218 | 0.04212801 | 0.17998967 | 0.07926811 | 0.06124987 | \n",
       "\n",
       "\n"
      ],
      "text/plain": [
       "                        cut ROC        Acc        Sens       Spec      \n",
       "Custom STY 1            0   0.02939644 0.02950000 0.08494603 0.03502025\n",
       "Custom STY 1 lr=0.00075 0   0.02782368 0.02107715 0.07774720 0.02569073\n",
       "Custom STY 1 lr=0.0005  0   0.02857603 0.02420475 0.09474244 0.03038141\n",
       "Custom STY 1 lr=0.0003  0   0.02314375 0.03224602 0.08296853 0.03808021\n",
       "Custom STY 1 lr=0.0001  0   0.02984998 0.02876941 0.07526568 0.03120090\n",
       "Custom STY 1 lr=0.005   0   0.03294771 0.01355111 0.10956028 0.01684532\n",
       "Custom STY 1 lr=0.01    0   0.03853304 0.03770155 0.17998967 0.04856218\n",
       "                        Prec       Recal      MCC        FMeas     \n",
       "Custom STY 1            0.02891143 0.08494603 0.03946518 0.03425851\n",
       "Custom STY 1 lr=0.00075 0.01893803 0.07774720 0.03312665 0.02477944\n",
       "Custom STY 1 lr=0.0005  0.01366154 0.09474244 0.03500368 0.02054266\n",
       "Custom STY 1 lr=0.0003  0.01883060 0.08296853 0.03527307 0.02655794\n",
       "Custom STY 1 lr=0.0001  0.01525182 0.07526568 0.04151994 0.02474123\n",
       "Custom STY 1 lr=0.005   0.04365477 0.10956028 0.06756945 0.05876657\n",
       "Custom STY 1 lr=0.01    0.04212801 0.17998967 0.07926811 0.06124987"
      ]
     },
     "metadata": {},
     "output_type": "display_data"
    }
   ],
   "source": [
    "# Comparing the different results obtained using different values of learning-rate\n",
    "\n",
    "# Mean values\n",
    "rep.hold.mean[c('Custom STY 1', 'Custom STY 1 lr=0.00075', 'Custom STY 1 lr=0.0005', 'Custom STY 1 lr=0.0003', \n",
    "                'Custom STY 1 lr=0.0001', 'Custom STY 1 lr=0.005', 'Custom STY 1 lr=0.01'), ]\n",
    "\n",
    "# Std values\n",
    "rep.hold.std[c('Custom STY 1', 'Custom STY 1 lr=0.00075', 'Custom STY 1 lr=0.0005', 'Custom STY 1 lr=0.0003', \n",
    "                'Custom STY 1 lr=0.0001', 'Custom STY 1 lr=0.005', 'Custom STY 1 lr=0.01'), ]"
   ]
  },
  {
   "cell_type": "code",
   "execution_count": 49,
   "metadata": {},
   "outputs": [
    {
     "data": {
      "text/html": [
       "<table>\n",
       "<thead><tr><th></th><th scope=col>cut</th><th scope=col>ROC</th><th scope=col>Acc</th><th scope=col>Sens</th><th scope=col>Spec</th><th scope=col>Prec</th><th scope=col>Recal</th><th scope=col>MCC</th><th scope=col>FMeas</th></tr></thead>\n",
       "<tbody>\n",
       "\t<tr><th scope=row>Custom STY 1</th><td>0.5      </td><td>0.8263210</td><td>0.7988595</td><td>0.6681704</td><td>0.8087247</td><td>0.2047675</td><td>0.6681704</td><td>0.2886493</td><td>0.3113627</td></tr>\n",
       "\t<tr><th scope=row>Custom STY 1 tl=0</th><td>0.5      </td><td>0.8340293</td><td>0.8383975</td><td>0.6011161</td><td>0.8558756</td><td>0.2314928</td><td>0.6011161</td><td>0.3007892</td><td>0.3330084</td></tr>\n",
       "\t<tr><th scope=row>Custom STY 1 tl=3</th><td>0.5      </td><td>0.8253600</td><td>0.7943170</td><td>0.6613467</td><td>0.8042168</td><td>0.1973269</td><td>0.6613467</td><td>0.2788386</td><td>0.3027874</td></tr>\n",
       "\t<tr><th scope=row>Custom STY 1 tl=5</th><td>0.5      </td><td>0.7981474</td><td>0.7700230</td><td>0.6420739</td><td>0.7794126</td><td>0.1754853</td><td>0.6420739</td><td>0.2453631</td><td>0.2745123</td></tr>\n",
       "</tbody>\n",
       "</table>\n"
      ],
      "text/latex": [
       "\\begin{tabular}{r|lllllllll}\n",
       "  & cut & ROC & Acc & Sens & Spec & Prec & Recal & MCC & FMeas\\\\\n",
       "\\hline\n",
       "\tCustom STY 1 & 0.5       & 0.8263210 & 0.7988595 & 0.6681704 & 0.8087247 & 0.2047675 & 0.6681704 & 0.2886493 & 0.3113627\\\\\n",
       "\tCustom STY 1 tl=0 & 0.5       & 0.8340293 & 0.8383975 & 0.6011161 & 0.8558756 & 0.2314928 & 0.6011161 & 0.3007892 & 0.3330084\\\\\n",
       "\tCustom STY 1 tl=3 & 0.5       & 0.8253600 & 0.7943170 & 0.6613467 & 0.8042168 & 0.1973269 & 0.6613467 & 0.2788386 & 0.3027874\\\\\n",
       "\tCustom STY 1 tl=5 & 0.5       & 0.7981474 & 0.7700230 & 0.6420739 & 0.7794126 & 0.1754853 & 0.6420739 & 0.2453631 & 0.2745123\\\\\n",
       "\\end{tabular}\n"
      ],
      "text/markdown": [
       "\n",
       "| <!--/--> | cut | ROC | Acc | Sens | Spec | Prec | Recal | MCC | FMeas | \n",
       "|---|---|---|---|\n",
       "| Custom STY 1 | 0.5       | 0.8263210 | 0.7988595 | 0.6681704 | 0.8087247 | 0.2047675 | 0.6681704 | 0.2886493 | 0.3113627 | \n",
       "| Custom STY 1 tl=0 | 0.5       | 0.8340293 | 0.8383975 | 0.6011161 | 0.8558756 | 0.2314928 | 0.6011161 | 0.3007892 | 0.3330084 | \n",
       "| Custom STY 1 tl=3 | 0.5       | 0.8253600 | 0.7943170 | 0.6613467 | 0.8042168 | 0.1973269 | 0.6613467 | 0.2788386 | 0.3027874 | \n",
       "| Custom STY 1 tl=5 | 0.5       | 0.7981474 | 0.7700230 | 0.6420739 | 0.7794126 | 0.1754853 | 0.6420739 | 0.2453631 | 0.2745123 | \n",
       "\n",
       "\n"
      ],
      "text/plain": [
       "                  cut ROC       Acc       Sens      Spec      Prec     \n",
       "Custom STY 1      0.5 0.8263210 0.7988595 0.6681704 0.8087247 0.2047675\n",
       "Custom STY 1 tl=0 0.5 0.8340293 0.8383975 0.6011161 0.8558756 0.2314928\n",
       "Custom STY 1 tl=3 0.5 0.8253600 0.7943170 0.6613467 0.8042168 0.1973269\n",
       "Custom STY 1 tl=5 0.5 0.7981474 0.7700230 0.6420739 0.7794126 0.1754853\n",
       "                  Recal     MCC       FMeas    \n",
       "Custom STY 1      0.6681704 0.2886493 0.3113627\n",
       "Custom STY 1 tl=0 0.6011161 0.3007892 0.3330084\n",
       "Custom STY 1 tl=3 0.6613467 0.2788386 0.3027874\n",
       "Custom STY 1 tl=5 0.6420739 0.2453631 0.2745123"
      ]
     },
     "metadata": {},
     "output_type": "display_data"
    },
    {
     "data": {
      "text/html": [
       "<table>\n",
       "<thead><tr><th></th><th scope=col>cut</th><th scope=col>ROC</th><th scope=col>Acc</th><th scope=col>Sens</th><th scope=col>Spec</th><th scope=col>Prec</th><th scope=col>Recal</th><th scope=col>MCC</th><th scope=col>FMeas</th></tr></thead>\n",
       "<tbody>\n",
       "\t<tr><th scope=row>Custom STY 1</th><td>0          </td><td>0.02939644 </td><td>0.029500002</td><td>0.08494603 </td><td>0.03502025 </td><td>0.02891143 </td><td>0.08494603 </td><td>0.03946518 </td><td>0.03425851 </td></tr>\n",
       "\t<tr><th scope=row>Custom STY 1 tl=0</th><td>0          </td><td>0.02889968 </td><td>0.008445571</td><td>0.10230094 </td><td>0.01288152 </td><td>0.02631334 </td><td>0.10230094 </td><td>0.05124698 </td><td>0.03801741 </td></tr>\n",
       "\t<tr><th scope=row>Custom STY 1 tl=3</th><td>0          </td><td>0.03084594 </td><td>0.021165072</td><td>0.10444335 </td><td>0.02494828 </td><td>0.02628709 </td><td>0.10444335 </td><td>0.05196050 </td><td>0.03768799 </td></tr>\n",
       "\t<tr><th scope=row>Custom STY 1 tl=5</th><td>0          </td><td>0.02740713 </td><td>0.027030702</td><td>0.08390480 </td><td>0.03264291 </td><td>0.01891957 </td><td>0.08390480 </td><td>0.03437418 </td><td>0.02556955 </td></tr>\n",
       "</tbody>\n",
       "</table>\n"
      ],
      "text/latex": [
       "\\begin{tabular}{r|lllllllll}\n",
       "  & cut & ROC & Acc & Sens & Spec & Prec & Recal & MCC & FMeas\\\\\n",
       "\\hline\n",
       "\tCustom STY 1 & 0           & 0.02939644  & 0.029500002 & 0.08494603  & 0.03502025  & 0.02891143  & 0.08494603  & 0.03946518  & 0.03425851 \\\\\n",
       "\tCustom STY 1 tl=0 & 0           & 0.02889968  & 0.008445571 & 0.10230094  & 0.01288152  & 0.02631334  & 0.10230094  & 0.05124698  & 0.03801741 \\\\\n",
       "\tCustom STY 1 tl=3 & 0           & 0.03084594  & 0.021165072 & 0.10444335  & 0.02494828  & 0.02628709  & 0.10444335  & 0.05196050  & 0.03768799 \\\\\n",
       "\tCustom STY 1 tl=5 & 0           & 0.02740713  & 0.027030702 & 0.08390480  & 0.03264291  & 0.01891957  & 0.08390480  & 0.03437418  & 0.02556955 \\\\\n",
       "\\end{tabular}\n"
      ],
      "text/markdown": [
       "\n",
       "| <!--/--> | cut | ROC | Acc | Sens | Spec | Prec | Recal | MCC | FMeas | \n",
       "|---|---|---|---|\n",
       "| Custom STY 1 | 0           | 0.02939644  | 0.029500002 | 0.08494603  | 0.03502025  | 0.02891143  | 0.08494603  | 0.03946518  | 0.03425851  | \n",
       "| Custom STY 1 tl=0 | 0           | 0.02889968  | 0.008445571 | 0.10230094  | 0.01288152  | 0.02631334  | 0.10230094  | 0.05124698  | 0.03801741  | \n",
       "| Custom STY 1 tl=3 | 0           | 0.03084594  | 0.021165072 | 0.10444335  | 0.02494828  | 0.02628709  | 0.10444335  | 0.05196050  | 0.03768799  | \n",
       "| Custom STY 1 tl=5 | 0           | 0.02740713  | 0.027030702 | 0.08390480  | 0.03264291  | 0.01891957  | 0.08390480  | 0.03437418  | 0.02556955  | \n",
       "\n",
       "\n"
      ],
      "text/plain": [
       "                  cut ROC        Acc         Sens       Spec       Prec      \n",
       "Custom STY 1      0   0.02939644 0.029500002 0.08494603 0.03502025 0.02891143\n",
       "Custom STY 1 tl=0 0   0.02889968 0.008445571 0.10230094 0.01288152 0.02631334\n",
       "Custom STY 1 tl=3 0   0.03084594 0.021165072 0.10444335 0.02494828 0.02628709\n",
       "Custom STY 1 tl=5 0   0.02740713 0.027030702 0.08390480 0.03264291 0.01891957\n",
       "                  Recal      MCC        FMeas     \n",
       "Custom STY 1      0.08494603 0.03946518 0.03425851\n",
       "Custom STY 1 tl=0 0.10230094 0.05124698 0.03801741\n",
       "Custom STY 1 tl=3 0.10444335 0.05196050 0.03768799\n",
       "Custom STY 1 tl=5 0.08390480 0.03437418 0.02556955"
      ]
     },
     "metadata": {},
     "output_type": "display_data"
    }
   ],
   "source": [
    "# Comparing the results obtained using different values of transfer-leayer\n",
    "\n",
    "# Mean values\n",
    "rep.hold.mean[c('Custom STY 1', 'Custom STY 1 tl=0', 'Custom STY 1 tl=3', 'Custom STY 1 tl=5'), ]\n",
    "\n",
    "# Std values\n",
    "rep.hold.std[c('Custom STY 1', 'Custom STY 1 tl=0', 'Custom STY 1 tl=3', 'Custom STY 1 tl=5'), ]"
   ]
  },
  {
   "cell_type": "code",
   "execution_count": 50,
   "metadata": {},
   "outputs": [
    {
     "data": {
      "text/html": [
       "<table>\n",
       "<thead><tr><th></th><th scope=col>cut</th><th scope=col>ROC</th><th scope=col>Acc</th><th scope=col>Sens</th><th scope=col>Spec</th><th scope=col>Prec</th><th scope=col>Recal</th><th scope=col>MCC</th><th scope=col>FMeas</th></tr></thead>\n",
       "<tbody>\n",
       "\t<tr><th scope=row>Custom STY 1</th><td>0.5      </td><td>0.8263210</td><td>0.7988595</td><td>0.6681704</td><td>0.8087247</td><td>0.2047675</td><td>0.6681704</td><td>0.2886493</td><td>0.3113627</td></tr>\n",
       "\t<tr><th scope=row>Custom STY 1 tl=0 lr=0.00075</th><td>0.5      </td><td>0.8322186</td><td>0.8249830</td><td>0.6085878</td><td>0.8409189</td><td>0.2171963</td><td>0.6085878</td><td>0.2873916</td><td>0.3188084</td></tr>\n",
       "\t<tr><th scope=row>Custom STY 1 lr=0.00075</th><td>0.5      </td><td>0.8216875</td><td>0.7717383</td><td>0.7071945</td><td>0.7766227</td><td>0.1874095</td><td>0.7071945</td><td>0.2784662</td><td>0.2953826</td></tr>\n",
       "\t<tr><th scope=row>Custom STY 1 tl=0</th><td>0.5      </td><td>0.8340293</td><td>0.8383975</td><td>0.6011161</td><td>0.8558756</td><td>0.2314928</td><td>0.6011161</td><td>0.3007892</td><td>0.3330084</td></tr>\n",
       "\t<tr><th scope=row>Custom STY 1 lr=0.0005</th><td>0.5      </td><td>0.8161592</td><td>0.7423471</td><td>0.7334584</td><td>0.7431334</td><td>0.1717636</td><td>0.7334584</td><td>0.2639003</td><td>0.2776253</td></tr>\n",
       "\t<tr><th scope=row>Custom STY 1 tl=0 lr=0.0005</th><td>0.5      </td><td>0.8310176</td><td>0.8007972</td><td>0.6855445</td><td>0.8093064</td><td>0.2064366</td><td>0.6855445</td><td>0.2973089</td><td>0.3167262</td></tr>\n",
       "\t<tr><th scope=row>Custom STY 1 lr=0.0001</th><td>0.5      </td><td>0.8044292</td><td>0.6875145</td><td>0.7993104</td><td>0.6792511</td><td>0.1536202</td><td>0.7993104</td><td>0.2519020</td><td>0.2575997</td></tr>\n",
       "\t<tr><th scope=row>Custom STY 1 tl=0 lr=0.0001</th><td>0.5      </td><td>0.8225759</td><td>0.7403841</td><td>0.7468370</td><td>0.7400286</td><td>0.1728334</td><td>0.7468370</td><td>0.2687882</td><td>0.2800834</td></tr>\n",
       "</tbody>\n",
       "</table>\n"
      ],
      "text/latex": [
       "\\begin{tabular}{r|lllllllll}\n",
       "  & cut & ROC & Acc & Sens & Spec & Prec & Recal & MCC & FMeas\\\\\n",
       "\\hline\n",
       "\tCustom STY 1 & 0.5       & 0.8263210 & 0.7988595 & 0.6681704 & 0.8087247 & 0.2047675 & 0.6681704 & 0.2886493 & 0.3113627\\\\\n",
       "\tCustom STY 1 tl=0 lr=0.00075 & 0.5       & 0.8322186 & 0.8249830 & 0.6085878 & 0.8409189 & 0.2171963 & 0.6085878 & 0.2873916 & 0.3188084\\\\\n",
       "\tCustom STY 1 lr=0.00075 & 0.5       & 0.8216875 & 0.7717383 & 0.7071945 & 0.7766227 & 0.1874095 & 0.7071945 & 0.2784662 & 0.2953826\\\\\n",
       "\tCustom STY 1 tl=0 & 0.5       & 0.8340293 & 0.8383975 & 0.6011161 & 0.8558756 & 0.2314928 & 0.6011161 & 0.3007892 & 0.3330084\\\\\n",
       "\tCustom STY 1 lr=0.0005 & 0.5       & 0.8161592 & 0.7423471 & 0.7334584 & 0.7431334 & 0.1717636 & 0.7334584 & 0.2639003 & 0.2776253\\\\\n",
       "\tCustom STY 1 tl=0 lr=0.0005 & 0.5       & 0.8310176 & 0.8007972 & 0.6855445 & 0.8093064 & 0.2064366 & 0.6855445 & 0.2973089 & 0.3167262\\\\\n",
       "\tCustom STY 1 lr=0.0001 & 0.5       & 0.8044292 & 0.6875145 & 0.7993104 & 0.6792511 & 0.1536202 & 0.7993104 & 0.2519020 & 0.2575997\\\\\n",
       "\tCustom STY 1 tl=0 lr=0.0001 & 0.5       & 0.8225759 & 0.7403841 & 0.7468370 & 0.7400286 & 0.1728334 & 0.7468370 & 0.2687882 & 0.2800834\\\\\n",
       "\\end{tabular}\n"
      ],
      "text/markdown": [
       "\n",
       "| <!--/--> | cut | ROC | Acc | Sens | Spec | Prec | Recal | MCC | FMeas | \n",
       "|---|---|---|---|---|---|---|---|\n",
       "| Custom STY 1 | 0.5       | 0.8263210 | 0.7988595 | 0.6681704 | 0.8087247 | 0.2047675 | 0.6681704 | 0.2886493 | 0.3113627 | \n",
       "| Custom STY 1 tl=0 lr=0.00075 | 0.5       | 0.8322186 | 0.8249830 | 0.6085878 | 0.8409189 | 0.2171963 | 0.6085878 | 0.2873916 | 0.3188084 | \n",
       "| Custom STY 1 lr=0.00075 | 0.5       | 0.8216875 | 0.7717383 | 0.7071945 | 0.7766227 | 0.1874095 | 0.7071945 | 0.2784662 | 0.2953826 | \n",
       "| Custom STY 1 tl=0 | 0.5       | 0.8340293 | 0.8383975 | 0.6011161 | 0.8558756 | 0.2314928 | 0.6011161 | 0.3007892 | 0.3330084 | \n",
       "| Custom STY 1 lr=0.0005 | 0.5       | 0.8161592 | 0.7423471 | 0.7334584 | 0.7431334 | 0.1717636 | 0.7334584 | 0.2639003 | 0.2776253 | \n",
       "| Custom STY 1 tl=0 lr=0.0005 | 0.5       | 0.8310176 | 0.8007972 | 0.6855445 | 0.8093064 | 0.2064366 | 0.6855445 | 0.2973089 | 0.3167262 | \n",
       "| Custom STY 1 lr=0.0001 | 0.5       | 0.8044292 | 0.6875145 | 0.7993104 | 0.6792511 | 0.1536202 | 0.7993104 | 0.2519020 | 0.2575997 | \n",
       "| Custom STY 1 tl=0 lr=0.0001 | 0.5       | 0.8225759 | 0.7403841 | 0.7468370 | 0.7400286 | 0.1728334 | 0.7468370 | 0.2687882 | 0.2800834 | \n",
       "\n",
       "\n"
      ],
      "text/plain": [
       "                             cut ROC       Acc       Sens      Spec     \n",
       "Custom STY 1                 0.5 0.8263210 0.7988595 0.6681704 0.8087247\n",
       "Custom STY 1 tl=0 lr=0.00075 0.5 0.8322186 0.8249830 0.6085878 0.8409189\n",
       "Custom STY 1 lr=0.00075      0.5 0.8216875 0.7717383 0.7071945 0.7766227\n",
       "Custom STY 1 tl=0            0.5 0.8340293 0.8383975 0.6011161 0.8558756\n",
       "Custom STY 1 lr=0.0005       0.5 0.8161592 0.7423471 0.7334584 0.7431334\n",
       "Custom STY 1 tl=0 lr=0.0005  0.5 0.8310176 0.8007972 0.6855445 0.8093064\n",
       "Custom STY 1 lr=0.0001       0.5 0.8044292 0.6875145 0.7993104 0.6792511\n",
       "Custom STY 1 tl=0 lr=0.0001  0.5 0.8225759 0.7403841 0.7468370 0.7400286\n",
       "                             Prec      Recal     MCC       FMeas    \n",
       "Custom STY 1                 0.2047675 0.6681704 0.2886493 0.3113627\n",
       "Custom STY 1 tl=0 lr=0.00075 0.2171963 0.6085878 0.2873916 0.3188084\n",
       "Custom STY 1 lr=0.00075      0.1874095 0.7071945 0.2784662 0.2953826\n",
       "Custom STY 1 tl=0            0.2314928 0.6011161 0.3007892 0.3330084\n",
       "Custom STY 1 lr=0.0005       0.1717636 0.7334584 0.2639003 0.2776253\n",
       "Custom STY 1 tl=0 lr=0.0005  0.2064366 0.6855445 0.2973089 0.3167262\n",
       "Custom STY 1 lr=0.0001       0.1536202 0.7993104 0.2519020 0.2575997\n",
       "Custom STY 1 tl=0 lr=0.0001  0.1728334 0.7468370 0.2687882 0.2800834"
      ]
     },
     "metadata": {},
     "output_type": "display_data"
    },
    {
     "data": {
      "text/html": [
       "<table>\n",
       "<thead><tr><th></th><th scope=col>cut</th><th scope=col>ROC</th><th scope=col>Acc</th><th scope=col>Sens</th><th scope=col>Spec</th><th scope=col>Prec</th><th scope=col>Recal</th><th scope=col>MCC</th><th scope=col>FMeas</th></tr></thead>\n",
       "<tbody>\n",
       "\t<tr><th scope=row>Custom STY 1</th><td>0          </td><td>0.02939644 </td><td>0.029500002</td><td>0.08494603 </td><td>0.03502025 </td><td>0.02891143 </td><td>0.08494603 </td><td>0.03946518 </td><td>0.03425851 </td></tr>\n",
       "\t<tr><th scope=row>Custom STY 1 tl=0 lr=0.00075</th><td>0          </td><td>0.02983270 </td><td>0.014775580</td><td>0.10087471 </td><td>0.01926920 </td><td>0.02538421 </td><td>0.10087471 </td><td>0.04826204 </td><td>0.03592851 </td></tr>\n",
       "\t<tr><th scope=row>Custom STY 1 lr=0.00075</th><td>0          </td><td>0.02782368 </td><td>0.021077152</td><td>0.07774720 </td><td>0.02569073 </td><td>0.01893803 </td><td>0.07774720 </td><td>0.03312665 </td><td>0.02477944 </td></tr>\n",
       "\t<tr><th scope=row>Custom STY 1 tl=0</th><td>0          </td><td>0.02889968 </td><td>0.008445571</td><td>0.10230094 </td><td>0.01288152 </td><td>0.02631334 </td><td>0.10230094 </td><td>0.05124698 </td><td>0.03801741 </td></tr>\n",
       "\t<tr><th scope=row>Custom STY 1 lr=0.0005</th><td>0          </td><td>0.02857603 </td><td>0.024204748</td><td>0.09474244 </td><td>0.03038141 </td><td>0.01366154 </td><td>0.09474244 </td><td>0.03500368 </td><td>0.02054266 </td></tr>\n",
       "\t<tr><th scope=row>Custom STY 1 tl=0 lr=0.0005</th><td>0          </td><td>0.02875841 </td><td>0.009928408</td><td>0.09362511 </td><td>0.01270257 </td><td>0.02156982 </td><td>0.09362511 </td><td>0.04660939 </td><td>0.03277110 </td></tr>\n",
       "\t<tr><th scope=row>Custom STY 1 lr=0.0001</th><td>0          </td><td>0.02984998 </td><td>0.028769406</td><td>0.07526568 </td><td>0.03120090 </td><td>0.01525182 </td><td>0.07526568 </td><td>0.04151994 </td><td>0.02474123 </td></tr>\n",
       "\t<tr><th scope=row>Custom STY 1 tl=0 lr=0.0001</th><td>0          </td><td>0.02775231 </td><td>0.020225819</td><td>0.09889931 </td><td>0.02388347 </td><td>0.02166504 </td><td>0.09889931 </td><td>0.04805319 </td><td>0.03296256 </td></tr>\n",
       "</tbody>\n",
       "</table>\n"
      ],
      "text/latex": [
       "\\begin{tabular}{r|lllllllll}\n",
       "  & cut & ROC & Acc & Sens & Spec & Prec & Recal & MCC & FMeas\\\\\n",
       "\\hline\n",
       "\tCustom STY 1 & 0           & 0.02939644  & 0.029500002 & 0.08494603  & 0.03502025  & 0.02891143  & 0.08494603  & 0.03946518  & 0.03425851 \\\\\n",
       "\tCustom STY 1 tl=0 lr=0.00075 & 0           & 0.02983270  & 0.014775580 & 0.10087471  & 0.01926920  & 0.02538421  & 0.10087471  & 0.04826204  & 0.03592851 \\\\\n",
       "\tCustom STY 1 lr=0.00075 & 0           & 0.02782368  & 0.021077152 & 0.07774720  & 0.02569073  & 0.01893803  & 0.07774720  & 0.03312665  & 0.02477944 \\\\\n",
       "\tCustom STY 1 tl=0 & 0           & 0.02889968  & 0.008445571 & 0.10230094  & 0.01288152  & 0.02631334  & 0.10230094  & 0.05124698  & 0.03801741 \\\\\n",
       "\tCustom STY 1 lr=0.0005 & 0           & 0.02857603  & 0.024204748 & 0.09474244  & 0.03038141  & 0.01366154  & 0.09474244  & 0.03500368  & 0.02054266 \\\\\n",
       "\tCustom STY 1 tl=0 lr=0.0005 & 0           & 0.02875841  & 0.009928408 & 0.09362511  & 0.01270257  & 0.02156982  & 0.09362511  & 0.04660939  & 0.03277110 \\\\\n",
       "\tCustom STY 1 lr=0.0001 & 0           & 0.02984998  & 0.028769406 & 0.07526568  & 0.03120090  & 0.01525182  & 0.07526568  & 0.04151994  & 0.02474123 \\\\\n",
       "\tCustom STY 1 tl=0 lr=0.0001 & 0           & 0.02775231  & 0.020225819 & 0.09889931  & 0.02388347  & 0.02166504  & 0.09889931  & 0.04805319  & 0.03296256 \\\\\n",
       "\\end{tabular}\n"
      ],
      "text/markdown": [
       "\n",
       "| <!--/--> | cut | ROC | Acc | Sens | Spec | Prec | Recal | MCC | FMeas | \n",
       "|---|---|---|---|---|---|---|---|\n",
       "| Custom STY 1 | 0           | 0.02939644  | 0.029500002 | 0.08494603  | 0.03502025  | 0.02891143  | 0.08494603  | 0.03946518  | 0.03425851  | \n",
       "| Custom STY 1 tl=0 lr=0.00075 | 0           | 0.02983270  | 0.014775580 | 0.10087471  | 0.01926920  | 0.02538421  | 0.10087471  | 0.04826204  | 0.03592851  | \n",
       "| Custom STY 1 lr=0.00075 | 0           | 0.02782368  | 0.021077152 | 0.07774720  | 0.02569073  | 0.01893803  | 0.07774720  | 0.03312665  | 0.02477944  | \n",
       "| Custom STY 1 tl=0 | 0           | 0.02889968  | 0.008445571 | 0.10230094  | 0.01288152  | 0.02631334  | 0.10230094  | 0.05124698  | 0.03801741  | \n",
       "| Custom STY 1 lr=0.0005 | 0           | 0.02857603  | 0.024204748 | 0.09474244  | 0.03038141  | 0.01366154  | 0.09474244  | 0.03500368  | 0.02054266  | \n",
       "| Custom STY 1 tl=0 lr=0.0005 | 0           | 0.02875841  | 0.009928408 | 0.09362511  | 0.01270257  | 0.02156982  | 0.09362511  | 0.04660939  | 0.03277110  | \n",
       "| Custom STY 1 lr=0.0001 | 0           | 0.02984998  | 0.028769406 | 0.07526568  | 0.03120090  | 0.01525182  | 0.07526568  | 0.04151994  | 0.02474123  | \n",
       "| Custom STY 1 tl=0 lr=0.0001 | 0           | 0.02775231  | 0.020225819 | 0.09889931  | 0.02388347  | 0.02166504  | 0.09889931  | 0.04805319  | 0.03296256  | \n",
       "\n",
       "\n"
      ],
      "text/plain": [
       "                             cut ROC        Acc         Sens       Spec      \n",
       "Custom STY 1                 0   0.02939644 0.029500002 0.08494603 0.03502025\n",
       "Custom STY 1 tl=0 lr=0.00075 0   0.02983270 0.014775580 0.10087471 0.01926920\n",
       "Custom STY 1 lr=0.00075      0   0.02782368 0.021077152 0.07774720 0.02569073\n",
       "Custom STY 1 tl=0            0   0.02889968 0.008445571 0.10230094 0.01288152\n",
       "Custom STY 1 lr=0.0005       0   0.02857603 0.024204748 0.09474244 0.03038141\n",
       "Custom STY 1 tl=0 lr=0.0005  0   0.02875841 0.009928408 0.09362511 0.01270257\n",
       "Custom STY 1 lr=0.0001       0   0.02984998 0.028769406 0.07526568 0.03120090\n",
       "Custom STY 1 tl=0 lr=0.0001  0   0.02775231 0.020225819 0.09889931 0.02388347\n",
       "                             Prec       Recal      MCC        FMeas     \n",
       "Custom STY 1                 0.02891143 0.08494603 0.03946518 0.03425851\n",
       "Custom STY 1 tl=0 lr=0.00075 0.02538421 0.10087471 0.04826204 0.03592851\n",
       "Custom STY 1 lr=0.00075      0.01893803 0.07774720 0.03312665 0.02477944\n",
       "Custom STY 1 tl=0            0.02631334 0.10230094 0.05124698 0.03801741\n",
       "Custom STY 1 lr=0.0005       0.01366154 0.09474244 0.03500368 0.02054266\n",
       "Custom STY 1 tl=0 lr=0.0005  0.02156982 0.09362511 0.04660939 0.03277110\n",
       "Custom STY 1 lr=0.0001       0.01525182 0.07526568 0.04151994 0.02474123\n",
       "Custom STY 1 tl=0 lr=0.0001  0.02166504 0.09889931 0.04805319 0.03296256"
      ]
     },
     "metadata": {},
     "output_type": "display_data"
    }
   ],
   "source": [
    "# Comparing the results obtained using different values of learning-rate and transfer-leayer\n",
    "\n",
    "# Mean values\n",
    "rep.hold.mean[c('Custom STY 1', 'Custom STY 1 tl=0 lr=0.00075', 'Custom STY 1 lr=0.00075', 'Custom STY 1 tl=0', \n",
    "                'Custom STY 1 lr=0.0005', 'Custom STY 1 tl=0 lr=0.0005', 'Custom STY 1 lr=0.0001', \n",
    "                'Custom STY 1 tl=0 lr=0.0001'), ]\n",
    "\n",
    "# Std values\n",
    "rep.hold.std[c('Custom STY 1', 'Custom STY 1 tl=0 lr=0.00075', 'Custom STY 1 lr=0.00075', 'Custom STY 1 tl=0', \n",
    "               'Custom STY 1 lr=0.0005', 'Custom STY 1 tl=0 lr=0.0005', 'Custom STY 1 lr=0.0001', \n",
    "                'Custom STY 1 tl=0 lr=0.0001'), ]"
   ]
  },
  {
   "cell_type": "code",
   "execution_count": 51,
   "metadata": {},
   "outputs": [
    {
     "data": {
      "text/html": [
       "<table>\n",
       "<thead><tr><th></th><th scope=col>cut</th><th scope=col>ROC</th><th scope=col>Acc</th><th scope=col>Sens</th><th scope=col>Spec</th><th scope=col>Prec</th><th scope=col>Recal</th><th scope=col>MCC</th><th scope=col>FMeas</th></tr></thead>\n",
       "<tbody>\n",
       "\t<tr><th scope=row>Custom STY 1</th><td>0.5      </td><td>0.8263210</td><td>0.7988595</td><td>0.6681704</td><td>0.8087247</td><td>0.2047675</td><td>0.6681704</td><td>0.2886493</td><td>0.3113627</td></tr>\n",
       "\t<tr><th scope=row>Custom STY 1 lr=0.00075</th><td>0.5      </td><td>0.8216875</td><td>0.7717383</td><td>0.7071945</td><td>0.7766227</td><td>0.1874095</td><td>0.7071945</td><td>0.2784662</td><td>0.2953826</td></tr>\n",
       "\t<tr><th scope=row>Custom STY 1 tl=0 lr=0.0005</th><td>0.5      </td><td>0.8310176</td><td>0.8007972</td><td>0.6855445</td><td>0.8093064</td><td>0.2064366</td><td>0.6855445</td><td>0.2973089</td><td>0.3167262</td></tr>\n",
       "\t<tr><th scope=row>Custom STY 1 tl=0 lr=0.0001</th><td>0.5      </td><td>0.8225759</td><td>0.7403841</td><td>0.7468370</td><td>0.7400286</td><td>0.1728334</td><td>0.7468370</td><td>0.2687882</td><td>0.2800834</td></tr>\n",
       "</tbody>\n",
       "</table>\n"
      ],
      "text/latex": [
       "\\begin{tabular}{r|lllllllll}\n",
       "  & cut & ROC & Acc & Sens & Spec & Prec & Recal & MCC & FMeas\\\\\n",
       "\\hline\n",
       "\tCustom STY 1 & 0.5       & 0.8263210 & 0.7988595 & 0.6681704 & 0.8087247 & 0.2047675 & 0.6681704 & 0.2886493 & 0.3113627\\\\\n",
       "\tCustom STY 1 lr=0.00075 & 0.5       & 0.8216875 & 0.7717383 & 0.7071945 & 0.7766227 & 0.1874095 & 0.7071945 & 0.2784662 & 0.2953826\\\\\n",
       "\tCustom STY 1 tl=0 lr=0.0005 & 0.5       & 0.8310176 & 0.8007972 & 0.6855445 & 0.8093064 & 0.2064366 & 0.6855445 & 0.2973089 & 0.3167262\\\\\n",
       "\tCustom STY 1 tl=0 lr=0.0001 & 0.5       & 0.8225759 & 0.7403841 & 0.7468370 & 0.7400286 & 0.1728334 & 0.7468370 & 0.2687882 & 0.2800834\\\\\n",
       "\\end{tabular}\n"
      ],
      "text/markdown": [
       "\n",
       "| <!--/--> | cut | ROC | Acc | Sens | Spec | Prec | Recal | MCC | FMeas | \n",
       "|---|---|---|---|\n",
       "| Custom STY 1 | 0.5       | 0.8263210 | 0.7988595 | 0.6681704 | 0.8087247 | 0.2047675 | 0.6681704 | 0.2886493 | 0.3113627 | \n",
       "| Custom STY 1 lr=0.00075 | 0.5       | 0.8216875 | 0.7717383 | 0.7071945 | 0.7766227 | 0.1874095 | 0.7071945 | 0.2784662 | 0.2953826 | \n",
       "| Custom STY 1 tl=0 lr=0.0005 | 0.5       | 0.8310176 | 0.8007972 | 0.6855445 | 0.8093064 | 0.2064366 | 0.6855445 | 0.2973089 | 0.3167262 | \n",
       "| Custom STY 1 tl=0 lr=0.0001 | 0.5       | 0.8225759 | 0.7403841 | 0.7468370 | 0.7400286 | 0.1728334 | 0.7468370 | 0.2687882 | 0.2800834 | \n",
       "\n",
       "\n"
      ],
      "text/plain": [
       "                            cut ROC       Acc       Sens      Spec     \n",
       "Custom STY 1                0.5 0.8263210 0.7988595 0.6681704 0.8087247\n",
       "Custom STY 1 lr=0.00075     0.5 0.8216875 0.7717383 0.7071945 0.7766227\n",
       "Custom STY 1 tl=0 lr=0.0005 0.5 0.8310176 0.8007972 0.6855445 0.8093064\n",
       "Custom STY 1 tl=0 lr=0.0001 0.5 0.8225759 0.7403841 0.7468370 0.7400286\n",
       "                            Prec      Recal     MCC       FMeas    \n",
       "Custom STY 1                0.2047675 0.6681704 0.2886493 0.3113627\n",
       "Custom STY 1 lr=0.00075     0.1874095 0.7071945 0.2784662 0.2953826\n",
       "Custom STY 1 tl=0 lr=0.0005 0.2064366 0.6855445 0.2973089 0.3167262\n",
       "Custom STY 1 tl=0 lr=0.0001 0.1728334 0.7468370 0.2687882 0.2800834"
      ]
     },
     "metadata": {},
     "output_type": "display_data"
    },
    {
     "data": {
      "text/html": [
       "<table>\n",
       "<thead><tr><th></th><th scope=col>cut</th><th scope=col>ROC</th><th scope=col>Acc</th><th scope=col>Sens</th><th scope=col>Spec</th><th scope=col>Prec</th><th scope=col>Recal</th><th scope=col>MCC</th><th scope=col>FMeas</th></tr></thead>\n",
       "<tbody>\n",
       "\t<tr><th scope=row>Custom STY 1</th><td>0          </td><td>0.02939644 </td><td>0.029500002</td><td>0.08494603 </td><td>0.03502025 </td><td>0.02891143 </td><td>0.08494603 </td><td>0.03946518 </td><td>0.03425851 </td></tr>\n",
       "\t<tr><th scope=row>Custom STY 1 lr=0.00075</th><td>0          </td><td>0.02782368 </td><td>0.021077152</td><td>0.07774720 </td><td>0.02569073 </td><td>0.01893803 </td><td>0.07774720 </td><td>0.03312665 </td><td>0.02477944 </td></tr>\n",
       "\t<tr><th scope=row>Custom STY 1 tl=0 lr=0.0005</th><td>0          </td><td>0.02875841 </td><td>0.009928408</td><td>0.09362511 </td><td>0.01270257 </td><td>0.02156982 </td><td>0.09362511 </td><td>0.04660939 </td><td>0.03277110 </td></tr>\n",
       "\t<tr><th scope=row>Custom STY 1 tl=0 lr=0.0001</th><td>0          </td><td>0.02775231 </td><td>0.020225819</td><td>0.09889931 </td><td>0.02388347 </td><td>0.02166504 </td><td>0.09889931 </td><td>0.04805319 </td><td>0.03296256 </td></tr>\n",
       "</tbody>\n",
       "</table>\n"
      ],
      "text/latex": [
       "\\begin{tabular}{r|lllllllll}\n",
       "  & cut & ROC & Acc & Sens & Spec & Prec & Recal & MCC & FMeas\\\\\n",
       "\\hline\n",
       "\tCustom STY 1 & 0           & 0.02939644  & 0.029500002 & 0.08494603  & 0.03502025  & 0.02891143  & 0.08494603  & 0.03946518  & 0.03425851 \\\\\n",
       "\tCustom STY 1 lr=0.00075 & 0           & 0.02782368  & 0.021077152 & 0.07774720  & 0.02569073  & 0.01893803  & 0.07774720  & 0.03312665  & 0.02477944 \\\\\n",
       "\tCustom STY 1 tl=0 lr=0.0005 & 0           & 0.02875841  & 0.009928408 & 0.09362511  & 0.01270257  & 0.02156982  & 0.09362511  & 0.04660939  & 0.03277110 \\\\\n",
       "\tCustom STY 1 tl=0 lr=0.0001 & 0           & 0.02775231  & 0.020225819 & 0.09889931  & 0.02388347  & 0.02166504  & 0.09889931  & 0.04805319  & 0.03296256 \\\\\n",
       "\\end{tabular}\n"
      ],
      "text/markdown": [
       "\n",
       "| <!--/--> | cut | ROC | Acc | Sens | Spec | Prec | Recal | MCC | FMeas | \n",
       "|---|---|---|---|\n",
       "| Custom STY 1 | 0           | 0.02939644  | 0.029500002 | 0.08494603  | 0.03502025  | 0.02891143  | 0.08494603  | 0.03946518  | 0.03425851  | \n",
       "| Custom STY 1 lr=0.00075 | 0           | 0.02782368  | 0.021077152 | 0.07774720  | 0.02569073  | 0.01893803  | 0.07774720  | 0.03312665  | 0.02477944  | \n",
       "| Custom STY 1 tl=0 lr=0.0005 | 0           | 0.02875841  | 0.009928408 | 0.09362511  | 0.01270257  | 0.02156982  | 0.09362511  | 0.04660939  | 0.03277110  | \n",
       "| Custom STY 1 tl=0 lr=0.0001 | 0           | 0.02775231  | 0.020225819 | 0.09889931  | 0.02388347  | 0.02166504  | 0.09889931  | 0.04805319  | 0.03296256  | \n",
       "\n",
       "\n"
      ],
      "text/plain": [
       "                            cut ROC        Acc         Sens       Spec      \n",
       "Custom STY 1                0   0.02939644 0.029500002 0.08494603 0.03502025\n",
       "Custom STY 1 lr=0.00075     0   0.02782368 0.021077152 0.07774720 0.02569073\n",
       "Custom STY 1 tl=0 lr=0.0005 0   0.02875841 0.009928408 0.09362511 0.01270257\n",
       "Custom STY 1 tl=0 lr=0.0001 0   0.02775231 0.020225819 0.09889931 0.02388347\n",
       "                            Prec       Recal      MCC        FMeas     \n",
       "Custom STY 1                0.02891143 0.08494603 0.03946518 0.03425851\n",
       "Custom STY 1 lr=0.00075     0.01893803 0.07774720 0.03312665 0.02477944\n",
       "Custom STY 1 tl=0 lr=0.0005 0.02156982 0.09362511 0.04660939 0.03277110\n",
       "Custom STY 1 tl=0 lr=0.0001 0.02166504 0.09889931 0.04805319 0.03296256"
      ]
     },
     "metadata": {},
     "output_type": "display_data"
    }
   ],
   "source": [
    "# Comparing the comparable best obtained values\n",
    "\n",
    "# Mean values\n",
    "rep.hold.mean[c('Custom STY 1', 'Custom STY 1 lr=0.00075', 'Custom STY 1 tl=0 lr=0.0005', \n",
    "                'Custom STY 1 tl=0 lr=0.0001'), ]\n",
    "\n",
    "# Std values\n",
    "rep.hold.std[c('Custom STY 1', 'Custom STY 1 lr=0.00075', 'Custom STY 1 tl=0 lr=0.0005', \n",
    "                'Custom STY 1 tl=0 lr=0.0001'), ]"
   ]
  },
  {
   "cell_type": "markdown",
   "metadata": {},
   "source": [
    "# Using bootstrap strategy"
   ]
  },
  {
   "cell_type": "code",
   "execution_count": 4,
   "metadata": {},
   "outputs": [
    {
     "name": "stderr",
     "output_type": "stream",
     "text": [
      "Type 'citation(\"pROC\")' for a citation.\n",
      "\n",
      "Attaching package: ‘pROC’\n",
      "\n",
      "The following objects are masked from ‘package:stats’:\n",
      "\n",
      "    cov, smooth, var\n",
      "\n",
      "Loading required package: lattice\n",
      "Loading required package: ggplot2\n"
     ]
    }
   ],
   "source": [
    "library(pROC)\n",
    "library(caret)\n",
    "\n",
    "NM_BS <- 100 # Number of boostrap repetitions\n",
    "\n",
    "ACC_ids <- unique(MetOData$ACC)\n",
    "\n",
    "sts <- as.data.frame(matrix(rep(0,9*NM_BS),NM_BS,9))\n",
    "\n",
    "names(sts) <- c(\"cut\", \n",
    "                \"ROC\", \n",
    "                \"Acc\", \n",
    "                \"Sens\", \n",
    "                \"Spec\", \n",
    "                \"Prec\", \n",
    "                \"Recal\", \n",
    "                'MCC', \n",
    "                'FMeas')\n",
    "\n",
    "set.seed(1)\n",
    "train_ids_bs <- createResample(y = ACC_ids, times = NM_BS)"
   ]
  },
  {
   "cell_type": "code",
   "execution_count": 5,
   "metadata": {},
   "outputs": [],
   "source": [
    "# To compare all obtained results using bootstrap strategy and all non-positive residues as negative samples\n",
    "r.names <- c('Original', 'Custom ST 5', 'Custom ST 1', 'Custom STY 5', 'Custom STY 1', \n",
    "             'Custom STY 1 lr=0.00075', 'Custom STY 1 tl=0', 'Custom STY 1 tl=0 lr=0.0005', \n",
    "             'Custom STY 1 tl=0 lr=0.0001')\n",
    "bootstrap.mean <- as.data.frame(matrix(rep(0,length(r.names)*9),length(r.names),9))\n",
    "colnames(bootstrap.mean) <- names(sts)\n",
    "rownames(bootstrap.mean) <- r.names\n",
    "bootstrap.std <- bootstrap.mean"
   ]
  },
  {
   "cell_type": "markdown",
   "metadata": {},
   "source": [
    "## Using all methionines\n",
    "\n",
    "### Original pre-trained model\n",
    "\n",
    "We analyse the results obtained using the original general model pre-trained by the authors on general phosphorylation data (S, T residues)."
   ]
  },
  {
   "cell_type": "code",
   "execution_count": 6,
   "metadata": {},
   "outputs": [],
   "source": [
    "for (i in 1:NM_BS){\n",
    "    sts[i,] <- results_analysis_all(train_ids_bs[[i]], MetOData, \n",
    "                                paste0('../../MusiteDeep/metox_custom_general_results_bs_' , i, '.txt_custom.txt'))\n",
    "}"
   ]
  },
  {
   "cell_type": "code",
   "execution_count": 7,
   "metadata": {},
   "outputs": [
    {
     "name": "stdout",
     "output_type": "stream",
     "text": [
      "[1] \"Mean:\"\n",
      "         cut       ROC       Acc      Sens      Spec      Prec     Recal\n",
      "Original 0.5 0.8167461 0.8131794 0.5694906 0.8319853 0.2057306 0.5694906\n",
      "             MCC     FMeas\n",
      "Original 0.25879 0.3006996\n",
      "[1] \"Std:\"\n",
      "         cut        ROC        Acc       Sens       Spec       Prec      Recal\n",
      "Original   0 0.01683816 0.01583924 0.06866944 0.01966009 0.02649056 0.06866944\n",
      "                MCC     FMeas\n",
      "Original 0.03440526 0.0311908\n"
     ]
    }
   ],
   "source": [
    "print('Mean:')\n",
    "bootstrap.mean['Original', ] <- sapply(sts,mean)\n",
    "print(bootstrap.mean['Original', ])\n",
    "\n",
    "print('Std:')\n",
    "bootstrap.std['Original', ] <- sapply(sts,sd)\n",
    "print(bootstrap.std['Original', ])"
   ]
  },
  {
   "cell_type": "markdown",
   "metadata": {},
   "source": [
    "### Custom pre-training\n",
    "\n",
    "We now analyse the results obtained using our custom general model pre-trained on general phosphorylation data."
   ]
  },
  {
   "cell_type": "markdown",
   "metadata": {},
   "source": [
    "#### Residues S, T\n",
    "\n",
    "Using nclass=5:"
   ]
  },
  {
   "cell_type": "code",
   "execution_count": 8,
   "metadata": {},
   "outputs": [],
   "source": [
    "for (i in 1:NM_BS){\n",
    "    sts[i,] <- results_analysis_all(train_ids_bs[[i]], MetOData, \n",
    "                                paste0('results/bs-ST-nclass5/metox_result_custom_general_ST_bs_', \n",
    "                                       i, '_custom.txt'))\n",
    "}"
   ]
  },
  {
   "cell_type": "code",
   "execution_count": 9,
   "metadata": {
    "scrolled": true
   },
   "outputs": [
    {
     "name": "stdout",
     "output_type": "stream",
     "text": [
      "[1] \"Mean:\"\n",
      "            cut       ROC       Acc      Sens      Spec      Prec     Recal\n",
      "Custom ST 5 0.5 0.8119836 0.8080107 0.5681269 0.8265489 0.2002884 0.5681269\n",
      "                 MCC     FMeas\n",
      "Custom ST 5 0.252051 0.2944257\n",
      "[1] \"Std:\"\n",
      "            cut        ROC        Acc       Sens       Spec       Prec\n",
      "Custom ST 5   0 0.01850648 0.01952642 0.07838934 0.02401696 0.02624395\n",
      "                 Recal        MCC      FMeas\n",
      "Custom ST 5 0.07838934 0.03781127 0.03219102\n"
     ]
    }
   ],
   "source": [
    "print('Mean:')\n",
    "bootstrap.mean['Custom ST 5', ] <- sapply(sts,mean)\n",
    "print(bootstrap.mean['Custom ST 5', ])\n",
    "\n",
    "print('Std:')\n",
    "bootstrap.std['Custom ST 5', ] <- sapply(sts,sd)\n",
    "print(bootstrap.std['Custom ST 5', ])"
   ]
  },
  {
   "cell_type": "markdown",
   "metadata": {},
   "source": [
    "Using nclass=1:"
   ]
  },
  {
   "cell_type": "code",
   "execution_count": 10,
   "metadata": {},
   "outputs": [],
   "source": [
    "for (i in 1:NM_BS){\n",
    "    sts[i,] <- results_analysis_all(train_ids_bs[[i]], MetOData, \n",
    "                                paste0('results/bs-ST-nclass1/metox_result_custom_general_ST_bs_', \n",
    "                                       i, '_custom.txt'))\n",
    "}"
   ]
  },
  {
   "cell_type": "code",
   "execution_count": 11,
   "metadata": {},
   "outputs": [
    {
     "name": "stdout",
     "output_type": "stream",
     "text": [
      "[1] \"Mean:\"\n",
      "            cut       ROC       Acc      Sens      Spec      Prec     Recal\n",
      "Custom ST 1 0.5 0.8096583 0.8071342 0.5661148 0.8257281 0.1996359 0.5661148\n",
      "                  MCC     FMeas\n",
      "Custom ST 1 0.2504159 0.2930297\n",
      "[1] \"Std:\"\n",
      "            cut        ROC        Acc       Sens       Spec       Prec\n",
      "Custom ST 1   0 0.01932459 0.02244731 0.07985223 0.02822247 0.02724271\n",
      "                 Recal        MCC      FMeas\n",
      "Custom ST 1 0.07985223 0.03536851 0.03199599\n"
     ]
    }
   ],
   "source": [
    "print('Mean:')\n",
    "bootstrap.mean['Custom ST 1', ] <- sapply(sts,mean)\n",
    "print(bootstrap.mean['Custom ST 1', ])\n",
    "\n",
    "print('Std:')\n",
    "bootstrap.std['Custom ST 1', ] <- sapply(sts,sd)\n",
    "print(bootstrap.std['Custom ST 1', ])"
   ]
  },
  {
   "cell_type": "markdown",
   "metadata": {},
   "source": [
    "Results seem to be slightly worse than when using the pre-trained model by the authors."
   ]
  },
  {
   "cell_type": "markdown",
   "metadata": {},
   "source": [
    "#### Residues S, T, Y\n",
    "\n",
    "Using nclass=5:"
   ]
  },
  {
   "cell_type": "code",
   "execution_count": 12,
   "metadata": {},
   "outputs": [],
   "source": [
    "for (i in 1:NM_BS){\n",
    "    sts[i,] <- results_analysis_all(train_ids_bs[[i]], MetOData, \n",
    "                                paste0('results/bs-STY-nclass5/metox_result_custom_general_STY_bs_', \n",
    "                                       i, '_custom.txt'))\n",
    "}"
   ]
  },
  {
   "cell_type": "code",
   "execution_count": 13,
   "metadata": {
    "scrolled": true
   },
   "outputs": [
    {
     "name": "stdout",
     "output_type": "stream",
     "text": [
      "[1] \"Mean:\"\n",
      "             cut      ROC       Acc      Sens      Spec      Prec     Recal\n",
      "Custom STY 5 0.5 0.823858 0.8147811 0.6211203 0.8297196 0.2183478 0.6211203\n",
      "                   MCC     FMeas\n",
      "Custom STY 5 0.2878257 0.3215274\n",
      "[1] \"Std:\"\n",
      "             cut        ROC        Acc      Sens       Spec       Prec\n",
      "Custom STY 5   0 0.01710835 0.01846512 0.0687135 0.02231118 0.02686537\n",
      "                 Recal        MCC      FMeas\n",
      "Custom STY 5 0.0687135 0.03411027 0.03148452\n"
     ]
    }
   ],
   "source": [
    "print('Mean:')\n",
    "bootstrap.mean['Custom STY 5', ] <- sapply(sts,mean)\n",
    "print(bootstrap.mean['Custom STY 5', ])\n",
    "\n",
    "print('Std:')\n",
    "bootstrap.std['Custom STY 5', ] <- sapply(sts,sd)\n",
    "print(bootstrap.std['Custom STY 5', ])"
   ]
  },
  {
   "cell_type": "markdown",
   "metadata": {},
   "source": [
    "Using nclass=1:"
   ]
  },
  {
   "cell_type": "code",
   "execution_count": 14,
   "metadata": {},
   "outputs": [],
   "source": [
    "for (i in 1:NM_BS){\n",
    "    sts[i,] <- results_analysis_all(train_ids_bs[[i]], MetOData, \n",
    "                                paste0('results/bs-STY-nclass1/metox_result_custom_general_STY_bs_', \n",
    "                                       i, '_custom.txt'))\n",
    "}"
   ]
  },
  {
   "cell_type": "code",
   "execution_count": 15,
   "metadata": {
    "scrolled": true
   },
   "outputs": [
    {
     "name": "stdout",
     "output_type": "stream",
     "text": [
      "[1] \"Mean:\"\n",
      "             cut      ROC      Acc      Sens      Spec      Prec     Recal\n",
      "Custom STY 1 0.5 0.821741 0.811455 0.6181205 0.8265041 0.2153332 0.6181205\n",
      "                   MCC     FMeas\n",
      "Custom STY 1 0.2828989 0.3170213\n",
      "[1] \"Std:\"\n",
      "             cut        ROC        Acc       Sens       Spec       Prec\n",
      "Custom STY 1   0 0.01698192 0.02474074 0.07850784 0.03039642 0.02931676\n",
      "                  Recal        MCC      FMeas\n",
      "Custom STY 1 0.07850784 0.03415991 0.03266144\n"
     ]
    }
   ],
   "source": [
    "print('Mean:')\n",
    "bootstrap.mean['Custom STY 1', ] <- sapply(sts,mean)\n",
    "print(bootstrap.mean['Custom STY 1', ])\n",
    "\n",
    "print('Std:')\n",
    "bootstrap.std['Custom STY 1', ] <- sapply(sts,sd)\n",
    "print(bootstrap.std['Custom STY 1', ])"
   ]
  },
  {
   "cell_type": "markdown",
   "metadata": {},
   "source": [
    "##### Transfer-leayer and learning-rate\n",
    "\n",
    "Using lr=0.00075:"
   ]
  },
  {
   "cell_type": "code",
   "execution_count": 16,
   "metadata": {},
   "outputs": [],
   "source": [
    "for (i in 1:NM_BS){\n",
    "    sts[i,] <- results_analysis_all(train_ids_bs[[i]], MetOData, \n",
    "                                paste0('lr/results/bs-STY-nclass1-lr00075/metox_result_custom_general_STY_bs_', \n",
    "                                       i, '_custom.txt'))\n",
    "}"
   ]
  },
  {
   "cell_type": "code",
   "execution_count": 17,
   "metadata": {
    "scrolled": true
   },
   "outputs": [
    {
     "name": "stdout",
     "output_type": "stream",
     "text": [
      "[1] \"Mean:\"\n",
      "                        cut       ROC       Acc     Sens      Spec      Prec\n",
      "Custom STY 1 lr=0.00075 0.5 0.8215622 0.7919931 0.663298 0.8019133 0.2045592\n",
      "                           Recal       MCC     FMeas\n",
      "Custom STY 1 lr=0.00075 0.663298 0.2834329 0.3109189\n",
      "[1] \"Std:\"\n",
      "                        cut        ROC        Acc       Sens      Spec\n",
      "Custom STY 1 lr=0.00075   0 0.01770457 0.02503723 0.07830848 0.0310739\n",
      "                              Prec      Recal        MCC      FMeas\n",
      "Custom STY 1 lr=0.00075 0.02387393 0.07830848 0.02953516 0.02806868\n"
     ]
    }
   ],
   "source": [
    "print('Mean:')\n",
    "bootstrap.mean['Custom STY 1 lr=0.00075', ] <- sapply(sts,mean)\n",
    "print(bootstrap.mean['Custom STY 1 lr=0.00075', ])\n",
    "\n",
    "print('Std:')\n",
    "bootstrap.std['Custom STY 1 lr=0.00075', ] <- sapply(sts,sd)\n",
    "print(bootstrap.std['Custom STY 1 lr=0.00075', ])"
   ]
  },
  {
   "cell_type": "markdown",
   "metadata": {},
   "source": [
    "Using lr=0.0005:"
   ]
  },
  {
   "cell_type": "code",
   "execution_count": 18,
   "metadata": {},
   "outputs": [],
   "source": [
    "for (i in 1:NM_BS){\n",
    "    sts[i,] <- results_analysis_all(train_ids_bs[[i]], MetOData, \n",
    "                                paste0('lr/results/bs-STY-nclass1-lr0005/metox_result_custom_general_STY_bs_', \n",
    "                                       i, '_custom.txt'))\n",
    "}"
   ]
  },
  {
   "cell_type": "code",
   "execution_count": 19,
   "metadata": {
    "scrolled": true
   },
   "outputs": [
    {
     "name": "stdout",
     "output_type": "stream",
     "text": [
      "[1] \"Mean:\"\n",
      "                       cut       ROC       Acc      Sens      Spec      Prec\n",
      "Custom STY 1 lr=0.0005 0.5 0.8175415 0.7705082 0.6958088 0.7763157 0.1933803\n",
      "                           Recal       MCC     FMeas\n",
      "Custom STY 1 lr=0.0005 0.6958088 0.2779459 0.3009543\n",
      "[1] \"Std:\"\n",
      "                       cut        ROC        Acc       Sens       Spec\n",
      "Custom STY 1 lr=0.0005   0 0.01789941 0.03083047 0.07548323 0.03710664\n",
      "                             Prec      Recal        MCC      FMeas\n",
      "Custom STY 1 lr=0.0005 0.02562508 0.07548323 0.03081327 0.03103002\n"
     ]
    }
   ],
   "source": [
    "print('Mean:')\n",
    "bootstrap.mean['Custom STY 1 lr=0.0005', ] <- sapply(sts,mean)\n",
    "print(bootstrap.mean['Custom STY 1 lr=0.0005', ])\n",
    "\n",
    "print('Std:')\n",
    "bootstrap.std['Custom STY 1 lr=0.0005', ] <- sapply(sts,sd)\n",
    "print(bootstrap.std['Custom STY 1 lr=0.0005', ])"
   ]
  },
  {
   "cell_type": "markdown",
   "metadata": {},
   "source": [
    "Using lr=0.00025:"
   ]
  },
  {
   "cell_type": "code",
   "execution_count": 20,
   "metadata": {},
   "outputs": [],
   "source": [
    "for (i in 1:NM_BS){\n",
    "    sts[i,] <- results_analysis_all(train_ids_bs[[i]], MetOData, \n",
    "                                paste0('lr/results/bs-STY-nclass1-lr00025/metox_result_custom_general_STY_bs_', \n",
    "                                       i, '_custom.txt'))\n",
    "}"
   ]
  },
  {
   "cell_type": "code",
   "execution_count": 21,
   "metadata": {
    "scrolled": true
   },
   "outputs": [
    {
     "name": "stdout",
     "output_type": "stream",
     "text": [
      "[1] \"Mean:\"\n",
      "                        cut       ROC       Acc      Sens      Spec      Prec\n",
      "Custom STY 1 lr=0.00025 0.5 0.8148501 0.7407289 0.7435491 0.7406638 0.1811301\n",
      "                            Recal      MCC     FMeas\n",
      "Custom STY 1 lr=0.00025 0.7435491 0.273773 0.2897047\n",
      "[1] \"Std:\"\n",
      "                        cut        ROC       Acc      Sens      Spec       Prec\n",
      "Custom STY 1 lr=0.00025   0 0.01929417 0.0371156 0.0801175 0.0439924 0.02424637\n",
      "                            Recal        MCC      FMeas\n",
      "Custom STY 1 lr=0.00025 0.0801175 0.03100639 0.03081278\n"
     ]
    }
   ],
   "source": [
    "print('Mean:')\n",
    "bootstrap.mean['Custom STY 1 lr=0.00025', ] <- sapply(sts,mean)\n",
    "print(bootstrap.mean['Custom STY 1 lr=0.00025', ])\n",
    "\n",
    "print('Std:')\n",
    "bootstrap.std['Custom STY 1 lr=0.00025', ] <- sapply(sts,sd)\n",
    "print(bootstrap.std['Custom STY 1 lr=0.00025', ])"
   ]
  },
  {
   "cell_type": "markdown",
   "metadata": {},
   "source": [
    "Using lr=0.0001:"
   ]
  },
  {
   "cell_type": "code",
   "execution_count": 22,
   "metadata": {},
   "outputs": [],
   "source": [
    "for (i in 1:NM_BS){\n",
    "    sts[i,] <- results_analysis_all(train_ids_bs[[i]], MetOData, \n",
    "                                paste0('lr/results/bs-STY-nclass1-lr0001/metox_result_custom_general_STY_bs_', \n",
    "                                       i, '_custom.txt'))\n",
    "}"
   ]
  },
  {
   "cell_type": "code",
   "execution_count": 23,
   "metadata": {
    "scrolled": true
   },
   "outputs": [
    {
     "name": "stdout",
     "output_type": "stream",
     "text": [
      "[1] \"Mean:\"\n",
      "                       cut       ROC      Acc      Sens      Spec      Prec\n",
      "Custom STY 1 lr=0.0001 0.5 0.8085565 0.725797 0.7415497 0.7244657 0.1727033\n",
      "                           Recal      MCC     FMeas\n",
      "Custom STY 1 lr=0.0001 0.7415497 0.260685 0.2786364\n",
      "[1] \"Std:\"\n",
      "                       cut        ROC        Acc       Sens       Spec\n",
      "Custom STY 1 lr=0.0001   0 0.02036157 0.04537174 0.07622861 0.05300885\n",
      "                             Prec      Recal        MCC      FMeas\n",
      "Custom STY 1 lr=0.0001 0.02330498 0.07622861 0.02920702 0.02896647\n"
     ]
    }
   ],
   "source": [
    "print('Mean:')\n",
    "bootstrap.mean['Custom STY 1 lr=0.0001', ] <- sapply(sts,mean)\n",
    "print(bootstrap.mean['Custom STY 1 lr=0.0001', ])\n",
    "\n",
    "print('Std:')\n",
    "bootstrap.std['Custom STY 1 lr=0.0001', ] <- sapply(sts,sd)\n",
    "print(bootstrap.std['Custom STY 1 lr=0.0001', ])"
   ]
  },
  {
   "cell_type": "markdown",
   "metadata": {},
   "source": [
    "Using lr=0.00001:"
   ]
  },
  {
   "cell_type": "code",
   "execution_count": 24,
   "metadata": {},
   "outputs": [],
   "source": [
    "for (i in 1:NM_BS){\n",
    "    sts[i,] <- results_analysis_all(train_ids_bs[[i]], MetOData, \n",
    "                                paste0('lr/results/bs-STY-nclass1-lr00001/metox_result_custom_general_STY_bs_', \n",
    "                                       i, '_custom.txt'))\n",
    "}"
   ]
  },
  {
   "cell_type": "code",
   "execution_count": 25,
   "metadata": {
    "scrolled": true
   },
   "outputs": [
    {
     "name": "stdout",
     "output_type": "stream",
     "text": [
      "[1] \"Mean:\"\n",
      "                        cut       ROC       Acc      Sens      Spec      Prec\n",
      "Custom STY 1 lr=0.00001 0.5 0.7772251 0.6955417 0.7126995 0.6942678 0.1591298\n",
      "                            Recal       MCC     FMeas\n",
      "Custom STY 1 lr=0.00001 0.7126995 0.2282821 0.2564753\n",
      "[1] \"Std:\"\n",
      "                        cut        ROC       Acc      Sens      Spec      Prec\n",
      "Custom STY 1 lr=0.00001   0 0.04491083 0.0939616 0.1111983 0.1066532 0.0357168\n",
      "                            Recal        MCC      FMeas\n",
      "Custom STY 1 lr=0.00001 0.1111983 0.05188676 0.04562533\n"
     ]
    }
   ],
   "source": [
    "print('Mean:')\n",
    "bootstrap.mean['Custom STY 1 lr=0.00001', ] <- sapply(sts,mean)\n",
    "print(bootstrap.mean['Custom STY 1 lr=0.00001', ])\n",
    "\n",
    "print('Std:')\n",
    "bootstrap.std['Custom STY 1 lr=0.00001', ] <- sapply(sts,sd)\n",
    "print(bootstrap.std['Custom STY 1 lr=0.00001', ])"
   ]
  },
  {
   "cell_type": "markdown",
   "metadata": {},
   "source": [
    "Using lr=0.00125:"
   ]
  },
  {
   "cell_type": "code",
   "execution_count": 26,
   "metadata": {},
   "outputs": [],
   "source": [
    "for (i in 1:NM_BS){\n",
    "    sts[i,] <- results_analysis_all(train_ids_bs[[i]], MetOData, \n",
    "                                paste0('lr/results/bs-STY-nclass1-lr00125/metox_result_custom_general_STY_bs_', \n",
    "                                       i, '_custom.txt'))\n",
    "}"
   ]
  },
  {
   "cell_type": "code",
   "execution_count": 27,
   "metadata": {
    "scrolled": true
   },
   "outputs": [
    {
     "name": "stdout",
     "output_type": "stream",
     "text": [
      "[1] \"Mean:\"\n",
      "                        cut      ROC       Acc      Sens      Spec      Prec\n",
      "Custom STY 1 lr=0.00125 0.5 0.822542 0.8248969 0.5826329 0.8435813 0.2222289\n",
      "                            Recal       MCC     FMeas\n",
      "Custom STY 1 lr=0.00125 0.5826329 0.2805586 0.3195203\n",
      "[1] \"Std:\"\n",
      "                        cut       ROC        Acc      Sens       Spec      Prec\n",
      "Custom STY 1 lr=0.00125   0 0.0181251 0.02065635 0.0815289 0.02577108 0.0289486\n",
      "                            Recal        MCC      FMeas\n",
      "Custom STY 1 lr=0.00125 0.0815289 0.03777695 0.03386123\n"
     ]
    }
   ],
   "source": [
    "print('Mean:')\n",
    "bootstrap.mean['Custom STY 1 lr=0.00125', ] <- sapply(sts,mean)\n",
    "print(bootstrap.mean['Custom STY 1 lr=0.00125', ])\n",
    "\n",
    "print('Std:')\n",
    "bootstrap.std['Custom STY 1 lr=0.00125', ] <- sapply(sts,sd)\n",
    "print(bootstrap.std['Custom STY 1 lr=0.00125', ])"
   ]
  },
  {
   "cell_type": "markdown",
   "metadata": {},
   "source": [
    "Using lr=0.0015:"
   ]
  },
  {
   "cell_type": "code",
   "execution_count": 28,
   "metadata": {},
   "outputs": [],
   "source": [
    "for (i in 1:NM_BS){\n",
    "    sts[i,] <- results_analysis_all(train_ids_bs[[i]], MetOData, \n",
    "                                paste0('lr/results/bs-STY-nclass1-lr0015/metox_result_custom_general_STY_bs_', \n",
    "                                       i, '_custom.txt'))\n",
    "}"
   ]
  },
  {
   "cell_type": "code",
   "execution_count": 29,
   "metadata": {
    "scrolled": true
   },
   "outputs": [
    {
     "name": "stdout",
     "output_type": "stream",
     "text": [
      "[1] \"Mean:\"\n",
      "                       cut       ROC       Acc      Sens     Spec      Prec\n",
      "Custom STY 1 lr=0.0015 0.5 0.8233194 0.8358069 0.5553821 0.857434 0.2301506\n",
      "                           Recal      MCC   FMeas\n",
      "Custom STY 1 lr=0.0015 0.5553821 0.280622 0.32301\n",
      "[1] \"Std:\"\n",
      "                       cut      ROC        Acc       Sens       Spec     Prec\n",
      "Custom STY 1 lr=0.0015   0 0.017538 0.01768958 0.07644864 0.02245847 0.031215\n",
      "                            Recal        MCC      FMeas\n",
      "Custom STY 1 lr=0.0015 0.07644864 0.03804122 0.03474491\n"
     ]
    }
   ],
   "source": [
    "print('Mean:')\n",
    "bootstrap.mean['Custom STY 1 lr=0.0015', ] <- sapply(sts,mean)\n",
    "print(bootstrap.mean['Custom STY 1 lr=0.0015', ])\n",
    "\n",
    "print('Std:')\n",
    "bootstrap.std['Custom STY 1 lr=0.0015', ] <- sapply(sts,sd)\n",
    "print(bootstrap.std['Custom STY 1 lr=0.0015', ])"
   ]
  },
  {
   "cell_type": "markdown",
   "metadata": {},
   "source": [
    "Using transfer-leayer=0:"
   ]
  },
  {
   "cell_type": "code",
   "execution_count": 30,
   "metadata": {},
   "outputs": [],
   "source": [
    "for (i in 1:NM_BS){\n",
    "    sts[i,] <- results_analysis_all(train_ids_bs[[i]], MetOData, \n",
    "                                paste0('transfer-leayer/results/bs-STY-nclass1-tl0/metox_result_custom_general_STY_bs_', \n",
    "                                       i, '_custom.txt'))\n",
    "}"
   ]
  },
  {
   "cell_type": "code",
   "execution_count": 31,
   "metadata": {
    "scrolled": true
   },
   "outputs": [
    {
     "name": "stdout",
     "output_type": "stream",
     "text": [
      "[1] \"Mean:\"\n",
      "                  cut       ROC       Acc      Sens      Spec      Prec\n",
      "Custom STY 1 tl=0 0.5 0.8245398 0.8425331 0.5291196 0.8666904 0.2327569\n",
      "                      Recal       MCC     FMeas\n",
      "Custom STY 1 tl=0 0.5291196 0.2754782 0.3212464\n",
      "[1] \"Std:\"\n",
      "                  cut        ROC        Acc       Sens       Spec       Prec\n",
      "Custom STY 1 tl=0   0 0.01679904 0.01426467 0.07325067 0.01799328 0.03096235\n",
      "                       Recal       MCC      FMeas\n",
      "Custom STY 1 tl=0 0.07325067 0.0389295 0.03513597\n"
     ]
    }
   ],
   "source": [
    "print('Mean:')\n",
    "bootstrap.mean['Custom STY 1 tl=0', ] <- sapply(sts,mean)\n",
    "print(bootstrap.mean['Custom STY 1 tl=0', ])\n",
    "\n",
    "print('Std:')\n",
    "bootstrap.std['Custom STY 1 tl=0', ] <- sapply(sts,sd)\n",
    "print(bootstrap.std['Custom STY 1 tl=0', ])"
   ]
  },
  {
   "cell_type": "markdown",
   "metadata": {},
   "source": [
    "Using transfer-leayer=3:"
   ]
  },
  {
   "cell_type": "code",
   "execution_count": 32,
   "metadata": {},
   "outputs": [],
   "source": [
    "for (i in 1:NM_BS){\n",
    "    sts[i,] <- results_analysis_all(train_ids_bs[[i]], MetOData, \n",
    "                                paste0('transfer-leayer/results/bs-STY-nclass1-tl3/metox_result_custom_general_STY_bs_', \n",
    "                                       i, '_custom.txt'))\n",
    "}"
   ]
  },
  {
   "cell_type": "code",
   "execution_count": 33,
   "metadata": {
    "scrolled": true
   },
   "outputs": [
    {
     "name": "stdout",
     "output_type": "stream",
     "text": [
      "[1] \"Mean:\"\n",
      "                  cut       ROC       Acc      Sens      Spec      Prec\n",
      "Custom STY 1 tl=3 0.5 0.8241034 0.8140322 0.6157164 0.8294244 0.2168887\n",
      "                      Recal      MCC    FMeas\n",
      "Custom STY 1 tl=3 0.6157164 0.284308 0.318709\n",
      "[1] \"Std:\"\n",
      "                  cut        ROC        Acc       Sens      Spec      Prec\n",
      "Custom STY 1 tl=3   0 0.01640292 0.02095216 0.07443567 0.0260794 0.0272632\n",
      "                       Recal        MCC      FMeas\n",
      "Custom STY 1 tl=3 0.07443567 0.03306265 0.03073168\n"
     ]
    }
   ],
   "source": [
    "print('Mean:')\n",
    "bootstrap.mean['Custom STY 1 tl=3', ] <- sapply(sts,mean)\n",
    "print(bootstrap.mean['Custom STY 1 tl=3', ])\n",
    "\n",
    "print('Std:')\n",
    "bootstrap.std['Custom STY 1 tl=3', ] <- sapply(sts,sd)\n",
    "print(bootstrap.std['Custom STY 1 tl=3', ])"
   ]
  },
  {
   "cell_type": "markdown",
   "metadata": {},
   "source": [
    "Using transfer-leayer=5:"
   ]
  },
  {
   "cell_type": "code",
   "execution_count": 34,
   "metadata": {},
   "outputs": [],
   "source": [
    "for (i in 1:NM_BS){\n",
    "    sts[i,] <- results_analysis_all(train_ids_bs[[i]], MetOData, \n",
    "                                paste0('transfer-leayer/results/bs-STY-nclass1-tl5/metox_result_custom_general_STY_bs_', \n",
    "                                       i, '_custom.txt'))\n",
    "}"
   ]
  },
  {
   "cell_type": "code",
   "execution_count": 35,
   "metadata": {
    "scrolled": true
   },
   "outputs": [
    {
     "name": "stdout",
     "output_type": "stream",
     "text": [
      "[1] \"Mean:\"\n",
      "                  cut       ROC       Acc      Sens      Spec      Prec\n",
      "Custom STY 1 tl=5 0.5 0.7988128 0.8012111 0.5978105 0.8169712 0.2003205\n",
      "                      Recal       MCC     FMeas\n",
      "Custom STY 1 tl=5 0.5978105 0.2600943 0.2980977\n",
      "[1] \"Std:\"\n",
      "                  cut       ROC        Acc       Sens       Spec       Prec\n",
      "Custom STY 1 tl=5   0 0.0185209 0.02218515 0.07970201 0.02796135 0.02740479\n",
      "                       Recal        MCC      FMeas\n",
      "Custom STY 1 tl=5 0.07970201 0.03477149 0.03218194\n"
     ]
    }
   ],
   "source": [
    "print('Mean:')\n",
    "bootstrap.mean['Custom STY 1 tl=5', ] <- sapply(sts,mean)\n",
    "print(bootstrap.mean['Custom STY 1 tl=5', ])\n",
    "\n",
    "print('Std:')\n",
    "bootstrap.std['Custom STY 1 tl=5', ] <- sapply(sts,sd)\n",
    "print(bootstrap.std['Custom STY 1 tl=5', ])"
   ]
  },
  {
   "cell_type": "markdown",
   "metadata": {},
   "source": [
    "Using transfer-leayer=0 and lr=0.0005:"
   ]
  },
  {
   "cell_type": "code",
   "execution_count": 36,
   "metadata": {},
   "outputs": [],
   "source": [
    "for (i in 1:NM_BS){\n",
    "    sts[i,] <- results_analysis_all(train_ids_bs[[i]], MetOData, \n",
    "                                paste0('transfer-leayer/results/bs-STY-nclass1-tl0-lr0005/metox_result_custom_general_STY_bs_', \n",
    "                                       i, '_custom.txt'))\n",
    "}"
   ]
  },
  {
   "cell_type": "code",
   "execution_count": 37,
   "metadata": {
    "scrolled": true
   },
   "outputs": [
    {
     "name": "stdout",
     "output_type": "stream",
     "text": [
      "[1] \"Mean:\"\n",
      "                            cut       ROC       Acc      Sens      Spec\n",
      "Custom STY 1 tl=0 lr=0.0005 0.5 0.8251856 0.8061367 0.6260293 0.8200547\n",
      "                                 Prec     Recal       MCC    FMeas\n",
      "Custom STY 1 tl=0 lr=0.0005 0.2104764 0.6260293 0.2801589 0.313467\n",
      "[1] \"Std:\"\n",
      "                            cut        ROC        Acc       Sens       Spec\n",
      "Custom STY 1 tl=0 lr=0.0005   0 0.01642767 0.01912112 0.06733338 0.02318086\n",
      "                                  Prec      Recal        MCC      FMeas\n",
      "Custom STY 1 tl=0 lr=0.0005 0.02713899 0.06733338 0.03390408 0.03209078\n"
     ]
    }
   ],
   "source": [
    "print('Mean:')\n",
    "bootstrap.mean['Custom STY 1 tl=0 lr=0.0005', ] <- sapply(sts,mean)\n",
    "print(bootstrap.mean['Custom STY 1 tl=0 lr=0.0005', ])\n",
    "\n",
    "print('Std:')\n",
    "bootstrap.std['Custom STY 1 tl=0 lr=0.0005', ] <- sapply(sts,sd)\n",
    "print(bootstrap.std['Custom STY 1 tl=0 lr=0.0005', ])"
   ]
  },
  {
   "cell_type": "markdown",
   "metadata": {},
   "source": [
    "Using transfer-leayer=0 and lr=0.00025:"
   ]
  },
  {
   "cell_type": "code",
   "execution_count": 38,
   "metadata": {},
   "outputs": [],
   "source": [
    "for (i in 1:NM_BS){\n",
    "    sts[i,] <- results_analysis_all(train_ids_bs[[i]], MetOData, \n",
    "                                paste0('transfer-leayer/results/bs-STY-nclass1-tl0-lr00025/metox_result_custom_general_STY_bs_', \n",
    "                                       i, '_custom.txt'))\n",
    "}"
   ]
  },
  {
   "cell_type": "code",
   "execution_count": 39,
   "metadata": {
    "scrolled": true
   },
   "outputs": [
    {
     "name": "stdout",
     "output_type": "stream",
     "text": [
      "[1] \"Mean:\"\n",
      "                             cut       ROC       Acc      Sens      Spec\n",
      "Custom STY 1 tl=0 lr=0.00025 0.5 0.8228158 0.7684508 0.6975388 0.7740034\n",
      "                                  Prec     Recal       MCC     FMeas\n",
      "Custom STY 1 tl=0 lr=0.00025 0.1914203 0.6975388 0.2761704 0.2990925\n",
      "[1] \"Std:\"\n",
      "                             cut        ROC        Acc       Sens      Spec\n",
      "Custom STY 1 tl=0 lr=0.00025   0 0.01679816 0.02389941 0.06711807 0.0286949\n",
      "                                   Prec      Recal       MCC      FMeas\n",
      "Custom STY 1 tl=0 lr=0.00025 0.02397143 0.06711807 0.0303832 0.02963839\n"
     ]
    }
   ],
   "source": [
    "print('Mean:')\n",
    "bootstrap.mean['Custom STY 1 tl=0 lr=0.00025', ] <- sapply(sts,mean)\n",
    "print(bootstrap.mean['Custom STY 1 tl=0 lr=0.00025', ])\n",
    "\n",
    "print('Std:')\n",
    "bootstrap.std['Custom STY 1 tl=0 lr=0.00025', ] <- sapply(sts,sd)\n",
    "print(bootstrap.std['Custom STY 1 tl=0 lr=0.00025', ])"
   ]
  },
  {
   "cell_type": "markdown",
   "metadata": {},
   "source": [
    "Using transfer-leayer=0 and lr=0.0001:"
   ]
  },
  {
   "cell_type": "code",
   "execution_count": 40,
   "metadata": {},
   "outputs": [],
   "source": [
    "for (i in 1:NM_BS){\n",
    "    sts[i,] <- results_analysis_all(train_ids_bs[[i]], MetOData, \n",
    "                                paste0('transfer-leayer/results/bs-STY-nclass1-tl0-lr0001/metox_result_custom_general_STY_bs_', \n",
    "                                       i, '_custom.txt'))\n",
    "}"
   ]
  },
  {
   "cell_type": "code",
   "execution_count": 41,
   "metadata": {
    "scrolled": true
   },
   "outputs": [
    {
     "name": "stdout",
     "output_type": "stream",
     "text": [
      "[1] \"Mean:\"\n",
      "                            cut       ROC       Acc     Sens      Spec\n",
      "Custom STY 1 tl=0 lr=0.0001 0.5 0.8190301 0.7371153 0.740624 0.7368269\n",
      "                                 Prec    Recal       MCC     FMeas\n",
      "Custom STY 1 tl=0 lr=0.0001 0.1773612 0.740624 0.2682995 0.2853721\n",
      "[1] \"Std:\"\n",
      "                            cut        ROC       Acc      Sens       Spec\n",
      "Custom STY 1 tl=0 lr=0.0001   0 0.01761196 0.0248662 0.0589903 0.02909663\n",
      "                                  Prec     Recal        MCC      FMeas\n",
      "Custom STY 1 tl=0 lr=0.0001 0.02088535 0.0589903 0.02836937 0.02772461\n"
     ]
    }
   ],
   "source": [
    "print('Mean:')\n",
    "bootstrap.mean['Custom STY 1 tl=0 lr=0.0001', ] <- sapply(sts,mean)\n",
    "print(bootstrap.mean['Custom STY 1 tl=0 lr=0.0001', ])\n",
    "\n",
    "print('Std:')\n",
    "bootstrap.std['Custom STY 1 tl=0 lr=0.0001', ] <- sapply(sts,sd)\n",
    "print(bootstrap.std['Custom STY 1 tl=0 lr=0.0001', ])"
   ]
  },
  {
   "cell_type": "markdown",
   "metadata": {},
   "source": [
    "Using transfer-leayer=3 and lr=0.0005:"
   ]
  },
  {
   "cell_type": "code",
   "execution_count": 42,
   "metadata": {},
   "outputs": [],
   "source": [
    "for (i in 1:NM_BS){\n",
    "    sts[i,] <- results_analysis_all(train_ids_bs[[i]], MetOData, \n",
    "                                paste0('transfer-leayer/results/bs-STY-nclass1-tl3-lr0005/metox_result_custom_general_STY_bs_', \n",
    "                                       i, '_custom.txt'))\n",
    "}"
   ]
  },
  {
   "cell_type": "code",
   "execution_count": 43,
   "metadata": {
    "scrolled": true
   },
   "outputs": [
    {
     "name": "stdout",
     "output_type": "stream",
     "text": [
      "[1] \"Mean:\"\n",
      "                            cut       ROC       Acc      Sens      Spec\n",
      "Custom STY 1 tl=3 lr=0.0005 0.5 0.8198352 0.7697866 0.7062631 0.7747343\n",
      "                                 Prec     Recal       MCC     FMeas\n",
      "Custom STY 1 tl=3 lr=0.0005 0.1940078 0.7062631 0.2818853 0.3029947\n",
      "[1] \"Std:\"\n",
      "                            cut        ROC        Acc       Sens       Spec\n",
      "Custom STY 1 tl=3 lr=0.0005   0 0.01764179 0.02562298 0.07162577 0.03101453\n",
      "                                 Prec      Recal       MCC     FMeas\n",
      "Custom STY 1 tl=3 lr=0.0005 0.0242196 0.07162577 0.0310513 0.0299415\n"
     ]
    }
   ],
   "source": [
    "print('Mean:')\n",
    "bootstrap.mean['Custom STY 1 tl=3 lr=0.0005', ] <- sapply(sts,mean)\n",
    "print(bootstrap.mean['Custom STY 1 tl=3 lr=0.0005', ])\n",
    "\n",
    "print('Std:')\n",
    "bootstrap.std['Custom STY 1 tl=3 lr=0.0005', ] <- sapply(sts,sd)\n",
    "print(bootstrap.std['Custom STY 1 tl=3 lr=0.0005', ])"
   ]
  },
  {
   "cell_type": "markdown",
   "metadata": {},
   "source": [
    "Using transfer-leayer=3 and lr=0.00025:"
   ]
  },
  {
   "cell_type": "code",
   "execution_count": 44,
   "metadata": {},
   "outputs": [],
   "source": [
    "for (i in 1:NM_BS){\n",
    "    sts[i,] <- results_analysis_all(train_ids_bs[[i]], MetOData, \n",
    "                                paste0('transfer-leayer/results/bs-STY-nclass1-tl3-lr00025/metox_result_custom_general_STY_bs_', \n",
    "                                       i, '_custom.txt'))\n",
    "}"
   ]
  },
  {
   "cell_type": "code",
   "execution_count": 45,
   "metadata": {
    "scrolled": true
   },
   "outputs": [
    {
     "name": "stdout",
     "output_type": "stream",
     "text": [
      "[1] \"Mean:\"\n",
      "                             cut       ROC       Acc      Sens    Spec\n",
      "Custom STY 1 tl=3 lr=0.00025 0.5 0.8147823 0.7292627 0.7633252 0.72667\n",
      "                                  Prec     Recal       MCC     FMeas\n",
      "Custom STY 1 tl=3 lr=0.00025 0.1764331 0.7633252 0.2726953 0.2856552\n",
      "[1] \"Std:\"\n",
      "                             cut        ROC        Acc       Sens       Spec\n",
      "Custom STY 1 tl=3 lr=0.00025   0 0.01766212 0.02954489 0.06707871 0.03502221\n",
      "                                   Prec      Recal        MCC      FMeas\n",
      "Custom STY 1 tl=3 lr=0.00025 0.02053478 0.06707871 0.02741737 0.02720495\n"
     ]
    }
   ],
   "source": [
    "print('Mean:')\n",
    "bootstrap.mean['Custom STY 1 tl=3 lr=0.00025', ] <- sapply(sts,mean)\n",
    "print(bootstrap.mean['Custom STY 1 tl=3 lr=0.00025', ])\n",
    "\n",
    "print('Std:')\n",
    "bootstrap.std['Custom STY 1 tl=3 lr=0.00025', ] <- sapply(sts,sd)\n",
    "print(bootstrap.std['Custom STY 1 tl=3 lr=0.00025', ])"
   ]
  },
  {
   "cell_type": "markdown",
   "metadata": {},
   "source": [
    "#### Using all phosphorylation data\n",
    "\n",
    "Using nclass=1 and STY-residues:"
   ]
  },
  {
   "cell_type": "code",
   "execution_count": 46,
   "metadata": {},
   "outputs": [],
   "source": [
    "for (i in 1:NM_BS){\n",
    "    sts[i,] <- results_analysis_all(train_ids_bs[[i]], MetOData, \n",
    "                                paste0('all-phos-data/results/bs-STY-nclass1/metox_result_custom_general_STY_bs_', \n",
    "                                       i, '_custom.txt'))\n",
    "}"
   ]
  },
  {
   "cell_type": "code",
   "execution_count": 47,
   "metadata": {
    "scrolled": true
   },
   "outputs": [
    {
     "name": "stdout",
     "output_type": "stream",
     "text": [
      "[1] \"Mean:\"\n",
      "                 cut       ROC       Acc      Sens      Spec      Prec\n",
      "Custom STY 1 all 0.5 0.8246012 0.8074669 0.6375656 0.8205609 0.2139331\n",
      "                     Recal       MCC     FMeas\n",
      "Custom STY 1 all 0.6375656 0.2875487 0.3187854\n",
      "[1] \"Std:\"\n",
      "                 cut        ROC        Acc       Sens       Spec       Prec\n",
      "Custom STY 1 all   0 0.01743957 0.01928497 0.07592377 0.02360048 0.02810978\n",
      "                      Recal        MCC      FMeas\n",
      "Custom STY 1 all 0.07592377 0.03759002 0.03459311\n"
     ]
    }
   ],
   "source": [
    "row.name <- 'Custom STY 1 all'\n",
    "print('Mean:')\n",
    "bootstrap.mean[row.name, ] <- sapply(sts,mean)\n",
    "print(bootstrap.mean[row.name, ])\n",
    "\n",
    "print('Std:')\n",
    "bootstrap.std[row.name, ] <- sapply(sts,sd)\n",
    "print(bootstrap.std[row.name, ])"
   ]
  },
  {
   "cell_type": "markdown",
   "metadata": {},
   "source": [
    "Using nclass=1 and ST-residues:"
   ]
  },
  {
   "cell_type": "code",
   "execution_count": 48,
   "metadata": {},
   "outputs": [],
   "source": [
    "for (i in 1:NM_BS){\n",
    "    sts[i,] <- results_analysis_all(train_ids_bs[[i]], MetOData, \n",
    "                                paste0('all-phos-data/results/bs-ST-nclass1-lr0.001-tl1/metox_result_custom_general_ST_bs_', \n",
    "                                       i, '_custom.txt'))\n",
    "}"
   ]
  },
  {
   "cell_type": "code",
   "execution_count": 49,
   "metadata": {
    "scrolled": true
   },
   "outputs": [
    {
     "name": "stdout",
     "output_type": "stream",
     "text": [
      "[1] \"Mean:\"\n",
      "                cut       ROC       Acc      Sens      Spec      Prec     Recal\n",
      "Custom ST 1 all 0.5 0.8040518 0.7947688 0.5886838 0.8106672 0.1923297 0.5886838\n",
      "                      MCC    FMeas\n",
      "Custom ST 1 all 0.2481217 0.288178\n",
      "[1] \"Std:\"\n",
      "                cut        ROC        Acc      Sens       Spec       Prec\n",
      "Custom ST 1 all   0 0.02018388 0.02273654 0.0842646 0.02800439 0.02589022\n",
      "                    Recal        MCC      FMeas\n",
      "Custom ST 1 all 0.0842646 0.03818613 0.03214135\n"
     ]
    }
   ],
   "source": [
    "row.name <- 'Custom ST 1 all'\n",
    "print('Mean:')\n",
    "bootstrap.mean[row.name, ] <- sapply(sts,mean)\n",
    "print(bootstrap.mean[row.name, ])\n",
    "\n",
    "print('Std:')\n",
    "bootstrap.std[row.name, ] <- sapply(sts,sd)\n",
    "print(bootstrap.std[row.name, ])"
   ]
  },
  {
   "cell_type": "markdown",
   "metadata": {},
   "source": [
    "##### Transfer-leayer and learning-rate\n",
    "\n",
    "Using lr=0.00075:"
   ]
  },
  {
   "cell_type": "code",
   "execution_count": 50,
   "metadata": {},
   "outputs": [],
   "source": [
    "for (i in 1:NM_BS){\n",
    "    sts[i,] <- results_analysis_all(train_ids_bs[[i]], MetOData, \n",
    "                                paste0('all-phos-data/results/bs-STY-nclass1-lr0.00075-tl1/metox_result_custom_general_STY_bs_', \n",
    "                                       i, '_custom.txt'))\n",
    "}"
   ]
  },
  {
   "cell_type": "code",
   "execution_count": 51,
   "metadata": {
    "scrolled": true
   },
   "outputs": [
    {
     "name": "stdout",
     "output_type": "stream",
     "text": [
      "[1] \"Mean:\"\n",
      "                            cut       ROC       Acc      Sens      Spec\n",
      "Custom STY 1 all lr=0.00075 0.5 0.8234521 0.7913985 0.6730122 0.8005296\n",
      "                                 Prec     Recal       MCC     FMeas\n",
      "Custom STY 1 all lr=0.00075 0.2058185 0.6730122 0.2877254 0.3137791\n",
      "[1] \"Std:\"\n",
      "                            cut       ROC        Acc       Sens       Spec\n",
      "Custom STY 1 all lr=0.00075   0 0.0172962 0.02298818 0.06637465 0.02738629\n",
      "                                  Prec      Recal        MCC      FMeas\n",
      "Custom STY 1 all lr=0.00075 0.02714186 0.06637465 0.03319643 0.03253982\n"
     ]
    }
   ],
   "source": [
    "row.name <- 'Custom STY 1 all lr=0.00075'\n",
    "print('Mean:')\n",
    "bootstrap.mean[row.name, ] <- sapply(sts,mean)\n",
    "print(bootstrap.mean[row.name, ])\n",
    "\n",
    "print('Std:')\n",
    "bootstrap.std[row.name, ] <- sapply(sts,sd)\n",
    "print(bootstrap.std[row.name, ])"
   ]
  },
  {
   "cell_type": "markdown",
   "metadata": {},
   "source": [
    "Using lr=0.0005:"
   ]
  },
  {
   "cell_type": "code",
   "execution_count": 52,
   "metadata": {},
   "outputs": [],
   "source": [
    "for (i in 1:NM_BS){\n",
    "    sts[i,] <- results_analysis_all(train_ids_bs[[i]], MetOData, \n",
    "                                paste0('all-phos-data/results/bs-STY-nclass1-lr0.0005-tl1/metox_result_custom_general_STY_bs_', \n",
    "                                       i, '_custom.txt'))\n",
    "}"
   ]
  },
  {
   "cell_type": "code",
   "execution_count": 53,
   "metadata": {
    "scrolled": true
   },
   "outputs": [
    {
     "name": "stdout",
     "output_type": "stream",
     "text": [
      "[1] \"Mean:\"\n",
      "                           cut       ROC       Acc      Sens      Spec\n",
      "Custom STY 1 all lr=0.0005 0.5 0.8223466 0.7698317 0.7086364 0.7745967\n",
      "                                Prec     Recal       MCC     FMeas\n",
      "Custom STY 1 all lr=0.0005 0.1940997 0.7086364 0.2828418 0.3035736\n",
      "[1] \"Std:\"\n",
      "                           cut        ROC      Acc       Sens       Spec\n",
      "Custom STY 1 all lr=0.0005   0 0.01831664 0.021355 0.06831434 0.02539075\n",
      "                                 Prec      Recal        MCC      FMeas\n",
      "Custom STY 1 all lr=0.0005 0.02473331 0.06831434 0.03366111 0.03159807\n"
     ]
    }
   ],
   "source": [
    "row.name <- 'Custom STY 1 all lr=0.0005'\n",
    "print('Mean:')\n",
    "bootstrap.mean[row.name, ] <- sapply(sts,mean)\n",
    "print(bootstrap.mean[row.name, ])\n",
    "\n",
    "print('Std:')\n",
    "bootstrap.std[row.name, ] <- sapply(sts,sd)\n",
    "print(bootstrap.std[row.name, ])"
   ]
  },
  {
   "cell_type": "markdown",
   "metadata": {},
   "source": [
    "Using lr=0.00025:"
   ]
  },
  {
   "cell_type": "code",
   "execution_count": 54,
   "metadata": {},
   "outputs": [],
   "source": [
    "for (i in 1:NM_BS){\n",
    "    sts[i,] <- results_analysis_all(train_ids_bs[[i]], MetOData, \n",
    "                                paste0('all-phos-data/results/bs-STY-nclass1-lr0.00025-tl1/metox_result_custom_general_STY_bs_', \n",
    "                                       i, '_custom.txt'))\n",
    "}"
   ]
  },
  {
   "cell_type": "code",
   "execution_count": 55,
   "metadata": {
    "scrolled": true
   },
   "outputs": [
    {
     "name": "stdout",
     "output_type": "stream",
     "text": [
      "[1] \"Mean:\"\n",
      "                            cut       ROC       Acc      Sens      Spec\n",
      "Custom STY 1 all lr=0.00025 0.5 0.8187842 0.7386868 0.7595586 0.7370128\n",
      "                                 Prec     Recal       MCC     FMeas\n",
      "Custom STY 1 all lr=0.00025 0.1816369 0.7595586 0.2791884 0.2922204\n",
      "[1] \"Std:\"\n",
      "                            cut        ROC        Acc       Sens       Spec\n",
      "Custom STY 1 all lr=0.00025   0 0.01942725 0.03144187 0.06673926 0.03658192\n",
      "                                  Prec      Recal        MCC      FMeas\n",
      "Custom STY 1 all lr=0.00025 0.02213755 0.06673926 0.03158667 0.02964153\n"
     ]
    }
   ],
   "source": [
    "row.name <- 'Custom STY 1 all lr=0.00025'\n",
    "print('Mean:')\n",
    "bootstrap.mean[row.name, ] <- sapply(sts,mean)\n",
    "print(bootstrap.mean[row.name, ])\n",
    "\n",
    "print('Std:')\n",
    "bootstrap.std[row.name, ] <- sapply(sts,sd)\n",
    "print(bootstrap.std[row.name, ])"
   ]
  },
  {
   "cell_type": "markdown",
   "metadata": {},
   "source": [
    "Using lr=0.00125:"
   ]
  },
  {
   "cell_type": "code",
   "execution_count": 56,
   "metadata": {},
   "outputs": [],
   "source": [
    "for (i in 1:NM_BS){\n",
    "    sts[i,] <- results_analysis_all(train_ids_bs[[i]], MetOData, \n",
    "                                paste0('all-phos-data/results/bs-STY-nclass1-lr0.00125-tl1/metox_result_custom_general_STY_bs_', \n",
    "                                       i, '_custom.txt'))\n",
    "}"
   ]
  },
  {
   "cell_type": "code",
   "execution_count": 57,
   "metadata": {
    "scrolled": true
   },
   "outputs": [
    {
     "name": "stdout",
     "output_type": "stream",
     "text": [
      "[1] \"Mean:\"\n",
      "                            cut       ROC       Acc      Sens      Spec\n",
      "Custom STY 1 all lr=0.00125 0.5 0.8245893 0.8227456 0.5978157 0.8401295\n",
      "                                 Prec     Recal       MCC     FMeas\n",
      "Custom STY 1 all lr=0.00125 0.2232082 0.5978157 0.2859654 0.3227455\n",
      "[1] \"Std:\"\n",
      "                            cut       ROC        Acc       Sens       Spec\n",
      "Custom STY 1 all lr=0.00125   0 0.0182265 0.01983841 0.07835088 0.02494897\n",
      "                                  Prec      Recal        MCC      FMeas\n",
      "Custom STY 1 all lr=0.00125 0.03207858 0.07835088 0.03831837 0.03614759\n"
     ]
    }
   ],
   "source": [
    "row.name <- 'Custom STY 1 all lr=0.00125'\n",
    "print('Mean:')\n",
    "bootstrap.mean[row.name, ] <- sapply(sts,mean)\n",
    "print(bootstrap.mean[row.name, ])\n",
    "\n",
    "print('Std:')\n",
    "bootstrap.std[row.name, ] <- sapply(sts,sd)\n",
    "print(bootstrap.std[row.name, ])"
   ]
  },
  {
   "cell_type": "markdown",
   "metadata": {},
   "source": [
    "Using lr=0.0015:"
   ]
  },
  {
   "cell_type": "code",
   "execution_count": 58,
   "metadata": {},
   "outputs": [],
   "source": [
    "for (i in 1:NM_BS){\n",
    "    sts[i,] <- results_analysis_all(train_ids_bs[[i]], MetOData, \n",
    "                                paste0('all-phos-data/results/bs-STY-nclass1-lr0.0015-tl1/metox_result_custom_general_STY_bs_', \n",
    "                                       i, '_custom.txt'))\n",
    "}"
   ]
  },
  {
   "cell_type": "code",
   "execution_count": 59,
   "metadata": {
    "scrolled": true
   },
   "outputs": [
    {
     "name": "stdout",
     "output_type": "stream",
     "text": [
      "[1] \"Mean:\"\n",
      "                           cut       ROC       Acc      Sens      Spec\n",
      "Custom STY 1 all lr=0.0015 0.5 0.8257222 0.8370374 0.5568165 0.8586624\n",
      "                                Prec     Recal       MCC    FMeas\n",
      "Custom STY 1 all lr=0.0015 0.2319908 0.5568165 0.2829735 0.325066\n",
      "[1] \"Std:\"\n",
      "                           cut        ROC        Acc       Sens       Spec\n",
      "Custom STY 1 all lr=0.0015   0 0.01776466 0.01754049 0.07827298 0.02241656\n",
      "                                 Prec      Recal        MCC      FMeas\n",
      "Custom STY 1 all lr=0.0015 0.03061038 0.07827298 0.03750615 0.03361491\n"
     ]
    }
   ],
   "source": [
    "row.name <- 'Custom STY 1 all lr=0.0015'\n",
    "print('Mean:')\n",
    "bootstrap.mean[row.name, ] <- sapply(sts,mean)\n",
    "print(bootstrap.mean[row.name, ])\n",
    "\n",
    "print('Std:')\n",
    "bootstrap.std[row.name, ] <- sapply(sts,sd)\n",
    "print(bootstrap.std[row.name, ])"
   ]
  },
  {
   "cell_type": "markdown",
   "metadata": {},
   "source": [
    "Using transfer-leayer=0:"
   ]
  },
  {
   "cell_type": "code",
   "execution_count": 60,
   "metadata": {},
   "outputs": [],
   "source": [
    "for (i in 1:NM_BS){\n",
    "    sts[i,] <- results_analysis_all(train_ids_bs[[i]], MetOData, \n",
    "                                paste0('all-phos-data/results/bs-STY-nclass1-lr0.001-tl0/metox_result_custom_general_STY_bs_', \n",
    "                                       i, '_custom.txt'))\n",
    "}"
   ]
  },
  {
   "cell_type": "code",
   "execution_count": 61,
   "metadata": {
    "scrolled": true
   },
   "outputs": [
    {
     "name": "stdout",
     "output_type": "stream",
     "text": [
      "[1] \"Mean:\"\n",
      "                      cut       ROC       Acc      Sens      Spec      Prec\n",
      "Custom STY 1 all tl=0 0.5 0.8250863 0.8423129 0.5249736 0.8667667 0.2315154\n",
      "                          Recal       MCC     FMeas\n",
      "Custom STY 1 all tl=0 0.5249736 0.2729259 0.3192354\n",
      "[1] \"Std:\"\n",
      "                      cut        ROC        Acc       Sens       Spec\n",
      "Custom STY 1 all tl=0   0 0.01772713 0.01356486 0.07176126 0.01733374\n",
      "                            Prec      Recal        MCC      FMeas\n",
      "Custom STY 1 all tl=0 0.03150495 0.07176126 0.03872839 0.03512651\n"
     ]
    }
   ],
   "source": [
    "row.name <- 'Custom STY 1 all tl=0'\n",
    "print('Mean:')\n",
    "bootstrap.mean[row.name, ] <- sapply(sts,mean)\n",
    "print(bootstrap.mean[row.name, ])\n",
    "\n",
    "print('Std:')\n",
    "bootstrap.std[row.name, ] <- sapply(sts,sd)\n",
    "print(bootstrap.std[row.name, ])"
   ]
  },
  {
   "cell_type": "markdown",
   "metadata": {},
   "source": [
    "Using transfer-leayer=3:"
   ]
  },
  {
   "cell_type": "code",
   "execution_count": 62,
   "metadata": {},
   "outputs": [],
   "source": [
    "for (i in 1:NM_BS){\n",
    "    sts[i,] <- results_analysis_all(train_ids_bs[[i]], MetOData, \n",
    "                                paste0('all-phos-data/results/bs-STY-nclass1-lr0.001-tl3/metox_result_custom_general_STY_bs_', \n",
    "                                       i, '_custom.txt'))\n",
    "}"
   ]
  },
  {
   "cell_type": "code",
   "execution_count": 63,
   "metadata": {
    "scrolled": true
   },
   "outputs": [
    {
     "name": "stdout",
     "output_type": "stream",
     "text": [
      "[1] \"Mean:\"\n",
      "                      cut       ROC      Acc      Sens     Spec      Prec\n",
      "Custom STY 1 all tl=3 0.5 0.8249449 0.814032 0.6150379 0.829401 0.2168772\n",
      "                          Recal       MCC     FMeas\n",
      "Custom STY 1 all tl=3 0.6150379 0.2840662 0.3185954\n",
      "[1] \"Std:\"\n",
      "                      cut        ROC        Acc       Sens       Spec    Prec\n",
      "Custom STY 1 all tl=3   0 0.01733322 0.02057429 0.07634665 0.02566744 0.02999\n",
      "                           Recal        MCC      FMeas\n",
      "Custom STY 1 all tl=3 0.07634665 0.03602866 0.03418386\n"
     ]
    }
   ],
   "source": [
    "row.name <- 'Custom STY 1 all tl=3'\n",
    "print('Mean:')\n",
    "bootstrap.mean[row.name, ] <- sapply(sts,mean)\n",
    "print(bootstrap.mean[row.name, ])\n",
    "\n",
    "print('Std:')\n",
    "bootstrap.std[row.name, ] <- sapply(sts,sd)\n",
    "print(bootstrap.std[row.name, ])"
   ]
  },
  {
   "cell_type": "markdown",
   "metadata": {},
   "source": [
    "Using transfer-leayer=5:"
   ]
  },
  {
   "cell_type": "code",
   "execution_count": 64,
   "metadata": {},
   "outputs": [],
   "source": [
    "for (i in 1:NM_BS){\n",
    "    sts[i,] <- results_analysis_all(train_ids_bs[[i]], MetOData, \n",
    "                                paste0('all-phos-data/results/bs-STY-nclass1-lr0.001-tl5/metox_result_custom_general_STY_bs_', \n",
    "                                       i, '_custom.txt'))\n",
    "}"
   ]
  },
  {
   "cell_type": "code",
   "execution_count": 65,
   "metadata": {
    "scrolled": true
   },
   "outputs": [
    {
     "name": "stdout",
     "output_type": "stream",
     "text": [
      "[1] \"Mean:\"\n",
      "                      cut       ROC       Acc      Sens      Spec      Prec\n",
      "Custom STY 1 all tl=5 0.5 0.8045615 0.8031159 0.6016179 0.8187353 0.2036052\n",
      "                          Recal       MCC     FMeas\n",
      "Custom STY 1 all tl=5 0.6016179 0.2646956 0.3020633\n",
      "[1] \"Std:\"\n",
      "                      cut        ROC        Acc       Sens       Spec\n",
      "Custom STY 1 all tl=5   0 0.02037681 0.02553507 0.07873155 0.03094027\n",
      "                            Prec      Recal        MCC     FMeas\n",
      "Custom STY 1 all tl=5 0.02843163 0.07873155 0.03574793 0.0325646\n"
     ]
    }
   ],
   "source": [
    "row.name <- 'Custom STY 1 all tl=5'\n",
    "print('Mean:')\n",
    "bootstrap.mean[row.name, ] <- sapply(sts,mean)\n",
    "print(bootstrap.mean[row.name, ])\n",
    "\n",
    "print('Std:')\n",
    "bootstrap.std[row.name, ] <- sapply(sts,sd)\n",
    "print(bootstrap.std[row.name, ])"
   ]
  },
  {
   "cell_type": "markdown",
   "metadata": {},
   "source": [
    "Using lr=0.00025 and transfer-leayer=0:"
   ]
  },
  {
   "cell_type": "code",
   "execution_count": 66,
   "metadata": {},
   "outputs": [],
   "source": [
    "for (i in 1:NM_BS){\n",
    "    sts[i,] <- results_analysis_all(train_ids_bs[[i]], MetOData, \n",
    "                                paste0('all-phos-data/results/bs-STY-nclass1-lr0.00025-tl0/metox_result_custom_general_STY_bs_', \n",
    "                                       i, '_custom.txt'))\n",
    "}"
   ]
  },
  {
   "cell_type": "code",
   "execution_count": 67,
   "metadata": {
    "scrolled": true
   },
   "outputs": [
    {
     "name": "stdout",
     "output_type": "stream",
     "text": [
      "[1] \"Mean:\"\n",
      "                                 cut       ROC      Acc      Sens      Spec\n",
      "Custom STY 1 all tl=0 lr=0.00025 0.5 0.8259764 0.773412 0.6971422 0.7792468\n",
      "                                      Prec     Recal       MCC     FMeas\n",
      "Custom STY 1 all tl=0 lr=0.00025 0.1951391 0.6971422 0.2810113 0.3037618\n",
      "[1] \"Std:\"\n",
      "                                 cut       ROC        Acc       Sens       Spec\n",
      "Custom STY 1 all tl=0 lr=0.00025   0 0.0168897 0.02281526 0.06479564 0.02672493\n",
      "                                      Prec      Recal        MCC      FMeas\n",
      "Custom STY 1 all tl=0 lr=0.00025 0.0266137 0.06479564 0.03498056 0.03388339\n"
     ]
    }
   ],
   "source": [
    "row.name <- 'Custom STY 1 all tl=0 lr=0.00025'\n",
    "print('Mean:')\n",
    "bootstrap.mean[row.name, ] <- sapply(sts,mean)\n",
    "print(bootstrap.mean[row.name, ])\n",
    "\n",
    "print('Std:')\n",
    "bootstrap.std[row.name, ] <- sapply(sts,sd)\n",
    "print(bootstrap.std[row.name, ])"
   ]
  },
  {
   "cell_type": "markdown",
   "metadata": {},
   "source": [
    "Using lr=0.00025 and transfer-leayer=3:"
   ]
  },
  {
   "cell_type": "code",
   "execution_count": 68,
   "metadata": {},
   "outputs": [],
   "source": [
    "for (i in 1:NM_BS){\n",
    "    sts[i,] <- results_analysis_all(train_ids_bs[[i]], MetOData, \n",
    "                                paste0('all-phos-data/results/bs-STY-nclass1-lr0.00025-tl3/metox_result_custom_general_STY_bs_', \n",
    "                                       i, '_custom.txt'))\n",
    "}"
   ]
  },
  {
   "cell_type": "code",
   "execution_count": 69,
   "metadata": {
    "scrolled": true
   },
   "outputs": [
    {
     "name": "stdout",
     "output_type": "stream",
     "text": [
      "[1] \"Mean:\"\n",
      "                                 cut       ROC       Acc      Sens      Spec\n",
      "Custom STY 1 all tl=3 lr=0.00025 0.5 0.8163936 0.7374361 0.7609788 0.7356937\n",
      "                                      Prec     Recal      MCC     FMeas\n",
      "Custom STY 1 all tl=3 lr=0.00025 0.1807022 0.7609788 0.278376 0.2910938\n",
      "[1] \"Std:\"\n",
      "                                 cut        ROC        Acc       Sens\n",
      "Custom STY 1 all tl=3 lr=0.00025   0 0.01836849 0.02604458 0.06960389\n",
      "                                       Spec       Prec      Recal        MCC\n",
      "Custom STY 1 all tl=3 lr=0.00025 0.03073273 0.02234326 0.06960389 0.03200867\n",
      "                                      FMeas\n",
      "Custom STY 1 all tl=3 lr=0.00025 0.02994433\n"
     ]
    }
   ],
   "source": [
    "row.name <- 'Custom STY 1 all tl=3 lr=0.00025'\n",
    "print('Mean:')\n",
    "bootstrap.mean[row.name, ] <- sapply(sts,mean)\n",
    "print(bootstrap.mean[row.name, ])\n",
    "\n",
    "print('Std:')\n",
    "bootstrap.std[row.name, ] <- sapply(sts,sd)\n",
    "print(bootstrap.std[row.name, ])"
   ]
  },
  {
   "cell_type": "markdown",
   "metadata": {},
   "source": [
    "Using lr=0.0005 and transfer-leayer=0:"
   ]
  },
  {
   "cell_type": "code",
   "execution_count": 70,
   "metadata": {},
   "outputs": [],
   "source": [
    "for (i in 1:NM_BS){\n",
    "    sts[i,] <- results_analysis_all(train_ids_bs[[i]], MetOData, \n",
    "                                paste0('all-phos-data/results/bs-STY-nclass1-lr0.0005-tl0/metox_result_custom_general_STY_bs_', \n",
    "                                       i, '_custom.txt'))\n",
    "}"
   ]
  },
  {
   "cell_type": "code",
   "execution_count": 71,
   "metadata": {
    "scrolled": true
   },
   "outputs": [
    {
     "name": "stdout",
     "output_type": "stream",
     "text": [
      "[1] \"Mean:\"\n",
      "                                cut       ROC       Acc      Sens      Spec\n",
      "Custom STY 1 all tl=0 lr=0.0005 0.5 0.8266711 0.8062029 0.6312281 0.8196592\n",
      "                                     Prec     Recal       MCC     FMeas\n",
      "Custom STY 1 all tl=0 lr=0.0005 0.2113876 0.6312281 0.2828205 0.3151541\n",
      "[1] \"Std:\"\n",
      "                                cut        ROC        Acc       Sens       Spec\n",
      "Custom STY 1 all tl=0 lr=0.0005   0 0.01741502 0.01832176 0.07272588 0.02281644\n",
      "                                      Prec      Recal        MCC      FMeas\n",
      "Custom STY 1 all tl=0 lr=0.0005 0.02798091 0.07272588 0.03655271 0.03426471\n"
     ]
    }
   ],
   "source": [
    "row.name <- 'Custom STY 1 all tl=0 lr=0.0005'\n",
    "print('Mean:')\n",
    "bootstrap.mean[row.name, ] <- sapply(sts,mean)\n",
    "print(bootstrap.mean[row.name, ])\n",
    "\n",
    "print('Std:')\n",
    "bootstrap.std[row.name, ] <- sapply(sts,sd)\n",
    "print(bootstrap.std[row.name, ])"
   ]
  },
  {
   "cell_type": "markdown",
   "metadata": {},
   "source": [
    "Using lr=0.0005 and transfer-leayer=3:"
   ]
  },
  {
   "cell_type": "code",
   "execution_count": 72,
   "metadata": {},
   "outputs": [],
   "source": [
    "for (i in 1:NM_BS){\n",
    "    sts[i,] <- results_analysis_all(train_ids_bs[[i]], MetOData, \n",
    "                                paste0('all-phos-data/results/bs-STY-nclass1-lr0.0005-tl3/metox_result_custom_general_STY_bs_', \n",
    "                                       i, '_custom.txt'))\n",
    "}"
   ]
  },
  {
   "cell_type": "code",
   "execution_count": 73,
   "metadata": {
    "scrolled": true
   },
   "outputs": [
    {
     "name": "stdout",
     "output_type": "stream",
     "text": [
      "[1] \"Mean:\"\n",
      "                                cut       ROC       Acc      Sens      Spec\n",
      "Custom STY 1 all tl=3 lr=0.0005 0.5 0.8211309 0.7738671 0.7054336 0.7792204\n",
      "                                     Prec     Recal       MCC     FMeas\n",
      "Custom STY 1 all tl=3 lr=0.0005 0.1967774 0.7054336 0.2853578 0.3064043\n",
      "[1] \"Std:\"\n",
      "                                cut        ROC        Acc       Sens       Spec\n",
      "Custom STY 1 all tl=3 lr=0.0005   0 0.01779621 0.02439123 0.07251534 0.02903637\n",
      "                                      Prec      Recal       MCC      FMeas\n",
      "Custom STY 1 all tl=3 lr=0.0005 0.02462341 0.07251534 0.0335961 0.03097619\n"
     ]
    }
   ],
   "source": [
    "row.name <- 'Custom STY 1 all tl=3 lr=0.0005'\n",
    "print('Mean:')\n",
    "bootstrap.mean[row.name, ] <- sapply(sts,mean)\n",
    "print(bootstrap.mean[row.name, ])\n",
    "\n",
    "print('Std:')\n",
    "bootstrap.std[row.name, ] <- sapply(sts,sd)\n",
    "print(bootstrap.std[row.name, ])"
   ]
  },
  {
   "cell_type": "markdown",
   "metadata": {},
   "source": [
    "### Final results"
   ]
  },
  {
   "cell_type": "code",
   "execution_count": 74,
   "metadata": {},
   "outputs": [
    {
     "data": {
      "text/html": [
       "<table>\n",
       "<thead><tr><th></th><th scope=col>cut</th><th scope=col>ROC</th><th scope=col>Acc</th><th scope=col>Sens</th><th scope=col>Spec</th><th scope=col>Prec</th><th scope=col>Recal</th><th scope=col>MCC</th><th scope=col>FMeas</th></tr></thead>\n",
       "<tbody>\n",
       "\t<tr><th scope=row>Original</th><td>0.5      </td><td>0.8167461</td><td>0.8131794</td><td>0.5694906</td><td>0.8319853</td><td>0.2057306</td><td>0.5694906</td><td>0.2587900</td><td>0.3006996</td></tr>\n",
       "\t<tr><th scope=row>Custom ST 5</th><td>0.5      </td><td>0.8119836</td><td>0.8080107</td><td>0.5681269</td><td>0.8265489</td><td>0.2002884</td><td>0.5681269</td><td>0.2520510</td><td>0.2944257</td></tr>\n",
       "\t<tr><th scope=row>Custom ST 1</th><td>0.5      </td><td>0.8096583</td><td>0.8071342</td><td>0.5661148</td><td>0.8257281</td><td>0.1996359</td><td>0.5661148</td><td>0.2504159</td><td>0.2930297</td></tr>\n",
       "\t<tr><th scope=row>Custom STY 5</th><td>0.5      </td><td>0.8238580</td><td>0.8147811</td><td>0.6211203</td><td>0.8297196</td><td>0.2183478</td><td>0.6211203</td><td>0.2878257</td><td>0.3215274</td></tr>\n",
       "\t<tr><th scope=row>Custom STY 1</th><td>0.5      </td><td>0.8217410</td><td>0.8114550</td><td>0.6181205</td><td>0.8265041</td><td>0.2153332</td><td>0.6181205</td><td>0.2828989</td><td>0.3170213</td></tr>\n",
       "\t<tr><th scope=row>Custom STY 1 all</th><td>0.5      </td><td>0.8246012</td><td>0.8074669</td><td>0.6375656</td><td>0.8205609</td><td>0.2139331</td><td>0.6375656</td><td>0.2875487</td><td>0.3187854</td></tr>\n",
       "</tbody>\n",
       "</table>\n"
      ],
      "text/latex": [
       "\\begin{tabular}{r|lllllllll}\n",
       "  & cut & ROC & Acc & Sens & Spec & Prec & Recal & MCC & FMeas\\\\\n",
       "\\hline\n",
       "\tOriginal & 0.5       & 0.8167461 & 0.8131794 & 0.5694906 & 0.8319853 & 0.2057306 & 0.5694906 & 0.2587900 & 0.3006996\\\\\n",
       "\tCustom ST 5 & 0.5       & 0.8119836 & 0.8080107 & 0.5681269 & 0.8265489 & 0.2002884 & 0.5681269 & 0.2520510 & 0.2944257\\\\\n",
       "\tCustom ST 1 & 0.5       & 0.8096583 & 0.8071342 & 0.5661148 & 0.8257281 & 0.1996359 & 0.5661148 & 0.2504159 & 0.2930297\\\\\n",
       "\tCustom STY 5 & 0.5       & 0.8238580 & 0.8147811 & 0.6211203 & 0.8297196 & 0.2183478 & 0.6211203 & 0.2878257 & 0.3215274\\\\\n",
       "\tCustom STY 1 & 0.5       & 0.8217410 & 0.8114550 & 0.6181205 & 0.8265041 & 0.2153332 & 0.6181205 & 0.2828989 & 0.3170213\\\\\n",
       "\tCustom STY 1 all & 0.5       & 0.8246012 & 0.8074669 & 0.6375656 & 0.8205609 & 0.2139331 & 0.6375656 & 0.2875487 & 0.3187854\\\\\n",
       "\\end{tabular}\n"
      ],
      "text/markdown": [
       "\n",
       "| <!--/--> | cut | ROC | Acc | Sens | Spec | Prec | Recal | MCC | FMeas | \n",
       "|---|---|---|---|---|---|\n",
       "| Original | 0.5       | 0.8167461 | 0.8131794 | 0.5694906 | 0.8319853 | 0.2057306 | 0.5694906 | 0.2587900 | 0.3006996 | \n",
       "| Custom ST 5 | 0.5       | 0.8119836 | 0.8080107 | 0.5681269 | 0.8265489 | 0.2002884 | 0.5681269 | 0.2520510 | 0.2944257 | \n",
       "| Custom ST 1 | 0.5       | 0.8096583 | 0.8071342 | 0.5661148 | 0.8257281 | 0.1996359 | 0.5661148 | 0.2504159 | 0.2930297 | \n",
       "| Custom STY 5 | 0.5       | 0.8238580 | 0.8147811 | 0.6211203 | 0.8297196 | 0.2183478 | 0.6211203 | 0.2878257 | 0.3215274 | \n",
       "| Custom STY 1 | 0.5       | 0.8217410 | 0.8114550 | 0.6181205 | 0.8265041 | 0.2153332 | 0.6181205 | 0.2828989 | 0.3170213 | \n",
       "| Custom STY 1 all | 0.5       | 0.8246012 | 0.8074669 | 0.6375656 | 0.8205609 | 0.2139331 | 0.6375656 | 0.2875487 | 0.3187854 | \n",
       "\n",
       "\n"
      ],
      "text/plain": [
       "                 cut ROC       Acc       Sens      Spec      Prec     \n",
       "Original         0.5 0.8167461 0.8131794 0.5694906 0.8319853 0.2057306\n",
       "Custom ST 5      0.5 0.8119836 0.8080107 0.5681269 0.8265489 0.2002884\n",
       "Custom ST 1      0.5 0.8096583 0.8071342 0.5661148 0.8257281 0.1996359\n",
       "Custom STY 5     0.5 0.8238580 0.8147811 0.6211203 0.8297196 0.2183478\n",
       "Custom STY 1     0.5 0.8217410 0.8114550 0.6181205 0.8265041 0.2153332\n",
       "Custom STY 1 all 0.5 0.8246012 0.8074669 0.6375656 0.8205609 0.2139331\n",
       "                 Recal     MCC       FMeas    \n",
       "Original         0.5694906 0.2587900 0.3006996\n",
       "Custom ST 5      0.5681269 0.2520510 0.2944257\n",
       "Custom ST 1      0.5661148 0.2504159 0.2930297\n",
       "Custom STY 5     0.6211203 0.2878257 0.3215274\n",
       "Custom STY 1     0.6181205 0.2828989 0.3170213\n",
       "Custom STY 1 all 0.6375656 0.2875487 0.3187854"
      ]
     },
     "metadata": {},
     "output_type": "display_data"
    },
    {
     "data": {
      "text/html": [
       "<table>\n",
       "<thead><tr><th></th><th scope=col>cut</th><th scope=col>ROC</th><th scope=col>Acc</th><th scope=col>Sens</th><th scope=col>Spec</th><th scope=col>Prec</th><th scope=col>Recal</th><th scope=col>MCC</th><th scope=col>FMeas</th></tr></thead>\n",
       "<tbody>\n",
       "\t<tr><th scope=row>Original</th><td>0         </td><td>0.01683816</td><td>0.01583924</td><td>0.06866944</td><td>0.01966009</td><td>0.02649056</td><td>0.06866944</td><td>0.03440526</td><td>0.03119080</td></tr>\n",
       "\t<tr><th scope=row>Custom ST 5</th><td>0         </td><td>0.01850648</td><td>0.01952642</td><td>0.07838934</td><td>0.02401696</td><td>0.02624395</td><td>0.07838934</td><td>0.03781127</td><td>0.03219102</td></tr>\n",
       "\t<tr><th scope=row>Custom ST 1</th><td>0         </td><td>0.01932459</td><td>0.02244731</td><td>0.07985223</td><td>0.02822247</td><td>0.02724271</td><td>0.07985223</td><td>0.03536851</td><td>0.03199599</td></tr>\n",
       "\t<tr><th scope=row>Custom STY 5</th><td>0         </td><td>0.01710835</td><td>0.01846512</td><td>0.06871350</td><td>0.02231118</td><td>0.02686537</td><td>0.06871350</td><td>0.03411027</td><td>0.03148452</td></tr>\n",
       "\t<tr><th scope=row>Custom STY 1</th><td>0         </td><td>0.01698192</td><td>0.02474074</td><td>0.07850784</td><td>0.03039642</td><td>0.02931676</td><td>0.07850784</td><td>0.03415991</td><td>0.03266144</td></tr>\n",
       "\t<tr><th scope=row>Custom STY 1 all</th><td>0         </td><td>0.01743957</td><td>0.01928497</td><td>0.07592377</td><td>0.02360048</td><td>0.02810978</td><td>0.07592377</td><td>0.03759002</td><td>0.03459311</td></tr>\n",
       "</tbody>\n",
       "</table>\n"
      ],
      "text/latex": [
       "\\begin{tabular}{r|lllllllll}\n",
       "  & cut & ROC & Acc & Sens & Spec & Prec & Recal & MCC & FMeas\\\\\n",
       "\\hline\n",
       "\tOriginal & 0          & 0.01683816 & 0.01583924 & 0.06866944 & 0.01966009 & 0.02649056 & 0.06866944 & 0.03440526 & 0.03119080\\\\\n",
       "\tCustom ST 5 & 0          & 0.01850648 & 0.01952642 & 0.07838934 & 0.02401696 & 0.02624395 & 0.07838934 & 0.03781127 & 0.03219102\\\\\n",
       "\tCustom ST 1 & 0          & 0.01932459 & 0.02244731 & 0.07985223 & 0.02822247 & 0.02724271 & 0.07985223 & 0.03536851 & 0.03199599\\\\\n",
       "\tCustom STY 5 & 0          & 0.01710835 & 0.01846512 & 0.06871350 & 0.02231118 & 0.02686537 & 0.06871350 & 0.03411027 & 0.03148452\\\\\n",
       "\tCustom STY 1 & 0          & 0.01698192 & 0.02474074 & 0.07850784 & 0.03039642 & 0.02931676 & 0.07850784 & 0.03415991 & 0.03266144\\\\\n",
       "\tCustom STY 1 all & 0          & 0.01743957 & 0.01928497 & 0.07592377 & 0.02360048 & 0.02810978 & 0.07592377 & 0.03759002 & 0.03459311\\\\\n",
       "\\end{tabular}\n"
      ],
      "text/markdown": [
       "\n",
       "| <!--/--> | cut | ROC | Acc | Sens | Spec | Prec | Recal | MCC | FMeas | \n",
       "|---|---|---|---|---|---|\n",
       "| Original | 0          | 0.01683816 | 0.01583924 | 0.06866944 | 0.01966009 | 0.02649056 | 0.06866944 | 0.03440526 | 0.03119080 | \n",
       "| Custom ST 5 | 0          | 0.01850648 | 0.01952642 | 0.07838934 | 0.02401696 | 0.02624395 | 0.07838934 | 0.03781127 | 0.03219102 | \n",
       "| Custom ST 1 | 0          | 0.01932459 | 0.02244731 | 0.07985223 | 0.02822247 | 0.02724271 | 0.07985223 | 0.03536851 | 0.03199599 | \n",
       "| Custom STY 5 | 0          | 0.01710835 | 0.01846512 | 0.06871350 | 0.02231118 | 0.02686537 | 0.06871350 | 0.03411027 | 0.03148452 | \n",
       "| Custom STY 1 | 0          | 0.01698192 | 0.02474074 | 0.07850784 | 0.03039642 | 0.02931676 | 0.07850784 | 0.03415991 | 0.03266144 | \n",
       "| Custom STY 1 all | 0          | 0.01743957 | 0.01928497 | 0.07592377 | 0.02360048 | 0.02810978 | 0.07592377 | 0.03759002 | 0.03459311 | \n",
       "\n",
       "\n"
      ],
      "text/plain": [
       "                 cut ROC        Acc        Sens       Spec       Prec      \n",
       "Original         0   0.01683816 0.01583924 0.06866944 0.01966009 0.02649056\n",
       "Custom ST 5      0   0.01850648 0.01952642 0.07838934 0.02401696 0.02624395\n",
       "Custom ST 1      0   0.01932459 0.02244731 0.07985223 0.02822247 0.02724271\n",
       "Custom STY 5     0   0.01710835 0.01846512 0.06871350 0.02231118 0.02686537\n",
       "Custom STY 1     0   0.01698192 0.02474074 0.07850784 0.03039642 0.02931676\n",
       "Custom STY 1 all 0   0.01743957 0.01928497 0.07592377 0.02360048 0.02810978\n",
       "                 Recal      MCC        FMeas     \n",
       "Original         0.06866944 0.03440526 0.03119080\n",
       "Custom ST 5      0.07838934 0.03781127 0.03219102\n",
       "Custom ST 1      0.07985223 0.03536851 0.03199599\n",
       "Custom STY 5     0.06871350 0.03411027 0.03148452\n",
       "Custom STY 1     0.07850784 0.03415991 0.03266144\n",
       "Custom STY 1 all 0.07592377 0.03759002 0.03459311"
      ]
     },
     "metadata": {},
     "output_type": "display_data"
    }
   ],
   "source": [
    "# Compare the results obtained using default values of the learning rate (lr=0.001) and the transfer-leayer (=1)\n",
    "\n",
    "model.names <- c('Original', 'Custom ST 5', 'Custom ST 1', 'Custom STY 5', 'Custom STY 1', 'Custom STY 1 all')\n",
    "\n",
    "# Mean values\n",
    "bootstrap.mean[model.names, ]\n",
    "\n",
    "# Std values\n",
    "bootstrap.std[model.names, ]"
   ]
  },
  {
   "cell_type": "code",
   "execution_count": 75,
   "metadata": {},
   "outputs": [
    {
     "data": {
      "text/html": [
       "<table>\n",
       "<thead><tr><th></th><th scope=col>ROC</th><th scope=col>Acc</th><th scope=col>Sens</th><th scope=col>Spec</th><th scope=col>FMeas</th><th scope=col>MCC</th></tr></thead>\n",
       "<tbody>\n",
       "\t<tr><th scope=row>Custom ST 1</th><td>0.8097 0.0193</td><td>0.8071 0.0224</td><td>0.5661 0.0799</td><td>0.8257 0.0282</td><td>0.293 0.032  </td><td>0.2504 0.0354</td></tr>\n",
       "\t<tr><th scope=row>Custom STY 1</th><td>0.8217 0.017 </td><td>0.8115 0.0247</td><td>0.6181 0.0785</td><td>0.8265 0.0304</td><td>0.317 0.0327 </td><td>0.2829 0.0342</td></tr>\n",
       "</tbody>\n",
       "</table>\n"
      ],
      "text/latex": [
       "\\begin{tabular}{r|llllll}\n",
       "  & ROC & Acc & Sens & Spec & FMeas & MCC\\\\\n",
       "\\hline\n",
       "\tCustom ST 1 & 0.8097 0.0193 & 0.8071 0.0224 & 0.5661 0.0799 & 0.8257 0.0282 & 0.293 0.032   & 0.2504 0.0354\\\\\n",
       "\tCustom STY 1 & 0.8217 0.017  & 0.8115 0.0247 & 0.6181 0.0785 & 0.8265 0.0304 & 0.317 0.0327  & 0.2829 0.0342\\\\\n",
       "\\end{tabular}\n"
      ],
      "text/markdown": [
       "\n",
       "| <!--/--> | ROC | Acc | Sens | Spec | FMeas | MCC | \n",
       "|---|---|\n",
       "| Custom ST 1 | 0.8097 0.0193 | 0.8071 0.0224 | 0.5661 0.0799 | 0.8257 0.0282 | 0.293 0.032   | 0.2504 0.0354 | \n",
       "| Custom STY 1 | 0.8217 0.017  | 0.8115 0.0247 | 0.6181 0.0785 | 0.8265 0.0304 | 0.317 0.0327  | 0.2829 0.0342 | \n",
       "\n",
       "\n"
      ],
      "text/plain": [
       "             ROC           Acc           Sens          Spec         \n",
       "Custom ST 1  0.8097 0.0193 0.8071 0.0224 0.5661 0.0799 0.8257 0.0282\n",
       "Custom STY 1 0.8217 0.017  0.8115 0.0247 0.6181 0.0785 0.8265 0.0304\n",
       "             FMeas        MCC          \n",
       "Custom ST 1  0.293 0.032  0.2504 0.0354\n",
       "Custom STY 1 0.317 0.0327 0.2829 0.0342"
      ]
     },
     "metadata": {},
     "output_type": "display_data"
    }
   ],
   "source": [
    "# To produce the Table results in the paper\n",
    "\n",
    "bm <- bootstrap.mean[c('Custom ST 1', 'Custom STY 1'), c('ROC', 'Acc', 'Sens', 'Spec', 'FMeas', 'MCC')]\n",
    "bd <- bootstrap.std[c('Custom ST 1', 'Custom STY 1'), c('ROC', 'Acc', 'Sens', 'Spec', 'FMeas', 'MCC')]\n",
    "m <- matrix(paste(as.matrix(round(bm, 4)), as.matrix(round(bd, 4))), ncol = ncol(bm), nrow = nrow(bm))\n",
    "rownames(m) <- rownames(bm)\n",
    "colnames(m) <- colnames(bm)\n",
    "m"
   ]
  },
  {
   "cell_type": "code",
   "execution_count": 76,
   "metadata": {},
   "outputs": [
    {
     "data": {
      "text/html": [
       "<table>\n",
       "<thead><tr><th></th><th scope=col>ROC</th><th scope=col>Acc</th><th scope=col>Sens</th><th scope=col>Spec</th><th scope=col>FMeas</th><th scope=col>MCC</th></tr></thead>\n",
       "<tbody>\n",
       "\t<tr><th scope=row>Custom ST 1 all</th><td>0.8041 0.0202</td><td>0.7948 0.0227</td><td>0.5887 0.0843</td><td>0.8107 0.028 </td><td>0.2882 0.0321</td><td>0.2481 0.0382</td></tr>\n",
       "\t<tr><th scope=row>Custom STY 1 all</th><td>0.8246 0.0174</td><td>0.8075 0.0193</td><td>0.6376 0.0759</td><td>0.8206 0.0236</td><td>0.3188 0.0346</td><td>0.2875 0.0376</td></tr>\n",
       "</tbody>\n",
       "</table>\n"
      ],
      "text/latex": [
       "\\begin{tabular}{r|llllll}\n",
       "  & ROC & Acc & Sens & Spec & FMeas & MCC\\\\\n",
       "\\hline\n",
       "\tCustom ST 1 all & 0.8041 0.0202 & 0.7948 0.0227 & 0.5887 0.0843 & 0.8107 0.028  & 0.2882 0.0321 & 0.2481 0.0382\\\\\n",
       "\tCustom STY 1 all & 0.8246 0.0174 & 0.8075 0.0193 & 0.6376 0.0759 & 0.8206 0.0236 & 0.3188 0.0346 & 0.2875 0.0376\\\\\n",
       "\\end{tabular}\n"
      ],
      "text/markdown": [
       "\n",
       "| <!--/--> | ROC | Acc | Sens | Spec | FMeas | MCC | \n",
       "|---|---|\n",
       "| Custom ST 1 all | 0.8041 0.0202 | 0.7948 0.0227 | 0.5887 0.0843 | 0.8107 0.028  | 0.2882 0.0321 | 0.2481 0.0382 | \n",
       "| Custom STY 1 all | 0.8246 0.0174 | 0.8075 0.0193 | 0.6376 0.0759 | 0.8206 0.0236 | 0.3188 0.0346 | 0.2875 0.0376 | \n",
       "\n",
       "\n"
      ],
      "text/plain": [
       "                 ROC           Acc           Sens          Spec         \n",
       "Custom ST 1 all  0.8041 0.0202 0.7948 0.0227 0.5887 0.0843 0.8107 0.028 \n",
       "Custom STY 1 all 0.8246 0.0174 0.8075 0.0193 0.6376 0.0759 0.8206 0.0236\n",
       "                 FMeas         MCC          \n",
       "Custom ST 1 all  0.2882 0.0321 0.2481 0.0382\n",
       "Custom STY 1 all 0.3188 0.0346 0.2875 0.0376"
      ]
     },
     "metadata": {},
     "output_type": "display_data"
    }
   ],
   "source": [
    "# Using all-phos-data: To produce the Table results in the paper\n",
    "\n",
    "residues.name <- c('Custom ST 1 all', 'Custom STY 1 all')\n",
    "metrics.name <- c('ROC', 'Acc', 'Sens', 'Spec', 'FMeas', 'MCC')\n",
    "\n",
    "bm <- bootstrap.mean[residues.name, metrics.name]\n",
    "bd <- bootstrap.std[residues.name, metrics.name]\n",
    "m <- matrix(paste(as.matrix(round(bm, 4)), as.matrix(round(bd, 4))), ncol = ncol(bm), nrow = nrow(bm))\n",
    "rownames(m) <- rownames(bm)\n",
    "colnames(m) <- colnames(bm)\n",
    "m"
   ]
  },
  {
   "cell_type": "code",
   "execution_count": 77,
   "metadata": {},
   "outputs": [
    {
     "data": {
      "text/html": [
       "<table>\n",
       "<thead><tr><th></th><th scope=col>cut</th><th scope=col>ROC</th><th scope=col>Acc</th><th scope=col>Sens</th><th scope=col>Spec</th><th scope=col>Prec</th><th scope=col>Recal</th><th scope=col>MCC</th><th scope=col>FMeas</th></tr></thead>\n",
       "<tbody>\n",
       "\t<tr><th scope=row>Custom STY 1 lr=0.0015</th><td>0.5      </td><td>0.8233194</td><td>0.8358069</td><td>0.5553821</td><td>0.8574340</td><td>0.2301506</td><td>0.5553821</td><td>0.2806220</td><td>0.3230100</td></tr>\n",
       "\t<tr><th scope=row>Custom STY 1 all lr=0.0015</th><td>0.5      </td><td>0.8257222</td><td>0.8370374</td><td>0.5568165</td><td>0.8586624</td><td>0.2319908</td><td>0.5568165</td><td>0.2829735</td><td>0.3250660</td></tr>\n",
       "\t<tr><th scope=row>Custom STY 1 lr=0.00125</th><td>0.5      </td><td>0.8225420</td><td>0.8248969</td><td>0.5826329</td><td>0.8435813</td><td>0.2222289</td><td>0.5826329</td><td>0.2805586</td><td>0.3195203</td></tr>\n",
       "\t<tr><th scope=row>Custom STY 1 all lr=0.00125</th><td>0.5      </td><td>0.8245893</td><td>0.8227456</td><td>0.5978157</td><td>0.8401295</td><td>0.2232082</td><td>0.5978157</td><td>0.2859654</td><td>0.3227455</td></tr>\n",
       "\t<tr><th scope=row>Custom STY 1</th><td>0.5      </td><td>0.8217410</td><td>0.8114550</td><td>0.6181205</td><td>0.8265041</td><td>0.2153332</td><td>0.6181205</td><td>0.2828989</td><td>0.3170213</td></tr>\n",
       "\t<tr><th scope=row>Custom STY 1 all</th><td>0.5      </td><td>0.8246012</td><td>0.8074669</td><td>0.6375656</td><td>0.8205609</td><td>0.2139331</td><td>0.6375656</td><td>0.2875487</td><td>0.3187854</td></tr>\n",
       "\t<tr><th scope=row>Custom STY 1 lr=0.00075</th><td>0.5      </td><td>0.8215622</td><td>0.7919931</td><td>0.6632980</td><td>0.8019133</td><td>0.2045592</td><td>0.6632980</td><td>0.2834329</td><td>0.3109189</td></tr>\n",
       "\t<tr><th scope=row>Custom STY 1 all lr=0.00075</th><td>0.5      </td><td>0.8234521</td><td>0.7913985</td><td>0.6730122</td><td>0.8005296</td><td>0.2058185</td><td>0.6730122</td><td>0.2877254</td><td>0.3137791</td></tr>\n",
       "\t<tr><th scope=row>Custom STY 1 lr=0.0005</th><td>0.5      </td><td>0.8175415</td><td>0.7705082</td><td>0.6958088</td><td>0.7763157</td><td>0.1933803</td><td>0.6958088</td><td>0.2779459</td><td>0.3009543</td></tr>\n",
       "\t<tr><th scope=row>Custom STY 1 all lr=0.0005</th><td>0.5      </td><td>0.8223466</td><td>0.7698317</td><td>0.7086364</td><td>0.7745967</td><td>0.1940997</td><td>0.7086364</td><td>0.2828418</td><td>0.3035736</td></tr>\n",
       "\t<tr><th scope=row>Custom STY 1 lr=0.00025</th><td>0.5      </td><td>0.8148501</td><td>0.7407289</td><td>0.7435491</td><td>0.7406638</td><td>0.1811301</td><td>0.7435491</td><td>0.2737730</td><td>0.2897047</td></tr>\n",
       "\t<tr><th scope=row>Custom STY 1 all lr=0.00025</th><td>0.5      </td><td>0.8187842</td><td>0.7386868</td><td>0.7595586</td><td>0.7370128</td><td>0.1816369</td><td>0.7595586</td><td>0.2791884</td><td>0.2922204</td></tr>\n",
       "\t<tr><th scope=row>Custom STY 1 lr=0.0001</th><td>0.5      </td><td>0.8085565</td><td>0.7257970</td><td>0.7415497</td><td>0.7244657</td><td>0.1727033</td><td>0.7415497</td><td>0.2606850</td><td>0.2786364</td></tr>\n",
       "\t<tr><th scope=row>Custom STY 1 lr=0.00001</th><td>0.5      </td><td>0.7772251</td><td>0.6955417</td><td>0.7126995</td><td>0.6942678</td><td>0.1591298</td><td>0.7126995</td><td>0.2282821</td><td>0.2564753</td></tr>\n",
       "</tbody>\n",
       "</table>\n"
      ],
      "text/latex": [
       "\\begin{tabular}{r|lllllllll}\n",
       "  & cut & ROC & Acc & Sens & Spec & Prec & Recal & MCC & FMeas\\\\\n",
       "\\hline\n",
       "\tCustom STY 1 lr=0.0015 & 0.5       & 0.8233194 & 0.8358069 & 0.5553821 & 0.8574340 & 0.2301506 & 0.5553821 & 0.2806220 & 0.3230100\\\\\n",
       "\tCustom STY 1 all lr=0.0015 & 0.5       & 0.8257222 & 0.8370374 & 0.5568165 & 0.8586624 & 0.2319908 & 0.5568165 & 0.2829735 & 0.3250660\\\\\n",
       "\tCustom STY 1 lr=0.00125 & 0.5       & 0.8225420 & 0.8248969 & 0.5826329 & 0.8435813 & 0.2222289 & 0.5826329 & 0.2805586 & 0.3195203\\\\\n",
       "\tCustom STY 1 all lr=0.00125 & 0.5       & 0.8245893 & 0.8227456 & 0.5978157 & 0.8401295 & 0.2232082 & 0.5978157 & 0.2859654 & 0.3227455\\\\\n",
       "\tCustom STY 1 & 0.5       & 0.8217410 & 0.8114550 & 0.6181205 & 0.8265041 & 0.2153332 & 0.6181205 & 0.2828989 & 0.3170213\\\\\n",
       "\tCustom STY 1 all & 0.5       & 0.8246012 & 0.8074669 & 0.6375656 & 0.8205609 & 0.2139331 & 0.6375656 & 0.2875487 & 0.3187854\\\\\n",
       "\tCustom STY 1 lr=0.00075 & 0.5       & 0.8215622 & 0.7919931 & 0.6632980 & 0.8019133 & 0.2045592 & 0.6632980 & 0.2834329 & 0.3109189\\\\\n",
       "\tCustom STY 1 all lr=0.00075 & 0.5       & 0.8234521 & 0.7913985 & 0.6730122 & 0.8005296 & 0.2058185 & 0.6730122 & 0.2877254 & 0.3137791\\\\\n",
       "\tCustom STY 1 lr=0.0005 & 0.5       & 0.8175415 & 0.7705082 & 0.6958088 & 0.7763157 & 0.1933803 & 0.6958088 & 0.2779459 & 0.3009543\\\\\n",
       "\tCustom STY 1 all lr=0.0005 & 0.5       & 0.8223466 & 0.7698317 & 0.7086364 & 0.7745967 & 0.1940997 & 0.7086364 & 0.2828418 & 0.3035736\\\\\n",
       "\tCustom STY 1 lr=0.00025 & 0.5       & 0.8148501 & 0.7407289 & 0.7435491 & 0.7406638 & 0.1811301 & 0.7435491 & 0.2737730 & 0.2897047\\\\\n",
       "\tCustom STY 1 all lr=0.00025 & 0.5       & 0.8187842 & 0.7386868 & 0.7595586 & 0.7370128 & 0.1816369 & 0.7595586 & 0.2791884 & 0.2922204\\\\\n",
       "\tCustom STY 1 lr=0.0001 & 0.5       & 0.8085565 & 0.7257970 & 0.7415497 & 0.7244657 & 0.1727033 & 0.7415497 & 0.2606850 & 0.2786364\\\\\n",
       "\tCustom STY 1 lr=0.00001 & 0.5       & 0.7772251 & 0.6955417 & 0.7126995 & 0.6942678 & 0.1591298 & 0.7126995 & 0.2282821 & 0.2564753\\\\\n",
       "\\end{tabular}\n"
      ],
      "text/markdown": [
       "\n",
       "| <!--/--> | cut | ROC | Acc | Sens | Spec | Prec | Recal | MCC | FMeas | \n",
       "|---|---|---|---|---|---|---|---|---|---|---|---|---|---|\n",
       "| Custom STY 1 lr=0.0015 | 0.5       | 0.8233194 | 0.8358069 | 0.5553821 | 0.8574340 | 0.2301506 | 0.5553821 | 0.2806220 | 0.3230100 | \n",
       "| Custom STY 1 all lr=0.0015 | 0.5       | 0.8257222 | 0.8370374 | 0.5568165 | 0.8586624 | 0.2319908 | 0.5568165 | 0.2829735 | 0.3250660 | \n",
       "| Custom STY 1 lr=0.00125 | 0.5       | 0.8225420 | 0.8248969 | 0.5826329 | 0.8435813 | 0.2222289 | 0.5826329 | 0.2805586 | 0.3195203 | \n",
       "| Custom STY 1 all lr=0.00125 | 0.5       | 0.8245893 | 0.8227456 | 0.5978157 | 0.8401295 | 0.2232082 | 0.5978157 | 0.2859654 | 0.3227455 | \n",
       "| Custom STY 1 | 0.5       | 0.8217410 | 0.8114550 | 0.6181205 | 0.8265041 | 0.2153332 | 0.6181205 | 0.2828989 | 0.3170213 | \n",
       "| Custom STY 1 all | 0.5       | 0.8246012 | 0.8074669 | 0.6375656 | 0.8205609 | 0.2139331 | 0.6375656 | 0.2875487 | 0.3187854 | \n",
       "| Custom STY 1 lr=0.00075 | 0.5       | 0.8215622 | 0.7919931 | 0.6632980 | 0.8019133 | 0.2045592 | 0.6632980 | 0.2834329 | 0.3109189 | \n",
       "| Custom STY 1 all lr=0.00075 | 0.5       | 0.8234521 | 0.7913985 | 0.6730122 | 0.8005296 | 0.2058185 | 0.6730122 | 0.2877254 | 0.3137791 | \n",
       "| Custom STY 1 lr=0.0005 | 0.5       | 0.8175415 | 0.7705082 | 0.6958088 | 0.7763157 | 0.1933803 | 0.6958088 | 0.2779459 | 0.3009543 | \n",
       "| Custom STY 1 all lr=0.0005 | 0.5       | 0.8223466 | 0.7698317 | 0.7086364 | 0.7745967 | 0.1940997 | 0.7086364 | 0.2828418 | 0.3035736 | \n",
       "| Custom STY 1 lr=0.00025 | 0.5       | 0.8148501 | 0.7407289 | 0.7435491 | 0.7406638 | 0.1811301 | 0.7435491 | 0.2737730 | 0.2897047 | \n",
       "| Custom STY 1 all lr=0.00025 | 0.5       | 0.8187842 | 0.7386868 | 0.7595586 | 0.7370128 | 0.1816369 | 0.7595586 | 0.2791884 | 0.2922204 | \n",
       "| Custom STY 1 lr=0.0001 | 0.5       | 0.8085565 | 0.7257970 | 0.7415497 | 0.7244657 | 0.1727033 | 0.7415497 | 0.2606850 | 0.2786364 | \n",
       "| Custom STY 1 lr=0.00001 | 0.5       | 0.7772251 | 0.6955417 | 0.7126995 | 0.6942678 | 0.1591298 | 0.7126995 | 0.2282821 | 0.2564753 | \n",
       "\n",
       "\n"
      ],
      "text/plain": [
       "                            cut ROC       Acc       Sens      Spec     \n",
       "Custom STY 1 lr=0.0015      0.5 0.8233194 0.8358069 0.5553821 0.8574340\n",
       "Custom STY 1 all lr=0.0015  0.5 0.8257222 0.8370374 0.5568165 0.8586624\n",
       "Custom STY 1 lr=0.00125     0.5 0.8225420 0.8248969 0.5826329 0.8435813\n",
       "Custom STY 1 all lr=0.00125 0.5 0.8245893 0.8227456 0.5978157 0.8401295\n",
       "Custom STY 1                0.5 0.8217410 0.8114550 0.6181205 0.8265041\n",
       "Custom STY 1 all            0.5 0.8246012 0.8074669 0.6375656 0.8205609\n",
       "Custom STY 1 lr=0.00075     0.5 0.8215622 0.7919931 0.6632980 0.8019133\n",
       "Custom STY 1 all lr=0.00075 0.5 0.8234521 0.7913985 0.6730122 0.8005296\n",
       "Custom STY 1 lr=0.0005      0.5 0.8175415 0.7705082 0.6958088 0.7763157\n",
       "Custom STY 1 all lr=0.0005  0.5 0.8223466 0.7698317 0.7086364 0.7745967\n",
       "Custom STY 1 lr=0.00025     0.5 0.8148501 0.7407289 0.7435491 0.7406638\n",
       "Custom STY 1 all lr=0.00025 0.5 0.8187842 0.7386868 0.7595586 0.7370128\n",
       "Custom STY 1 lr=0.0001      0.5 0.8085565 0.7257970 0.7415497 0.7244657\n",
       "Custom STY 1 lr=0.00001     0.5 0.7772251 0.6955417 0.7126995 0.6942678\n",
       "                            Prec      Recal     MCC       FMeas    \n",
       "Custom STY 1 lr=0.0015      0.2301506 0.5553821 0.2806220 0.3230100\n",
       "Custom STY 1 all lr=0.0015  0.2319908 0.5568165 0.2829735 0.3250660\n",
       "Custom STY 1 lr=0.00125     0.2222289 0.5826329 0.2805586 0.3195203\n",
       "Custom STY 1 all lr=0.00125 0.2232082 0.5978157 0.2859654 0.3227455\n",
       "Custom STY 1                0.2153332 0.6181205 0.2828989 0.3170213\n",
       "Custom STY 1 all            0.2139331 0.6375656 0.2875487 0.3187854\n",
       "Custom STY 1 lr=0.00075     0.2045592 0.6632980 0.2834329 0.3109189\n",
       "Custom STY 1 all lr=0.00075 0.2058185 0.6730122 0.2877254 0.3137791\n",
       "Custom STY 1 lr=0.0005      0.1933803 0.6958088 0.2779459 0.3009543\n",
       "Custom STY 1 all lr=0.0005  0.1940997 0.7086364 0.2828418 0.3035736\n",
       "Custom STY 1 lr=0.00025     0.1811301 0.7435491 0.2737730 0.2897047\n",
       "Custom STY 1 all lr=0.00025 0.1816369 0.7595586 0.2791884 0.2922204\n",
       "Custom STY 1 lr=0.0001      0.1727033 0.7415497 0.2606850 0.2786364\n",
       "Custom STY 1 lr=0.00001     0.1591298 0.7126995 0.2282821 0.2564753"
      ]
     },
     "metadata": {},
     "output_type": "display_data"
    },
    {
     "data": {
      "text/html": [
       "<table>\n",
       "<thead><tr><th></th><th scope=col>cut</th><th scope=col>ROC</th><th scope=col>Acc</th><th scope=col>Sens</th><th scope=col>Spec</th><th scope=col>Prec</th><th scope=col>Recal</th><th scope=col>MCC</th><th scope=col>FMeas</th></tr></thead>\n",
       "<tbody>\n",
       "\t<tr><th scope=row>Custom STY 1 lr=0.0015</th><td>0         </td><td>0.01753800</td><td>0.01768958</td><td>0.07644864</td><td>0.02245847</td><td>0.03121500</td><td>0.07644864</td><td>0.03804122</td><td>0.03474491</td></tr>\n",
       "\t<tr><th scope=row>Custom STY 1 all lr=0.0015</th><td>0         </td><td>0.01776466</td><td>0.01754049</td><td>0.07827298</td><td>0.02241656</td><td>0.03061038</td><td>0.07827298</td><td>0.03750615</td><td>0.03361491</td></tr>\n",
       "\t<tr><th scope=row>Custom STY 1 lr=0.00125</th><td>0         </td><td>0.01812510</td><td>0.02065635</td><td>0.08152890</td><td>0.02577108</td><td>0.02894860</td><td>0.08152890</td><td>0.03777695</td><td>0.03386123</td></tr>\n",
       "\t<tr><th scope=row>Custom STY 1 all lr=0.00125</th><td>0         </td><td>0.01822650</td><td>0.01983841</td><td>0.07835088</td><td>0.02494897</td><td>0.03207858</td><td>0.07835088</td><td>0.03831837</td><td>0.03614759</td></tr>\n",
       "\t<tr><th scope=row>Custom STY 1</th><td>0         </td><td>0.01698192</td><td>0.02474074</td><td>0.07850784</td><td>0.03039642</td><td>0.02931676</td><td>0.07850784</td><td>0.03415991</td><td>0.03266144</td></tr>\n",
       "\t<tr><th scope=row>Custom STY 1 all</th><td>0         </td><td>0.01743957</td><td>0.01928497</td><td>0.07592377</td><td>0.02360048</td><td>0.02810978</td><td>0.07592377</td><td>0.03759002</td><td>0.03459311</td></tr>\n",
       "\t<tr><th scope=row>Custom STY 1 lr=0.00075</th><td>0         </td><td>0.01770457</td><td>0.02503723</td><td>0.07830848</td><td>0.03107390</td><td>0.02387393</td><td>0.07830848</td><td>0.02953516</td><td>0.02806868</td></tr>\n",
       "\t<tr><th scope=row>Custom STY 1 all lr=0.00075</th><td>0         </td><td>0.01729620</td><td>0.02298818</td><td>0.06637465</td><td>0.02738629</td><td>0.02714186</td><td>0.06637465</td><td>0.03319643</td><td>0.03253982</td></tr>\n",
       "\t<tr><th scope=row>Custom STY 1 lr=0.0005</th><td>0         </td><td>0.01789941</td><td>0.03083047</td><td>0.07548323</td><td>0.03710664</td><td>0.02562508</td><td>0.07548323</td><td>0.03081327</td><td>0.03103002</td></tr>\n",
       "\t<tr><th scope=row>Custom STY 1 all lr=0.0005</th><td>0         </td><td>0.01831664</td><td>0.02135500</td><td>0.06831434</td><td>0.02539075</td><td>0.02473331</td><td>0.06831434</td><td>0.03366111</td><td>0.03159807</td></tr>\n",
       "\t<tr><th scope=row>Custom STY 1 lr=0.00025</th><td>0         </td><td>0.01929417</td><td>0.03711560</td><td>0.08011750</td><td>0.04399240</td><td>0.02424637</td><td>0.08011750</td><td>0.03100639</td><td>0.03081278</td></tr>\n",
       "\t<tr><th scope=row>Custom STY 1 all lr=0.00025</th><td>0         </td><td>0.01942725</td><td>0.03144187</td><td>0.06673926</td><td>0.03658192</td><td>0.02213755</td><td>0.06673926</td><td>0.03158667</td><td>0.02964153</td></tr>\n",
       "\t<tr><th scope=row>Custom STY 1 lr=0.0001</th><td>0         </td><td>0.02036157</td><td>0.04537174</td><td>0.07622861</td><td>0.05300885</td><td>0.02330498</td><td>0.07622861</td><td>0.02920702</td><td>0.02896647</td></tr>\n",
       "\t<tr><th scope=row>Custom STY 1 lr=0.00001</th><td>0         </td><td>0.04491083</td><td>0.09396160</td><td>0.11119826</td><td>0.10665324</td><td>0.03571680</td><td>0.11119826</td><td>0.05188676</td><td>0.04562533</td></tr>\n",
       "</tbody>\n",
       "</table>\n"
      ],
      "text/latex": [
       "\\begin{tabular}{r|lllllllll}\n",
       "  & cut & ROC & Acc & Sens & Spec & Prec & Recal & MCC & FMeas\\\\\n",
       "\\hline\n",
       "\tCustom STY 1 lr=0.0015 & 0          & 0.01753800 & 0.01768958 & 0.07644864 & 0.02245847 & 0.03121500 & 0.07644864 & 0.03804122 & 0.03474491\\\\\n",
       "\tCustom STY 1 all lr=0.0015 & 0          & 0.01776466 & 0.01754049 & 0.07827298 & 0.02241656 & 0.03061038 & 0.07827298 & 0.03750615 & 0.03361491\\\\\n",
       "\tCustom STY 1 lr=0.00125 & 0          & 0.01812510 & 0.02065635 & 0.08152890 & 0.02577108 & 0.02894860 & 0.08152890 & 0.03777695 & 0.03386123\\\\\n",
       "\tCustom STY 1 all lr=0.00125 & 0          & 0.01822650 & 0.01983841 & 0.07835088 & 0.02494897 & 0.03207858 & 0.07835088 & 0.03831837 & 0.03614759\\\\\n",
       "\tCustom STY 1 & 0          & 0.01698192 & 0.02474074 & 0.07850784 & 0.03039642 & 0.02931676 & 0.07850784 & 0.03415991 & 0.03266144\\\\\n",
       "\tCustom STY 1 all & 0          & 0.01743957 & 0.01928497 & 0.07592377 & 0.02360048 & 0.02810978 & 0.07592377 & 0.03759002 & 0.03459311\\\\\n",
       "\tCustom STY 1 lr=0.00075 & 0          & 0.01770457 & 0.02503723 & 0.07830848 & 0.03107390 & 0.02387393 & 0.07830848 & 0.02953516 & 0.02806868\\\\\n",
       "\tCustom STY 1 all lr=0.00075 & 0          & 0.01729620 & 0.02298818 & 0.06637465 & 0.02738629 & 0.02714186 & 0.06637465 & 0.03319643 & 0.03253982\\\\\n",
       "\tCustom STY 1 lr=0.0005 & 0          & 0.01789941 & 0.03083047 & 0.07548323 & 0.03710664 & 0.02562508 & 0.07548323 & 0.03081327 & 0.03103002\\\\\n",
       "\tCustom STY 1 all lr=0.0005 & 0          & 0.01831664 & 0.02135500 & 0.06831434 & 0.02539075 & 0.02473331 & 0.06831434 & 0.03366111 & 0.03159807\\\\\n",
       "\tCustom STY 1 lr=0.00025 & 0          & 0.01929417 & 0.03711560 & 0.08011750 & 0.04399240 & 0.02424637 & 0.08011750 & 0.03100639 & 0.03081278\\\\\n",
       "\tCustom STY 1 all lr=0.00025 & 0          & 0.01942725 & 0.03144187 & 0.06673926 & 0.03658192 & 0.02213755 & 0.06673926 & 0.03158667 & 0.02964153\\\\\n",
       "\tCustom STY 1 lr=0.0001 & 0          & 0.02036157 & 0.04537174 & 0.07622861 & 0.05300885 & 0.02330498 & 0.07622861 & 0.02920702 & 0.02896647\\\\\n",
       "\tCustom STY 1 lr=0.00001 & 0          & 0.04491083 & 0.09396160 & 0.11119826 & 0.10665324 & 0.03571680 & 0.11119826 & 0.05188676 & 0.04562533\\\\\n",
       "\\end{tabular}\n"
      ],
      "text/markdown": [
       "\n",
       "| <!--/--> | cut | ROC | Acc | Sens | Spec | Prec | Recal | MCC | FMeas | \n",
       "|---|---|---|---|---|---|---|---|---|---|---|---|---|---|\n",
       "| Custom STY 1 lr=0.0015 | 0          | 0.01753800 | 0.01768958 | 0.07644864 | 0.02245847 | 0.03121500 | 0.07644864 | 0.03804122 | 0.03474491 | \n",
       "| Custom STY 1 all lr=0.0015 | 0          | 0.01776466 | 0.01754049 | 0.07827298 | 0.02241656 | 0.03061038 | 0.07827298 | 0.03750615 | 0.03361491 | \n",
       "| Custom STY 1 lr=0.00125 | 0          | 0.01812510 | 0.02065635 | 0.08152890 | 0.02577108 | 0.02894860 | 0.08152890 | 0.03777695 | 0.03386123 | \n",
       "| Custom STY 1 all lr=0.00125 | 0          | 0.01822650 | 0.01983841 | 0.07835088 | 0.02494897 | 0.03207858 | 0.07835088 | 0.03831837 | 0.03614759 | \n",
       "| Custom STY 1 | 0          | 0.01698192 | 0.02474074 | 0.07850784 | 0.03039642 | 0.02931676 | 0.07850784 | 0.03415991 | 0.03266144 | \n",
       "| Custom STY 1 all | 0          | 0.01743957 | 0.01928497 | 0.07592377 | 0.02360048 | 0.02810978 | 0.07592377 | 0.03759002 | 0.03459311 | \n",
       "| Custom STY 1 lr=0.00075 | 0          | 0.01770457 | 0.02503723 | 0.07830848 | 0.03107390 | 0.02387393 | 0.07830848 | 0.02953516 | 0.02806868 | \n",
       "| Custom STY 1 all lr=0.00075 | 0          | 0.01729620 | 0.02298818 | 0.06637465 | 0.02738629 | 0.02714186 | 0.06637465 | 0.03319643 | 0.03253982 | \n",
       "| Custom STY 1 lr=0.0005 | 0          | 0.01789941 | 0.03083047 | 0.07548323 | 0.03710664 | 0.02562508 | 0.07548323 | 0.03081327 | 0.03103002 | \n",
       "| Custom STY 1 all lr=0.0005 | 0          | 0.01831664 | 0.02135500 | 0.06831434 | 0.02539075 | 0.02473331 | 0.06831434 | 0.03366111 | 0.03159807 | \n",
       "| Custom STY 1 lr=0.00025 | 0          | 0.01929417 | 0.03711560 | 0.08011750 | 0.04399240 | 0.02424637 | 0.08011750 | 0.03100639 | 0.03081278 | \n",
       "| Custom STY 1 all lr=0.00025 | 0          | 0.01942725 | 0.03144187 | 0.06673926 | 0.03658192 | 0.02213755 | 0.06673926 | 0.03158667 | 0.02964153 | \n",
       "| Custom STY 1 lr=0.0001 | 0          | 0.02036157 | 0.04537174 | 0.07622861 | 0.05300885 | 0.02330498 | 0.07622861 | 0.02920702 | 0.02896647 | \n",
       "| Custom STY 1 lr=0.00001 | 0          | 0.04491083 | 0.09396160 | 0.11119826 | 0.10665324 | 0.03571680 | 0.11119826 | 0.05188676 | 0.04562533 | \n",
       "\n",
       "\n"
      ],
      "text/plain": [
       "                            cut ROC        Acc        Sens       Spec      \n",
       "Custom STY 1 lr=0.0015      0   0.01753800 0.01768958 0.07644864 0.02245847\n",
       "Custom STY 1 all lr=0.0015  0   0.01776466 0.01754049 0.07827298 0.02241656\n",
       "Custom STY 1 lr=0.00125     0   0.01812510 0.02065635 0.08152890 0.02577108\n",
       "Custom STY 1 all lr=0.00125 0   0.01822650 0.01983841 0.07835088 0.02494897\n",
       "Custom STY 1                0   0.01698192 0.02474074 0.07850784 0.03039642\n",
       "Custom STY 1 all            0   0.01743957 0.01928497 0.07592377 0.02360048\n",
       "Custom STY 1 lr=0.00075     0   0.01770457 0.02503723 0.07830848 0.03107390\n",
       "Custom STY 1 all lr=0.00075 0   0.01729620 0.02298818 0.06637465 0.02738629\n",
       "Custom STY 1 lr=0.0005      0   0.01789941 0.03083047 0.07548323 0.03710664\n",
       "Custom STY 1 all lr=0.0005  0   0.01831664 0.02135500 0.06831434 0.02539075\n",
       "Custom STY 1 lr=0.00025     0   0.01929417 0.03711560 0.08011750 0.04399240\n",
       "Custom STY 1 all lr=0.00025 0   0.01942725 0.03144187 0.06673926 0.03658192\n",
       "Custom STY 1 lr=0.0001      0   0.02036157 0.04537174 0.07622861 0.05300885\n",
       "Custom STY 1 lr=0.00001     0   0.04491083 0.09396160 0.11119826 0.10665324\n",
       "                            Prec       Recal      MCC        FMeas     \n",
       "Custom STY 1 lr=0.0015      0.03121500 0.07644864 0.03804122 0.03474491\n",
       "Custom STY 1 all lr=0.0015  0.03061038 0.07827298 0.03750615 0.03361491\n",
       "Custom STY 1 lr=0.00125     0.02894860 0.08152890 0.03777695 0.03386123\n",
       "Custom STY 1 all lr=0.00125 0.03207858 0.07835088 0.03831837 0.03614759\n",
       "Custom STY 1                0.02931676 0.07850784 0.03415991 0.03266144\n",
       "Custom STY 1 all            0.02810978 0.07592377 0.03759002 0.03459311\n",
       "Custom STY 1 lr=0.00075     0.02387393 0.07830848 0.02953516 0.02806868\n",
       "Custom STY 1 all lr=0.00075 0.02714186 0.06637465 0.03319643 0.03253982\n",
       "Custom STY 1 lr=0.0005      0.02562508 0.07548323 0.03081327 0.03103002\n",
       "Custom STY 1 all lr=0.0005  0.02473331 0.06831434 0.03366111 0.03159807\n",
       "Custom STY 1 lr=0.00025     0.02424637 0.08011750 0.03100639 0.03081278\n",
       "Custom STY 1 all lr=0.00025 0.02213755 0.06673926 0.03158667 0.02964153\n",
       "Custom STY 1 lr=0.0001      0.02330498 0.07622861 0.02920702 0.02896647\n",
       "Custom STY 1 lr=0.00001     0.03571680 0.11119826 0.05188676 0.04562533"
      ]
     },
     "metadata": {},
     "output_type": "display_data"
    }
   ],
   "source": [
    "# Compare the results obtained using different values of learning-rate\n",
    "\n",
    "lr.names <- c('Custom STY 1 lr=0.0015', 'Custom STY 1 all lr=0.0015', 'Custom STY 1 lr=0.00125', \n",
    "              'Custom STY 1 all lr=0.00125', 'Custom STY 1', 'Custom STY 1 all', 'Custom STY 1 lr=0.00075', \n",
    "              'Custom STY 1 all lr=0.00075', 'Custom STY 1 lr=0.0005', 'Custom STY 1 all lr=0.0005', \n",
    "              'Custom STY 1 lr=0.00025', 'Custom STY 1 all lr=0.00025', 'Custom STY 1 lr=0.0001', \n",
    "              'Custom STY 1 lr=0.00001')\n",
    "\n",
    "# Mean values\n",
    "bootstrap.mean[lr.names, ]\n",
    "\n",
    "# Std values\n",
    "bootstrap.std[lr.names, ]"
   ]
  },
  {
   "cell_type": "code",
   "execution_count": 78,
   "metadata": {},
   "outputs": [
    {
     "data": {
      "text/html": [
       "<table>\n",
       "<thead><tr><th></th><th scope=col>ROC</th><th scope=col>Acc</th><th scope=col>Sens</th><th scope=col>Spec</th><th scope=col>FMeas</th><th scope=col>MCC</th></tr></thead>\n",
       "<tbody>\n",
       "\t<tr><th scope=row>Custom STY 1 lr=0.00001</th><td>0.7772 0.0449</td><td>0.6955 0.094 </td><td>0.7127 0.1112</td><td>0.6943 0.1067</td><td>0.2565 0.0456</td><td>0.2283 0.0519</td></tr>\n",
       "\t<tr><th scope=row>Custom STY 1 lr=0.0001</th><td>0.8086 0.0204</td><td>0.7258 0.0454</td><td>0.7415 0.0762</td><td>0.7245 0.053 </td><td>0.2786 0.029 </td><td>0.2607 0.0292</td></tr>\n",
       "\t<tr><th scope=row>Custom STY 1 lr=0.00025</th><td>0.8149 0.0193</td><td>0.7407 0.0371</td><td>0.7435 0.0801</td><td>0.7407 0.044 </td><td>0.2897 0.0308</td><td>0.2738 0.031 </td></tr>\n",
       "\t<tr><th scope=row>Custom STY 1 lr=0.0005</th><td>0.8175 0.0179</td><td>0.7705 0.0308</td><td>0.6958 0.0755</td><td>0.7763 0.0371</td><td>0.301 0.031  </td><td>0.2779 0.0308</td></tr>\n",
       "\t<tr><th scope=row>Custom STY 1 lr=0.00075</th><td>0.8216 0.0177</td><td>0.792 0.025  </td><td>0.6633 0.0783</td><td>0.8019 0.0311</td><td>0.3109 0.0281</td><td>0.2834 0.0295</td></tr>\n",
       "\t<tr><th scope=row>Custom STY 1</th><td>0.8217 0.017 </td><td>0.8115 0.0247</td><td>0.6181 0.0785</td><td>0.8265 0.0304</td><td>0.317 0.0327 </td><td>0.2829 0.0342</td></tr>\n",
       "\t<tr><th scope=row>Custom STY 1 lr=0.00125</th><td>0.8225 0.0181</td><td>0.8249 0.0207</td><td>0.5826 0.0815</td><td>0.8436 0.0258</td><td>0.3195 0.0339</td><td>0.2806 0.0378</td></tr>\n",
       "\t<tr><th scope=row>Custom STY 1 lr=0.0015</th><td>0.8233 0.0175</td><td>0.8358 0.0177</td><td>0.5554 0.0764</td><td>0.8574 0.0225</td><td>0.323 0.0347 </td><td>0.2806 0.038 </td></tr>\n",
       "</tbody>\n",
       "</table>\n"
      ],
      "text/latex": [
       "\\begin{tabular}{r|llllll}\n",
       "  & ROC & Acc & Sens & Spec & FMeas & MCC\\\\\n",
       "\\hline\n",
       "\tCustom STY 1 lr=0.00001 & 0.7772 0.0449 & 0.6955 0.094  & 0.7127 0.1112 & 0.6943 0.1067 & 0.2565 0.0456 & 0.2283 0.0519\\\\\n",
       "\tCustom STY 1 lr=0.0001 & 0.8086 0.0204 & 0.7258 0.0454 & 0.7415 0.0762 & 0.7245 0.053  & 0.2786 0.029  & 0.2607 0.0292\\\\\n",
       "\tCustom STY 1 lr=0.00025 & 0.8149 0.0193 & 0.7407 0.0371 & 0.7435 0.0801 & 0.7407 0.044  & 0.2897 0.0308 & 0.2738 0.031 \\\\\n",
       "\tCustom STY 1 lr=0.0005 & 0.8175 0.0179 & 0.7705 0.0308 & 0.6958 0.0755 & 0.7763 0.0371 & 0.301 0.031   & 0.2779 0.0308\\\\\n",
       "\tCustom STY 1 lr=0.00075 & 0.8216 0.0177 & 0.792 0.025   & 0.6633 0.0783 & 0.8019 0.0311 & 0.3109 0.0281 & 0.2834 0.0295\\\\\n",
       "\tCustom STY 1 & 0.8217 0.017  & 0.8115 0.0247 & 0.6181 0.0785 & 0.8265 0.0304 & 0.317 0.0327  & 0.2829 0.0342\\\\\n",
       "\tCustom STY 1 lr=0.00125 & 0.8225 0.0181 & 0.8249 0.0207 & 0.5826 0.0815 & 0.8436 0.0258 & 0.3195 0.0339 & 0.2806 0.0378\\\\\n",
       "\tCustom STY 1 lr=0.0015 & 0.8233 0.0175 & 0.8358 0.0177 & 0.5554 0.0764 & 0.8574 0.0225 & 0.323 0.0347  & 0.2806 0.038 \\\\\n",
       "\\end{tabular}\n"
      ],
      "text/markdown": [
       "\n",
       "| <!--/--> | ROC | Acc | Sens | Spec | FMeas | MCC | \n",
       "|---|---|---|---|---|---|---|---|\n",
       "| Custom STY 1 lr=0.00001 | 0.7772 0.0449 | 0.6955 0.094  | 0.7127 0.1112 | 0.6943 0.1067 | 0.2565 0.0456 | 0.2283 0.0519 | \n",
       "| Custom STY 1 lr=0.0001 | 0.8086 0.0204 | 0.7258 0.0454 | 0.7415 0.0762 | 0.7245 0.053  | 0.2786 0.029  | 0.2607 0.0292 | \n",
       "| Custom STY 1 lr=0.00025 | 0.8149 0.0193 | 0.7407 0.0371 | 0.7435 0.0801 | 0.7407 0.044  | 0.2897 0.0308 | 0.2738 0.031  | \n",
       "| Custom STY 1 lr=0.0005 | 0.8175 0.0179 | 0.7705 0.0308 | 0.6958 0.0755 | 0.7763 0.0371 | 0.301 0.031   | 0.2779 0.0308 | \n",
       "| Custom STY 1 lr=0.00075 | 0.8216 0.0177 | 0.792 0.025   | 0.6633 0.0783 | 0.8019 0.0311 | 0.3109 0.0281 | 0.2834 0.0295 | \n",
       "| Custom STY 1 | 0.8217 0.017  | 0.8115 0.0247 | 0.6181 0.0785 | 0.8265 0.0304 | 0.317 0.0327  | 0.2829 0.0342 | \n",
       "| Custom STY 1 lr=0.00125 | 0.8225 0.0181 | 0.8249 0.0207 | 0.5826 0.0815 | 0.8436 0.0258 | 0.3195 0.0339 | 0.2806 0.0378 | \n",
       "| Custom STY 1 lr=0.0015 | 0.8233 0.0175 | 0.8358 0.0177 | 0.5554 0.0764 | 0.8574 0.0225 | 0.323 0.0347  | 0.2806 0.038  | \n",
       "\n",
       "\n"
      ],
      "text/plain": [
       "                        ROC           Acc           Sens          Spec         \n",
       "Custom STY 1 lr=0.00001 0.7772 0.0449 0.6955 0.094  0.7127 0.1112 0.6943 0.1067\n",
       "Custom STY 1 lr=0.0001  0.8086 0.0204 0.7258 0.0454 0.7415 0.0762 0.7245 0.053 \n",
       "Custom STY 1 lr=0.00025 0.8149 0.0193 0.7407 0.0371 0.7435 0.0801 0.7407 0.044 \n",
       "Custom STY 1 lr=0.0005  0.8175 0.0179 0.7705 0.0308 0.6958 0.0755 0.7763 0.0371\n",
       "Custom STY 1 lr=0.00075 0.8216 0.0177 0.792 0.025   0.6633 0.0783 0.8019 0.0311\n",
       "Custom STY 1            0.8217 0.017  0.8115 0.0247 0.6181 0.0785 0.8265 0.0304\n",
       "Custom STY 1 lr=0.00125 0.8225 0.0181 0.8249 0.0207 0.5826 0.0815 0.8436 0.0258\n",
       "Custom STY 1 lr=0.0015  0.8233 0.0175 0.8358 0.0177 0.5554 0.0764 0.8574 0.0225\n",
       "                        FMeas         MCC          \n",
       "Custom STY 1 lr=0.00001 0.2565 0.0456 0.2283 0.0519\n",
       "Custom STY 1 lr=0.0001  0.2786 0.029  0.2607 0.0292\n",
       "Custom STY 1 lr=0.00025 0.2897 0.0308 0.2738 0.031 \n",
       "Custom STY 1 lr=0.0005  0.301 0.031   0.2779 0.0308\n",
       "Custom STY 1 lr=0.00075 0.3109 0.0281 0.2834 0.0295\n",
       "Custom STY 1            0.317 0.0327  0.2829 0.0342\n",
       "Custom STY 1 lr=0.00125 0.3195 0.0339 0.2806 0.0378\n",
       "Custom STY 1 lr=0.0015  0.323 0.0347  0.2806 0.038 "
      ]
     },
     "metadata": {},
     "output_type": "display_data"
    }
   ],
   "source": [
    "# To produce the Table results in the paper\n",
    "\n",
    "bm <- bootstrap.mean[c('Custom STY 1 lr=0.00001', 'Custom STY 1 lr=0.0001', 'Custom STY 1 lr=0.00025', \n",
    "                       'Custom STY 1 lr=0.0005', 'Custom STY 1 lr=0.00075', 'Custom STY 1', \n",
    "                       'Custom STY 1 lr=0.00125', 'Custom STY 1 lr=0.0015'), \n",
    "                     c('ROC', 'Acc', 'Sens', 'Spec', 'FMeas', 'MCC')]\n",
    "bd <- bootstrap.std[c('Custom STY 1 lr=0.00001', 'Custom STY 1 lr=0.0001', 'Custom STY 1 lr=0.00025', \n",
    "                      'Custom STY 1 lr=0.0005', 'Custom STY 1 lr=0.00075', 'Custom STY 1', \n",
    "                      'Custom STY 1 lr=0.00125', 'Custom STY 1 lr=0.0015'), \n",
    "                    c('ROC', 'Acc', 'Sens', 'Spec', 'FMeas', 'MCC')]\n",
    "m <- matrix(paste(as.matrix(round(bm, 4)), as.matrix(round(bd, 4))), ncol = ncol(bm), nrow = nrow(bm))\n",
    "rownames(m) <- rownames(bm)\n",
    "colnames(m) <- colnames(bm)\n",
    "m"
   ]
  },
  {
   "cell_type": "code",
   "execution_count": 79,
   "metadata": {},
   "outputs": [
    {
     "data": {
      "text/html": [
       "<table>\n",
       "<thead><tr><th></th><th scope=col>ROC</th><th scope=col>Acc</th><th scope=col>Sens</th><th scope=col>Spec</th><th scope=col>FMeas</th><th scope=col>MCC</th></tr></thead>\n",
       "<tbody>\n",
       "\t<tr><th scope=row>Custom STY 1 all lr=0.00025</th><td>0.8188 0.0194</td><td>0.7387 0.0314</td><td>0.7596 0.0667</td><td>0.737 0.0366 </td><td>0.2922 0.0296</td><td>0.2792 0.0316</td></tr>\n",
       "\t<tr><th scope=row>Custom STY 1 all lr=0.0005</th><td>0.8223 0.0183</td><td>0.7698 0.0214</td><td>0.7086 0.0683</td><td>0.7746 0.0254</td><td>0.3036 0.0316</td><td>0.2828 0.0337</td></tr>\n",
       "\t<tr><th scope=row>Custom STY 1 all lr=0.00075</th><td>0.8235 0.0173</td><td>0.7914 0.023 </td><td>0.673 0.0664 </td><td>0.8005 0.0274</td><td>0.3138 0.0325</td><td>0.2877 0.0332</td></tr>\n",
       "\t<tr><th scope=row>Custom STY 1 all</th><td>0.8246 0.0174</td><td>0.8075 0.0193</td><td>0.6376 0.0759</td><td>0.8206 0.0236</td><td>0.3188 0.0346</td><td>0.2875 0.0376</td></tr>\n",
       "\t<tr><th scope=row>Custom STY 1 all lr=0.00125</th><td>0.8246 0.0182</td><td>0.8227 0.0198</td><td>0.5978 0.0784</td><td>0.8401 0.0249</td><td>0.3227 0.0361</td><td>0.286 0.0383 </td></tr>\n",
       "\t<tr><th scope=row>Custom STY 1 all lr=0.0015</th><td>0.8257 0.0178</td><td>0.837 0.0175 </td><td>0.5568 0.0783</td><td>0.8587 0.0224</td><td>0.3251 0.0336</td><td>0.283 0.0375 </td></tr>\n",
       "</tbody>\n",
       "</table>\n"
      ],
      "text/latex": [
       "\\begin{tabular}{r|llllll}\n",
       "  & ROC & Acc & Sens & Spec & FMeas & MCC\\\\\n",
       "\\hline\n",
       "\tCustom STY 1 all lr=0.00025 & 0.8188 0.0194 & 0.7387 0.0314 & 0.7596 0.0667 & 0.737 0.0366  & 0.2922 0.0296 & 0.2792 0.0316\\\\\n",
       "\tCustom STY 1 all lr=0.0005 & 0.8223 0.0183 & 0.7698 0.0214 & 0.7086 0.0683 & 0.7746 0.0254 & 0.3036 0.0316 & 0.2828 0.0337\\\\\n",
       "\tCustom STY 1 all lr=0.00075 & 0.8235 0.0173 & 0.7914 0.023  & 0.673 0.0664  & 0.8005 0.0274 & 0.3138 0.0325 & 0.2877 0.0332\\\\\n",
       "\tCustom STY 1 all & 0.8246 0.0174 & 0.8075 0.0193 & 0.6376 0.0759 & 0.8206 0.0236 & 0.3188 0.0346 & 0.2875 0.0376\\\\\n",
       "\tCustom STY 1 all lr=0.00125 & 0.8246 0.0182 & 0.8227 0.0198 & 0.5978 0.0784 & 0.8401 0.0249 & 0.3227 0.0361 & 0.286 0.0383 \\\\\n",
       "\tCustom STY 1 all lr=0.0015 & 0.8257 0.0178 & 0.837 0.0175  & 0.5568 0.0783 & 0.8587 0.0224 & 0.3251 0.0336 & 0.283 0.0375 \\\\\n",
       "\\end{tabular}\n"
      ],
      "text/markdown": [
       "\n",
       "| <!--/--> | ROC | Acc | Sens | Spec | FMeas | MCC | \n",
       "|---|---|---|---|---|---|\n",
       "| Custom STY 1 all lr=0.00025 | 0.8188 0.0194 | 0.7387 0.0314 | 0.7596 0.0667 | 0.737 0.0366  | 0.2922 0.0296 | 0.2792 0.0316 | \n",
       "| Custom STY 1 all lr=0.0005 | 0.8223 0.0183 | 0.7698 0.0214 | 0.7086 0.0683 | 0.7746 0.0254 | 0.3036 0.0316 | 0.2828 0.0337 | \n",
       "| Custom STY 1 all lr=0.00075 | 0.8235 0.0173 | 0.7914 0.023  | 0.673 0.0664  | 0.8005 0.0274 | 0.3138 0.0325 | 0.2877 0.0332 | \n",
       "| Custom STY 1 all | 0.8246 0.0174 | 0.8075 0.0193 | 0.6376 0.0759 | 0.8206 0.0236 | 0.3188 0.0346 | 0.2875 0.0376 | \n",
       "| Custom STY 1 all lr=0.00125 | 0.8246 0.0182 | 0.8227 0.0198 | 0.5978 0.0784 | 0.8401 0.0249 | 0.3227 0.0361 | 0.286 0.0383  | \n",
       "| Custom STY 1 all lr=0.0015 | 0.8257 0.0178 | 0.837 0.0175  | 0.5568 0.0783 | 0.8587 0.0224 | 0.3251 0.0336 | 0.283 0.0375  | \n",
       "\n",
       "\n"
      ],
      "text/plain": [
       "                            ROC           Acc           Sens         \n",
       "Custom STY 1 all lr=0.00025 0.8188 0.0194 0.7387 0.0314 0.7596 0.0667\n",
       "Custom STY 1 all lr=0.0005  0.8223 0.0183 0.7698 0.0214 0.7086 0.0683\n",
       "Custom STY 1 all lr=0.00075 0.8235 0.0173 0.7914 0.023  0.673 0.0664 \n",
       "Custom STY 1 all            0.8246 0.0174 0.8075 0.0193 0.6376 0.0759\n",
       "Custom STY 1 all lr=0.00125 0.8246 0.0182 0.8227 0.0198 0.5978 0.0784\n",
       "Custom STY 1 all lr=0.0015  0.8257 0.0178 0.837 0.0175  0.5568 0.0783\n",
       "                            Spec          FMeas         MCC          \n",
       "Custom STY 1 all lr=0.00025 0.737 0.0366  0.2922 0.0296 0.2792 0.0316\n",
       "Custom STY 1 all lr=0.0005  0.7746 0.0254 0.3036 0.0316 0.2828 0.0337\n",
       "Custom STY 1 all lr=0.00075 0.8005 0.0274 0.3138 0.0325 0.2877 0.0332\n",
       "Custom STY 1 all            0.8206 0.0236 0.3188 0.0346 0.2875 0.0376\n",
       "Custom STY 1 all lr=0.00125 0.8401 0.0249 0.3227 0.0361 0.286 0.0383 \n",
       "Custom STY 1 all lr=0.0015  0.8587 0.0224 0.3251 0.0336 0.283 0.0375 "
      ]
     },
     "metadata": {},
     "output_type": "display_data"
    }
   ],
   "source": [
    "# Using all-phos-data: To produce the Table results in the paper\n",
    "\n",
    "lr.names <- c('Custom STY 1 all lr=0.00025', 'Custom STY 1 all lr=0.0005', 'Custom STY 1 all lr=0.00075', \n",
    "              'Custom STY 1 all', 'Custom STY 1 all lr=0.00125', 'Custom STY 1 all lr=0.0015')\n",
    "\n",
    "metric.names <- c('ROC', 'Acc', 'Sens', 'Spec', 'FMeas', 'MCC')\n",
    "\n",
    "bm <- bootstrap.mean[lr.names, metric.names]\n",
    "bd <- bootstrap.std[lr.names, metric.names]\n",
    "\n",
    "m <- matrix(paste(as.matrix(round(bm, 4)), as.matrix(round(bd, 4))), ncol = ncol(bm), nrow = nrow(bm))\n",
    "rownames(m) <- rownames(bm)\n",
    "colnames(m) <- colnames(bm)\n",
    "m"
   ]
  },
  {
   "cell_type": "code",
   "execution_count": 80,
   "metadata": {},
   "outputs": [],
   "source": [
    "# Using ggplot\n",
    "\n",
    "library(\"ggplot2\")\n",
    "library(\"tidyr\")\n",
    "\n",
    "# You only have to name your vectors as :\n",
    "# 'lr' for learning rate \n",
    "# 'sensitivity' for sensitivity mean\n",
    "# 'dt_sens' for sensitivity standard deviation\n",
    "# 'specificity' for specificity mean\n",
    "# 'dt_sp' for specificity standard deviation\n",
    "\n",
    "\n",
    "lr <- seq(from = 0.00025, to = 0.0015, by = 0.00025)\n",
    "\n",
    "model.config <- c('Custom STY 1 lr=0.00025', 'Custom STY 1 lr=0.0005', 'Custom STY 1 lr=0.00075', \n",
    "                  'Custom STY 1', 'Custom STY 1 lr=0.00125', 'Custom STY 1 lr=0.0015')\n",
    "\n",
    "dt.mean <- bootstrap.mean[model.config, ]\n",
    "\n",
    "dt.std <- bootstrap.std[model.config, ]\n",
    "\n",
    "AUC <- dt.mean[, 'ROC']\n",
    "dt_auc <- dt.std[, 'ROC']\n",
    "\n",
    "Sensitivity <- dt.mean[, 'Sens']\n",
    "dt_sens <- dt.std[, 'Sens']\n",
    "\n",
    "Specificity <- dt.mean[, 'Spec']\n",
    "dt_sp <- dt.std[, 'Spec']\n",
    "\n",
    "to_plot_wide <- data.frame(lr, AUC, Sensitivity, Specificity)\n",
    "to_plot_large <- gather(to_plot_wide, Measure, measure_mean,\n",
    "                        AUC:Specificity)\n",
    "to_plot_large$dt <- c(dt_auc, dt_sens, dt_sp)"
   ]
  },
  {
   "cell_type": "code",
   "execution_count": 84,
   "metadata": {},
   "outputs": [
    {
     "data": {},
     "metadata": {},
     "output_type": "display_data"
    },
    {
     "data": {
      "image/png": "[encoded data removed]",
      "text/plain": [
       "plot without title"
      ]
     },
     "metadata": {},
     "output_type": "display_data"
    }
   ],
   "source": [
    "# Continuous plot\n",
    "\n",
    "ggplot(to_plot_large, aes(lr, measure_mean,  group = Measure,  color = Measure)) +\n",
    "  geom_line() + \n",
    "  geom_ribbon(aes(ymin=measure_mean-dt, ymax=measure_mean+dt, fill=Measure),\n",
    "              linetype=\"blank\",\n",
    "              alpha=0.3) +\n",
    "  geom_point() +\n",
    "  scale_fill_manual(values=c(\"darkgreen\", \"navyblue\", \"red\")) + # change shadow color here \n",
    "  scale_colour_manual(values=c(\"darkgreen\", \"navyblue\", \"red\")) + # change line color here\n",
    "  labs(x = \"Learning Rate\", y = \"Model Performance\") +\n",
    "  theme(axis.title = element_text(size=15),\n",
    "        axis.text = element_text(size=11),\n",
    "        legend.title=element_text(size=15),\n",
    "        legend.text=element_text(size=13)) +\n",
    "  scale_x_continuous(labels = function(x) gsub(',', '.', sprintf(\"%.5f\", x)), \n",
    "      limits = c(lr[1], lr[length(lr)]), breaks = lr) +\n",
    "  scale_y_continuous(labels = function(x) gsub(',', '.', x))"
   ]
  },
  {
   "cell_type": "code",
   "execution_count": 127,
   "metadata": {},
   "outputs": [
    {
     "data": {},
     "metadata": {},
     "output_type": "display_data"
    },
    {
     "data": {
      "image/png": "[encoded data removed]",
      "text/plain": [
       "plot without title"
      ]
     },
     "metadata": {},
     "output_type": "display_data"
    }
   ],
   "source": [
    "# Barplot\n",
    "\n",
    "ggplot(to_plot_large, aes(factor(lr), measure_mean,  fill = Measure,  color = Measure)) +\n",
    "  geom_bar(stat=\"identity\", position=position_dodge(), \n",
    "           colour=\"black\", size=.3) +\n",
    "  geom_errorbar(aes(ymin=measure_mean-dt, ymax=measure_mean+dt),\n",
    "                size=.3, width=.2, colour=\"black\",\n",
    "                position=position_dodge(.9)) +\n",
    "  scale_fill_manual(values=c(\"darkgreen\", \"navyblue\", \"red\")) + # change shadow color here \n",
    "  scale_colour_manual(values=c(\"darkgreen\", \"navyblue\", \"red\")) + # change line color here\n",
    "  labs(x = \"Learning Rate\", y = \"Model Performance\") +\n",
    "  coord_cartesian(ylim = c(0.5, 0.9)) "
   ]
  },
  {
   "cell_type": "code",
   "execution_count": 80,
   "metadata": {},
   "outputs": [],
   "source": [
    "# Using all phosphorylation data\n",
    "\n",
    "library(\"ggplot2\")\n",
    "library(\"tidyr\")\n",
    "\n",
    "# You only have to name your vectors as :\n",
    "# 'lr' for learning rate \n",
    "# 'sensitivity' for sensitivity mean\n",
    "# 'dt_sens' for sensitivity standard deviation\n",
    "# 'specificity' for specificity mean\n",
    "# 'dt_sp' for specificity standard deviation\n",
    "\n",
    "\n",
    "lr <- seq(from = 0.00025, to = 0.0015, by = 0.00025)\n",
    "\n",
    "model.config <- c('Custom STY 1 all lr=0.00025', 'Custom STY 1 all lr=0.0005', 'Custom STY 1 all lr=0.00075', \n",
    "                  'Custom STY 1 all', 'Custom STY 1 all lr=0.00125', 'Custom STY 1 all lr=0.0015')\n",
    "\n",
    "dt.mean <- bootstrap.mean[model.config, ]\n",
    "\n",
    "dt.std <- bootstrap.std[model.config, ]\n",
    "\n",
    "AUC <- dt.mean[, 'ROC']\n",
    "dt_auc <- dt.std[, 'ROC']\n",
    "\n",
    "Sensitivity <- dt.mean[, 'Sens']\n",
    "dt_sens <- dt.std[, 'Sens']\n",
    "\n",
    "Specificity <- dt.mean[, 'Spec']\n",
    "dt_sp <- dt.std[, 'Spec']\n",
    "\n",
    "to_plot_wide <- data.frame(lr, AUC, Sensitivity, Specificity)\n",
    "to_plot_large <- gather(to_plot_wide, Measure, measure_mean,\n",
    "                        AUC:Specificity)\n",
    "to_plot_large$dt <- c(dt_auc, dt_sens, dt_sp)"
   ]
  },
  {
   "cell_type": "code",
   "execution_count": 92,
   "metadata": {},
   "outputs": [
    {
     "data": {},
     "metadata": {},
     "output_type": "display_data"
    },
    {
     "data": {
      "image/png": "[encoded data removed]",
      "text/plain": [
       "plot without title"
      ]
     },
     "metadata": {},
     "output_type": "display_data"
    }
   ],
   "source": [
    "# Continuous plot\n",
    "\n",
    "ggplot(to_plot_large, aes(lr, measure_mean,  group = Measure,  color = Measure)) +\n",
    "  geom_line() + \n",
    "  geom_ribbon(aes(ymin=measure_mean-dt, ymax=measure_mean+dt, fill=Measure),\n",
    "              linetype=\"blank\",\n",
    "              alpha=0.3) +\n",
    "  geom_point() +\n",
    "  scale_fill_manual(values=c(\"darkgreen\", \"navyblue\", \"red\")) + # change shadow color here \n",
    "  scale_colour_manual(values=c(\"darkgreen\", \"navyblue\", \"red\")) + # change line color here\n",
    "  labs(x = \"Learning Rate\", y = \"Model Performance\") +\n",
    "  theme(axis.title = element_text(size=15),\n",
    "        axis.text = element_text(size=11),\n",
    "        legend.title=element_text(size=15),\n",
    "        legend.text=element_text(size=13)) +\n",
    "  scale_x_continuous(labels = function(x) gsub(',', '.', sprintf(\"%.5f\", x)), \n",
    "      limits = c(lr[1], lr[length(lr)]), breaks = lr) +\n",
    "  scale_y_continuous(labels = function(x) gsub(',', '.', x))"
   ]
  },
  {
   "cell_type": "code",
   "execution_count": 141,
   "metadata": {},
   "outputs": [
    {
     "data": {
      "text/html": [
       "<table>\n",
       "<thead><tr><th></th><th scope=col>cut</th><th scope=col>ROC</th><th scope=col>Acc</th><th scope=col>Sens</th><th scope=col>Spec</th><th scope=col>Prec</th><th scope=col>Recal</th><th scope=col>MCC</th><th scope=col>FMeas</th></tr></thead>\n",
       "<tbody>\n",
       "\t<tr><th scope=row>Custom STY 1</th><td>0.5      </td><td>0.8217410</td><td>0.8114550</td><td>0.6181205</td><td>0.8265041</td><td>0.2153332</td><td>0.6181205</td><td>0.2828989</td><td>0.3170213</td></tr>\n",
       "\t<tr><th scope=row>Custom STY 1 all</th><td>0.5      </td><td>0.8246012</td><td>0.8074669</td><td>0.6375656</td><td>0.8205609</td><td>0.2139331</td><td>0.6375656</td><td>0.2875487</td><td>0.3187854</td></tr>\n",
       "\t<tr><th scope=row>Custom STY 1 tl=0</th><td>0.5      </td><td>0.8245398</td><td>0.8425331</td><td>0.5291196</td><td>0.8666904</td><td>0.2327569</td><td>0.5291196</td><td>0.2754782</td><td>0.3212464</td></tr>\n",
       "\t<tr><th scope=row>Custom STY 1 all tl=0</th><td>0.5      </td><td>0.8250863</td><td>0.8423129</td><td>0.5249736</td><td>0.8667667</td><td>0.2315154</td><td>0.5249736</td><td>0.2729259</td><td>0.3192354</td></tr>\n",
       "\t<tr><th scope=row>Custom STY 1 tl=3</th><td>0.5      </td><td>0.8241034</td><td>0.8140322</td><td>0.6157164</td><td>0.8294244</td><td>0.2168887</td><td>0.6157164</td><td>0.2843080</td><td>0.3187090</td></tr>\n",
       "\t<tr><th scope=row>Custom STY 1 all tl=3</th><td>0.5      </td><td>0.8249449</td><td>0.8140320</td><td>0.6150379</td><td>0.8294010</td><td>0.2168772</td><td>0.6150379</td><td>0.2840662</td><td>0.3185954</td></tr>\n",
       "\t<tr><th scope=row>Custom STY 1 tl=5</th><td>0.5      </td><td>0.7988128</td><td>0.8012111</td><td>0.5978105</td><td>0.8169712</td><td>0.2003205</td><td>0.5978105</td><td>0.2600943</td><td>0.2980977</td></tr>\n",
       "\t<tr><th scope=row>Custom STY 1 all tl=5</th><td>0.5      </td><td>0.8045615</td><td>0.8031159</td><td>0.6016179</td><td>0.8187353</td><td>0.2036052</td><td>0.6016179</td><td>0.2646956</td><td>0.3020633</td></tr>\n",
       "</tbody>\n",
       "</table>\n"
      ],
      "text/latex": [
       "\\begin{tabular}{r|lllllllll}\n",
       "  & cut & ROC & Acc & Sens & Spec & Prec & Recal & MCC & FMeas\\\\\n",
       "\\hline\n",
       "\tCustom STY 1 & 0.5       & 0.8217410 & 0.8114550 & 0.6181205 & 0.8265041 & 0.2153332 & 0.6181205 & 0.2828989 & 0.3170213\\\\\n",
       "\tCustom STY 1 all & 0.5       & 0.8246012 & 0.8074669 & 0.6375656 & 0.8205609 & 0.2139331 & 0.6375656 & 0.2875487 & 0.3187854\\\\\n",
       "\tCustom STY 1 tl=0 & 0.5       & 0.8245398 & 0.8425331 & 0.5291196 & 0.8666904 & 0.2327569 & 0.5291196 & 0.2754782 & 0.3212464\\\\\n",
       "\tCustom STY 1 all tl=0 & 0.5       & 0.8250863 & 0.8423129 & 0.5249736 & 0.8667667 & 0.2315154 & 0.5249736 & 0.2729259 & 0.3192354\\\\\n",
       "\tCustom STY 1 tl=3 & 0.5       & 0.8241034 & 0.8140322 & 0.6157164 & 0.8294244 & 0.2168887 & 0.6157164 & 0.2843080 & 0.3187090\\\\\n",
       "\tCustom STY 1 all tl=3 & 0.5       & 0.8249449 & 0.8140320 & 0.6150379 & 0.8294010 & 0.2168772 & 0.6150379 & 0.2840662 & 0.3185954\\\\\n",
       "\tCustom STY 1 tl=5 & 0.5       & 0.7988128 & 0.8012111 & 0.5978105 & 0.8169712 & 0.2003205 & 0.5978105 & 0.2600943 & 0.2980977\\\\\n",
       "\tCustom STY 1 all tl=5 & 0.5       & 0.8045615 & 0.8031159 & 0.6016179 & 0.8187353 & 0.2036052 & 0.6016179 & 0.2646956 & 0.3020633\\\\\n",
       "\\end{tabular}\n"
      ],
      "text/markdown": [
       "\n",
       "| <!--/--> | cut | ROC | Acc | Sens | Spec | Prec | Recal | MCC | FMeas | \n",
       "|---|---|---|---|---|---|---|---|\n",
       "| Custom STY 1 | 0.5       | 0.8217410 | 0.8114550 | 0.6181205 | 0.8265041 | 0.2153332 | 0.6181205 | 0.2828989 | 0.3170213 | \n",
       "| Custom STY 1 all | 0.5       | 0.8246012 | 0.8074669 | 0.6375656 | 0.8205609 | 0.2139331 | 0.6375656 | 0.2875487 | 0.3187854 | \n",
       "| Custom STY 1 tl=0 | 0.5       | 0.8245398 | 0.8425331 | 0.5291196 | 0.8666904 | 0.2327569 | 0.5291196 | 0.2754782 | 0.3212464 | \n",
       "| Custom STY 1 all tl=0 | 0.5       | 0.8250863 | 0.8423129 | 0.5249736 | 0.8667667 | 0.2315154 | 0.5249736 | 0.2729259 | 0.3192354 | \n",
       "| Custom STY 1 tl=3 | 0.5       | 0.8241034 | 0.8140322 | 0.6157164 | 0.8294244 | 0.2168887 | 0.6157164 | 0.2843080 | 0.3187090 | \n",
       "| Custom STY 1 all tl=3 | 0.5       | 0.8249449 | 0.8140320 | 0.6150379 | 0.8294010 | 0.2168772 | 0.6150379 | 0.2840662 | 0.3185954 | \n",
       "| Custom STY 1 tl=5 | 0.5       | 0.7988128 | 0.8012111 | 0.5978105 | 0.8169712 | 0.2003205 | 0.5978105 | 0.2600943 | 0.2980977 | \n",
       "| Custom STY 1 all tl=5 | 0.5       | 0.8045615 | 0.8031159 | 0.6016179 | 0.8187353 | 0.2036052 | 0.6016179 | 0.2646956 | 0.3020633 | \n",
       "\n",
       "\n"
      ],
      "text/plain": [
       "                      cut ROC       Acc       Sens      Spec      Prec     \n",
       "Custom STY 1          0.5 0.8217410 0.8114550 0.6181205 0.8265041 0.2153332\n",
       "Custom STY 1 all      0.5 0.8246012 0.8074669 0.6375656 0.8205609 0.2139331\n",
       "Custom STY 1 tl=0     0.5 0.8245398 0.8425331 0.5291196 0.8666904 0.2327569\n",
       "Custom STY 1 all tl=0 0.5 0.8250863 0.8423129 0.5249736 0.8667667 0.2315154\n",
       "Custom STY 1 tl=3     0.5 0.8241034 0.8140322 0.6157164 0.8294244 0.2168887\n",
       "Custom STY 1 all tl=3 0.5 0.8249449 0.8140320 0.6150379 0.8294010 0.2168772\n",
       "Custom STY 1 tl=5     0.5 0.7988128 0.8012111 0.5978105 0.8169712 0.2003205\n",
       "Custom STY 1 all tl=5 0.5 0.8045615 0.8031159 0.6016179 0.8187353 0.2036052\n",
       "                      Recal     MCC       FMeas    \n",
       "Custom STY 1          0.6181205 0.2828989 0.3170213\n",
       "Custom STY 1 all      0.6375656 0.2875487 0.3187854\n",
       "Custom STY 1 tl=0     0.5291196 0.2754782 0.3212464\n",
       "Custom STY 1 all tl=0 0.5249736 0.2729259 0.3192354\n",
       "Custom STY 1 tl=3     0.6157164 0.2843080 0.3187090\n",
       "Custom STY 1 all tl=3 0.6150379 0.2840662 0.3185954\n",
       "Custom STY 1 tl=5     0.5978105 0.2600943 0.2980977\n",
       "Custom STY 1 all tl=5 0.6016179 0.2646956 0.3020633"
      ]
     },
     "metadata": {},
     "output_type": "display_data"
    },
    {
     "data": {
      "text/html": [
       "<table>\n",
       "<thead><tr><th></th><th scope=col>cut</th><th scope=col>ROC</th><th scope=col>Acc</th><th scope=col>Sens</th><th scope=col>Spec</th><th scope=col>Prec</th><th scope=col>Recal</th><th scope=col>MCC</th><th scope=col>FMeas</th></tr></thead>\n",
       "<tbody>\n",
       "\t<tr><th scope=row>Custom STY 1</th><td>0         </td><td>0.01698192</td><td>0.02474074</td><td>0.07850784</td><td>0.03039642</td><td>0.02931676</td><td>0.07850784</td><td>0.03415991</td><td>0.03266144</td></tr>\n",
       "\t<tr><th scope=row>Custom STY 1 all</th><td>0         </td><td>0.01743957</td><td>0.01928497</td><td>0.07592377</td><td>0.02360048</td><td>0.02810978</td><td>0.07592377</td><td>0.03759002</td><td>0.03459311</td></tr>\n",
       "\t<tr><th scope=row>Custom STY 1 tl=0</th><td>0         </td><td>0.01679904</td><td>0.01426467</td><td>0.07325067</td><td>0.01799328</td><td>0.03096235</td><td>0.07325067</td><td>0.03892950</td><td>0.03513597</td></tr>\n",
       "\t<tr><th scope=row>Custom STY 1 all tl=0</th><td>0         </td><td>0.01772713</td><td>0.01356486</td><td>0.07176126</td><td>0.01733374</td><td>0.03150495</td><td>0.07176126</td><td>0.03872839</td><td>0.03512651</td></tr>\n",
       "\t<tr><th scope=row>Custom STY 1 tl=3</th><td>0         </td><td>0.01640292</td><td>0.02095216</td><td>0.07443567</td><td>0.02607940</td><td>0.02726320</td><td>0.07443567</td><td>0.03306265</td><td>0.03073168</td></tr>\n",
       "\t<tr><th scope=row>Custom STY 1 all tl=3</th><td>0         </td><td>0.01733322</td><td>0.02057429</td><td>0.07634665</td><td>0.02566744</td><td>0.02999000</td><td>0.07634665</td><td>0.03602866</td><td>0.03418386</td></tr>\n",
       "\t<tr><th scope=row>Custom STY 1 tl=5</th><td>0         </td><td>0.01852090</td><td>0.02218515</td><td>0.07970201</td><td>0.02796135</td><td>0.02740479</td><td>0.07970201</td><td>0.03477149</td><td>0.03218194</td></tr>\n",
       "\t<tr><th scope=row>Custom STY 1 all tl=5</th><td>0         </td><td>0.02037681</td><td>0.02553507</td><td>0.07873155</td><td>0.03094027</td><td>0.02843163</td><td>0.07873155</td><td>0.03574793</td><td>0.03256460</td></tr>\n",
       "</tbody>\n",
       "</table>\n"
      ],
      "text/latex": [
       "\\begin{tabular}{r|lllllllll}\n",
       "  & cut & ROC & Acc & Sens & Spec & Prec & Recal & MCC & FMeas\\\\\n",
       "\\hline\n",
       "\tCustom STY 1 & 0          & 0.01698192 & 0.02474074 & 0.07850784 & 0.03039642 & 0.02931676 & 0.07850784 & 0.03415991 & 0.03266144\\\\\n",
       "\tCustom STY 1 all & 0          & 0.01743957 & 0.01928497 & 0.07592377 & 0.02360048 & 0.02810978 & 0.07592377 & 0.03759002 & 0.03459311\\\\\n",
       "\tCustom STY 1 tl=0 & 0          & 0.01679904 & 0.01426467 & 0.07325067 & 0.01799328 & 0.03096235 & 0.07325067 & 0.03892950 & 0.03513597\\\\\n",
       "\tCustom STY 1 all tl=0 & 0          & 0.01772713 & 0.01356486 & 0.07176126 & 0.01733374 & 0.03150495 & 0.07176126 & 0.03872839 & 0.03512651\\\\\n",
       "\tCustom STY 1 tl=3 & 0          & 0.01640292 & 0.02095216 & 0.07443567 & 0.02607940 & 0.02726320 & 0.07443567 & 0.03306265 & 0.03073168\\\\\n",
       "\tCustom STY 1 all tl=3 & 0          & 0.01733322 & 0.02057429 & 0.07634665 & 0.02566744 & 0.02999000 & 0.07634665 & 0.03602866 & 0.03418386\\\\\n",
       "\tCustom STY 1 tl=5 & 0          & 0.01852090 & 0.02218515 & 0.07970201 & 0.02796135 & 0.02740479 & 0.07970201 & 0.03477149 & 0.03218194\\\\\n",
       "\tCustom STY 1 all tl=5 & 0          & 0.02037681 & 0.02553507 & 0.07873155 & 0.03094027 & 0.02843163 & 0.07873155 & 0.03574793 & 0.03256460\\\\\n",
       "\\end{tabular}\n"
      ],
      "text/markdown": [
       "\n",
       "| <!--/--> | cut | ROC | Acc | Sens | Spec | Prec | Recal | MCC | FMeas | \n",
       "|---|---|---|---|---|---|---|---|\n",
       "| Custom STY 1 | 0          | 0.01698192 | 0.02474074 | 0.07850784 | 0.03039642 | 0.02931676 | 0.07850784 | 0.03415991 | 0.03266144 | \n",
       "| Custom STY 1 all | 0          | 0.01743957 | 0.01928497 | 0.07592377 | 0.02360048 | 0.02810978 | 0.07592377 | 0.03759002 | 0.03459311 | \n",
       "| Custom STY 1 tl=0 | 0          | 0.01679904 | 0.01426467 | 0.07325067 | 0.01799328 | 0.03096235 | 0.07325067 | 0.03892950 | 0.03513597 | \n",
       "| Custom STY 1 all tl=0 | 0          | 0.01772713 | 0.01356486 | 0.07176126 | 0.01733374 | 0.03150495 | 0.07176126 | 0.03872839 | 0.03512651 | \n",
       "| Custom STY 1 tl=3 | 0          | 0.01640292 | 0.02095216 | 0.07443567 | 0.02607940 | 0.02726320 | 0.07443567 | 0.03306265 | 0.03073168 | \n",
       "| Custom STY 1 all tl=3 | 0          | 0.01733322 | 0.02057429 | 0.07634665 | 0.02566744 | 0.02999000 | 0.07634665 | 0.03602866 | 0.03418386 | \n",
       "| Custom STY 1 tl=5 | 0          | 0.01852090 | 0.02218515 | 0.07970201 | 0.02796135 | 0.02740479 | 0.07970201 | 0.03477149 | 0.03218194 | \n",
       "| Custom STY 1 all tl=5 | 0          | 0.02037681 | 0.02553507 | 0.07873155 | 0.03094027 | 0.02843163 | 0.07873155 | 0.03574793 | 0.03256460 | \n",
       "\n",
       "\n"
      ],
      "text/plain": [
       "                      cut ROC        Acc        Sens       Spec      \n",
       "Custom STY 1          0   0.01698192 0.02474074 0.07850784 0.03039642\n",
       "Custom STY 1 all      0   0.01743957 0.01928497 0.07592377 0.02360048\n",
       "Custom STY 1 tl=0     0   0.01679904 0.01426467 0.07325067 0.01799328\n",
       "Custom STY 1 all tl=0 0   0.01772713 0.01356486 0.07176126 0.01733374\n",
       "Custom STY 1 tl=3     0   0.01640292 0.02095216 0.07443567 0.02607940\n",
       "Custom STY 1 all tl=3 0   0.01733322 0.02057429 0.07634665 0.02566744\n",
       "Custom STY 1 tl=5     0   0.01852090 0.02218515 0.07970201 0.02796135\n",
       "Custom STY 1 all tl=5 0   0.02037681 0.02553507 0.07873155 0.03094027\n",
       "                      Prec       Recal      MCC        FMeas     \n",
       "Custom STY 1          0.02931676 0.07850784 0.03415991 0.03266144\n",
       "Custom STY 1 all      0.02810978 0.07592377 0.03759002 0.03459311\n",
       "Custom STY 1 tl=0     0.03096235 0.07325067 0.03892950 0.03513597\n",
       "Custom STY 1 all tl=0 0.03150495 0.07176126 0.03872839 0.03512651\n",
       "Custom STY 1 tl=3     0.02726320 0.07443567 0.03306265 0.03073168\n",
       "Custom STY 1 all tl=3 0.02999000 0.07634665 0.03602866 0.03418386\n",
       "Custom STY 1 tl=5     0.02740479 0.07970201 0.03477149 0.03218194\n",
       "Custom STY 1 all tl=5 0.02843163 0.07873155 0.03574793 0.03256460"
      ]
     },
     "metadata": {},
     "output_type": "display_data"
    }
   ],
   "source": [
    "# All-phos-data: Compare the results obtained using different values of transfer-leayer\n",
    "\n",
    "tl.names <- c('Custom STY 1', 'Custom STY 1 all', 'Custom STY 1 tl=0', 'Custom STY 1 all tl=0', \n",
    "              'Custom STY 1 tl=3', 'Custom STY 1 all tl=3', 'Custom STY 1 tl=5', 'Custom STY 1 all tl=5')\n",
    "\n",
    "# Mean values\n",
    "bootstrap.mean[tl.names, ]\n",
    "\n",
    "# Std values\n",
    "bootstrap.std[tl.names, ]"
   ]
  },
  {
   "cell_type": "code",
   "execution_count": 131,
   "metadata": {},
   "outputs": [
    {
     "data": {
      "text/html": [
       "<table>\n",
       "<thead><tr><th></th><th scope=col>ROC</th><th scope=col>Acc</th><th scope=col>Sens</th><th scope=col>Spec</th><th scope=col>FMeas</th><th scope=col>MCC</th></tr></thead>\n",
       "<tbody>\n",
       "\t<tr><th scope=row>Custom STY 1 tl=0</th><td>0.8245 0.0168</td><td>0.8425 0.0143</td><td>0.5291 0.0733</td><td>0.8667 0.018 </td><td>0.3212 0.0351</td><td>0.2755 0.0389</td></tr>\n",
       "\t<tr><th scope=row>Custom STY 1</th><td>0.8217 0.017 </td><td>0.8115 0.0247</td><td>0.6181 0.0785</td><td>0.8265 0.0304</td><td>0.317 0.0327 </td><td>0.2829 0.0342</td></tr>\n",
       "\t<tr><th scope=row>Custom STY 1 tl=3</th><td>0.8241 0.0164</td><td>0.814 0.021  </td><td>0.6157 0.0744</td><td>0.8294 0.0261</td><td>0.3187 0.0307</td><td>0.2843 0.0331</td></tr>\n",
       "\t<tr><th scope=row>Custom STY 1 tl=5</th><td>0.7988 0.0185</td><td>0.8012 0.0222</td><td>0.5978 0.0797</td><td>0.817 0.028  </td><td>0.2981 0.0322</td><td>0.2601 0.0348</td></tr>\n",
       "</tbody>\n",
       "</table>\n"
      ],
      "text/latex": [
       "\\begin{tabular}{r|llllll}\n",
       "  & ROC & Acc & Sens & Spec & FMeas & MCC\\\\\n",
       "\\hline\n",
       "\tCustom STY 1 tl=0 & 0.8245 0.0168 & 0.8425 0.0143 & 0.5291 0.0733 & 0.8667 0.018  & 0.3212 0.0351 & 0.2755 0.0389\\\\\n",
       "\tCustom STY 1 & 0.8217 0.017  & 0.8115 0.0247 & 0.6181 0.0785 & 0.8265 0.0304 & 0.317 0.0327  & 0.2829 0.0342\\\\\n",
       "\tCustom STY 1 tl=3 & 0.8241 0.0164 & 0.814 0.021   & 0.6157 0.0744 & 0.8294 0.0261 & 0.3187 0.0307 & 0.2843 0.0331\\\\\n",
       "\tCustom STY 1 tl=5 & 0.7988 0.0185 & 0.8012 0.0222 & 0.5978 0.0797 & 0.817 0.028   & 0.2981 0.0322 & 0.2601 0.0348\\\\\n",
       "\\end{tabular}\n"
      ],
      "text/markdown": [
       "\n",
       "| <!--/--> | ROC | Acc | Sens | Spec | FMeas | MCC | \n",
       "|---|---|---|---|\n",
       "| Custom STY 1 tl=0 | 0.8245 0.0168 | 0.8425 0.0143 | 0.5291 0.0733 | 0.8667 0.018  | 0.3212 0.0351 | 0.2755 0.0389 | \n",
       "| Custom STY 1 | 0.8217 0.017  | 0.8115 0.0247 | 0.6181 0.0785 | 0.8265 0.0304 | 0.317 0.0327  | 0.2829 0.0342 | \n",
       "| Custom STY 1 tl=3 | 0.8241 0.0164 | 0.814 0.021   | 0.6157 0.0744 | 0.8294 0.0261 | 0.3187 0.0307 | 0.2843 0.0331 | \n",
       "| Custom STY 1 tl=5 | 0.7988 0.0185 | 0.8012 0.0222 | 0.5978 0.0797 | 0.817 0.028   | 0.2981 0.0322 | 0.2601 0.0348 | \n",
       "\n",
       "\n"
      ],
      "text/plain": [
       "                  ROC           Acc           Sens          Spec         \n",
       "Custom STY 1 tl=0 0.8245 0.0168 0.8425 0.0143 0.5291 0.0733 0.8667 0.018 \n",
       "Custom STY 1      0.8217 0.017  0.8115 0.0247 0.6181 0.0785 0.8265 0.0304\n",
       "Custom STY 1 tl=3 0.8241 0.0164 0.814 0.021   0.6157 0.0744 0.8294 0.0261\n",
       "Custom STY 1 tl=5 0.7988 0.0185 0.8012 0.0222 0.5978 0.0797 0.817 0.028  \n",
       "                  FMeas         MCC          \n",
       "Custom STY 1 tl=0 0.3212 0.0351 0.2755 0.0389\n",
       "Custom STY 1      0.317 0.0327  0.2829 0.0342\n",
       "Custom STY 1 tl=3 0.3187 0.0307 0.2843 0.0331\n",
       "Custom STY 1 tl=5 0.2981 0.0322 0.2601 0.0348"
      ]
     },
     "metadata": {},
     "output_type": "display_data"
    }
   ],
   "source": [
    "# To produce the Table results in the paper\n",
    "\n",
    "bm <- bootstrap.mean[c('Custom STY 1 tl=0', 'Custom STY 1', 'Custom STY 1 tl=3', 'Custom STY 1 tl=5'), \n",
    "                     c('ROC', 'Acc', 'Sens', 'Spec', 'FMeas', 'MCC')]\n",
    "bd <- bootstrap.std[c('Custom STY 1 tl=0', 'Custom STY 1', 'Custom STY 1 tl=3', 'Custom STY 1 tl=5'), \n",
    "                     c('ROC', 'Acc', 'Sens', 'Spec', 'FMeas', 'MCC')]\n",
    "m <- matrix(paste(as.matrix(round(bm, 4)), as.matrix(round(bd, 4))), ncol = ncol(bm), nrow = nrow(bm))\n",
    "rownames(m) <- rownames(bm)\n",
    "colnames(m) <- colnames(bm)\n",
    "m"
   ]
  },
  {
   "cell_type": "code",
   "execution_count": 142,
   "metadata": {},
   "outputs": [
    {
     "data": {
      "text/html": [
       "<table>\n",
       "<thead><tr><th></th><th scope=col>ROC</th><th scope=col>Acc</th><th scope=col>Sens</th><th scope=col>Spec</th><th scope=col>FMeas</th><th scope=col>MCC</th></tr></thead>\n",
       "<tbody>\n",
       "\t<tr><th scope=row>Custom STY 1 all tl=0</th><td>0.8251 0.0177</td><td>0.8423 0.0136</td><td>0.525 0.0718 </td><td>0.8668 0.0173</td><td>0.3192 0.0351</td><td>0.2729 0.0387</td></tr>\n",
       "\t<tr><th scope=row>Custom STY 1 all</th><td>0.8246 0.0174</td><td>0.8075 0.0193</td><td>0.6376 0.0759</td><td>0.8206 0.0236</td><td>0.3188 0.0346</td><td>0.2875 0.0376</td></tr>\n",
       "\t<tr><th scope=row>Custom STY 1 all tl=3</th><td>0.8249 0.0173</td><td>0.814 0.0206 </td><td>0.615 0.0763 </td><td>0.8294 0.0257</td><td>0.3186 0.0342</td><td>0.2841 0.036 </td></tr>\n",
       "\t<tr><th scope=row>Custom STY 1 all tl=5</th><td>0.8046 0.0204</td><td>0.8031 0.0255</td><td>0.6016 0.0787</td><td>0.8187 0.0309</td><td>0.3021 0.0326</td><td>0.2647 0.0357</td></tr>\n",
       "</tbody>\n",
       "</table>\n"
      ],
      "text/latex": [
       "\\begin{tabular}{r|llllll}\n",
       "  & ROC & Acc & Sens & Spec & FMeas & MCC\\\\\n",
       "\\hline\n",
       "\tCustom STY 1 all tl=0 & 0.8251 0.0177 & 0.8423 0.0136 & 0.525 0.0718  & 0.8668 0.0173 & 0.3192 0.0351 & 0.2729 0.0387\\\\\n",
       "\tCustom STY 1 all & 0.8246 0.0174 & 0.8075 0.0193 & 0.6376 0.0759 & 0.8206 0.0236 & 0.3188 0.0346 & 0.2875 0.0376\\\\\n",
       "\tCustom STY 1 all tl=3 & 0.8249 0.0173 & 0.814 0.0206  & 0.615 0.0763  & 0.8294 0.0257 & 0.3186 0.0342 & 0.2841 0.036 \\\\\n",
       "\tCustom STY 1 all tl=5 & 0.8046 0.0204 & 0.8031 0.0255 & 0.6016 0.0787 & 0.8187 0.0309 & 0.3021 0.0326 & 0.2647 0.0357\\\\\n",
       "\\end{tabular}\n"
      ],
      "text/markdown": [
       "\n",
       "| <!--/--> | ROC | Acc | Sens | Spec | FMeas | MCC | \n",
       "|---|---|---|---|\n",
       "| Custom STY 1 all tl=0 | 0.8251 0.0177 | 0.8423 0.0136 | 0.525 0.0718  | 0.8668 0.0173 | 0.3192 0.0351 | 0.2729 0.0387 | \n",
       "| Custom STY 1 all | 0.8246 0.0174 | 0.8075 0.0193 | 0.6376 0.0759 | 0.8206 0.0236 | 0.3188 0.0346 | 0.2875 0.0376 | \n",
       "| Custom STY 1 all tl=3 | 0.8249 0.0173 | 0.814 0.0206  | 0.615 0.0763  | 0.8294 0.0257 | 0.3186 0.0342 | 0.2841 0.036  | \n",
       "| Custom STY 1 all tl=5 | 0.8046 0.0204 | 0.8031 0.0255 | 0.6016 0.0787 | 0.8187 0.0309 | 0.3021 0.0326 | 0.2647 0.0357 | \n",
       "\n",
       "\n"
      ],
      "text/plain": [
       "                      ROC           Acc           Sens          Spec         \n",
       "Custom STY 1 all tl=0 0.8251 0.0177 0.8423 0.0136 0.525 0.0718  0.8668 0.0173\n",
       "Custom STY 1 all      0.8246 0.0174 0.8075 0.0193 0.6376 0.0759 0.8206 0.0236\n",
       "Custom STY 1 all tl=3 0.8249 0.0173 0.814 0.0206  0.615 0.0763  0.8294 0.0257\n",
       "Custom STY 1 all tl=5 0.8046 0.0204 0.8031 0.0255 0.6016 0.0787 0.8187 0.0309\n",
       "                      FMeas         MCC          \n",
       "Custom STY 1 all tl=0 0.3192 0.0351 0.2729 0.0387\n",
       "Custom STY 1 all      0.3188 0.0346 0.2875 0.0376\n",
       "Custom STY 1 all tl=3 0.3186 0.0342 0.2841 0.036 \n",
       "Custom STY 1 all tl=5 0.3021 0.0326 0.2647 0.0357"
      ]
     },
     "metadata": {},
     "output_type": "display_data"
    }
   ],
   "source": [
    "# Using all-phos-data: To produce the Table results in the paper\n",
    "\n",
    "lr.names <- c('Custom STY 1 all tl=0', 'Custom STY 1 all', 'Custom STY 1 all tl=3', 'Custom STY 1 all tl=5')\n",
    "\n",
    "metric.names <- c('ROC', 'Acc', 'Sens', 'Spec', 'FMeas', 'MCC')\n",
    "\n",
    "bm <- bootstrap.mean[lr.names, metric.names]\n",
    "bd <- bootstrap.std[lr.names, metric.names]\n",
    "\n",
    "m <- matrix(paste(as.matrix(round(bm, 4)), as.matrix(round(bd, 4))), ncol = ncol(bm), nrow = nrow(bm))\n",
    "rownames(m) <- rownames(bm)\n",
    "colnames(m) <- colnames(bm)\n",
    "m"
   ]
  },
  {
   "cell_type": "code",
   "execution_count": 133,
   "metadata": {
    "scrolled": true
   },
   "outputs": [
    {
     "data": {
      "text/html": [
       "<table>\n",
       "<thead><tr><th></th><th scope=col>cut</th><th scope=col>ROC</th><th scope=col>Acc</th><th scope=col>Sens</th><th scope=col>Spec</th><th scope=col>Prec</th><th scope=col>Recal</th><th scope=col>MCC</th><th scope=col>FMeas</th></tr></thead>\n",
       "<tbody>\n",
       "\t<tr><th scope=row>Custom STY 1</th><td>0.5      </td><td>0.8217410</td><td>0.8114550</td><td>0.6181205</td><td>0.8265041</td><td>0.2153332</td><td>0.6181205</td><td>0.2828989</td><td>0.3170213</td></tr>\n",
       "\t<tr><th scope=row>Custom STY 1 tl=0 lr=0.0005</th><td>0.5      </td><td>0.8251856</td><td>0.8061367</td><td>0.6260293</td><td>0.8200547</td><td>0.2104764</td><td>0.6260293</td><td>0.2801589</td><td>0.3134670</td></tr>\n",
       "\t<tr><th scope=row>Custom STY 1 tl=3 lr=0.0005</th><td>0.5      </td><td>0.8198352</td><td>0.7697866</td><td>0.7062631</td><td>0.7747343</td><td>0.1940078</td><td>0.7062631</td><td>0.2818853</td><td>0.3029947</td></tr>\n",
       "\t<tr><th scope=row>Custom STY 1 tl=0 lr=0.00025</th><td>0.5      </td><td>0.8228158</td><td>0.7684508</td><td>0.6975388</td><td>0.7740034</td><td>0.1914203</td><td>0.6975388</td><td>0.2761704</td><td>0.2990925</td></tr>\n",
       "\t<tr><th scope=row>Custom STY 1 tl=3 lr=0.00025</th><td>0.5      </td><td>0.8147823</td><td>0.7292627</td><td>0.7633252</td><td>0.7266700</td><td>0.1764331</td><td>0.7633252</td><td>0.2726953</td><td>0.2856552</td></tr>\n",
       "</tbody>\n",
       "</table>\n"
      ],
      "text/latex": [
       "\\begin{tabular}{r|lllllllll}\n",
       "  & cut & ROC & Acc & Sens & Spec & Prec & Recal & MCC & FMeas\\\\\n",
       "\\hline\n",
       "\tCustom STY 1 & 0.5       & 0.8217410 & 0.8114550 & 0.6181205 & 0.8265041 & 0.2153332 & 0.6181205 & 0.2828989 & 0.3170213\\\\\n",
       "\tCustom STY 1 tl=0 lr=0.0005 & 0.5       & 0.8251856 & 0.8061367 & 0.6260293 & 0.8200547 & 0.2104764 & 0.6260293 & 0.2801589 & 0.3134670\\\\\n",
       "\tCustom STY 1 tl=3 lr=0.0005 & 0.5       & 0.8198352 & 0.7697866 & 0.7062631 & 0.7747343 & 0.1940078 & 0.7062631 & 0.2818853 & 0.3029947\\\\\n",
       "\tCustom STY 1 tl=0 lr=0.00025 & 0.5       & 0.8228158 & 0.7684508 & 0.6975388 & 0.7740034 & 0.1914203 & 0.6975388 & 0.2761704 & 0.2990925\\\\\n",
       "\tCustom STY 1 tl=3 lr=0.00025 & 0.5       & 0.8147823 & 0.7292627 & 0.7633252 & 0.7266700 & 0.1764331 & 0.7633252 & 0.2726953 & 0.2856552\\\\\n",
       "\\end{tabular}\n"
      ],
      "text/markdown": [
       "\n",
       "| <!--/--> | cut | ROC | Acc | Sens | Spec | Prec | Recal | MCC | FMeas | \n",
       "|---|---|---|---|---|\n",
       "| Custom STY 1 | 0.5       | 0.8217410 | 0.8114550 | 0.6181205 | 0.8265041 | 0.2153332 | 0.6181205 | 0.2828989 | 0.3170213 | \n",
       "| Custom STY 1 tl=0 lr=0.0005 | 0.5       | 0.8251856 | 0.8061367 | 0.6260293 | 0.8200547 | 0.2104764 | 0.6260293 | 0.2801589 | 0.3134670 | \n",
       "| Custom STY 1 tl=3 lr=0.0005 | 0.5       | 0.8198352 | 0.7697866 | 0.7062631 | 0.7747343 | 0.1940078 | 0.7062631 | 0.2818853 | 0.3029947 | \n",
       "| Custom STY 1 tl=0 lr=0.00025 | 0.5       | 0.8228158 | 0.7684508 | 0.6975388 | 0.7740034 | 0.1914203 | 0.6975388 | 0.2761704 | 0.2990925 | \n",
       "| Custom STY 1 tl=3 lr=0.00025 | 0.5       | 0.8147823 | 0.7292627 | 0.7633252 | 0.7266700 | 0.1764331 | 0.7633252 | 0.2726953 | 0.2856552 | \n",
       "\n",
       "\n"
      ],
      "text/plain": [
       "                             cut ROC       Acc       Sens      Spec     \n",
       "Custom STY 1                 0.5 0.8217410 0.8114550 0.6181205 0.8265041\n",
       "Custom STY 1 tl=0 lr=0.0005  0.5 0.8251856 0.8061367 0.6260293 0.8200547\n",
       "Custom STY 1 tl=3 lr=0.0005  0.5 0.8198352 0.7697866 0.7062631 0.7747343\n",
       "Custom STY 1 tl=0 lr=0.00025 0.5 0.8228158 0.7684508 0.6975388 0.7740034\n",
       "Custom STY 1 tl=3 lr=0.00025 0.5 0.8147823 0.7292627 0.7633252 0.7266700\n",
       "                             Prec      Recal     MCC       FMeas    \n",
       "Custom STY 1                 0.2153332 0.6181205 0.2828989 0.3170213\n",
       "Custom STY 1 tl=0 lr=0.0005  0.2104764 0.6260293 0.2801589 0.3134670\n",
       "Custom STY 1 tl=3 lr=0.0005  0.1940078 0.7062631 0.2818853 0.3029947\n",
       "Custom STY 1 tl=0 lr=0.00025 0.1914203 0.6975388 0.2761704 0.2990925\n",
       "Custom STY 1 tl=3 lr=0.00025 0.1764331 0.7633252 0.2726953 0.2856552"
      ]
     },
     "metadata": {},
     "output_type": "display_data"
    },
    {
     "data": {
      "text/html": [
       "<table>\n",
       "<thead><tr><th></th><th scope=col>cut</th><th scope=col>ROC</th><th scope=col>Acc</th><th scope=col>Sens</th><th scope=col>Spec</th><th scope=col>Prec</th><th scope=col>Recal</th><th scope=col>MCC</th><th scope=col>FMeas</th></tr></thead>\n",
       "<tbody>\n",
       "\t<tr><th scope=row>Custom STY 1</th><td>0         </td><td>0.01698192</td><td>0.02474074</td><td>0.07850784</td><td>0.03039642</td><td>0.02931676</td><td>0.07850784</td><td>0.03415991</td><td>0.03266144</td></tr>\n",
       "\t<tr><th scope=row>Custom STY 1 tl=0 lr=0.0005</th><td>0         </td><td>0.01642767</td><td>0.01912112</td><td>0.06733338</td><td>0.02318086</td><td>0.02713899</td><td>0.06733338</td><td>0.03390408</td><td>0.03209078</td></tr>\n",
       "\t<tr><th scope=row>Custom STY 1 tl=3 lr=0.0005</th><td>0         </td><td>0.01764179</td><td>0.02562298</td><td>0.07162577</td><td>0.03101453</td><td>0.02421960</td><td>0.07162577</td><td>0.03105130</td><td>0.02994150</td></tr>\n",
       "\t<tr><th scope=row>Custom STY 1 tl=0 lr=0.00025</th><td>0         </td><td>0.01679816</td><td>0.02389941</td><td>0.06711807</td><td>0.02869490</td><td>0.02397143</td><td>0.06711807</td><td>0.03038320</td><td>0.02963839</td></tr>\n",
       "\t<tr><th scope=row>Custom STY 1 tl=3 lr=0.00025</th><td>0         </td><td>0.01766212</td><td>0.02954489</td><td>0.06707871</td><td>0.03502221</td><td>0.02053478</td><td>0.06707871</td><td>0.02741737</td><td>0.02720495</td></tr>\n",
       "</tbody>\n",
       "</table>\n"
      ],
      "text/latex": [
       "\\begin{tabular}{r|lllllllll}\n",
       "  & cut & ROC & Acc & Sens & Spec & Prec & Recal & MCC & FMeas\\\\\n",
       "\\hline\n",
       "\tCustom STY 1 & 0          & 0.01698192 & 0.02474074 & 0.07850784 & 0.03039642 & 0.02931676 & 0.07850784 & 0.03415991 & 0.03266144\\\\\n",
       "\tCustom STY 1 tl=0 lr=0.0005 & 0          & 0.01642767 & 0.01912112 & 0.06733338 & 0.02318086 & 0.02713899 & 0.06733338 & 0.03390408 & 0.03209078\\\\\n",
       "\tCustom STY 1 tl=3 lr=0.0005 & 0          & 0.01764179 & 0.02562298 & 0.07162577 & 0.03101453 & 0.02421960 & 0.07162577 & 0.03105130 & 0.02994150\\\\\n",
       "\tCustom STY 1 tl=0 lr=0.00025 & 0          & 0.01679816 & 0.02389941 & 0.06711807 & 0.02869490 & 0.02397143 & 0.06711807 & 0.03038320 & 0.02963839\\\\\n",
       "\tCustom STY 1 tl=3 lr=0.00025 & 0          & 0.01766212 & 0.02954489 & 0.06707871 & 0.03502221 & 0.02053478 & 0.06707871 & 0.02741737 & 0.02720495\\\\\n",
       "\\end{tabular}\n"
      ],
      "text/markdown": [
       "\n",
       "| <!--/--> | cut | ROC | Acc | Sens | Spec | Prec | Recal | MCC | FMeas | \n",
       "|---|---|---|---|---|\n",
       "| Custom STY 1 | 0          | 0.01698192 | 0.02474074 | 0.07850784 | 0.03039642 | 0.02931676 | 0.07850784 | 0.03415991 | 0.03266144 | \n",
       "| Custom STY 1 tl=0 lr=0.0005 | 0          | 0.01642767 | 0.01912112 | 0.06733338 | 0.02318086 | 0.02713899 | 0.06733338 | 0.03390408 | 0.03209078 | \n",
       "| Custom STY 1 tl=3 lr=0.0005 | 0          | 0.01764179 | 0.02562298 | 0.07162577 | 0.03101453 | 0.02421960 | 0.07162577 | 0.03105130 | 0.02994150 | \n",
       "| Custom STY 1 tl=0 lr=0.00025 | 0          | 0.01679816 | 0.02389941 | 0.06711807 | 0.02869490 | 0.02397143 | 0.06711807 | 0.03038320 | 0.02963839 | \n",
       "| Custom STY 1 tl=3 lr=0.00025 | 0          | 0.01766212 | 0.02954489 | 0.06707871 | 0.03502221 | 0.02053478 | 0.06707871 | 0.02741737 | 0.02720495 | \n",
       "\n",
       "\n"
      ],
      "text/plain": [
       "                             cut ROC        Acc        Sens       Spec      \n",
       "Custom STY 1                 0   0.01698192 0.02474074 0.07850784 0.03039642\n",
       "Custom STY 1 tl=0 lr=0.0005  0   0.01642767 0.01912112 0.06733338 0.02318086\n",
       "Custom STY 1 tl=3 lr=0.0005  0   0.01764179 0.02562298 0.07162577 0.03101453\n",
       "Custom STY 1 tl=0 lr=0.00025 0   0.01679816 0.02389941 0.06711807 0.02869490\n",
       "Custom STY 1 tl=3 lr=0.00025 0   0.01766212 0.02954489 0.06707871 0.03502221\n",
       "                             Prec       Recal      MCC        FMeas     \n",
       "Custom STY 1                 0.02931676 0.07850784 0.03415991 0.03266144\n",
       "Custom STY 1 tl=0 lr=0.0005  0.02713899 0.06733338 0.03390408 0.03209078\n",
       "Custom STY 1 tl=3 lr=0.0005  0.02421960 0.07162577 0.03105130 0.02994150\n",
       "Custom STY 1 tl=0 lr=0.00025 0.02397143 0.06711807 0.03038320 0.02963839\n",
       "Custom STY 1 tl=3 lr=0.00025 0.02053478 0.06707871 0.02741737 0.02720495"
      ]
     },
     "metadata": {},
     "output_type": "display_data"
    }
   ],
   "source": [
    "# Compare the results obtained using different values of learning-rate and transfer-leayer\n",
    "\n",
    "# Mean values\n",
    "bootstrap.mean[c('Custom STY 1', 'Custom STY 1 tl=0 lr=0.0005', 'Custom STY 1 tl=3 lr=0.0005', \n",
    "                 'Custom STY 1 tl=0 lr=0.00025', 'Custom STY 1 tl=3 lr=0.00025'), ]\n",
    "\n",
    "# Std values\n",
    "bootstrap.std[c('Custom STY 1', 'Custom STY 1 tl=0 lr=0.0005', 'Custom STY 1 tl=3 lr=0.0005', \n",
    "                 'Custom STY 1 tl=0 lr=0.00025', 'Custom STY 1 tl=3 lr=0.00025'), ]"
   ]
  },
  {
   "cell_type": "code",
   "execution_count": 143,
   "metadata": {},
   "outputs": [
    {
     "data": {
      "text/html": [
       "<table>\n",
       "<thead><tr><th></th><th scope=col>ROC</th><th scope=col>Acc</th><th scope=col>Sens</th><th scope=col>Spec</th><th scope=col>FMeas</th><th scope=col>MCC</th></tr></thead>\n",
       "<tbody>\n",
       "\t<tr><th scope=row>Custom STY 1 tl=0 lr=0.00025</th><td>0.8228 0.0168</td><td>0.7685 0.0239</td><td>0.6975 0.0671</td><td>0.774 0.0287 </td><td>0.2991 0.0296</td><td>0.2762 0.0304</td></tr>\n",
       "\t<tr><th scope=row>Custom STY 1 tl=0 lr=0.0005</th><td>0.8252 0.0164</td><td>0.8061 0.0191</td><td>0.626 0.0673 </td><td>0.8201 0.0232</td><td>0.3135 0.0321</td><td>0.2802 0.0339</td></tr>\n",
       "</tbody>\n",
       "</table>\n"
      ],
      "text/latex": [
       "\\begin{tabular}{r|llllll}\n",
       "  & ROC & Acc & Sens & Spec & FMeas & MCC\\\\\n",
       "\\hline\n",
       "\tCustom STY 1 tl=0 lr=0.00025 & 0.8228 0.0168 & 0.7685 0.0239 & 0.6975 0.0671 & 0.774 0.0287  & 0.2991 0.0296 & 0.2762 0.0304\\\\\n",
       "\tCustom STY 1 tl=0 lr=0.0005 & 0.8252 0.0164 & 0.8061 0.0191 & 0.626 0.0673  & 0.8201 0.0232 & 0.3135 0.0321 & 0.2802 0.0339\\\\\n",
       "\\end{tabular}\n"
      ],
      "text/markdown": [
       "\n",
       "| <!--/--> | ROC | Acc | Sens | Spec | FMeas | MCC | \n",
       "|---|---|\n",
       "| Custom STY 1 tl=0 lr=0.00025 | 0.8228 0.0168 | 0.7685 0.0239 | 0.6975 0.0671 | 0.774 0.0287  | 0.2991 0.0296 | 0.2762 0.0304 | \n",
       "| Custom STY 1 tl=0 lr=0.0005 | 0.8252 0.0164 | 0.8061 0.0191 | 0.626 0.0673  | 0.8201 0.0232 | 0.3135 0.0321 | 0.2802 0.0339 | \n",
       "\n",
       "\n"
      ],
      "text/plain": [
       "                             ROC           Acc           Sens         \n",
       "Custom STY 1 tl=0 lr=0.00025 0.8228 0.0168 0.7685 0.0239 0.6975 0.0671\n",
       "Custom STY 1 tl=0 lr=0.0005  0.8252 0.0164 0.8061 0.0191 0.626 0.0673 \n",
       "                             Spec          FMeas         MCC          \n",
       "Custom STY 1 tl=0 lr=0.00025 0.774 0.0287  0.2991 0.0296 0.2762 0.0304\n",
       "Custom STY 1 tl=0 lr=0.0005  0.8201 0.0232 0.3135 0.0321 0.2802 0.0339"
      ]
     },
     "metadata": {},
     "output_type": "display_data"
    }
   ],
   "source": [
    "# To produce the Table results in the paper\n",
    "\n",
    "bm <- bootstrap.mean[c('Custom STY 1 tl=0 lr=0.00025', 'Custom STY 1 tl=0 lr=0.0005'), \n",
    "                     c('ROC', 'Acc', 'Sens', 'Spec', 'FMeas', 'MCC')]\n",
    "bd <- bootstrap.std[c('Custom STY 1 tl=0 lr=0.00025', 'Custom STY 1 tl=0 lr=0.0005'), \n",
    "                     c('ROC', 'Acc', 'Sens', 'Spec', 'FMeas', 'MCC')]\n",
    "m <- matrix(paste(as.matrix(round(bm, 4)), as.matrix(round(bd, 4))), ncol = ncol(bm), nrow = nrow(bm))\n",
    "rownames(m) <- rownames(bm)\n",
    "colnames(m) <- colnames(bm)\n",
    "m"
   ]
  },
  {
   "cell_type": "code",
   "execution_count": 135,
   "metadata": {},
   "outputs": [
    {
     "data": {
      "text/html": [
       "<table>\n",
       "<thead><tr><th></th><th scope=col>ROC</th><th scope=col>Acc</th><th scope=col>Sens</th><th scope=col>Spec</th><th scope=col>FMeas</th><th scope=col>MCC</th></tr></thead>\n",
       "<tbody>\n",
       "\t<tr><th scope=row>Custom STY 1 all tl=0 lr=0.00025</th><td>0.826 0.0168 </td><td>0.7734 0.0671</td><td>0.6971 0.0296</td><td>0.7792 0.0168</td><td>0.3038 0.0671</td><td>0.281 0.0296 </td></tr>\n",
       "\t<tr><th scope=row>Custom STY 1 all tl=3 lr=0.00025</th><td>0.8164 0.0164</td><td>0.7374 0.0673</td><td>0.761 0.0321 </td><td>0.7357 0.0164</td><td>0.2911 0.0673</td><td>0.2784 0.0321</td></tr>\n",
       "\t<tr><th scope=row>Custom STY 1 all tl=0 lr=0.0005</th><td>0.8267 0.0239</td><td>0.8062 0.0287</td><td>0.6312 0.0304</td><td>0.8197 0.0239</td><td>0.3152 0.0287</td><td>0.2828 0.0304</td></tr>\n",
       "\t<tr><th scope=row>Custom STY 1 all tl=3 lr=0.0005</th><td>0.8211 0.0191</td><td>0.7739 0.0232</td><td>0.7054 0.0339</td><td>0.7792 0.0191</td><td>0.3064 0.0232</td><td>0.2854 0.0339</td></tr>\n",
       "</tbody>\n",
       "</table>\n"
      ],
      "text/latex": [
       "\\begin{tabular}{r|llllll}\n",
       "  & ROC & Acc & Sens & Spec & FMeas & MCC\\\\\n",
       "\\hline\n",
       "\tCustom STY 1 all tl=0 lr=0.00025 & 0.826 0.0168  & 0.7734 0.0671 & 0.6971 0.0296 & 0.7792 0.0168 & 0.3038 0.0671 & 0.281 0.0296 \\\\\n",
       "\tCustom STY 1 all tl=3 lr=0.00025 & 0.8164 0.0164 & 0.7374 0.0673 & 0.761 0.0321  & 0.7357 0.0164 & 0.2911 0.0673 & 0.2784 0.0321\\\\\n",
       "\tCustom STY 1 all tl=0 lr=0.0005 & 0.8267 0.0239 & 0.8062 0.0287 & 0.6312 0.0304 & 0.8197 0.0239 & 0.3152 0.0287 & 0.2828 0.0304\\\\\n",
       "\tCustom STY 1 all tl=3 lr=0.0005 & 0.8211 0.0191 & 0.7739 0.0232 & 0.7054 0.0339 & 0.7792 0.0191 & 0.3064 0.0232 & 0.2854 0.0339\\\\\n",
       "\\end{tabular}\n"
      ],
      "text/markdown": [
       "\n",
       "| <!--/--> | ROC | Acc | Sens | Spec | FMeas | MCC | \n",
       "|---|---|---|---|\n",
       "| Custom STY 1 all tl=0 lr=0.00025 | 0.826 0.0168  | 0.7734 0.0671 | 0.6971 0.0296 | 0.7792 0.0168 | 0.3038 0.0671 | 0.281 0.0296  | \n",
       "| Custom STY 1 all tl=3 lr=0.00025 | 0.8164 0.0164 | 0.7374 0.0673 | 0.761 0.0321  | 0.7357 0.0164 | 0.2911 0.0673 | 0.2784 0.0321 | \n",
       "| Custom STY 1 all tl=0 lr=0.0005 | 0.8267 0.0239 | 0.8062 0.0287 | 0.6312 0.0304 | 0.8197 0.0239 | 0.3152 0.0287 | 0.2828 0.0304 | \n",
       "| Custom STY 1 all tl=3 lr=0.0005 | 0.8211 0.0191 | 0.7739 0.0232 | 0.7054 0.0339 | 0.7792 0.0191 | 0.3064 0.0232 | 0.2854 0.0339 | \n",
       "\n",
       "\n"
      ],
      "text/plain": [
       "                                 ROC           Acc           Sens         \n",
       "Custom STY 1 all tl=0 lr=0.00025 0.826 0.0168  0.7734 0.0671 0.6971 0.0296\n",
       "Custom STY 1 all tl=3 lr=0.00025 0.8164 0.0164 0.7374 0.0673 0.761 0.0321 \n",
       "Custom STY 1 all tl=0 lr=0.0005  0.8267 0.0239 0.8062 0.0287 0.6312 0.0304\n",
       "Custom STY 1 all tl=3 lr=0.0005  0.8211 0.0191 0.7739 0.0232 0.7054 0.0339\n",
       "                                 Spec          FMeas         MCC          \n",
       "Custom STY 1 all tl=0 lr=0.00025 0.7792 0.0168 0.3038 0.0671 0.281 0.0296 \n",
       "Custom STY 1 all tl=3 lr=0.00025 0.7357 0.0164 0.2911 0.0673 0.2784 0.0321\n",
       "Custom STY 1 all tl=0 lr=0.0005  0.8197 0.0239 0.3152 0.0287 0.2828 0.0304\n",
       "Custom STY 1 all tl=3 lr=0.0005  0.7792 0.0191 0.3064 0.0232 0.2854 0.0339"
      ]
     },
     "metadata": {},
     "output_type": "display_data"
    }
   ],
   "source": [
    "# Using all-phos-data: To produce the Table results in the paper\n",
    "\n",
    "bm <- bootstrap.mean[c('Custom STY 1 all tl=0 lr=0.00025', 'Custom STY 1 all tl=3 lr=0.00025', \n",
    "                       'Custom STY 1 all tl=0 lr=0.0005', 'Custom STY 1 all tl=3 lr=0.0005'), \n",
    "                     c('ROC', 'Acc', 'Sens', 'Spec', 'FMeas', 'MCC')]\n",
    "bd <- bootstrap.std[c('Custom STY 1 tl=0 lr=0.00025', 'Custom STY 1 tl=0 lr=0.0005'), \n",
    "                     c('ROC', 'Acc', 'Sens', 'Spec', 'FMeas', 'MCC')]\n",
    "m <- matrix(paste(as.matrix(round(bm, 4)), as.matrix(round(bd, 4))), ncol = ncol(bm), nrow = nrow(bm))\n",
    "rownames(m) <- rownames(bm)\n",
    "colnames(m) <- colnames(bm)\n",
    "m"
   ]
  }
 ],
 "metadata": {
  "kernelspec": {
   "display_name": "R",
   "language": "R",
   "name": "ir"
  },
  "language_info": {
   "codemirror_mode": "r",
   "file_extension": ".r",
   "mimetype": "text/x-r-source",
   "name": "R",
   "pygments_lexer": "r",
   "version": "3.4.3"
  }
 },
 "nbformat": 4,
 "nbformat_minor": 2
}
