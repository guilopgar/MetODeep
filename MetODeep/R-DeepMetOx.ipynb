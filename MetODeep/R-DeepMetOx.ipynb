{
 "cells": [
  {
   "cell_type": "markdown",
   "metadata": {},
   "source": [
    "# Analysis of the obtained results\n",
    "\n",
    "In this notebook, we will perform an analysis of the obtained results applying MusiteDeep model to the methionine-oxidation problem.\n",
    "\n",
    "We first load the MetOx dataset:"
   ]
  },
  {
   "cell_type": "code",
   "execution_count": 42,
   "metadata": {},
   "outputs": [],
   "source": [
    "load('MetOData.RData')"
   ]
  },
  {
   "cell_type": "code",
   "execution_count": 43,
   "metadata": {
    "scrolled": true
   },
   "outputs": [
    {
     "data": {
      "text/html": [
       "<table>\n",
       "<thead><tr><th scope=col>ACC</th><th scope=col>PDB</th><th scope=col>Met</th><th scope=col>Oxidable</th><th scope=col>Yd.chain</th><th scope=col>Fd.chain</th><th scope=col>Wd.chain</th><th scope=col>nY.chain</th><th scope=col>nF.chain</th><th scope=col>nW.chain</th><th scope=col>⋯</th><th scope=col>CT_M</th><th scope=col>CT_N</th><th scope=col>CT_P</th><th scope=col>CT_Q</th><th scope=col>CT_R</th><th scope=col>CT_S</th><th scope=col>CT_T</th><th scope=col>CT_V</th><th scope=col>CT_W</th><th scope=col>CT_Y</th></tr></thead>\n",
       "<tbody>\n",
       "\t<tr><td>A5YKK6</td><td>4C0D  </td><td>1883  </td><td>No    </td><td>10.6  </td><td> 4.8  </td><td> 8.6  </td><td>0     </td><td>2     </td><td>0     </td><td>⋯     </td><td>22    </td><td>37    </td><td>38    </td><td> 2    </td><td>14    </td><td>27    </td><td> 8    </td><td>24    </td><td>155   </td><td>28    </td></tr>\n",
       "\t<tr><td>A5YKK6</td><td>4C0D  </td><td>1905  </td><td>No    </td><td>10.9  </td><td> 8.8  </td><td>12.6  </td><td>0     </td><td>0     </td><td>0     </td><td>⋯     </td><td>22    </td><td>15    </td><td>16    </td><td> 9    </td><td> 7    </td><td> 5    </td><td>21    </td><td> 2    </td><td>133   </td><td> 6    </td></tr>\n",
       "\t<tr><td>A5YKK6</td><td>4C0D  </td><td>1996  </td><td>No    </td><td> 8.3  </td><td>11.6  </td><td>14.2  </td><td>0     </td><td>0     </td><td>0     </td><td>⋯     </td><td>55    </td><td> 6    </td><td> 8    </td><td>18    </td><td>31    </td><td>47    </td><td>14    </td><td>11    </td><td> 42   </td><td>40    </td></tr>\n",
       "\t<tr><td>A5YKK6</td><td>4C0D  </td><td>2051  </td><td>No    </td><td> 6.8  </td><td> 4.8  </td><td> 9.2  </td><td>1     </td><td>1     </td><td>0     </td><td>⋯     </td><td>12    </td><td>30    </td><td> 5    </td><td> 6    </td><td>29    </td><td>83    </td><td> 4    </td><td>31    </td><td> 10   </td><td>13    </td></tr>\n",
       "\t<tr><td>A5YKK6</td><td>4C0D  </td><td>2063  </td><td>No    </td><td> 9.8  </td><td> 5.8  </td><td>10.5  </td><td>0     </td><td>1     </td><td>0     </td><td>⋯     </td><td>25    </td><td>18    </td><td>14    </td><td> 3    </td><td>17    </td><td>71    </td><td>22    </td><td>19    </td><td>257   </td><td> 1    </td></tr>\n",
       "\t<tr><td>A5YKK6</td><td>4C0D  </td><td>2088  </td><td>No    </td><td> 5.9  </td><td> 4.4  </td><td>12.8  </td><td>1     </td><td>1     </td><td>0     </td><td>⋯     </td><td>52    </td><td>36    </td><td>19    </td><td> 1    </td><td> 9    </td><td>46    </td><td> 7    </td><td>10    </td><td>232   </td><td> 4    </td></tr>\n",
       "</tbody>\n",
       "</table>\n"
      ],
      "text/latex": [
       "\\begin{tabular}{r|llllllllllllllllllllllllllllllllllllllllllllllllllllllllllllllllllllllllllllllll}\n",
       " ACC & PDB & Met & Oxidable & Yd.chain & Fd.chain & Wd.chain & nY.chain & nF.chain & nW.chain & ⋯ & CT\\_M & CT\\_N & CT\\_P & CT\\_Q & CT\\_R & CT\\_S & CT\\_T & CT\\_V & CT\\_W & CT\\_Y\\\\\n",
       "\\hline\n",
       "\t A5YKK6 & 4C0D   & 1883   & No     & 10.6   &  4.8   &  8.6   & 0      & 2      & 0      & ⋯      & 22     & 37     & 38     &  2     & 14     & 27     &  8     & 24     & 155    & 28    \\\\\n",
       "\t A5YKK6 & 4C0D   & 1905   & No     & 10.9   &  8.8   & 12.6   & 0      & 0      & 0      & ⋯      & 22     & 15     & 16     &  9     &  7     &  5     & 21     &  2     & 133    &  6    \\\\\n",
       "\t A5YKK6 & 4C0D   & 1996   & No     &  8.3   & 11.6   & 14.2   & 0      & 0      & 0      & ⋯      & 55     &  6     &  8     & 18     & 31     & 47     & 14     & 11     &  42    & 40    \\\\\n",
       "\t A5YKK6 & 4C0D   & 2051   & No     &  6.8   &  4.8   &  9.2   & 1      & 1      & 0      & ⋯      & 12     & 30     &  5     &  6     & 29     & 83     &  4     & 31     &  10    & 13    \\\\\n",
       "\t A5YKK6 & 4C0D   & 2063   & No     &  9.8   &  5.8   & 10.5   & 0      & 1      & 0      & ⋯      & 25     & 18     & 14     &  3     & 17     & 71     & 22     & 19     & 257    &  1    \\\\\n",
       "\t A5YKK6 & 4C0D   & 2088   & No     &  5.9   &  4.4   & 12.8   & 1      & 1      & 0      & ⋯      & 52     & 36     & 19     &  1     &  9     & 46     &  7     & 10     & 232    &  4    \\\\\n",
       "\\end{tabular}\n"
      ],
      "text/markdown": [
       "\n",
       "ACC | PDB | Met | Oxidable | Yd.chain | Fd.chain | Wd.chain | nY.chain | nF.chain | nW.chain | ⋯ | CT_M | CT_N | CT_P | CT_Q | CT_R | CT_S | CT_T | CT_V | CT_W | CT_Y | \n",
       "|---|---|---|---|---|---|\n",
       "| A5YKK6 | 4C0D   | 1883   | No     | 10.6   |  4.8   |  8.6   | 0      | 2      | 0      | ⋯      | 22     | 37     | 38     |  2     | 14     | 27     |  8     | 24     | 155    | 28     | \n",
       "| A5YKK6 | 4C0D   | 1905   | No     | 10.9   |  8.8   | 12.6   | 0      | 0      | 0      | ⋯      | 22     | 15     | 16     |  9     |  7     |  5     | 21     |  2     | 133    |  6     | \n",
       "| A5YKK6 | 4C0D   | 1996   | No     |  8.3   | 11.6   | 14.2   | 0      | 0      | 0      | ⋯      | 55     |  6     |  8     | 18     | 31     | 47     | 14     | 11     |  42    | 40     | \n",
       "| A5YKK6 | 4C0D   | 2051   | No     |  6.8   |  4.8   |  9.2   | 1      | 1      | 0      | ⋯      | 12     | 30     |  5     |  6     | 29     | 83     |  4     | 31     |  10    | 13     | \n",
       "| A5YKK6 | 4C0D   | 2063   | No     |  9.8   |  5.8   | 10.5   | 0      | 1      | 0      | ⋯      | 25     | 18     | 14     |  3     | 17     | 71     | 22     | 19     | 257    |  1     | \n",
       "| A5YKK6 | 4C0D   | 2088   | No     |  5.9   |  4.4   | 12.8   | 1      | 1      | 0      | ⋯      | 52     | 36     | 19     |  1     |  9     | 46     |  7     | 10     | 232    |  4     | \n",
       "\n",
       "\n"
      ],
      "text/plain": [
       "  ACC    PDB  Met  Oxidable Yd.chain Fd.chain Wd.chain nY.chain nF.chain\n",
       "1 A5YKK6 4C0D 1883 No       10.6      4.8      8.6     0        2       \n",
       "2 A5YKK6 4C0D 1905 No       10.9      8.8     12.6     0        0       \n",
       "3 A5YKK6 4C0D 1996 No        8.3     11.6     14.2     0        0       \n",
       "4 A5YKK6 4C0D 2051 No        6.8      4.8      9.2     1        1       \n",
       "5 A5YKK6 4C0D 2063 No        9.8      5.8     10.5     0        1       \n",
       "6 A5YKK6 4C0D 2088 No        5.9      4.4     12.8     1        1       \n",
       "  nW.chain ⋯ CT_M CT_N CT_P CT_Q CT_R CT_S CT_T CT_V CT_W CT_Y\n",
       "1 0        ⋯ 22   37   38    2   14   27    8   24   155  28  \n",
       "2 0        ⋯ 22   15   16    9    7    5   21    2   133   6  \n",
       "3 0        ⋯ 55    6    8   18   31   47   14   11    42  40  \n",
       "4 0        ⋯ 12   30    5    6   29   83    4   31    10  13  \n",
       "5 0        ⋯ 25   18   14    3   17   71   22   19   257   1  \n",
       "6 0        ⋯ 52   36   19    1    9   46    7   10   232   4  "
      ]
     },
     "metadata": {},
     "output_type": "display_data"
    }
   ],
   "source": [
    "head(MetOData)"
   ]
  },
  {
   "cell_type": "code",
   "execution_count": 44,
   "metadata": {},
   "outputs": [],
   "source": [
    "get_ids <- function(cad){\n",
    "    unlist(strsplit(unlist(strsplit(cad, '[|]'))[2], '[.]'))[1]\n",
    "}\n",
    "\n",
    "\n",
    "test_analysis <- function(train.ids, metox.data, results.path) {\n",
    "    test_acc <- ACC_ids[-train.ids]\n",
    "\n",
    "    # Load results (previously computed with keras/theano - deep learning)\n",
    "    test_results <- read.table(results.path, sep = '\\t', col.names = c('id', 'pos', 'res', 'prob'))\n",
    "\n",
    "    test_results$id <- as.character(test_results$id)\n",
    "\n",
    "    test_res_ids <- sapply(test_results$id, get_ids)\n",
    "\n",
    "    test_results$id <- test_res_ids\n",
    "\n",
    "    test_results$Prediction <- factor(ifelse(test_results$prob > 0.5, 'Yes', 'No'), levels = c('Yes','No'))\n",
    "\n",
    "    test_results <- test_results[, c('id', 'pos', 'prob', 'Prediction')]\n",
    "\n",
    "    names(test_results) <- c('ACC', 'Met', 'Prob', 'Prediction')\n",
    "\n",
    "    MetOData_test <- metox.data[metox.data$ACC %in% test_acc,c('ACC','Met','Oxidable')]\n",
    "    \n",
    "    return(list(test_results=test_results, MetOData_test=MetOData_test))\n",
    "}\n",
    "\n",
    "\n",
    "metrics_analysis <- function(test_results) {\n",
    "    lvl <- rev(levels(test_results$Oxidable))\n",
    "    tstROC <- roc(test_results$Oxidable, test_results$Prob, levels = lvl)\n",
    "    bestVals <- coords(tstROC, 0.5, ret=c(\"accuracy\", \"sensitivity\", \"specificity\", \"tp\", \"tn\", \"fp\", \"fn\"))\n",
    "\n",
    "    tp <- bestVals[4]\n",
    "    tn <- bestVals[5]\n",
    "    fp <- bestVals[6]\n",
    "    fn <- bestVals[7]\n",
    "    precision <- tp / (tp + fp)\n",
    "    # In binary classification, sensibility=recall\n",
    "    recall <- tp / (tp + fn)\n",
    "    mcc <- (tp * tn - fp * fn)/sqrt((tp + fp) * (tp + fn) * (tn + fp) * (tn + fn))\n",
    "    Fmeasure <- 2 * precision * recall / (precision + recall)\n",
    "    return(c(0.5, \n",
    "             tstROC$auc, \n",
    "             bestVals[1:3],\n",
    "             precision,\n",
    "             recall,\n",
    "             mcc,\n",
    "             Fmeasure\n",
    "    ))\n",
    "}\n",
    "\n",
    "\n",
    "results_analysis_all <- function(train.ids, metox.data, results.path) {\n",
    "    # Using all the methionines not marked as positive in MetOData as the negative samples\n",
    "    \n",
    "    res <- test_analysis(train.ids, metox.data, results.path)\n",
    "    test_results <- res$test_results\n",
    "    MetOData_test <- res$MetOData_test\n",
    "\n",
    "    test_results$Oxidable <- rep(factor(\"No\", levels = c(\"Yes\", \"No\")), dim(test_results)[1])\n",
    "    for (j in 1:(dim(MetOData_test)[1])){\n",
    "        test_results[test_results$ACC == MetOData_test$ACC[j] & test_results$Met == MetOData_test$Met[j], \n",
    "                     'Oxidable'] <- MetOData_test$Oxidable[j]\n",
    "    }\n",
    "\n",
    "    return(metrics_analysis(test_results))\n",
    "}"
   ]
  },
  {
   "cell_type": "markdown",
   "metadata": {},
   "source": [
    "## Using bootstrap strategy"
   ]
  },
  {
   "cell_type": "code",
   "execution_count": 45,
   "metadata": {},
   "outputs": [],
   "source": [
    "library(pROC)\n",
    "library(caret)\n",
    "\n",
    "NM_BS <- 100 # Number of boostrap repetitions\n",
    "\n",
    "ACC_ids <- unique(MetOData$ACC)\n",
    "\n",
    "sts <- as.data.frame(matrix(rep(0,9*NM_BS),NM_BS,9))\n",
    "\n",
    "names(sts) <- c(\"cut\", \n",
    "                \"ROC\", \n",
    "                \"Acc\", \n",
    "                \"Sens\", \n",
    "                \"Spec\", \n",
    "                \"Prec\", \n",
    "                \"Recal\", \n",
    "                'MCC', \n",
    "                'FMeas')\n",
    "\n",
    "set.seed(1)\n",
    "train_ids_bs <- createResample(y = ACC_ids, times = NM_BS)"
   ]
  },
  {
   "cell_type": "code",
   "execution_count": 46,
   "metadata": {},
   "outputs": [],
   "source": [
    "# To compare all obtained results using bootstrap strategy and all non-positive residues as negative samples\n",
    "r.names <- c('Custom ST 1 all', 'Custom STY 1 all', 'Custom STY 1 all lr=0.00075', 'Custom STY 1 all tl=0', \n",
    "             'Custom STY 1 all tl=0 lr=0.0005', 'Custom STY 1 all tl=0 lr=0.0001')\n",
    "bootstrap.mean <- as.data.frame(matrix(rep(0,length(r.names)*9),length(r.names),9))\n",
    "colnames(bootstrap.mean) <- names(sts)\n",
    "rownames(bootstrap.mean) <- r.names\n",
    "bootstrap.std <- bootstrap.mean"
   ]
  },
  {
   "cell_type": "markdown",
   "metadata": {},
   "source": [
    "### Using all phosphorylation data\n",
    "\n",
    "Using nclass=1 and STY-residues:"
   ]
  },
  {
   "cell_type": "code",
   "execution_count": 47,
   "metadata": {},
   "outputs": [],
   "source": [
    "for (i in 1:NM_BS){\n",
    "    sts[i,] <- results_analysis_all(train_ids_bs[[i]], MetOData, \n",
    "                                paste0('all-phos-data/results/bs-STY-nclass1-lr0.001-tl1/metox_result_custom_general_STY_bs_', \n",
    "                                       i, '_custom.txt'))\n",
    "}"
   ]
  },
  {
   "cell_type": "code",
   "execution_count": 48,
   "metadata": {
    "scrolled": true
   },
   "outputs": [
    {
     "name": "stdout",
     "output_type": "stream",
     "text": [
      "[1] \"Mean:\"\n",
      "                 cut       ROC       Acc      Sens      Spec      Prec\n",
      "Custom STY 1 all 0.5 0.8246012 0.8074669 0.6375656 0.8205609 0.2139331\n",
      "                     Recal       MCC     FMeas\n",
      "Custom STY 1 all 0.6375656 0.2875487 0.3187854\n",
      "[1] \"Std:\"\n",
      "                 cut        ROC        Acc       Sens       Spec       Prec\n",
      "Custom STY 1 all   0 0.01743957 0.01928497 0.07592377 0.02360048 0.02810978\n",
      "                      Recal        MCC      FMeas\n",
      "Custom STY 1 all 0.07592377 0.03759002 0.03459311\n"
     ]
    }
   ],
   "source": [
    "row.name <- 'Custom STY 1 all'\n",
    "print('Mean:')\n",
    "bootstrap.mean[row.name, ] <- sapply(sts,mean)\n",
    "print(bootstrap.mean[row.name, ])\n",
    "\n",
    "print('Std:')\n",
    "bootstrap.std[row.name, ] <- sapply(sts,sd)\n",
    "print(bootstrap.std[row.name, ])"
   ]
  },
  {
   "cell_type": "markdown",
   "metadata": {},
   "source": [
    "Using nclass=1 and ST-residues:"
   ]
  },
  {
   "cell_type": "code",
   "execution_count": 49,
   "metadata": {},
   "outputs": [],
   "source": [
    "for (i in 1:NM_BS){\n",
    "    sts[i,] <- results_analysis_all(train_ids_bs[[i]], MetOData, \n",
    "                                paste0('all-phos-data/results/bs-ST-nclass1-lr0.001-tl1/metox_result_custom_general_ST_bs_', \n",
    "                                       i, '_custom.txt'))\n",
    "}"
   ]
  },
  {
   "cell_type": "code",
   "execution_count": 50,
   "metadata": {
    "scrolled": true
   },
   "outputs": [
    {
     "name": "stdout",
     "output_type": "stream",
     "text": [
      "[1] \"Mean:\"\n",
      "                cut       ROC       Acc      Sens      Spec      Prec     Recal\n",
      "Custom ST 1 all 0.5 0.8040518 0.7947688 0.5886838 0.8106672 0.1923297 0.5886838\n",
      "                      MCC    FMeas\n",
      "Custom ST 1 all 0.2481217 0.288178\n",
      "[1] \"Std:\"\n",
      "                cut        ROC        Acc      Sens       Spec       Prec\n",
      "Custom ST 1 all   0 0.02018388 0.02273654 0.0842646 0.02800439 0.02589022\n",
      "                    Recal        MCC      FMeas\n",
      "Custom ST 1 all 0.0842646 0.03818613 0.03214135\n"
     ]
    }
   ],
   "source": [
    "row.name <- 'Custom ST 1 all'\n",
    "print('Mean:')\n",
    "bootstrap.mean[row.name, ] <- sapply(sts,mean)\n",
    "print(bootstrap.mean[row.name, ])\n",
    "\n",
    "print('Std:')\n",
    "bootstrap.std[row.name, ] <- sapply(sts,sd)\n",
    "print(bootstrap.std[row.name, ])"
   ]
  },
  {
   "cell_type": "markdown",
   "metadata": {},
   "source": [
    "#### Transfer-leayer and learning-rate\n",
    "\n",
    "Using lr=0.00075:"
   ]
  },
  {
   "cell_type": "code",
   "execution_count": 51,
   "metadata": {},
   "outputs": [],
   "source": [
    "for (i in 1:NM_BS){\n",
    "    sts[i,] <- results_analysis_all(train_ids_bs[[i]], MetOData, \n",
    "                                paste0('all-phos-data/results/bs-STY-nclass1-lr0.00075-tl1/metox_result_custom_general_STY_bs_', \n",
    "                                       i, '_custom.txt'))\n",
    "}"
   ]
  },
  {
   "cell_type": "code",
   "execution_count": 52,
   "metadata": {
    "scrolled": true
   },
   "outputs": [
    {
     "name": "stdout",
     "output_type": "stream",
     "text": [
      "[1] \"Mean:\"\n",
      "                            cut       ROC       Acc      Sens      Spec\n",
      "Custom STY 1 all lr=0.00075 0.5 0.8234521 0.7913985 0.6730122 0.8005296\n",
      "                                 Prec     Recal       MCC     FMeas\n",
      "Custom STY 1 all lr=0.00075 0.2058185 0.6730122 0.2877254 0.3137791\n",
      "[1] \"Std:\"\n",
      "                            cut       ROC        Acc       Sens       Spec\n",
      "Custom STY 1 all lr=0.00075   0 0.0172962 0.02298818 0.06637465 0.02738629\n",
      "                                  Prec      Recal        MCC      FMeas\n",
      "Custom STY 1 all lr=0.00075 0.02714186 0.06637465 0.03319643 0.03253982\n"
     ]
    }
   ],
   "source": [
    "row.name <- 'Custom STY 1 all lr=0.00075'\n",
    "print('Mean:')\n",
    "bootstrap.mean[row.name, ] <- sapply(sts,mean)\n",
    "print(bootstrap.mean[row.name, ])\n",
    "\n",
    "print('Std:')\n",
    "bootstrap.std[row.name, ] <- sapply(sts,sd)\n",
    "print(bootstrap.std[row.name, ])"
   ]
  },
  {
   "cell_type": "markdown",
   "metadata": {},
   "source": [
    "Using lr=0.0005:"
   ]
  },
  {
   "cell_type": "code",
   "execution_count": 53,
   "metadata": {},
   "outputs": [],
   "source": [
    "for (i in 1:NM_BS){\n",
    "    sts[i,] <- results_analysis_all(train_ids_bs[[i]], MetOData, \n",
    "                                paste0('all-phos-data/results/bs-STY-nclass1-lr0.0005-tl1/metox_result_custom_general_STY_bs_', \n",
    "                                       i, '_custom.txt'))\n",
    "}"
   ]
  },
  {
   "cell_type": "code",
   "execution_count": 54,
   "metadata": {
    "scrolled": true
   },
   "outputs": [
    {
     "name": "stdout",
     "output_type": "stream",
     "text": [
      "[1] \"Mean:\"\n",
      "                           cut       ROC       Acc      Sens      Spec\n",
      "Custom STY 1 all lr=0.0005 0.5 0.8223466 0.7698317 0.7086364 0.7745967\n",
      "                                Prec     Recal       MCC     FMeas\n",
      "Custom STY 1 all lr=0.0005 0.1940997 0.7086364 0.2828418 0.3035736\n",
      "[1] \"Std:\"\n",
      "                           cut        ROC      Acc       Sens       Spec\n",
      "Custom STY 1 all lr=0.0005   0 0.01831664 0.021355 0.06831434 0.02539075\n",
      "                                 Prec      Recal        MCC      FMeas\n",
      "Custom STY 1 all lr=0.0005 0.02473331 0.06831434 0.03366111 0.03159807\n"
     ]
    }
   ],
   "source": [
    "row.name <- 'Custom STY 1 all lr=0.0005'\n",
    "print('Mean:')\n",
    "bootstrap.mean[row.name, ] <- sapply(sts,mean)\n",
    "print(bootstrap.mean[row.name, ])\n",
    "\n",
    "print('Std:')\n",
    "bootstrap.std[row.name, ] <- sapply(sts,sd)\n",
    "print(bootstrap.std[row.name, ])"
   ]
  },
  {
   "cell_type": "markdown",
   "metadata": {},
   "source": [
    "Using lr=0.00025:"
   ]
  },
  {
   "cell_type": "code",
   "execution_count": 55,
   "metadata": {},
   "outputs": [],
   "source": [
    "for (i in 1:NM_BS){\n",
    "    sts[i,] <- results_analysis_all(train_ids_bs[[i]], MetOData, \n",
    "                                paste0('all-phos-data/results/bs-STY-nclass1-lr0.00025-tl1/metox_result_custom_general_STY_bs_', \n",
    "                                       i, '_custom.txt'))\n",
    "}"
   ]
  },
  {
   "cell_type": "code",
   "execution_count": 56,
   "metadata": {
    "scrolled": true
   },
   "outputs": [
    {
     "name": "stdout",
     "output_type": "stream",
     "text": [
      "[1] \"Mean:\"\n",
      "                            cut       ROC       Acc      Sens      Spec\n",
      "Custom STY 1 all lr=0.00025 0.5 0.8187842 0.7386868 0.7595586 0.7370128\n",
      "                                 Prec     Recal       MCC     FMeas\n",
      "Custom STY 1 all lr=0.00025 0.1816369 0.7595586 0.2791884 0.2922204\n",
      "[1] \"Std:\"\n",
      "                            cut        ROC        Acc       Sens       Spec\n",
      "Custom STY 1 all lr=0.00025   0 0.01942725 0.03144187 0.06673926 0.03658192\n",
      "                                  Prec      Recal        MCC      FMeas\n",
      "Custom STY 1 all lr=0.00025 0.02213755 0.06673926 0.03158667 0.02964153\n"
     ]
    }
   ],
   "source": [
    "row.name <- 'Custom STY 1 all lr=0.00025'\n",
    "print('Mean:')\n",
    "bootstrap.mean[row.name, ] <- sapply(sts,mean)\n",
    "print(bootstrap.mean[row.name, ])\n",
    "\n",
    "print('Std:')\n",
    "bootstrap.std[row.name, ] <- sapply(sts,sd)\n",
    "print(bootstrap.std[row.name, ])"
   ]
  },
  {
   "cell_type": "markdown",
   "metadata": {},
   "source": [
    "Using lr=0.00125:"
   ]
  },
  {
   "cell_type": "code",
   "execution_count": 57,
   "metadata": {},
   "outputs": [],
   "source": [
    "for (i in 1:NM_BS){\n",
    "    sts[i,] <- results_analysis_all(train_ids_bs[[i]], MetOData, \n",
    "                                paste0('all-phos-data/results/bs-STY-nclass1-lr0.00125-tl1/metox_result_custom_general_STY_bs_', \n",
    "                                       i, '_custom.txt'))\n",
    "}"
   ]
  },
  {
   "cell_type": "code",
   "execution_count": 58,
   "metadata": {
    "scrolled": true
   },
   "outputs": [
    {
     "name": "stdout",
     "output_type": "stream",
     "text": [
      "[1] \"Mean:\"\n",
      "                            cut       ROC       Acc      Sens      Spec\n",
      "Custom STY 1 all lr=0.00125 0.5 0.8245893 0.8227456 0.5978157 0.8401295\n",
      "                                 Prec     Recal       MCC     FMeas\n",
      "Custom STY 1 all lr=0.00125 0.2232082 0.5978157 0.2859654 0.3227455\n",
      "[1] \"Std:\"\n",
      "                            cut       ROC        Acc       Sens       Spec\n",
      "Custom STY 1 all lr=0.00125   0 0.0182265 0.01983841 0.07835088 0.02494897\n",
      "                                  Prec      Recal        MCC      FMeas\n",
      "Custom STY 1 all lr=0.00125 0.03207858 0.07835088 0.03831837 0.03614759\n"
     ]
    }
   ],
   "source": [
    "row.name <- 'Custom STY 1 all lr=0.00125'\n",
    "print('Mean:')\n",
    "bootstrap.mean[row.name, ] <- sapply(sts,mean)\n",
    "print(bootstrap.mean[row.name, ])\n",
    "\n",
    "print('Std:')\n",
    "bootstrap.std[row.name, ] <- sapply(sts,sd)\n",
    "print(bootstrap.std[row.name, ])"
   ]
  },
  {
   "cell_type": "markdown",
   "metadata": {},
   "source": [
    "Using lr=0.0015:"
   ]
  },
  {
   "cell_type": "code",
   "execution_count": 59,
   "metadata": {},
   "outputs": [],
   "source": [
    "for (i in 1:NM_BS){\n",
    "    sts[i,] <- results_analysis_all(train_ids_bs[[i]], MetOData, \n",
    "                                paste0('all-phos-data/results/bs-STY-nclass1-lr0.0015-tl1/metox_result_custom_general_STY_bs_', \n",
    "                                       i, '_custom.txt'))\n",
    "}"
   ]
  },
  {
   "cell_type": "code",
   "execution_count": 60,
   "metadata": {
    "scrolled": true
   },
   "outputs": [
    {
     "name": "stdout",
     "output_type": "stream",
     "text": [
      "[1] \"Mean:\"\n",
      "                           cut       ROC       Acc      Sens      Spec\n",
      "Custom STY 1 all lr=0.0015 0.5 0.8257222 0.8370374 0.5568165 0.8586624\n",
      "                                Prec     Recal       MCC    FMeas\n",
      "Custom STY 1 all lr=0.0015 0.2319908 0.5568165 0.2829735 0.325066\n",
      "[1] \"Std:\"\n",
      "                           cut        ROC        Acc       Sens       Spec\n",
      "Custom STY 1 all lr=0.0015   0 0.01776466 0.01754049 0.07827298 0.02241656\n",
      "                                 Prec      Recal        MCC      FMeas\n",
      "Custom STY 1 all lr=0.0015 0.03061038 0.07827298 0.03750615 0.03361491\n"
     ]
    }
   ],
   "source": [
    "row.name <- 'Custom STY 1 all lr=0.0015'\n",
    "print('Mean:')\n",
    "bootstrap.mean[row.name, ] <- sapply(sts,mean)\n",
    "print(bootstrap.mean[row.name, ])\n",
    "\n",
    "print('Std:')\n",
    "bootstrap.std[row.name, ] <- sapply(sts,sd)\n",
    "print(bootstrap.std[row.name, ])"
   ]
  },
  {
   "cell_type": "markdown",
   "metadata": {},
   "source": [
    "Using transfer-leayer=0:"
   ]
  },
  {
   "cell_type": "code",
   "execution_count": 61,
   "metadata": {},
   "outputs": [],
   "source": [
    "for (i in 1:NM_BS){\n",
    "    sts[i,] <- results_analysis_all(train_ids_bs[[i]], MetOData, \n",
    "                                paste0('all-phos-data/results/bs-STY-nclass1-lr0.001-tl0/metox_result_custom_general_STY_bs_', \n",
    "                                       i, '_custom.txt'))\n",
    "}"
   ]
  },
  {
   "cell_type": "code",
   "execution_count": 62,
   "metadata": {
    "scrolled": true
   },
   "outputs": [
    {
     "name": "stdout",
     "output_type": "stream",
     "text": [
      "[1] \"Mean:\"\n",
      "                      cut       ROC       Acc      Sens      Spec      Prec\n",
      "Custom STY 1 all tl=0 0.5 0.8250863 0.8423129 0.5249736 0.8667667 0.2315154\n",
      "                          Recal       MCC     FMeas\n",
      "Custom STY 1 all tl=0 0.5249736 0.2729259 0.3192354\n",
      "[1] \"Std:\"\n",
      "                      cut        ROC        Acc       Sens       Spec\n",
      "Custom STY 1 all tl=0   0 0.01772713 0.01356486 0.07176126 0.01733374\n",
      "                            Prec      Recal        MCC      FMeas\n",
      "Custom STY 1 all tl=0 0.03150495 0.07176126 0.03872839 0.03512651\n"
     ]
    }
   ],
   "source": [
    "row.name <- 'Custom STY 1 all tl=0'\n",
    "print('Mean:')\n",
    "bootstrap.mean[row.name, ] <- sapply(sts,mean)\n",
    "print(bootstrap.mean[row.name, ])\n",
    "\n",
    "print('Std:')\n",
    "bootstrap.std[row.name, ] <- sapply(sts,sd)\n",
    "print(bootstrap.std[row.name, ])"
   ]
  },
  {
   "cell_type": "markdown",
   "metadata": {},
   "source": [
    "Using transfer-leayer=3:"
   ]
  },
  {
   "cell_type": "code",
   "execution_count": 63,
   "metadata": {},
   "outputs": [],
   "source": [
    "for (i in 1:NM_BS){\n",
    "    sts[i,] <- results_analysis_all(train_ids_bs[[i]], MetOData, \n",
    "                                paste0('all-phos-data/results/bs-STY-nclass1-lr0.001-tl3/metox_result_custom_general_STY_bs_', \n",
    "                                       i, '_custom.txt'))\n",
    "}"
   ]
  },
  {
   "cell_type": "code",
   "execution_count": 64,
   "metadata": {
    "scrolled": true
   },
   "outputs": [
    {
     "name": "stdout",
     "output_type": "stream",
     "text": [
      "[1] \"Mean:\"\n",
      "                      cut       ROC      Acc      Sens     Spec      Prec\n",
      "Custom STY 1 all tl=3 0.5 0.8249449 0.814032 0.6150379 0.829401 0.2168772\n",
      "                          Recal       MCC     FMeas\n",
      "Custom STY 1 all tl=3 0.6150379 0.2840662 0.3185954\n",
      "[1] \"Std:\"\n",
      "                      cut        ROC        Acc       Sens       Spec    Prec\n",
      "Custom STY 1 all tl=3   0 0.01733322 0.02057429 0.07634665 0.02566744 0.02999\n",
      "                           Recal        MCC      FMeas\n",
      "Custom STY 1 all tl=3 0.07634665 0.03602866 0.03418386\n"
     ]
    }
   ],
   "source": [
    "row.name <- 'Custom STY 1 all tl=3'\n",
    "print('Mean:')\n",
    "bootstrap.mean[row.name, ] <- sapply(sts,mean)\n",
    "print(bootstrap.mean[row.name, ])\n",
    "\n",
    "print('Std:')\n",
    "bootstrap.std[row.name, ] <- sapply(sts,sd)\n",
    "print(bootstrap.std[row.name, ])"
   ]
  },
  {
   "cell_type": "markdown",
   "metadata": {},
   "source": [
    "Using transfer-leayer=5:"
   ]
  },
  {
   "cell_type": "code",
   "execution_count": 65,
   "metadata": {},
   "outputs": [],
   "source": [
    "for (i in 1:NM_BS){\n",
    "    sts[i,] <- results_analysis_all(train_ids_bs[[i]], MetOData, \n",
    "                                paste0('all-phos-data/results/bs-STY-nclass1-lr0.001-tl5/metox_result_custom_general_STY_bs_', \n",
    "                                       i, '_custom.txt'))\n",
    "}"
   ]
  },
  {
   "cell_type": "code",
   "execution_count": 66,
   "metadata": {
    "scrolled": true
   },
   "outputs": [
    {
     "name": "stdout",
     "output_type": "stream",
     "text": [
      "[1] \"Mean:\"\n",
      "                      cut       ROC       Acc      Sens      Spec      Prec\n",
      "Custom STY 1 all tl=5 0.5 0.8045615 0.8031159 0.6016179 0.8187353 0.2036052\n",
      "                          Recal       MCC     FMeas\n",
      "Custom STY 1 all tl=5 0.6016179 0.2646956 0.3020633\n",
      "[1] \"Std:\"\n",
      "                      cut        ROC        Acc       Sens       Spec\n",
      "Custom STY 1 all tl=5   0 0.02037681 0.02553507 0.07873155 0.03094027\n",
      "                            Prec      Recal        MCC     FMeas\n",
      "Custom STY 1 all tl=5 0.02843163 0.07873155 0.03574793 0.0325646\n"
     ]
    }
   ],
   "source": [
    "row.name <- 'Custom STY 1 all tl=5'\n",
    "print('Mean:')\n",
    "bootstrap.mean[row.name, ] <- sapply(sts,mean)\n",
    "print(bootstrap.mean[row.name, ])\n",
    "\n",
    "print('Std:')\n",
    "bootstrap.std[row.name, ] <- sapply(sts,sd)\n",
    "print(bootstrap.std[row.name, ])"
   ]
  },
  {
   "cell_type": "markdown",
   "metadata": {},
   "source": [
    "Using lr=0.00025 and transfer-leayer=0:"
   ]
  },
  {
   "cell_type": "code",
   "execution_count": 67,
   "metadata": {},
   "outputs": [],
   "source": [
    "for (i in 1:NM_BS){\n",
    "    sts[i,] <- results_analysis_all(train_ids_bs[[i]], MetOData, \n",
    "                                paste0('all-phos-data/results/bs-STY-nclass1-lr0.00025-tl0/metox_result_custom_general_STY_bs_', \n",
    "                                       i, '_custom.txt'))\n",
    "}"
   ]
  },
  {
   "cell_type": "code",
   "execution_count": 68,
   "metadata": {
    "scrolled": true
   },
   "outputs": [
    {
     "name": "stdout",
     "output_type": "stream",
     "text": [
      "[1] \"Mean:\"\n",
      "                                 cut       ROC      Acc      Sens      Spec\n",
      "Custom STY 1 all tl=0 lr=0.00025 0.5 0.8259764 0.773412 0.6971422 0.7792468\n",
      "                                      Prec     Recal       MCC     FMeas\n",
      "Custom STY 1 all tl=0 lr=0.00025 0.1951391 0.6971422 0.2810113 0.3037618\n",
      "[1] \"Std:\"\n",
      "                                 cut       ROC        Acc       Sens       Spec\n",
      "Custom STY 1 all tl=0 lr=0.00025   0 0.0168897 0.02281526 0.06479564 0.02672493\n",
      "                                      Prec      Recal        MCC      FMeas\n",
      "Custom STY 1 all tl=0 lr=0.00025 0.0266137 0.06479564 0.03498056 0.03388339\n"
     ]
    }
   ],
   "source": [
    "row.name <- 'Custom STY 1 all tl=0 lr=0.00025'\n",
    "print('Mean:')\n",
    "bootstrap.mean[row.name, ] <- sapply(sts,mean)\n",
    "print(bootstrap.mean[row.name, ])\n",
    "\n",
    "print('Std:')\n",
    "bootstrap.std[row.name, ] <- sapply(sts,sd)\n",
    "print(bootstrap.std[row.name, ])"
   ]
  },
  {
   "cell_type": "markdown",
   "metadata": {},
   "source": [
    "Using lr=0.00025 and transfer-leayer=3:"
   ]
  },
  {
   "cell_type": "code",
   "execution_count": 69,
   "metadata": {},
   "outputs": [],
   "source": [
    "for (i in 1:NM_BS){\n",
    "    sts[i,] <- results_analysis_all(train_ids_bs[[i]], MetOData, \n",
    "                                paste0('all-phos-data/results/bs-STY-nclass1-lr0.00025-tl3/metox_result_custom_general_STY_bs_', \n",
    "                                       i, '_custom.txt'))\n",
    "}"
   ]
  },
  {
   "cell_type": "code",
   "execution_count": 70,
   "metadata": {
    "scrolled": true
   },
   "outputs": [
    {
     "name": "stdout",
     "output_type": "stream",
     "text": [
      "[1] \"Mean:\"\n",
      "                                 cut       ROC       Acc      Sens      Spec\n",
      "Custom STY 1 all tl=3 lr=0.00025 0.5 0.8163936 0.7374361 0.7609788 0.7356937\n",
      "                                      Prec     Recal      MCC     FMeas\n",
      "Custom STY 1 all tl=3 lr=0.00025 0.1807022 0.7609788 0.278376 0.2910938\n",
      "[1] \"Std:\"\n",
      "                                 cut        ROC        Acc       Sens\n",
      "Custom STY 1 all tl=3 lr=0.00025   0 0.01836849 0.02604458 0.06960389\n",
      "                                       Spec       Prec      Recal        MCC\n",
      "Custom STY 1 all tl=3 lr=0.00025 0.03073273 0.02234326 0.06960389 0.03200867\n",
      "                                      FMeas\n",
      "Custom STY 1 all tl=3 lr=0.00025 0.02994433\n"
     ]
    }
   ],
   "source": [
    "row.name <- 'Custom STY 1 all tl=3 lr=0.00025'\n",
    "print('Mean:')\n",
    "bootstrap.mean[row.name, ] <- sapply(sts,mean)\n",
    "print(bootstrap.mean[row.name, ])\n",
    "\n",
    "print('Std:')\n",
    "bootstrap.std[row.name, ] <- sapply(sts,sd)\n",
    "print(bootstrap.std[row.name, ])"
   ]
  },
  {
   "cell_type": "markdown",
   "metadata": {},
   "source": [
    "Using lr=0.0005 and transfer-leayer=0:"
   ]
  },
  {
   "cell_type": "code",
   "execution_count": 71,
   "metadata": {},
   "outputs": [],
   "source": [
    "for (i in 1:NM_BS){\n",
    "    sts[i,] <- results_analysis_all(train_ids_bs[[i]], MetOData, \n",
    "                                paste0('all-phos-data/results/bs-STY-nclass1-lr0.0005-tl0/metox_result_custom_general_STY_bs_', \n",
    "                                       i, '_custom.txt'))\n",
    "}"
   ]
  },
  {
   "cell_type": "code",
   "execution_count": 72,
   "metadata": {
    "scrolled": true
   },
   "outputs": [
    {
     "name": "stdout",
     "output_type": "stream",
     "text": [
      "[1] \"Mean:\"\n",
      "                                cut       ROC       Acc      Sens      Spec\n",
      "Custom STY 1 all tl=0 lr=0.0005 0.5 0.8266711 0.8062029 0.6312281 0.8196592\n",
      "                                     Prec     Recal       MCC     FMeas\n",
      "Custom STY 1 all tl=0 lr=0.0005 0.2113876 0.6312281 0.2828205 0.3151541\n",
      "[1] \"Std:\"\n",
      "                                cut        ROC        Acc       Sens       Spec\n",
      "Custom STY 1 all tl=0 lr=0.0005   0 0.01741502 0.01832176 0.07272588 0.02281644\n",
      "                                      Prec      Recal        MCC      FMeas\n",
      "Custom STY 1 all tl=0 lr=0.0005 0.02798091 0.07272588 0.03655271 0.03426471\n"
     ]
    }
   ],
   "source": [
    "row.name <- 'Custom STY 1 all tl=0 lr=0.0005'\n",
    "print('Mean:')\n",
    "bootstrap.mean[row.name, ] <- sapply(sts,mean)\n",
    "print(bootstrap.mean[row.name, ])\n",
    "\n",
    "print('Std:')\n",
    "bootstrap.std[row.name, ] <- sapply(sts,sd)\n",
    "print(bootstrap.std[row.name, ])"
   ]
  },
  {
   "cell_type": "markdown",
   "metadata": {},
   "source": [
    "Using lr=0.0005 and transfer-leayer=3:"
   ]
  },
  {
   "cell_type": "code",
   "execution_count": 73,
   "metadata": {},
   "outputs": [],
   "source": [
    "for (i in 1:NM_BS){\n",
    "    sts[i,] <- results_analysis_all(train_ids_bs[[i]], MetOData, \n",
    "                                paste0('all-phos-data/results/bs-STY-nclass1-lr0.0005-tl3/metox_result_custom_general_STY_bs_', \n",
    "                                       i, '_custom.txt'))\n",
    "}"
   ]
  },
  {
   "cell_type": "code",
   "execution_count": 74,
   "metadata": {
    "scrolled": true
   },
   "outputs": [
    {
     "name": "stdout",
     "output_type": "stream",
     "text": [
      "[1] \"Mean:\"\n",
      "                                cut       ROC       Acc      Sens      Spec\n",
      "Custom STY 1 all tl=3 lr=0.0005 0.5 0.8211309 0.7738671 0.7054336 0.7792204\n",
      "                                     Prec     Recal       MCC     FMeas\n",
      "Custom STY 1 all tl=3 lr=0.0005 0.1967774 0.7054336 0.2853578 0.3064043\n",
      "[1] \"Std:\"\n",
      "                                cut        ROC        Acc       Sens       Spec\n",
      "Custom STY 1 all tl=3 lr=0.0005   0 0.01779621 0.02439123 0.07251534 0.02903637\n",
      "                                      Prec      Recal       MCC      FMeas\n",
      "Custom STY 1 all tl=3 lr=0.0005 0.02462341 0.07251534 0.0335961 0.03097619\n"
     ]
    }
   ],
   "source": [
    "row.name <- 'Custom STY 1 all tl=3 lr=0.0005'\n",
    "print('Mean:')\n",
    "bootstrap.mean[row.name, ] <- sapply(sts,mean)\n",
    "print(bootstrap.mean[row.name, ])\n",
    "\n",
    "print('Std:')\n",
    "bootstrap.std[row.name, ] <- sapply(sts,sd)\n",
    "print(bootstrap.std[row.name, ])"
   ]
  },
  {
   "cell_type": "markdown",
   "metadata": {},
   "source": [
    "### Final results"
   ]
  },
  {
   "cell_type": "code",
   "execution_count": 75,
   "metadata": {},
   "outputs": [
    {
     "data": {
      "text/html": [
       "<table>\n",
       "<thead><tr><th></th><th scope=col>cut</th><th scope=col>ROC</th><th scope=col>Acc</th><th scope=col>Sens</th><th scope=col>Spec</th><th scope=col>Prec</th><th scope=col>Recal</th><th scope=col>MCC</th><th scope=col>FMeas</th></tr></thead>\n",
       "<tbody>\n",
       "\t<tr><th scope=row>Custom ST 1 all</th><td>0.5      </td><td>0.8040518</td><td>0.7947688</td><td>0.5886838</td><td>0.8106672</td><td>0.1923297</td><td>0.5886838</td><td>0.2481217</td><td>0.2881780</td></tr>\n",
       "\t<tr><th scope=row>Custom STY 1 all</th><td>0.5      </td><td>0.8246012</td><td>0.8074669</td><td>0.6375656</td><td>0.8205609</td><td>0.2139331</td><td>0.6375656</td><td>0.2875487</td><td>0.3187854</td></tr>\n",
       "</tbody>\n",
       "</table>\n"
      ],
      "text/latex": [
       "\\begin{tabular}{r|lllllllll}\n",
       "  & cut & ROC & Acc & Sens & Spec & Prec & Recal & MCC & FMeas\\\\\n",
       "\\hline\n",
       "\tCustom ST 1 all & 0.5       & 0.8040518 & 0.7947688 & 0.5886838 & 0.8106672 & 0.1923297 & 0.5886838 & 0.2481217 & 0.2881780\\\\\n",
       "\tCustom STY 1 all & 0.5       & 0.8246012 & 0.8074669 & 0.6375656 & 0.8205609 & 0.2139331 & 0.6375656 & 0.2875487 & 0.3187854\\\\\n",
       "\\end{tabular}\n"
      ],
      "text/markdown": [
       "\n",
       "| <!--/--> | cut | ROC | Acc | Sens | Spec | Prec | Recal | MCC | FMeas | \n",
       "|---|---|\n",
       "| Custom ST 1 all | 0.5       | 0.8040518 | 0.7947688 | 0.5886838 | 0.8106672 | 0.1923297 | 0.5886838 | 0.2481217 | 0.2881780 | \n",
       "| Custom STY 1 all | 0.5       | 0.8246012 | 0.8074669 | 0.6375656 | 0.8205609 | 0.2139331 | 0.6375656 | 0.2875487 | 0.3187854 | \n",
       "\n",
       "\n"
      ],
      "text/plain": [
       "                 cut ROC       Acc       Sens      Spec      Prec     \n",
       "Custom ST 1 all  0.5 0.8040518 0.7947688 0.5886838 0.8106672 0.1923297\n",
       "Custom STY 1 all 0.5 0.8246012 0.8074669 0.6375656 0.8205609 0.2139331\n",
       "                 Recal     MCC       FMeas    \n",
       "Custom ST 1 all  0.5886838 0.2481217 0.2881780\n",
       "Custom STY 1 all 0.6375656 0.2875487 0.3187854"
      ]
     },
     "metadata": {},
     "output_type": "display_data"
    },
    {
     "data": {
      "text/html": [
       "<table>\n",
       "<thead><tr><th></th><th scope=col>cut</th><th scope=col>ROC</th><th scope=col>Acc</th><th scope=col>Sens</th><th scope=col>Spec</th><th scope=col>Prec</th><th scope=col>Recal</th><th scope=col>MCC</th><th scope=col>FMeas</th></tr></thead>\n",
       "<tbody>\n",
       "\t<tr><th scope=row>Custom ST 1 all</th><td>0         </td><td>0.02018388</td><td>0.02273654</td><td>0.08426460</td><td>0.02800439</td><td>0.02589022</td><td>0.08426460</td><td>0.03818613</td><td>0.03214135</td></tr>\n",
       "\t<tr><th scope=row>Custom STY 1 all</th><td>0         </td><td>0.01743957</td><td>0.01928497</td><td>0.07592377</td><td>0.02360048</td><td>0.02810978</td><td>0.07592377</td><td>0.03759002</td><td>0.03459311</td></tr>\n",
       "</tbody>\n",
       "</table>\n"
      ],
      "text/latex": [
       "\\begin{tabular}{r|lllllllll}\n",
       "  & cut & ROC & Acc & Sens & Spec & Prec & Recal & MCC & FMeas\\\\\n",
       "\\hline\n",
       "\tCustom ST 1 all & 0          & 0.02018388 & 0.02273654 & 0.08426460 & 0.02800439 & 0.02589022 & 0.08426460 & 0.03818613 & 0.03214135\\\\\n",
       "\tCustom STY 1 all & 0          & 0.01743957 & 0.01928497 & 0.07592377 & 0.02360048 & 0.02810978 & 0.07592377 & 0.03759002 & 0.03459311\\\\\n",
       "\\end{tabular}\n"
      ],
      "text/markdown": [
       "\n",
       "| <!--/--> | cut | ROC | Acc | Sens | Spec | Prec | Recal | MCC | FMeas | \n",
       "|---|---|\n",
       "| Custom ST 1 all | 0          | 0.02018388 | 0.02273654 | 0.08426460 | 0.02800439 | 0.02589022 | 0.08426460 | 0.03818613 | 0.03214135 | \n",
       "| Custom STY 1 all | 0          | 0.01743957 | 0.01928497 | 0.07592377 | 0.02360048 | 0.02810978 | 0.07592377 | 0.03759002 | 0.03459311 | \n",
       "\n",
       "\n"
      ],
      "text/plain": [
       "                 cut ROC        Acc        Sens       Spec       Prec      \n",
       "Custom ST 1 all  0   0.02018388 0.02273654 0.08426460 0.02800439 0.02589022\n",
       "Custom STY 1 all 0   0.01743957 0.01928497 0.07592377 0.02360048 0.02810978\n",
       "                 Recal      MCC        FMeas     \n",
       "Custom ST 1 all  0.08426460 0.03818613 0.03214135\n",
       "Custom STY 1 all 0.07592377 0.03759002 0.03459311"
      ]
     },
     "metadata": {},
     "output_type": "display_data"
    }
   ],
   "source": [
    "# Compare the results obtained using default values of the learning rate (lr=0.001) and the transfer-leayer (tl=1)\n",
    "\n",
    "model.names <- c('Custom ST 1 all', 'Custom STY 1 all')\n",
    "\n",
    "# Mean values\n",
    "bootstrap.mean[model.names, ]\n",
    "\n",
    "# Std values\n",
    "bootstrap.std[model.names, ]"
   ]
  },
  {
   "cell_type": "code",
   "execution_count": 76,
   "metadata": {},
   "outputs": [
    {
     "data": {
      "text/html": [
       "<table>\n",
       "<thead><tr><th></th><th scope=col>ROC</th><th scope=col>Acc</th><th scope=col>Sens</th><th scope=col>Spec</th><th scope=col>FMeas</th><th scope=col>MCC</th></tr></thead>\n",
       "<tbody>\n",
       "\t<tr><th scope=row>Custom ST 1 all</th><td>0.8041 0.0202</td><td>0.7948 0.0227</td><td>0.5887 0.0843</td><td>0.8107 0.028 </td><td>0.2882 0.0321</td><td>0.2481 0.0382</td></tr>\n",
       "\t<tr><th scope=row>Custom STY 1 all</th><td>0.8246 0.0174</td><td>0.8075 0.0193</td><td>0.6376 0.0759</td><td>0.8206 0.0236</td><td>0.3188 0.0346</td><td>0.2875 0.0376</td></tr>\n",
       "</tbody>\n",
       "</table>\n"
      ],
      "text/latex": [
       "\\begin{tabular}{r|llllll}\n",
       "  & ROC & Acc & Sens & Spec & FMeas & MCC\\\\\n",
       "\\hline\n",
       "\tCustom ST 1 all & 0.8041 0.0202 & 0.7948 0.0227 & 0.5887 0.0843 & 0.8107 0.028  & 0.2882 0.0321 & 0.2481 0.0382\\\\\n",
       "\tCustom STY 1 all & 0.8246 0.0174 & 0.8075 0.0193 & 0.6376 0.0759 & 0.8206 0.0236 & 0.3188 0.0346 & 0.2875 0.0376\\\\\n",
       "\\end{tabular}\n"
      ],
      "text/markdown": [
       "\n",
       "| <!--/--> | ROC | Acc | Sens | Spec | FMeas | MCC | \n",
       "|---|---|\n",
       "| Custom ST 1 all | 0.8041 0.0202 | 0.7948 0.0227 | 0.5887 0.0843 | 0.8107 0.028  | 0.2882 0.0321 | 0.2481 0.0382 | \n",
       "| Custom STY 1 all | 0.8246 0.0174 | 0.8075 0.0193 | 0.6376 0.0759 | 0.8206 0.0236 | 0.3188 0.0346 | 0.2875 0.0376 | \n",
       "\n",
       "\n"
      ],
      "text/plain": [
       "                 ROC           Acc           Sens          Spec         \n",
       "Custom ST 1 all  0.8041 0.0202 0.7948 0.0227 0.5887 0.0843 0.8107 0.028 \n",
       "Custom STY 1 all 0.8246 0.0174 0.8075 0.0193 0.6376 0.0759 0.8206 0.0236\n",
       "                 FMeas         MCC          \n",
       "Custom ST 1 all  0.2882 0.0321 0.2481 0.0382\n",
       "Custom STY 1 all 0.3188 0.0346 0.2875 0.0376"
      ]
     },
     "metadata": {},
     "output_type": "display_data"
    }
   ],
   "source": [
    "# To produce the Table results in the paper\n",
    "\n",
    "residues.name <- c('Custom ST 1 all', 'Custom STY 1 all')\n",
    "metrics.name <- c('ROC', 'Acc', 'Sens', 'Spec', 'FMeas', 'MCC')\n",
    "\n",
    "bm <- bootstrap.mean[residues.name, metrics.name]\n",
    "bd <- bootstrap.std[residues.name, metrics.name]\n",
    "m <- matrix(paste(as.matrix(round(bm, 4)), as.matrix(round(bd, 4))), ncol = ncol(bm), nrow = nrow(bm))\n",
    "rownames(m) <- rownames(bm)\n",
    "colnames(m) <- colnames(bm)\n",
    "m"
   ]
  },
  {
   "cell_type": "code",
   "execution_count": 77,
   "metadata": {},
   "outputs": [
    {
     "data": {
      "text/html": [
       "<table>\n",
       "<thead><tr><th></th><th scope=col>cut</th><th scope=col>ROC</th><th scope=col>Acc</th><th scope=col>Sens</th><th scope=col>Spec</th><th scope=col>Prec</th><th scope=col>Recal</th><th scope=col>MCC</th><th scope=col>FMeas</th></tr></thead>\n",
       "<tbody>\n",
       "\t<tr><th scope=row>Custom STY 1 all lr=0.0015</th><td>0.5      </td><td>0.8257222</td><td>0.8370374</td><td>0.5568165</td><td>0.8586624</td><td>0.2319908</td><td>0.5568165</td><td>0.2829735</td><td>0.3250660</td></tr>\n",
       "\t<tr><th scope=row>Custom STY 1 all lr=0.00125</th><td>0.5      </td><td>0.8245893</td><td>0.8227456</td><td>0.5978157</td><td>0.8401295</td><td>0.2232082</td><td>0.5978157</td><td>0.2859654</td><td>0.3227455</td></tr>\n",
       "\t<tr><th scope=row>Custom STY 1 all</th><td>0.5      </td><td>0.8246012</td><td>0.8074669</td><td>0.6375656</td><td>0.8205609</td><td>0.2139331</td><td>0.6375656</td><td>0.2875487</td><td>0.3187854</td></tr>\n",
       "\t<tr><th scope=row>Custom STY 1 all lr=0.00075</th><td>0.5      </td><td>0.8234521</td><td>0.7913985</td><td>0.6730122</td><td>0.8005296</td><td>0.2058185</td><td>0.6730122</td><td>0.2877254</td><td>0.3137791</td></tr>\n",
       "\t<tr><th scope=row>Custom STY 1 all lr=0.0005</th><td>0.5      </td><td>0.8223466</td><td>0.7698317</td><td>0.7086364</td><td>0.7745967</td><td>0.1940997</td><td>0.7086364</td><td>0.2828418</td><td>0.3035736</td></tr>\n",
       "\t<tr><th scope=row>Custom STY 1 all lr=0.00025</th><td>0.5      </td><td>0.8187842</td><td>0.7386868</td><td>0.7595586</td><td>0.7370128</td><td>0.1816369</td><td>0.7595586</td><td>0.2791884</td><td>0.2922204</td></tr>\n",
       "</tbody>\n",
       "</table>\n"
      ],
      "text/latex": [
       "\\begin{tabular}{r|lllllllll}\n",
       "  & cut & ROC & Acc & Sens & Spec & Prec & Recal & MCC & FMeas\\\\\n",
       "\\hline\n",
       "\tCustom STY 1 all lr=0.0015 & 0.5       & 0.8257222 & 0.8370374 & 0.5568165 & 0.8586624 & 0.2319908 & 0.5568165 & 0.2829735 & 0.3250660\\\\\n",
       "\tCustom STY 1 all lr=0.00125 & 0.5       & 0.8245893 & 0.8227456 & 0.5978157 & 0.8401295 & 0.2232082 & 0.5978157 & 0.2859654 & 0.3227455\\\\\n",
       "\tCustom STY 1 all & 0.5       & 0.8246012 & 0.8074669 & 0.6375656 & 0.8205609 & 0.2139331 & 0.6375656 & 0.2875487 & 0.3187854\\\\\n",
       "\tCustom STY 1 all lr=0.00075 & 0.5       & 0.8234521 & 0.7913985 & 0.6730122 & 0.8005296 & 0.2058185 & 0.6730122 & 0.2877254 & 0.3137791\\\\\n",
       "\tCustom STY 1 all lr=0.0005 & 0.5       & 0.8223466 & 0.7698317 & 0.7086364 & 0.7745967 & 0.1940997 & 0.7086364 & 0.2828418 & 0.3035736\\\\\n",
       "\tCustom STY 1 all lr=0.00025 & 0.5       & 0.8187842 & 0.7386868 & 0.7595586 & 0.7370128 & 0.1816369 & 0.7595586 & 0.2791884 & 0.2922204\\\\\n",
       "\\end{tabular}\n"
      ],
      "text/markdown": [
       "\n",
       "| <!--/--> | cut | ROC | Acc | Sens | Spec | Prec | Recal | MCC | FMeas | \n",
       "|---|---|---|---|---|---|\n",
       "| Custom STY 1 all lr=0.0015 | 0.5       | 0.8257222 | 0.8370374 | 0.5568165 | 0.8586624 | 0.2319908 | 0.5568165 | 0.2829735 | 0.3250660 | \n",
       "| Custom STY 1 all lr=0.00125 | 0.5       | 0.8245893 | 0.8227456 | 0.5978157 | 0.8401295 | 0.2232082 | 0.5978157 | 0.2859654 | 0.3227455 | \n",
       "| Custom STY 1 all | 0.5       | 0.8246012 | 0.8074669 | 0.6375656 | 0.8205609 | 0.2139331 | 0.6375656 | 0.2875487 | 0.3187854 | \n",
       "| Custom STY 1 all lr=0.00075 | 0.5       | 0.8234521 | 0.7913985 | 0.6730122 | 0.8005296 | 0.2058185 | 0.6730122 | 0.2877254 | 0.3137791 | \n",
       "| Custom STY 1 all lr=0.0005 | 0.5       | 0.8223466 | 0.7698317 | 0.7086364 | 0.7745967 | 0.1940997 | 0.7086364 | 0.2828418 | 0.3035736 | \n",
       "| Custom STY 1 all lr=0.00025 | 0.5       | 0.8187842 | 0.7386868 | 0.7595586 | 0.7370128 | 0.1816369 | 0.7595586 | 0.2791884 | 0.2922204 | \n",
       "\n",
       "\n"
      ],
      "text/plain": [
       "                            cut ROC       Acc       Sens      Spec     \n",
       "Custom STY 1 all lr=0.0015  0.5 0.8257222 0.8370374 0.5568165 0.8586624\n",
       "Custom STY 1 all lr=0.00125 0.5 0.8245893 0.8227456 0.5978157 0.8401295\n",
       "Custom STY 1 all            0.5 0.8246012 0.8074669 0.6375656 0.8205609\n",
       "Custom STY 1 all lr=0.00075 0.5 0.8234521 0.7913985 0.6730122 0.8005296\n",
       "Custom STY 1 all lr=0.0005  0.5 0.8223466 0.7698317 0.7086364 0.7745967\n",
       "Custom STY 1 all lr=0.00025 0.5 0.8187842 0.7386868 0.7595586 0.7370128\n",
       "                            Prec      Recal     MCC       FMeas    \n",
       "Custom STY 1 all lr=0.0015  0.2319908 0.5568165 0.2829735 0.3250660\n",
       "Custom STY 1 all lr=0.00125 0.2232082 0.5978157 0.2859654 0.3227455\n",
       "Custom STY 1 all            0.2139331 0.6375656 0.2875487 0.3187854\n",
       "Custom STY 1 all lr=0.00075 0.2058185 0.6730122 0.2877254 0.3137791\n",
       "Custom STY 1 all lr=0.0005  0.1940997 0.7086364 0.2828418 0.3035736\n",
       "Custom STY 1 all lr=0.00025 0.1816369 0.7595586 0.2791884 0.2922204"
      ]
     },
     "metadata": {},
     "output_type": "display_data"
    },
    {
     "data": {
      "text/html": [
       "<table>\n",
       "<thead><tr><th></th><th scope=col>cut</th><th scope=col>ROC</th><th scope=col>Acc</th><th scope=col>Sens</th><th scope=col>Spec</th><th scope=col>Prec</th><th scope=col>Recal</th><th scope=col>MCC</th><th scope=col>FMeas</th></tr></thead>\n",
       "<tbody>\n",
       "\t<tr><th scope=row>Custom STY 1 all lr=0.0015</th><td>0         </td><td>0.01776466</td><td>0.01754049</td><td>0.07827298</td><td>0.02241656</td><td>0.03061038</td><td>0.07827298</td><td>0.03750615</td><td>0.03361491</td></tr>\n",
       "\t<tr><th scope=row>Custom STY 1 all lr=0.00125</th><td>0         </td><td>0.01822650</td><td>0.01983841</td><td>0.07835088</td><td>0.02494897</td><td>0.03207858</td><td>0.07835088</td><td>0.03831837</td><td>0.03614759</td></tr>\n",
       "\t<tr><th scope=row>Custom STY 1 all</th><td>0         </td><td>0.01743957</td><td>0.01928497</td><td>0.07592377</td><td>0.02360048</td><td>0.02810978</td><td>0.07592377</td><td>0.03759002</td><td>0.03459311</td></tr>\n",
       "\t<tr><th scope=row>Custom STY 1 all lr=0.00075</th><td>0         </td><td>0.01729620</td><td>0.02298818</td><td>0.06637465</td><td>0.02738629</td><td>0.02714186</td><td>0.06637465</td><td>0.03319643</td><td>0.03253982</td></tr>\n",
       "\t<tr><th scope=row>Custom STY 1 all lr=0.0005</th><td>0         </td><td>0.01831664</td><td>0.02135500</td><td>0.06831434</td><td>0.02539075</td><td>0.02473331</td><td>0.06831434</td><td>0.03366111</td><td>0.03159807</td></tr>\n",
       "\t<tr><th scope=row>Custom STY 1 all lr=0.00025</th><td>0         </td><td>0.01942725</td><td>0.03144187</td><td>0.06673926</td><td>0.03658192</td><td>0.02213755</td><td>0.06673926</td><td>0.03158667</td><td>0.02964153</td></tr>\n",
       "</tbody>\n",
       "</table>\n"
      ],
      "text/latex": [
       "\\begin{tabular}{r|lllllllll}\n",
       "  & cut & ROC & Acc & Sens & Spec & Prec & Recal & MCC & FMeas\\\\\n",
       "\\hline\n",
       "\tCustom STY 1 all lr=0.0015 & 0          & 0.01776466 & 0.01754049 & 0.07827298 & 0.02241656 & 0.03061038 & 0.07827298 & 0.03750615 & 0.03361491\\\\\n",
       "\tCustom STY 1 all lr=0.00125 & 0          & 0.01822650 & 0.01983841 & 0.07835088 & 0.02494897 & 0.03207858 & 0.07835088 & 0.03831837 & 0.03614759\\\\\n",
       "\tCustom STY 1 all & 0          & 0.01743957 & 0.01928497 & 0.07592377 & 0.02360048 & 0.02810978 & 0.07592377 & 0.03759002 & 0.03459311\\\\\n",
       "\tCustom STY 1 all lr=0.00075 & 0          & 0.01729620 & 0.02298818 & 0.06637465 & 0.02738629 & 0.02714186 & 0.06637465 & 0.03319643 & 0.03253982\\\\\n",
       "\tCustom STY 1 all lr=0.0005 & 0          & 0.01831664 & 0.02135500 & 0.06831434 & 0.02539075 & 0.02473331 & 0.06831434 & 0.03366111 & 0.03159807\\\\\n",
       "\tCustom STY 1 all lr=0.00025 & 0          & 0.01942725 & 0.03144187 & 0.06673926 & 0.03658192 & 0.02213755 & 0.06673926 & 0.03158667 & 0.02964153\\\\\n",
       "\\end{tabular}\n"
      ],
      "text/markdown": [
       "\n",
       "| <!--/--> | cut | ROC | Acc | Sens | Spec | Prec | Recal | MCC | FMeas | \n",
       "|---|---|---|---|---|---|\n",
       "| Custom STY 1 all lr=0.0015 | 0          | 0.01776466 | 0.01754049 | 0.07827298 | 0.02241656 | 0.03061038 | 0.07827298 | 0.03750615 | 0.03361491 | \n",
       "| Custom STY 1 all lr=0.00125 | 0          | 0.01822650 | 0.01983841 | 0.07835088 | 0.02494897 | 0.03207858 | 0.07835088 | 0.03831837 | 0.03614759 | \n",
       "| Custom STY 1 all | 0          | 0.01743957 | 0.01928497 | 0.07592377 | 0.02360048 | 0.02810978 | 0.07592377 | 0.03759002 | 0.03459311 | \n",
       "| Custom STY 1 all lr=0.00075 | 0          | 0.01729620 | 0.02298818 | 0.06637465 | 0.02738629 | 0.02714186 | 0.06637465 | 0.03319643 | 0.03253982 | \n",
       "| Custom STY 1 all lr=0.0005 | 0          | 0.01831664 | 0.02135500 | 0.06831434 | 0.02539075 | 0.02473331 | 0.06831434 | 0.03366111 | 0.03159807 | \n",
       "| Custom STY 1 all lr=0.00025 | 0          | 0.01942725 | 0.03144187 | 0.06673926 | 0.03658192 | 0.02213755 | 0.06673926 | 0.03158667 | 0.02964153 | \n",
       "\n",
       "\n"
      ],
      "text/plain": [
       "                            cut ROC        Acc        Sens       Spec      \n",
       "Custom STY 1 all lr=0.0015  0   0.01776466 0.01754049 0.07827298 0.02241656\n",
       "Custom STY 1 all lr=0.00125 0   0.01822650 0.01983841 0.07835088 0.02494897\n",
       "Custom STY 1 all            0   0.01743957 0.01928497 0.07592377 0.02360048\n",
       "Custom STY 1 all lr=0.00075 0   0.01729620 0.02298818 0.06637465 0.02738629\n",
       "Custom STY 1 all lr=0.0005  0   0.01831664 0.02135500 0.06831434 0.02539075\n",
       "Custom STY 1 all lr=0.00025 0   0.01942725 0.03144187 0.06673926 0.03658192\n",
       "                            Prec       Recal      MCC        FMeas     \n",
       "Custom STY 1 all lr=0.0015  0.03061038 0.07827298 0.03750615 0.03361491\n",
       "Custom STY 1 all lr=0.00125 0.03207858 0.07835088 0.03831837 0.03614759\n",
       "Custom STY 1 all            0.02810978 0.07592377 0.03759002 0.03459311\n",
       "Custom STY 1 all lr=0.00075 0.02714186 0.06637465 0.03319643 0.03253982\n",
       "Custom STY 1 all lr=0.0005  0.02473331 0.06831434 0.03366111 0.03159807\n",
       "Custom STY 1 all lr=0.00025 0.02213755 0.06673926 0.03158667 0.02964153"
      ]
     },
     "metadata": {},
     "output_type": "display_data"
    }
   ],
   "source": [
    "# Compare the results obtained using different values of learning-rate\n",
    "\n",
    "lr.names <- c('Custom STY 1 all lr=0.0015', 'Custom STY 1 all lr=0.00125', 'Custom STY 1 all', \n",
    "              'Custom STY 1 all lr=0.00075', 'Custom STY 1 all lr=0.0005', 'Custom STY 1 all lr=0.00025')\n",
    "\n",
    "# Mean values\n",
    "bootstrap.mean[lr.names, ]\n",
    "\n",
    "# Std values\n",
    "bootstrap.std[lr.names, ]"
   ]
  },
  {
   "cell_type": "code",
   "execution_count": 78,
   "metadata": {},
   "outputs": [
    {
     "data": {
      "text/html": [
       "<table>\n",
       "<thead><tr><th></th><th scope=col>ROC</th><th scope=col>Acc</th><th scope=col>Sens</th><th scope=col>Spec</th><th scope=col>FMeas</th><th scope=col>MCC</th></tr></thead>\n",
       "<tbody>\n",
       "\t<tr><th scope=row>Custom STY 1 all lr=0.00025</th><td>0.8188 0.0194</td><td>0.7387 0.0314</td><td>0.7596 0.0667</td><td>0.737 0.0366 </td><td>0.2922 0.0296</td><td>0.2792 0.0316</td></tr>\n",
       "\t<tr><th scope=row>Custom STY 1 all lr=0.0005</th><td>0.8223 0.0183</td><td>0.7698 0.0214</td><td>0.7086 0.0683</td><td>0.7746 0.0254</td><td>0.3036 0.0316</td><td>0.2828 0.0337</td></tr>\n",
       "\t<tr><th scope=row>Custom STY 1 all lr=0.00075</th><td>0.8235 0.0173</td><td>0.7914 0.023 </td><td>0.673 0.0664 </td><td>0.8005 0.0274</td><td>0.3138 0.0325</td><td>0.2877 0.0332</td></tr>\n",
       "\t<tr><th scope=row>Custom STY 1 all</th><td>0.8246 0.0174</td><td>0.8075 0.0193</td><td>0.6376 0.0759</td><td>0.8206 0.0236</td><td>0.3188 0.0346</td><td>0.2875 0.0376</td></tr>\n",
       "\t<tr><th scope=row>Custom STY 1 all lr=0.00125</th><td>0.8246 0.0182</td><td>0.8227 0.0198</td><td>0.5978 0.0784</td><td>0.8401 0.0249</td><td>0.3227 0.0361</td><td>0.286 0.0383 </td></tr>\n",
       "\t<tr><th scope=row>Custom STY 1 all lr=0.0015</th><td>0.8257 0.0178</td><td>0.837 0.0175 </td><td>0.5568 0.0783</td><td>0.8587 0.0224</td><td>0.3251 0.0336</td><td>0.283 0.0375 </td></tr>\n",
       "</tbody>\n",
       "</table>\n"
      ],
      "text/latex": [
       "\\begin{tabular}{r|llllll}\n",
       "  & ROC & Acc & Sens & Spec & FMeas & MCC\\\\\n",
       "\\hline\n",
       "\tCustom STY 1 all lr=0.00025 & 0.8188 0.0194 & 0.7387 0.0314 & 0.7596 0.0667 & 0.737 0.0366  & 0.2922 0.0296 & 0.2792 0.0316\\\\\n",
       "\tCustom STY 1 all lr=0.0005 & 0.8223 0.0183 & 0.7698 0.0214 & 0.7086 0.0683 & 0.7746 0.0254 & 0.3036 0.0316 & 0.2828 0.0337\\\\\n",
       "\tCustom STY 1 all lr=0.00075 & 0.8235 0.0173 & 0.7914 0.023  & 0.673 0.0664  & 0.8005 0.0274 & 0.3138 0.0325 & 0.2877 0.0332\\\\\n",
       "\tCustom STY 1 all & 0.8246 0.0174 & 0.8075 0.0193 & 0.6376 0.0759 & 0.8206 0.0236 & 0.3188 0.0346 & 0.2875 0.0376\\\\\n",
       "\tCustom STY 1 all lr=0.00125 & 0.8246 0.0182 & 0.8227 0.0198 & 0.5978 0.0784 & 0.8401 0.0249 & 0.3227 0.0361 & 0.286 0.0383 \\\\\n",
       "\tCustom STY 1 all lr=0.0015 & 0.8257 0.0178 & 0.837 0.0175  & 0.5568 0.0783 & 0.8587 0.0224 & 0.3251 0.0336 & 0.283 0.0375 \\\\\n",
       "\\end{tabular}\n"
      ],
      "text/markdown": [
       "\n",
       "| <!--/--> | ROC | Acc | Sens | Spec | FMeas | MCC | \n",
       "|---|---|---|---|---|---|\n",
       "| Custom STY 1 all lr=0.00025 | 0.8188 0.0194 | 0.7387 0.0314 | 0.7596 0.0667 | 0.737 0.0366  | 0.2922 0.0296 | 0.2792 0.0316 | \n",
       "| Custom STY 1 all lr=0.0005 | 0.8223 0.0183 | 0.7698 0.0214 | 0.7086 0.0683 | 0.7746 0.0254 | 0.3036 0.0316 | 0.2828 0.0337 | \n",
       "| Custom STY 1 all lr=0.00075 | 0.8235 0.0173 | 0.7914 0.023  | 0.673 0.0664  | 0.8005 0.0274 | 0.3138 0.0325 | 0.2877 0.0332 | \n",
       "| Custom STY 1 all | 0.8246 0.0174 | 0.8075 0.0193 | 0.6376 0.0759 | 0.8206 0.0236 | 0.3188 0.0346 | 0.2875 0.0376 | \n",
       "| Custom STY 1 all lr=0.00125 | 0.8246 0.0182 | 0.8227 0.0198 | 0.5978 0.0784 | 0.8401 0.0249 | 0.3227 0.0361 | 0.286 0.0383  | \n",
       "| Custom STY 1 all lr=0.0015 | 0.8257 0.0178 | 0.837 0.0175  | 0.5568 0.0783 | 0.8587 0.0224 | 0.3251 0.0336 | 0.283 0.0375  | \n",
       "\n",
       "\n"
      ],
      "text/plain": [
       "                            ROC           Acc           Sens         \n",
       "Custom STY 1 all lr=0.00025 0.8188 0.0194 0.7387 0.0314 0.7596 0.0667\n",
       "Custom STY 1 all lr=0.0005  0.8223 0.0183 0.7698 0.0214 0.7086 0.0683\n",
       "Custom STY 1 all lr=0.00075 0.8235 0.0173 0.7914 0.023  0.673 0.0664 \n",
       "Custom STY 1 all            0.8246 0.0174 0.8075 0.0193 0.6376 0.0759\n",
       "Custom STY 1 all lr=0.00125 0.8246 0.0182 0.8227 0.0198 0.5978 0.0784\n",
       "Custom STY 1 all lr=0.0015  0.8257 0.0178 0.837 0.0175  0.5568 0.0783\n",
       "                            Spec          FMeas         MCC          \n",
       "Custom STY 1 all lr=0.00025 0.737 0.0366  0.2922 0.0296 0.2792 0.0316\n",
       "Custom STY 1 all lr=0.0005  0.7746 0.0254 0.3036 0.0316 0.2828 0.0337\n",
       "Custom STY 1 all lr=0.00075 0.8005 0.0274 0.3138 0.0325 0.2877 0.0332\n",
       "Custom STY 1 all            0.8206 0.0236 0.3188 0.0346 0.2875 0.0376\n",
       "Custom STY 1 all lr=0.00125 0.8401 0.0249 0.3227 0.0361 0.286 0.0383 \n",
       "Custom STY 1 all lr=0.0015  0.8587 0.0224 0.3251 0.0336 0.283 0.0375 "
      ]
     },
     "metadata": {},
     "output_type": "display_data"
    }
   ],
   "source": [
    "# To produce the Table results in the paper\n",
    "\n",
    "lr.names <- c('Custom STY 1 all lr=0.00025', 'Custom STY 1 all lr=0.0005', 'Custom STY 1 all lr=0.00075', \n",
    "              'Custom STY 1 all', 'Custom STY 1 all lr=0.00125', 'Custom STY 1 all lr=0.0015')\n",
    "\n",
    "metric.names <- c('ROC', 'Acc', 'Sens', 'Spec', 'FMeas', 'MCC')\n",
    "\n",
    "bm <- bootstrap.mean[lr.names, metric.names]\n",
    "bd <- bootstrap.std[lr.names, metric.names]\n",
    "\n",
    "m <- matrix(paste(as.matrix(round(bm, 4)), as.matrix(round(bd, 4))), ncol = ncol(bm), nrow = nrow(bm))\n",
    "rownames(m) <- rownames(bm)\n",
    "colnames(m) <- colnames(bm)\n",
    "m"
   ]
  },
  {
   "cell_type": "code",
   "execution_count": 79,
   "metadata": {},
   "outputs": [],
   "source": [
    "library(\"ggplot2\")\n",
    "library(\"tidyr\")\n",
    "\n",
    "# You only have to name your vectors as :\n",
    "# 'lr' for learning rate \n",
    "# 'sensitivity' for sensitivity mean\n",
    "# 'dt_sens' for sensitivity standard deviation\n",
    "# 'specificity' for specificity mean\n",
    "# 'dt_sp' for specificity standard deviation\n",
    "\n",
    "\n",
    "lr <- seq(from = 0.00025, to = 0.0015, by = 0.00025)\n",
    "\n",
    "model.config <- c('Custom STY 1 all lr=0.00025', 'Custom STY 1 all lr=0.0005', 'Custom STY 1 all lr=0.00075', \n",
    "                  'Custom STY 1 all', 'Custom STY 1 all lr=0.00125', 'Custom STY 1 all lr=0.0015')\n",
    "\n",
    "dt.mean <- bootstrap.mean[model.config, ]\n",
    "\n",
    "dt.std <- bootstrap.std[model.config, ]\n",
    "\n",
    "AUC <- dt.mean[, 'ROC']\n",
    "dt_auc <- dt.std[, 'ROC']\n",
    "\n",
    "Sensitivity <- dt.mean[, 'Sens']\n",
    "dt_sens <- dt.std[, 'Sens']\n",
    "\n",
    "Specificity <- dt.mean[, 'Spec']\n",
    "dt_sp <- dt.std[, 'Spec']\n",
    "\n",
    "to_plot_wide <- data.frame(lr, AUC, Sensitivity, Specificity)\n",
    "to_plot_large <- gather(to_plot_wide, Measure, measure_mean,\n",
    "                        AUC:Specificity)\n",
    "to_plot_large$dt <- c(dt_auc, dt_sens, dt_sp)"
   ]
  },
  {
   "cell_type": "code",
   "execution_count": 80,
   "metadata": {},
   "outputs": [
    {
     "name": "stderr",
     "output_type": "stream",
     "text": [
      "Saving 6.67 x 6.67 in image\n"
     ]
    },
    {
     "data": {},
     "metadata": {},
     "output_type": "display_data"
    },
    {
     "data": {
      "image/png": "[encoded data removed]",
      "text/plain": [
       "plot without title"
      ]
     },
     "metadata": {},
     "output_type": "display_data"
    }
   ],
   "source": [
    "# Continuous plot\n",
    "\n",
    "ggplot(to_plot_large, aes(lr, measure_mean,  group = Measure,  color = Measure)) +\n",
    "  geom_line() + \n",
    "  geom_ribbon(aes(ymin=measure_mean-dt, ymax=measure_mean+dt, fill=Measure),\n",
    "              linetype=\"blank\",\n",
    "              alpha=0.3) +\n",
    "  geom_point() +\n",
    "  scale_fill_manual(values=c(\"darkgreen\", \"navyblue\", \"red\")) + # change shadow color here \n",
    "  scale_colour_manual(values=c(\"darkgreen\", \"navyblue\", \"red\")) + # change line color here\n",
    "  labs(x = \"Learning Rate\", y = \"Model Performance\") +\n",
    "  theme(axis.title = element_text(size=15),\n",
    "        axis.text = element_text(size=11),\n",
    "        legend.title=element_text(size=15),\n",
    "        legend.text=element_text(size=13)) +\n",
    "  scale_x_continuous(labels = function(x) gsub(',', '.', sprintf(\"%.5f\", x)), \n",
    "      limits = c(lr[1], lr[length(lr)]), breaks = lr) +\n",
    "  scale_y_continuous(labels = function(x) gsub(',', '.', x)) +\n",
    "  ggsave(\"./LR_comparison_colour.pdf\")"
   ]
  },
  {
   "cell_type": "code",
   "execution_count": 107,
   "metadata": {},
   "outputs": [
    {
     "data": {},
     "metadata": {},
     "output_type": "display_data"
    },
    {
     "data": {
      "image/png": "[encoded data removed]",
      "text/plain": [
       "plot without title"
      ]
     },
     "metadata": {},
     "output_type": "display_data"
    }
   ],
   "source": [
    "# Continuous plot\n",
    "\n",
    "ggplot(to_plot_large, aes(lr, measure_mean,  group = Measure,  color = Measure)) +\n",
    "  geom_line() + \n",
    "  geom_ribbon(aes(ymin=measure_mean-dt, ymax=measure_mean+dt, fill=Measure),\n",
    "              linetype=\"blank\",\n",
    "              alpha=0.3) +\n",
    "  geom_point(aes(shape=Measure)) +\n",
    "  scale_fill_grey(start = 0, end = .8) + # change shadow color here \n",
    "  scale_colour_grey(start = 0, end = .8) + # change line color here\n",
    "  theme_bw() +\n",
    "  labs(x = \"Learning Rate\", y = \"Model Performance\") +\n",
    "  theme(axis.title = element_text(size=15),\n",
    "        axis.text = element_text(size=11),\n",
    "        legend.title=element_text(size=15),\n",
    "        legend.text=element_text(size=13)) +\n",
    "  scale_x_continuous(labels = function(x) gsub(',', '.', sprintf(\"%.5f\", x)), \n",
    "      limits = c(lr[1], lr[length(lr)]), breaks = lr) +\n",
    "  scale_y_continuous(labels = function(x) gsub(',', '.', x)) +\n",
    "  theme(text=element_text(family=\"Helvetica\"))# +\n",
    "  #ggsave(\"./LR_comparison_gray_scale_8_legend_serif.pdf\")"
   ]
  },
  {
   "cell_type": "code",
   "execution_count": 40,
   "metadata": {},
   "outputs": [
    {
     "data": {},
     "metadata": {},
     "output_type": "display_data"
    },
    {
     "data": {
      "image/png": "[encoded data removed]",
      "text/plain": [
       "plot without title"
      ]
     },
     "metadata": {},
     "output_type": "display_data"
    }
   ],
   "source": [
    "# Barplot\n",
    "\n",
    "ggplot(to_plot_large, aes(factor(lr), measure_mean,  fill = Measure,  color = Measure)) +\n",
    "  geom_bar(stat=\"identity\", position=position_dodge(), \n",
    "           colour=\"black\", size=.3) +\n",
    "  geom_errorbar(aes(ymin=measure_mean-dt, ymax=measure_mean+dt),\n",
    "                size=.3, width=.2, colour=\"black\",\n",
    "                position=position_dodge(.9)) +\n",
    "  scale_fill_manual(values=c(\"darkgreen\", \"navyblue\", \"red\")) + # change shadow color here \n",
    "  scale_colour_manual(values=c(\"darkgreen\", \"navyblue\", \"red\")) + # change line color here\n",
    "  labs(x = \"Learning Rate\", y = \"Model Performance\") +\n",
    "  coord_cartesian(ylim = c(0.5, 0.9)) "
   ]
  },
  {
   "cell_type": "code",
   "execution_count": 41,
   "metadata": {},
   "outputs": [
    {
     "data": {
      "text/html": [
       "<table>\n",
       "<thead><tr><th></th><th scope=col>cut</th><th scope=col>ROC</th><th scope=col>Acc</th><th scope=col>Sens</th><th scope=col>Spec</th><th scope=col>Prec</th><th scope=col>Recal</th><th scope=col>MCC</th><th scope=col>FMeas</th></tr></thead>\n",
       "<tbody>\n",
       "\t<tr><th scope=row>Custom STY 1 all</th><td>0.5      </td><td>0.8246012</td><td>0.8074669</td><td>0.6375656</td><td>0.8205609</td><td>0.2139331</td><td>0.6375656</td><td>0.2875487</td><td>0.3187854</td></tr>\n",
       "\t<tr><th scope=row>Custom STY 1 all tl=0</th><td>0.5      </td><td>0.8250863</td><td>0.8423129</td><td>0.5249736</td><td>0.8667667</td><td>0.2315154</td><td>0.5249736</td><td>0.2729259</td><td>0.3192354</td></tr>\n",
       "\t<tr><th scope=row>Custom STY 1 all tl=3</th><td>0.5      </td><td>0.8249449</td><td>0.8140320</td><td>0.6150379</td><td>0.8294010</td><td>0.2168772</td><td>0.6150379</td><td>0.2840662</td><td>0.3185954</td></tr>\n",
       "\t<tr><th scope=row>Custom STY 1 all tl=5</th><td>0.5      </td><td>0.8045615</td><td>0.8031159</td><td>0.6016179</td><td>0.8187353</td><td>0.2036052</td><td>0.6016179</td><td>0.2646956</td><td>0.3020633</td></tr>\n",
       "</tbody>\n",
       "</table>\n"
      ],
      "text/latex": [
       "\\begin{tabular}{r|lllllllll}\n",
       "  & cut & ROC & Acc & Sens & Spec & Prec & Recal & MCC & FMeas\\\\\n",
       "\\hline\n",
       "\tCustom STY 1 all & 0.5       & 0.8246012 & 0.8074669 & 0.6375656 & 0.8205609 & 0.2139331 & 0.6375656 & 0.2875487 & 0.3187854\\\\\n",
       "\tCustom STY 1 all tl=0 & 0.5       & 0.8250863 & 0.8423129 & 0.5249736 & 0.8667667 & 0.2315154 & 0.5249736 & 0.2729259 & 0.3192354\\\\\n",
       "\tCustom STY 1 all tl=3 & 0.5       & 0.8249449 & 0.8140320 & 0.6150379 & 0.8294010 & 0.2168772 & 0.6150379 & 0.2840662 & 0.3185954\\\\\n",
       "\tCustom STY 1 all tl=5 & 0.5       & 0.8045615 & 0.8031159 & 0.6016179 & 0.8187353 & 0.2036052 & 0.6016179 & 0.2646956 & 0.3020633\\\\\n",
       "\\end{tabular}\n"
      ],
      "text/markdown": [
       "\n",
       "| <!--/--> | cut | ROC | Acc | Sens | Spec | Prec | Recal | MCC | FMeas | \n",
       "|---|---|---|---|\n",
       "| Custom STY 1 all | 0.5       | 0.8246012 | 0.8074669 | 0.6375656 | 0.8205609 | 0.2139331 | 0.6375656 | 0.2875487 | 0.3187854 | \n",
       "| Custom STY 1 all tl=0 | 0.5       | 0.8250863 | 0.8423129 | 0.5249736 | 0.8667667 | 0.2315154 | 0.5249736 | 0.2729259 | 0.3192354 | \n",
       "| Custom STY 1 all tl=3 | 0.5       | 0.8249449 | 0.8140320 | 0.6150379 | 0.8294010 | 0.2168772 | 0.6150379 | 0.2840662 | 0.3185954 | \n",
       "| Custom STY 1 all tl=5 | 0.5       | 0.8045615 | 0.8031159 | 0.6016179 | 0.8187353 | 0.2036052 | 0.6016179 | 0.2646956 | 0.3020633 | \n",
       "\n",
       "\n"
      ],
      "text/plain": [
       "                      cut ROC       Acc       Sens      Spec      Prec     \n",
       "Custom STY 1 all      0.5 0.8246012 0.8074669 0.6375656 0.8205609 0.2139331\n",
       "Custom STY 1 all tl=0 0.5 0.8250863 0.8423129 0.5249736 0.8667667 0.2315154\n",
       "Custom STY 1 all tl=3 0.5 0.8249449 0.8140320 0.6150379 0.8294010 0.2168772\n",
       "Custom STY 1 all tl=5 0.5 0.8045615 0.8031159 0.6016179 0.8187353 0.2036052\n",
       "                      Recal     MCC       FMeas    \n",
       "Custom STY 1 all      0.6375656 0.2875487 0.3187854\n",
       "Custom STY 1 all tl=0 0.5249736 0.2729259 0.3192354\n",
       "Custom STY 1 all tl=3 0.6150379 0.2840662 0.3185954\n",
       "Custom STY 1 all tl=5 0.6016179 0.2646956 0.3020633"
      ]
     },
     "metadata": {},
     "output_type": "display_data"
    },
    {
     "data": {
      "text/html": [
       "<table>\n",
       "<thead><tr><th></th><th scope=col>cut</th><th scope=col>ROC</th><th scope=col>Acc</th><th scope=col>Sens</th><th scope=col>Spec</th><th scope=col>Prec</th><th scope=col>Recal</th><th scope=col>MCC</th><th scope=col>FMeas</th></tr></thead>\n",
       "<tbody>\n",
       "\t<tr><th scope=row>Custom STY 1 all</th><td>0         </td><td>0.01743957</td><td>0.01928497</td><td>0.07592377</td><td>0.02360048</td><td>0.02810978</td><td>0.07592377</td><td>0.03759002</td><td>0.03459311</td></tr>\n",
       "\t<tr><th scope=row>Custom STY 1 all tl=0</th><td>0         </td><td>0.01772713</td><td>0.01356486</td><td>0.07176126</td><td>0.01733374</td><td>0.03150495</td><td>0.07176126</td><td>0.03872839</td><td>0.03512651</td></tr>\n",
       "\t<tr><th scope=row>Custom STY 1 all tl=3</th><td>0         </td><td>0.01733322</td><td>0.02057429</td><td>0.07634665</td><td>0.02566744</td><td>0.02999000</td><td>0.07634665</td><td>0.03602866</td><td>0.03418386</td></tr>\n",
       "\t<tr><th scope=row>Custom STY 1 all tl=5</th><td>0         </td><td>0.02037681</td><td>0.02553507</td><td>0.07873155</td><td>0.03094027</td><td>0.02843163</td><td>0.07873155</td><td>0.03574793</td><td>0.03256460</td></tr>\n",
       "</tbody>\n",
       "</table>\n"
      ],
      "text/latex": [
       "\\begin{tabular}{r|lllllllll}\n",
       "  & cut & ROC & Acc & Sens & Spec & Prec & Recal & MCC & FMeas\\\\\n",
       "\\hline\n",
       "\tCustom STY 1 all & 0          & 0.01743957 & 0.01928497 & 0.07592377 & 0.02360048 & 0.02810978 & 0.07592377 & 0.03759002 & 0.03459311\\\\\n",
       "\tCustom STY 1 all tl=0 & 0          & 0.01772713 & 0.01356486 & 0.07176126 & 0.01733374 & 0.03150495 & 0.07176126 & 0.03872839 & 0.03512651\\\\\n",
       "\tCustom STY 1 all tl=3 & 0          & 0.01733322 & 0.02057429 & 0.07634665 & 0.02566744 & 0.02999000 & 0.07634665 & 0.03602866 & 0.03418386\\\\\n",
       "\tCustom STY 1 all tl=5 & 0          & 0.02037681 & 0.02553507 & 0.07873155 & 0.03094027 & 0.02843163 & 0.07873155 & 0.03574793 & 0.03256460\\\\\n",
       "\\end{tabular}\n"
      ],
      "text/markdown": [
       "\n",
       "| <!--/--> | cut | ROC | Acc | Sens | Spec | Prec | Recal | MCC | FMeas | \n",
       "|---|---|---|---|\n",
       "| Custom STY 1 all | 0          | 0.01743957 | 0.01928497 | 0.07592377 | 0.02360048 | 0.02810978 | 0.07592377 | 0.03759002 | 0.03459311 | \n",
       "| Custom STY 1 all tl=0 | 0          | 0.01772713 | 0.01356486 | 0.07176126 | 0.01733374 | 0.03150495 | 0.07176126 | 0.03872839 | 0.03512651 | \n",
       "| Custom STY 1 all tl=3 | 0          | 0.01733322 | 0.02057429 | 0.07634665 | 0.02566744 | 0.02999000 | 0.07634665 | 0.03602866 | 0.03418386 | \n",
       "| Custom STY 1 all tl=5 | 0          | 0.02037681 | 0.02553507 | 0.07873155 | 0.03094027 | 0.02843163 | 0.07873155 | 0.03574793 | 0.03256460 | \n",
       "\n",
       "\n"
      ],
      "text/plain": [
       "                      cut ROC        Acc        Sens       Spec      \n",
       "Custom STY 1 all      0   0.01743957 0.01928497 0.07592377 0.02360048\n",
       "Custom STY 1 all tl=0 0   0.01772713 0.01356486 0.07176126 0.01733374\n",
       "Custom STY 1 all tl=3 0   0.01733322 0.02057429 0.07634665 0.02566744\n",
       "Custom STY 1 all tl=5 0   0.02037681 0.02553507 0.07873155 0.03094027\n",
       "                      Prec       Recal      MCC        FMeas     \n",
       "Custom STY 1 all      0.02810978 0.07592377 0.03759002 0.03459311\n",
       "Custom STY 1 all tl=0 0.03150495 0.07176126 0.03872839 0.03512651\n",
       "Custom STY 1 all tl=3 0.02999000 0.07634665 0.03602866 0.03418386\n",
       "Custom STY 1 all tl=5 0.02843163 0.07873155 0.03574793 0.03256460"
      ]
     },
     "metadata": {},
     "output_type": "display_data"
    }
   ],
   "source": [
    "# Compare the results obtained using different values of transfer-leayer\n",
    "\n",
    "tl.names <- c('Custom STY 1 all', 'Custom STY 1 all tl=0', 'Custom STY 1 all tl=3', 'Custom STY 1 all tl=5')\n",
    "\n",
    "# Mean values\n",
    "bootstrap.mean[tl.names, ]\n",
    "\n",
    "# Std values\n",
    "bootstrap.std[tl.names, ]"
   ]
  },
  {
   "cell_type": "code",
   "execution_count": 42,
   "metadata": {},
   "outputs": [
    {
     "data": {
      "text/html": [
       "<table>\n",
       "<thead><tr><th></th><th scope=col>ROC</th><th scope=col>Acc</th><th scope=col>Sens</th><th scope=col>Spec</th><th scope=col>FMeas</th><th scope=col>MCC</th></tr></thead>\n",
       "<tbody>\n",
       "\t<tr><th scope=row>Custom STY 1 all tl=0</th><td>0.8251 0.0177</td><td>0.8423 0.0136</td><td>0.525 0.0718 </td><td>0.8668 0.0173</td><td>0.3192 0.0351</td><td>0.2729 0.0387</td></tr>\n",
       "\t<tr><th scope=row>Custom STY 1 all</th><td>0.8246 0.0174</td><td>0.8075 0.0193</td><td>0.6376 0.0759</td><td>0.8206 0.0236</td><td>0.3188 0.0346</td><td>0.2875 0.0376</td></tr>\n",
       "\t<tr><th scope=row>Custom STY 1 all tl=3</th><td>0.8249 0.0173</td><td>0.814 0.0206 </td><td>0.615 0.0763 </td><td>0.8294 0.0257</td><td>0.3186 0.0342</td><td>0.2841 0.036 </td></tr>\n",
       "\t<tr><th scope=row>Custom STY 1 all tl=5</th><td>0.8046 0.0204</td><td>0.8031 0.0255</td><td>0.6016 0.0787</td><td>0.8187 0.0309</td><td>0.3021 0.0326</td><td>0.2647 0.0357</td></tr>\n",
       "</tbody>\n",
       "</table>\n"
      ],
      "text/latex": [
       "\\begin{tabular}{r|llllll}\n",
       "  & ROC & Acc & Sens & Spec & FMeas & MCC\\\\\n",
       "\\hline\n",
       "\tCustom STY 1 all tl=0 & 0.8251 0.0177 & 0.8423 0.0136 & 0.525 0.0718  & 0.8668 0.0173 & 0.3192 0.0351 & 0.2729 0.0387\\\\\n",
       "\tCustom STY 1 all & 0.8246 0.0174 & 0.8075 0.0193 & 0.6376 0.0759 & 0.8206 0.0236 & 0.3188 0.0346 & 0.2875 0.0376\\\\\n",
       "\tCustom STY 1 all tl=3 & 0.8249 0.0173 & 0.814 0.0206  & 0.615 0.0763  & 0.8294 0.0257 & 0.3186 0.0342 & 0.2841 0.036 \\\\\n",
       "\tCustom STY 1 all tl=5 & 0.8046 0.0204 & 0.8031 0.0255 & 0.6016 0.0787 & 0.8187 0.0309 & 0.3021 0.0326 & 0.2647 0.0357\\\\\n",
       "\\end{tabular}\n"
      ],
      "text/markdown": [
       "\n",
       "| <!--/--> | ROC | Acc | Sens | Spec | FMeas | MCC | \n",
       "|---|---|---|---|\n",
       "| Custom STY 1 all tl=0 | 0.8251 0.0177 | 0.8423 0.0136 | 0.525 0.0718  | 0.8668 0.0173 | 0.3192 0.0351 | 0.2729 0.0387 | \n",
       "| Custom STY 1 all | 0.8246 0.0174 | 0.8075 0.0193 | 0.6376 0.0759 | 0.8206 0.0236 | 0.3188 0.0346 | 0.2875 0.0376 | \n",
       "| Custom STY 1 all tl=3 | 0.8249 0.0173 | 0.814 0.0206  | 0.615 0.0763  | 0.8294 0.0257 | 0.3186 0.0342 | 0.2841 0.036  | \n",
       "| Custom STY 1 all tl=5 | 0.8046 0.0204 | 0.8031 0.0255 | 0.6016 0.0787 | 0.8187 0.0309 | 0.3021 0.0326 | 0.2647 0.0357 | \n",
       "\n",
       "\n"
      ],
      "text/plain": [
       "                      ROC           Acc           Sens          Spec         \n",
       "Custom STY 1 all tl=0 0.8251 0.0177 0.8423 0.0136 0.525 0.0718  0.8668 0.0173\n",
       "Custom STY 1 all      0.8246 0.0174 0.8075 0.0193 0.6376 0.0759 0.8206 0.0236\n",
       "Custom STY 1 all tl=3 0.8249 0.0173 0.814 0.0206  0.615 0.0763  0.8294 0.0257\n",
       "Custom STY 1 all tl=5 0.8046 0.0204 0.8031 0.0255 0.6016 0.0787 0.8187 0.0309\n",
       "                      FMeas         MCC          \n",
       "Custom STY 1 all tl=0 0.3192 0.0351 0.2729 0.0387\n",
       "Custom STY 1 all      0.3188 0.0346 0.2875 0.0376\n",
       "Custom STY 1 all tl=3 0.3186 0.0342 0.2841 0.036 \n",
       "Custom STY 1 all tl=5 0.3021 0.0326 0.2647 0.0357"
      ]
     },
     "metadata": {},
     "output_type": "display_data"
    }
   ],
   "source": [
    "# To produce the Table results in the paper\n",
    "\n",
    "lr.names <- c('Custom STY 1 all tl=0', 'Custom STY 1 all', 'Custom STY 1 all tl=3', 'Custom STY 1 all tl=5')\n",
    "\n",
    "metric.names <- c('ROC', 'Acc', 'Sens', 'Spec', 'FMeas', 'MCC')\n",
    "\n",
    "bm <- bootstrap.mean[lr.names, metric.names]\n",
    "bd <- bootstrap.std[lr.names, metric.names]\n",
    "\n",
    "m <- matrix(paste(as.matrix(round(bm, 4)), as.matrix(round(bd, 4))), ncol = ncol(bm), nrow = nrow(bm))\n",
    "rownames(m) <- rownames(bm)\n",
    "colnames(m) <- colnames(bm)\n",
    "m"
   ]
  },
  {
   "cell_type": "code",
   "execution_count": 43,
   "metadata": {},
   "outputs": [
    {
     "data": {
      "text/html": [
       "<table>\n",
       "<thead><tr><th></th><th scope=col>ROC</th><th scope=col>Acc</th><th scope=col>Sens</th><th scope=col>Spec</th><th scope=col>FMeas</th><th scope=col>MCC</th></tr></thead>\n",
       "<tbody>\n",
       "\t<tr><th scope=row>Custom STY 1 all tl=0 lr=0.00025</th><td>0.826 0.0169 </td><td>0.7734 0.0228</td><td>0.6971 0.0648</td><td>0.7792 0.0267</td><td>0.3038 0.0339</td><td>0.281 0.035  </td></tr>\n",
       "\t<tr><th scope=row>Custom STY 1 all tl=3 lr=0.00025</th><td>0.8164 0.0184</td><td>0.7374 0.026 </td><td>0.761 0.0696 </td><td>0.7357 0.0307</td><td>0.2911 0.0299</td><td>0.2784 0.032 </td></tr>\n",
       "\t<tr><th scope=row>Custom STY 1 all tl=0 lr=0.0005</th><td>0.8267 0.0174</td><td>0.8062 0.0183</td><td>0.6312 0.0727</td><td>0.8197 0.0228</td><td>0.3152 0.0343</td><td>0.2828 0.0366</td></tr>\n",
       "\t<tr><th scope=row>Custom STY 1 all tl=3 lr=0.0005</th><td>0.8211 0.0178</td><td>0.7739 0.0244</td><td>0.7054 0.0725</td><td>0.7792 0.029 </td><td>0.3064 0.031 </td><td>0.2854 0.0336</td></tr>\n",
       "</tbody>\n",
       "</table>\n"
      ],
      "text/latex": [
       "\\begin{tabular}{r|llllll}\n",
       "  & ROC & Acc & Sens & Spec & FMeas & MCC\\\\\n",
       "\\hline\n",
       "\tCustom STY 1 all tl=0 lr=0.00025 & 0.826 0.0169  & 0.7734 0.0228 & 0.6971 0.0648 & 0.7792 0.0267 & 0.3038 0.0339 & 0.281 0.035  \\\\\n",
       "\tCustom STY 1 all tl=3 lr=0.00025 & 0.8164 0.0184 & 0.7374 0.026  & 0.761 0.0696  & 0.7357 0.0307 & 0.2911 0.0299 & 0.2784 0.032 \\\\\n",
       "\tCustom STY 1 all tl=0 lr=0.0005 & 0.8267 0.0174 & 0.8062 0.0183 & 0.6312 0.0727 & 0.8197 0.0228 & 0.3152 0.0343 & 0.2828 0.0366\\\\\n",
       "\tCustom STY 1 all tl=3 lr=0.0005 & 0.8211 0.0178 & 0.7739 0.0244 & 0.7054 0.0725 & 0.7792 0.029  & 0.3064 0.031  & 0.2854 0.0336\\\\\n",
       "\\end{tabular}\n"
      ],
      "text/markdown": [
       "\n",
       "| <!--/--> | ROC | Acc | Sens | Spec | FMeas | MCC | \n",
       "|---|---|---|---|\n",
       "| Custom STY 1 all tl=0 lr=0.00025 | 0.826 0.0169  | 0.7734 0.0228 | 0.6971 0.0648 | 0.7792 0.0267 | 0.3038 0.0339 | 0.281 0.035   | \n",
       "| Custom STY 1 all tl=3 lr=0.00025 | 0.8164 0.0184 | 0.7374 0.026  | 0.761 0.0696  | 0.7357 0.0307 | 0.2911 0.0299 | 0.2784 0.032  | \n",
       "| Custom STY 1 all tl=0 lr=0.0005 | 0.8267 0.0174 | 0.8062 0.0183 | 0.6312 0.0727 | 0.8197 0.0228 | 0.3152 0.0343 | 0.2828 0.0366 | \n",
       "| Custom STY 1 all tl=3 lr=0.0005 | 0.8211 0.0178 | 0.7739 0.0244 | 0.7054 0.0725 | 0.7792 0.029  | 0.3064 0.031  | 0.2854 0.0336 | \n",
       "\n",
       "\n"
      ],
      "text/plain": [
       "                                 ROC           Acc           Sens         \n",
       "Custom STY 1 all tl=0 lr=0.00025 0.826 0.0169  0.7734 0.0228 0.6971 0.0648\n",
       "Custom STY 1 all tl=3 lr=0.00025 0.8164 0.0184 0.7374 0.026  0.761 0.0696 \n",
       "Custom STY 1 all tl=0 lr=0.0005  0.8267 0.0174 0.8062 0.0183 0.6312 0.0727\n",
       "Custom STY 1 all tl=3 lr=0.0005  0.8211 0.0178 0.7739 0.0244 0.7054 0.0725\n",
       "                                 Spec          FMeas         MCC          \n",
       "Custom STY 1 all tl=0 lr=0.00025 0.7792 0.0267 0.3038 0.0339 0.281 0.035  \n",
       "Custom STY 1 all tl=3 lr=0.00025 0.7357 0.0307 0.2911 0.0299 0.2784 0.032 \n",
       "Custom STY 1 all tl=0 lr=0.0005  0.8197 0.0228 0.3152 0.0343 0.2828 0.0366\n",
       "Custom STY 1 all tl=3 lr=0.0005  0.7792 0.029  0.3064 0.031  0.2854 0.0336"
      ]
     },
     "metadata": {},
     "output_type": "display_data"
    }
   ],
   "source": [
    "# Compare different values of lr and tl\n",
    "\n",
    "lr.names <- c('Custom STY 1 all tl=0 lr=0.00025', 'Custom STY 1 all tl=3 lr=0.00025', \n",
    "              'Custom STY 1 all tl=0 lr=0.0005', 'Custom STY 1 all tl=3 lr=0.0005')\n",
    "\n",
    "metric.names <- c('ROC', 'Acc', 'Sens', 'Spec', 'FMeas', 'MCC')\n",
    "\n",
    "bm <- bootstrap.mean[lr.names, metric.names]\n",
    "bd <- bootstrap.std[lr.names, metric.names]\n",
    "m <- matrix(paste(as.matrix(round(bm, 4)), as.matrix(round(bd, 4))), ncol = ncol(bm), nrow = nrow(bm))\n",
    "rownames(m) <- rownames(bm)\n",
    "colnames(m) <- colnames(bm)\n",
    "m"
   ]
  }
 ],
 "metadata": {
  "kernelspec": {
   "display_name": "R",
   "language": "R",
   "name": "ir"
  },
  "language_info": {
   "codemirror_mode": "r",
   "file_extension": ".r",
   "mimetype": "text/x-r-source",
   "name": "R",
   "pygments_lexer": "r",
   "version": "3.4.3"
  }
 },
 "nbformat": 4,
 "nbformat_minor": 2
}
