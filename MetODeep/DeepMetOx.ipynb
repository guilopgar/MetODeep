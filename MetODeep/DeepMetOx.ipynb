{
 "cells": [
  {
   "cell_type": "markdown",
   "metadata": {},
   "source": [
    "# MetOx prediction using MusiteDeep\n",
    "\n",
    "In this notebook, we will use the framework MusiteDeep to try to solve the methionine-oxidation problem. We will pre-train the MusiteDeep model on general phosphorylation data, and then we will fine-tune it using our methionine-oxidation dataset."
   ]
  },
  {
   "cell_type": "markdown",
   "metadata": {},
   "source": [
    "## Test scripts\n",
    "\n",
    "Bash scripts to perform simple executions of the python scripts from MusiteDeep. We also try to control the GPU memory allocation, by including some statements in the main section of every executed script, as the GPU memory management seems to be specific for each keras session."
   ]
  },
  {
   "cell_type": "code",
   "execution_count": 1,
   "metadata": {},
   "outputs": [
    {
     "name": "stdout",
     "output_type": "stream",
     "text": [
      "Python 2.7.15 :: Anaconda, Inc.\r\n"
     ]
    }
   ],
   "source": [
    "!python -V"
   ]
  },
  {
   "cell_type": "code",
   "execution_count": 2,
   "metadata": {},
   "outputs": [
    {
     "name": "stdout",
     "output_type": "stream",
     "text": [
      "Using TensorFlow backend.\n",
      "2018-11-18 23:09:57.597485: I tensorflow/core/platform/cpu_feature_guard.cc:141] Your CPU supports instructions that this TensorFlow binary was not compiled to use: SSE4.1 SSE4.2 AVX AVX2 FMA\n",
      "2018-11-18 23:09:57.669853: I tensorflow/stream_executor/cuda/cuda_gpu_executor.cc:964] successful NUMA node read from SysFS had negative value (-1), but there must be at least one NUMA node, so returning NUMA node zero\n",
      "2018-11-18 23:09:57.670341: I tensorflow/core/common_runtime/gpu/gpu_device.cc:1432] Found device 0 with properties: \n",
      "name: GeForce GTX 1080 Ti major: 6 minor: 1 memoryClockRate(GHz): 1.6575\n",
      "pciBusID: 0000:01:00.0\n",
      "totalMemory: 10.91GiB freeMemory: 6.45GiB\n",
      "2018-11-18 23:09:57.670369: I tensorflow/core/common_runtime/gpu/gpu_device.cc:1511] Adding visible gpu devices: 0\n",
      "2018-11-18 23:09:57.853213: I tensorflow/core/common_runtime/gpu/gpu_device.cc:982] Device interconnect StreamExecutor with strength 1 edge matrix:\n",
      "2018-11-18 23:09:57.853254: I tensorflow/core/common_runtime/gpu/gpu_device.cc:988]      0 \n",
      "2018-11-18 23:09:57.853273: I tensorflow/core/common_runtime/gpu/gpu_device.cc:1001] 0:   N \n",
      "2018-11-18 23:09:57.853445: I tensorflow/core/common_runtime/gpu/gpu_device.cc:1115] Created TensorFlow device (/job:localhost/replica:0/task:0/device:GPU:0 with 6211 MB memory) -> physical GPU (device: 0, name: GeForce GTX 1080 Ti, pci bus id: 0000:01:00.0, compute capability: 6.1)\n",
      "../../MusiteDeep_Keras2.0/MusiteDeep/predict.py:144: FutureWarning: Method .as_matrix will be removed in a future version. Use .values instead.\n",
      "  testX,testY = convertRawToXY(testfrag.as_matrix(),codingMode=0)\n",
      "Successfully predicted from custom models !\n",
      "\n",
      "CPU times: user 613 ms, sys: 118 ms, total: 731 ms\n",
      "Wall time: 25.5 s\n"
     ]
    }
   ],
   "source": [
    "%%time\n",
    "# Predict\n",
    "!./ssh_test_predict_custom.sh"
   ]
  },
  {
   "cell_type": "code",
   "execution_count": null,
   "metadata": {},
   "outputs": [],
   "source": [
    "%%time\n",
    "# Fine-tuning\n",
    "!./ssh_test_fine_tune.sh"
   ]
  },
  {
   "cell_type": "markdown",
   "metadata": {},
   "source": [
    "# Custom general model\n",
    "\n",
    "We now pre-train a custom general model on the general phosphorylation training dataset."
   ]
  },
  {
   "cell_type": "markdown",
   "metadata": {},
   "source": [
    "Firstly, we check the total number of resiudes contained in the dataset:"
   ]
  },
  {
   "cell_type": "code",
   "execution_count": 3,
   "metadata": {},
   "outputs": [
    {
     "name": "stdout",
     "output_type": "stream",
     "text": [
      "36284\r\n"
     ]
    }
   ],
   "source": [
    "# Positive residues (in the original article, 36284 are reported)\n",
    "!cat ../../testdata/training_proteins_nonredundant_STY.fasta | grep \">sp\" -v | grep \"#\" -o | wc -l"
   ]
  },
  {
   "cell_type": "code",
   "execution_count": 4,
   "metadata": {},
   "outputs": [
    {
     "name": "stdout",
     "output_type": "stream",
     "text": [
      "840198\r\n"
     ]
    }
   ],
   "source": [
    "# Positive and negative residues (in the original article, 841448 are reported)\n",
    "!cat ../../testdata/training_proteins_nonredundant_STY.fasta | grep \">sp\" -v | grep \"S|T|Y\" -Eo | wc -l"
   ]
  },
  {
   "cell_type": "code",
   "execution_count": 26,
   "metadata": {},
   "outputs": [
    {
     "data": {
      "text/plain": [
       "126757"
      ]
     },
     "execution_count": 26,
     "metadata": {},
     "output_type": "execute_result"
    }
   ],
   "source": [
    "# Negative Tyr residues (in the original article, 128007 are reported)\n",
    "a = !cat ../../testdata/training_proteins_nonredundant_STY.fasta | grep \">sp\" -v | grep \"Y\" -o | wc -l\n",
    "p = !cat ../../testdata/training_proteins_nonredundant_STY.fasta | grep \">sp\" -v | grep \"Y#\" -o | wc -l\n",
    "int(a[0]) - int(p[0])"
   ]
  },
  {
   "cell_type": "markdown",
   "metadata": {},
   "source": [
    "Regarding the dataset described in the original article, this dataset lacks of 1250 Tyr negative sites."
   ]
  },
  {
   "cell_type": "markdown",
   "metadata": {},
   "source": [
    "General model pre-trained on S, T residues:"
   ]
  },
  {
   "cell_type": "code",
   "execution_count": null,
   "metadata": {},
   "outputs": [],
   "source": [
    "%%time\n",
    "!python ../../MusiteDeep_Keras2.0/MusiteDeep/train_general.py -input ../../testdata/training_proteins_nonredundant_STY.fasta -output-prefix models/pre-train/custom_general_ST -residue-types S,T -nclass=5"
   ]
  },
  {
   "cell_type": "markdown",
   "metadata": {},
   "source": [
    "General model pre-trained on S, T, Y residues:"
   ]
  },
  {
   "cell_type": "code",
   "execution_count": null,
   "metadata": {},
   "outputs": [],
   "source": [
    "%%time\n",
    "!python ../../MusiteDeep_Keras2.0/MusiteDeep/train_general.py -input ../../testdata/training_proteins_nonredundant_STY.fasta -output-prefix models/pre-train/custom_general_STY -residue-types S,T,Y -nclass=5"
   ]
  },
  {
   "cell_type": "markdown",
   "metadata": {},
   "source": [
    "## Using all phoshorylation data\n",
    "\n",
    "We now pre-train a custom general model using both training and testing general phoshorylation datasets."
   ]
  },
  {
   "cell_type": "markdown",
   "metadata": {},
   "source": [
    "First of all, we check that there are not proteins contained both in training and testing datasets, based on their IDs:"
   ]
  },
  {
   "cell_type": "code",
   "execution_count": 25,
   "metadata": {},
   "outputs": [
    {
     "name": "stdout",
     "output_type": "stream",
     "text": [
      "7627\r\n"
     ]
    }
   ],
   "source": [
    "!cat ../../testdata/training_testing_proteins_nonredundant_STY.fasta | grep \">sp\" | wc -l"
   ]
  },
  {
   "cell_type": "code",
   "execution_count": 27,
   "metadata": {},
   "outputs": [
    {
     "name": "stdout",
     "output_type": "stream",
     "text": [
      "7627\r\n"
     ]
    }
   ],
   "source": [
    "!cat ../../testdata/training_testing_proteins_nonredundant_STY.fasta | grep \">sp\" | sort | uniq | wc -l"
   ]
  },
  {
   "cell_type": "markdown",
   "metadata": {},
   "source": [
    "Then, we check the total number of resiudes contained in the dataset:"
   ]
  },
  {
   "cell_type": "code",
   "execution_count": 1,
   "metadata": {},
   "outputs": [
    {
     "name": "stdout",
     "output_type": "stream",
     "text": [
      "38405\r\n"
     ]
    }
   ],
   "source": [
    "# Positive residues (in the original article, 38405 are reported)\n",
    "!cat ../../testdata/training_testing_proteins_nonredundant_STY.fasta | grep \">sp\" -v | grep \"#\" -o | wc -l"
   ]
  },
  {
   "cell_type": "code",
   "execution_count": 11,
   "metadata": {},
   "outputs": [
    {
     "name": "stdout",
     "output_type": "stream",
     "text": [
      "1930\r\n"
     ]
    }
   ],
   "source": [
    "# Tyr positive residues (in the original article, 1930 are reported)\n",
    "!cat ../../testdata/training_testing_proteins_nonredundant_STY.fasta | grep \">sp\" -v | grep \"Y#\" -o | wc -l"
   ]
  },
  {
   "cell_type": "code",
   "execution_count": 24,
   "metadata": {},
   "outputs": [
    {
     "data": {
      "text/plain": [
       "135931"
      ]
     },
     "execution_count": 24,
     "metadata": {},
     "output_type": "execute_result"
    }
   ],
   "source": [
    "# Tyr negative residues (in the original article, 137181 are reported)\n",
    "a = !cat ../../testdata/training_testing_proteins_nonredundant_STY.fasta | grep \">sp\" -v | grep \"Y\" -o | wc -l\n",
    "p = !cat ../../testdata/training_testing_proteins_nonredundant_STY.fasta | grep \">sp\" -v | grep \"Y#\" -o | wc -l\n",
    "int(a[0]) - int(p[0])"
   ]
  },
  {
   "cell_type": "code",
   "execution_count": 2,
   "metadata": {},
   "outputs": [
    {
     "name": "stdout",
     "output_type": "stream",
     "text": [
      "912373\r\n"
     ]
    }
   ],
   "source": [
    "# Positive and negative residues (in the original article, 913623 are reported)\n",
    "!cat ../../testdata/training_testing_proteins_nonredundant_STY.fasta | grep \">sp\" -v | grep -Eo \"S|T|Y\" | wc -l"
   ]
  },
  {
   "cell_type": "markdown",
   "metadata": {},
   "source": [
    "Regarding the dataset described in the original article, this dataset lacks of the 1250 Tyr negative sites of the training set, as stated above."
   ]
  },
  {
   "cell_type": "markdown",
   "metadata": {},
   "source": [
    "General model pre-trained on S, T residues:"
   ]
  },
  {
   "cell_type": "code",
   "execution_count": null,
   "metadata": {},
   "outputs": [],
   "source": [
    "%%time\n",
    "!python ../../MusiteDeep_Keras2.0/MusiteDeep/train_general.py -input ../../testdata/training_testing_proteins_nonredundant_STY.fasta -output-prefix all-phos-data/models/pre-train/custom_general_ST -residue-types S,T -nclass=5"
   ]
  },
  {
   "cell_type": "markdown",
   "metadata": {},
   "source": [
    "General model pre-trained on S, T, Y residues:"
   ]
  },
  {
   "cell_type": "code",
   "execution_count": null,
   "metadata": {},
   "outputs": [],
   "source": [
    "%%time\n",
    "!python ../../MusiteDeep_Keras2.0/MusiteDeep/train_general.py -input ../../testdata/training_testing_proteins_nonredundant_STY.fasta -output-prefix all-phos-data/models/pre-train/custom_general_STY -residue-types S,T,Y -nclass=5"
   ]
  },
  {
   "cell_type": "markdown",
   "metadata": {},
   "source": [
    "# Fine-tuned models\n",
    "\n",
    "We first fine-tune the custom general models using default hyper-parameters configurations."
   ]
  },
  {
   "cell_type": "markdown",
   "metadata": {},
   "source": [
    "## Using repeated holdout strategy\n",
    "\n",
    "Models are fine-tuned on MetOx data.\n",
    "\n",
    "### Residues S, T\n",
    "\n",
    "Using nclass=5, "
   ]
  },
  {
   "cell_type": "code",
   "execution_count": 1,
   "metadata": {},
   "outputs": [
    {
     "name": "stdout",
     "output_type": "stream",
     "text": [
      "#!/bin/bash\r\n",
      "\r\n",
      "for i in {1..10}\r\n",
      "do\r\n",
      "\t# Train\r\n",
      "\t# Using repeated holdout strategy\r\n",
      "\t# Using the custom general model pre-trained on S, T residues\r\n",
      "\t# Using nclass=5 (default)\r\n",
      "\t# - initializing only the weights in last layer (for transfer learning)\r\n",
      "\tpython ../../MusiteDeep_Keras2.0/MusiteDeep/train_kinase.py -input ../fasta_files/all_train_MetOx_$i.fasta -background-prefix models/pre-train/custom_general_ST -output-prefix models/fine-tune/rephold-ST-nclass5/metox_model_custom_general_ST_$i -residue-types M -transferlayer 1\r\n",
      "\r\n",
      "\t# Test\r\n",
      "\tpython ../../MusiteDeep_Keras2.0/MusiteDeep/predict.py -input ../fasta_files/all_test_MetOx_$i.fasta -predict-type custom -model-prefix models/fine-tune/rephold-ST-nclass5/metox_model_custom_general_ST_$i -output results/rephold-ST-nclass5/metox_result_custom_general_ST_$i\r\n",
      "done\r\n"
     ]
    }
   ],
   "source": [
    "!cat train_bootstrap_custom_model_ST_5.sh"
   ]
  },
  {
   "cell_type": "code",
   "execution_count": null,
   "metadata": {},
   "outputs": [],
   "source": [
    "%%time\n",
    "!./train_bootstrap_custom_model_ST_5.sh"
   ]
  },
  {
   "cell_type": "markdown",
   "metadata": {},
   "source": [
    "Using nclass=1:"
   ]
  },
  {
   "cell_type": "code",
   "execution_count": 2,
   "metadata": {},
   "outputs": [
    {
     "name": "stdout",
     "output_type": "stream",
     "text": [
      "#!/bin/bash\r\n",
      "\r\n",
      "for i in {1..10}\r\n",
      "do\r\n",
      "\t# Train\r\n",
      "\t# Using repeated holdout strategy\r\n",
      "\t# Using the custom general model pre-trained on S, T residues\r\n",
      "\t# Using nclass=1\r\n",
      "\t# - initializing only the weights in last layer (for transfer learning)\r\n",
      "\tpython ../../MusiteDeep_Keras2.0/MusiteDeep/train_kinase.py -input ../fasta_files/all_train_MetOx_$i.fasta -background-prefix models/pre-train/custom_general_ST -output-prefix models/fine-tune/rephold-ST-nclass1/metox_model_custom_general_ST_$i -residue-types M -nclass 1 -transferlayer 1\r\n",
      "\r\n",
      "\t# Test\r\n",
      "\tpython ../../MusiteDeep_Keras2.0/MusiteDeep/predict.py -input ../fasta_files/all_test_MetOx_$i.fasta -predict-type custom -model-prefix models/fine-tune/rephold-ST-nclass1/metox_model_custom_general_ST_$i -output results/rephold-ST-nclass1/metox_result_custom_general_ST_$i\r\n",
      "done\r\n"
     ]
    }
   ],
   "source": [
    "!cat train_bootstrap_custom_model_ST_1.sh"
   ]
  },
  {
   "cell_type": "code",
   "execution_count": null,
   "metadata": {},
   "outputs": [],
   "source": [
    "%%time\n",
    "!./train_bootstrap_custom_model_ST_1.sh"
   ]
  },
  {
   "cell_type": "markdown",
   "metadata": {},
   "source": [
    "#### Fasta files with no initial M\n",
    "\n",
    "Using nclass=1:"
   ]
  },
  {
   "cell_type": "code",
   "execution_count": 16,
   "metadata": {},
   "outputs": [
    {
     "name": "stdout",
     "output_type": "stream",
     "text": [
      "#!/bin/bash\r\n",
      "\r\n",
      "for i in {1..10}\r\n",
      "do\r\n",
      "\t# Train\r\n",
      "\t# Using repeated holdout strategy\r\n",
      "\t# Using the custom general model pre-trained on S, T residues\r\n",
      "\t# Using nclass=1\r\n",
      "\t# - initializing only the weights in last layer (for transfer learning)\r\n",
      "\tpython ../../MusiteDeep_Keras2.0/MusiteDeep/train_kinase.py -input fasta_files_M/all_train_MetOx_$i.fasta -background-prefix models/pre-train/custom_general_ST -output-prefix musite-fasta-M/models/fine-tune/rephold-ST-nclass1/metox_model_custom_general_ST_$i -residue-types M -nclass 1 -transferlayer 1\r\n",
      "\r\n",
      "\t# Test\r\n",
      "\tpython ../../MusiteDeep_Keras2.0/MusiteDeep/predict.py -input fasta_files_M/all_test_MetOx_$i.fasta -predict-type custom -model-prefix musite-fasta-M/models/fine-tune/rephold-ST-nclass1/metox_model_custom_general_ST_$i -output musite-fasta-M/results/rephold-ST-nclass1/metox_result_custom_general_ST_$i\r\n",
      "done\r\n"
     ]
    }
   ],
   "source": [
    "!cat musite-fasta-M/train_bootstrap_custom_model_ST_1.sh"
   ]
  },
  {
   "cell_type": "code",
   "execution_count": null,
   "metadata": {},
   "outputs": [],
   "source": [
    "%%time\n",
    "!musite-fasta-M/train_bootstrap_custom_model_ST_1.sh"
   ]
  },
  {
   "cell_type": "markdown",
   "metadata": {},
   "source": [
    "### Residues S, T, Y\n",
    "\n",
    "Using nclass=5:"
   ]
  },
  {
   "cell_type": "code",
   "execution_count": 8,
   "metadata": {},
   "outputs": [
    {
     "name": "stdout",
     "output_type": "stream",
     "text": [
      "#!/bin/bash\r\n",
      "\r\n",
      "for i in {1..10}\r\n",
      "do\r\n",
      "\t# Train\r\n",
      "\t# Using repeated holdout strategy\r\n",
      "\t# Using the custom general model pre-trained on S, T, Y residues\r\n",
      "\t# Using nclass=5 (default)\r\n",
      "\t# - initializing only the weights in last layer (for transfer learning)\r\n",
      "\tpython ../../MusiteDeep_Keras2.0/MusiteDeep/train_kinase.py -input ../fasta_files/all_train_MetOx_$i.fasta -background-prefix models/pre-train/custom_general_STY -output-prefix models/fine-tune/rephold-STY-nclass5/metox_model_custom_general_STY_$i -residue-types M -transferlayer 1\r\n",
      "\r\n",
      "\t# Test\r\n",
      "\tpython ../../MusiteDeep_Keras2.0/MusiteDeep/predict.py -input ../fasta_files/all_test_MetOx_$i.fasta -predict-type custom -model-prefix models/fine-tune/rephold-STY-nclass5/metox_model_custom_general_STY_$i -output results/rephold-STY-nclass5/metox_result_custom_general_STY_$i\r\n",
      "done\r\n"
     ]
    }
   ],
   "source": [
    "!cat train_bootstrap_custom_model_STY_5.sh"
   ]
  },
  {
   "cell_type": "code",
   "execution_count": null,
   "metadata": {},
   "outputs": [],
   "source": [
    "%%time\n",
    "!./train_bootstrap_custom_model_STY_5.sh"
   ]
  },
  {
   "cell_type": "markdown",
   "metadata": {},
   "source": [
    "Using nclass=1:"
   ]
  },
  {
   "cell_type": "code",
   "execution_count": 2,
   "metadata": {},
   "outputs": [
    {
     "name": "stdout",
     "output_type": "stream",
     "text": [
      "#!/bin/bash\r\n",
      "\r\n",
      "for i in {1..10}\r\n",
      "do\r\n",
      "\t# Train\r\n",
      "\t# Using repeated holdout strategy\r\n",
      "\t# Using the custom general model pre-trained on S, T, Y residues\r\n",
      "\t# Using nclass=1\r\n",
      "\t# - initializing only the weights in last layer (for transfer learning)\r\n",
      "\tpython ../../MusiteDeep_Keras2.0/MusiteDeep/train_kinase.py -input ../fasta_files/all_train_MetOx_$i.fasta -background-prefix models/pre-train/custom_general_STY -output-prefix models/fine-tune/rephold-STY-nclass1/metox_model_custom_general_STY_$i -residue-types M -nclass 1 -transferlayer 1\r\n",
      "\r\n",
      "\t# Test\r\n",
      "\tpython ../../MusiteDeep_Keras2.0/MusiteDeep/predict.py -input ../fasta_files/all_test_MetOx_$i.fasta -predict-type custom -model-prefix models/fine-tune/rephold-STY-nclass1/metox_model_custom_general_STY_$i -output results/rephold-STY-nclass1/metox_result_custom_general_STY_$i\r\n",
      "done\r\n"
     ]
    }
   ],
   "source": [
    "!cat train_bootstrap_custom_model_STY_1.sh"
   ]
  },
  {
   "cell_type": "code",
   "execution_count": null,
   "metadata": {},
   "outputs": [],
   "source": [
    "%%time\n",
    "!./train_bootstrap_custom_model_STY_1.sh"
   ]
  },
  {
   "cell_type": "markdown",
   "metadata": {},
   "source": [
    "#### Learning-rate\n",
    "\n",
    "Using lr=0.00075:"
   ]
  },
  {
   "cell_type": "code",
   "execution_count": 12,
   "metadata": {},
   "outputs": [
    {
     "name": "stdout",
     "output_type": "stream",
     "text": [
      "#!/bin/bash\r\n",
      "\r\n",
      "for i in {1..10}\r\n",
      "do\r\n",
      "\t# Train\r\n",
      "\t# Using repeated holdout strategy\r\n",
      "\t# Using the custom general model pre-trained on S, T, Y residues\r\n",
      "\t# Using nclass=1 and lr=0.00075\r\n",
      "\t# - initializing only the weights in last layer (for transfer learning)\r\n",
      "\tpython ../../MusiteDeep_Keras2.0/MusiteDeep/train_kinase.py -input ../fasta_files/all_train_MetOx_$i.fasta -background-prefix models/pre-train/custom_general_STY -output-prefix lr/models/fine-tune/rephold-STY-nclass1-lr00075/metox_model_custom_general_STY_$i -residue-types M -nclass 1 -transferlayer 1 -lr 0.00075\r\n",
      "\r\n",
      "\t# Test\r\n",
      "\tpython ../../MusiteDeep_Keras2.0/MusiteDeep/predict.py -input ../fasta_files/all_test_MetOx_$i.fasta -predict-type custom -model-prefix lr/models/fine-tune/rephold-STY-nclass1-lr00075/metox_model_custom_general_STY_$i -output lr/results/rephold-STY-nclass1-lr00075/metox_result_custom_general_STY_$i\r\n",
      "done\r\n"
     ]
    }
   ],
   "source": [
    "!cat lr/train_bootstrap_custom_model_STY_1_lr_00075.sh"
   ]
  },
  {
   "cell_type": "code",
   "execution_count": null,
   "metadata": {},
   "outputs": [],
   "source": [
    "%%time\n",
    "!lr/train_bootstrap_custom_model_STY_1_lr_00075.sh"
   ]
  },
  {
   "cell_type": "markdown",
   "metadata": {},
   "source": [
    "Using lr=0.0005:"
   ]
  },
  {
   "cell_type": "code",
   "execution_count": 3,
   "metadata": {},
   "outputs": [
    {
     "name": "stdout",
     "output_type": "stream",
     "text": [
      "#!/bin/bash\r\n",
      "\r\n",
      "for i in {1..10}\r\n",
      "do\r\n",
      "\t# Train\r\n",
      "\t# Using repeated holdout strategy\r\n",
      "\t# Using the custom general model pre-trained on S, T, Y residues\r\n",
      "\t# Using nclass=1 and lr=0.0005\r\n",
      "\t# - initializing only the weights in last layer (for transfer learning)\r\n",
      "\tpython ../../MusiteDeep_Keras2.0/MusiteDeep/train_kinase.py -input ../fasta_files/all_train_MetOx_$i.fasta -background-prefix models/pre-train/custom_general_STY -output-prefix lr/models/fine-tune/rephold-STY-nclass1-lr0005/metox_model_custom_general_STY_$i -residue-types M -nclass 1 -transferlayer 1 -lr 0.0005\r\n",
      "\r\n",
      "\t# Test\r\n",
      "\tpython ../../MusiteDeep_Keras2.0/MusiteDeep/predict.py -input ../fasta_files/all_test_MetOx_$i.fasta -predict-type custom -model-prefix lr/models/fine-tune/rephold-STY-nclass1-lr0005/metox_model_custom_general_STY_$i -output lr/results/rephold-STY-nclass1-lr0005/metox_result_custom_general_STY_$i\r\n",
      "done\r\n"
     ]
    }
   ],
   "source": [
    "!cat lr/train_bootstrap_custom_model_STY_1_lr_0005.sh"
   ]
  },
  {
   "cell_type": "code",
   "execution_count": null,
   "metadata": {},
   "outputs": [],
   "source": [
    "%%time\n",
    "!lr/train_bootstrap_custom_model_STY_1_lr_0005.sh"
   ]
  },
  {
   "cell_type": "markdown",
   "metadata": {},
   "source": [
    "Using lr=0.0003:"
   ]
  },
  {
   "cell_type": "code",
   "execution_count": 3,
   "metadata": {},
   "outputs": [
    {
     "name": "stdout",
     "output_type": "stream",
     "text": [
      "#!/bin/bash\r\n",
      "\r\n",
      "for i in {1..10}\r\n",
      "do\r\n",
      "\t# Train\r\n",
      "\t# Using repeated holdout strategy\r\n",
      "\t# Using the custom general model pre-trained on S, T, Y residues\r\n",
      "\t# Using nclass=1 and lr=0.0003\r\n",
      "\t# - initializing only the weights in last layer (for transfer learning)\r\n",
      "\tpython ../../MusiteDeep_Keras2.0/MusiteDeep/train_kinase.py -input ../fasta_files/all_train_MetOx_$i.fasta -background-prefix models/pre-train/custom_general_STY -output-prefix lr/models/fine-tune/rephold-STY-nclass1-lr0003/metox_model_custom_general_STY_$i -residue-types M -nclass 1 -transferlayer 1 -lr 0.0003\r\n",
      "\r\n",
      "\t# Test\r\n",
      "\tpython ../../MusiteDeep_Keras2.0/MusiteDeep/predict.py -input ../fasta_files/all_test_MetOx_$i.fasta -predict-type custom -model-prefix lr/models/fine-tune/rephold-STY-nclass1-lr0003/metox_model_custom_general_STY_$i -output lr/results/rephold-STY-nclass1-lr0003/metox_result_custom_general_STY_$i\r\n",
      "done\r\n"
     ]
    }
   ],
   "source": [
    "!cat lr/train_bootstrap_custom_model_STY_1_lr_0003.sh"
   ]
  },
  {
   "cell_type": "code",
   "execution_count": null,
   "metadata": {},
   "outputs": [],
   "source": [
    "%%time\n",
    "!lr/train_bootstrap_custom_model_STY_1_lr_0003.sh"
   ]
  },
  {
   "cell_type": "markdown",
   "metadata": {},
   "source": [
    "Using lr=0.0001:"
   ]
  },
  {
   "cell_type": "code",
   "execution_count": 6,
   "metadata": {},
   "outputs": [
    {
     "name": "stdout",
     "output_type": "stream",
     "text": [
      "#!/bin/bash\r\n",
      "\r\n",
      "for i in {1..10}\r\n",
      "do\r\n",
      "\t# Train\r\n",
      "\t# Using repeated holdout strategy\r\n",
      "\t# Using the custom general model pre-trained on S, T, Y residues\r\n",
      "\t# Using nclass=1 and lr=0.0001\r\n",
      "\t# - initializing only the weights in last layer (for transfer learning)\r\n",
      "\tpython ../../MusiteDeep_Keras2.0/MusiteDeep/train_kinase.py -input ../fasta_files/all_train_MetOx_$i.fasta -background-prefix models/pre-train/custom_general_STY -output-prefix lr/models/fine-tune/rephold-STY-nclass1-lr0001/metox_model_custom_general_STY_$i -residue-types M -nclass 1 -transferlayer 1 -lr 0.0001\r\n",
      "\r\n",
      "\t# Test\r\n",
      "\tpython ../../MusiteDeep_Keras2.0/MusiteDeep/predict.py -input ../fasta_files/all_test_MetOx_$i.fasta -predict-type custom -model-prefix lr/models/fine-tune/rephold-STY-nclass1-lr0001/metox_model_custom_general_STY_$i -output lr/results/rephold-STY-nclass1-lr0001/metox_result_custom_general_STY_$i\r\n",
      "done\r\n"
     ]
    }
   ],
   "source": [
    "!cat lr/train_bootstrap_custom_model_STY_1_lr_0001.sh"
   ]
  },
  {
   "cell_type": "code",
   "execution_count": null,
   "metadata": {},
   "outputs": [],
   "source": [
    "%%time\n",
    "!lr/train_bootstrap_custom_model_STY_1_lr_0001.sh"
   ]
  },
  {
   "cell_type": "markdown",
   "metadata": {},
   "source": [
    "Using lr=0.005:"
   ]
  },
  {
   "cell_type": "code",
   "execution_count": 8,
   "metadata": {},
   "outputs": [
    {
     "name": "stdout",
     "output_type": "stream",
     "text": [
      "#!/bin/bash\r\n",
      "\r\n",
      "for i in {1..10}\r\n",
      "do\r\n",
      "\t# Train\r\n",
      "\t# Using repeated holdout strategy\r\n",
      "\t# Using the custom general model pre-trained on S, T, Y residues\r\n",
      "\t# Using nclass=1 and lr=0.005\r\n",
      "\t# - initializing only the weights in last layer (for transfer learning)\r\n",
      "\tpython ../../MusiteDeep_Keras2.0/MusiteDeep/train_kinase.py -input ../fasta_files/all_train_MetOx_$i.fasta -background-prefix models/pre-train/custom_general_STY -output-prefix lr/models/fine-tune/rephold-STY-nclass1-lr005/metox_model_custom_general_STY_$i -residue-types M -nclass 1 -transferlayer 1 -lr 0.005\r\n",
      "\r\n",
      "\t# Test\r\n",
      "\tpython ../../MusiteDeep_Keras2.0/MusiteDeep/predict.py -input ../fasta_files/all_test_MetOx_$i.fasta -predict-type custom -model-prefix lr/models/fine-tune/rephold-STY-nclass1-lr005/metox_model_custom_general_STY_$i -output lr/results/rephold-STY-nclass1-lr005/metox_result_custom_general_STY_$i\r\n",
      "done\r\n"
     ]
    }
   ],
   "source": [
    "!cat lr/train_bootstrap_custom_model_STY_1_lr_005.sh"
   ]
  },
  {
   "cell_type": "code",
   "execution_count": null,
   "metadata": {},
   "outputs": [],
   "source": [
    "%%time\n",
    "!lr/train_bootstrap_custom_model_STY_1_lr_005.sh"
   ]
  },
  {
   "cell_type": "markdown",
   "metadata": {},
   "source": [
    "Using lr=0.01:"
   ]
  },
  {
   "cell_type": "code",
   "execution_count": 10,
   "metadata": {},
   "outputs": [
    {
     "name": "stdout",
     "output_type": "stream",
     "text": [
      "#!/bin/bash\r\n",
      "\r\n",
      "for i in {1..10}\r\n",
      "do\r\n",
      "\t# Train\r\n",
      "\t# Using repeated holdout strategy\r\n",
      "\t# Using the custom general model pre-trained on S, T, Y residues\r\n",
      "\t# Using nclass=1 and lr=0.01\r\n",
      "\t# - initializing only the weights in last layer (for transfer learning)\r\n",
      "\tpython ../../MusiteDeep_Keras2.0/MusiteDeep/train_kinase.py -input ../fasta_files/all_train_MetOx_$i.fasta -background-prefix models/pre-train/custom_general_STY -output-prefix lr/models/fine-tune/rephold-STY-nclass1-lr01/metox_model_custom_general_STY_$i -residue-types M -nclass 1 -transferlayer 1 -lr 0.01\r\n",
      "\r\n",
      "\t# Test\r\n",
      "\tpython ../../MusiteDeep_Keras2.0/MusiteDeep/predict.py -input ../fasta_files/all_test_MetOx_$i.fasta -predict-type custom -model-prefix lr/models/fine-tune/rephold-STY-nclass1-lr01/metox_model_custom_general_STY_$i -output lr/results/rephold-STY-nclass1-lr01/metox_result_custom_general_STY_$i\r\n",
      "done\r\n"
     ]
    }
   ],
   "source": [
    "!cat lr/train_bootstrap_custom_model_STY_1_lr_01.sh"
   ]
  },
  {
   "cell_type": "code",
   "execution_count": null,
   "metadata": {},
   "outputs": [],
   "source": [
    "%%time\n",
    "!lr/train_bootstrap_custom_model_STY_1_lr_01.sh"
   ]
  },
  {
   "cell_type": "markdown",
   "metadata": {},
   "source": [
    "#### Transfer-leayer"
   ]
  },
  {
   "cell_type": "markdown",
   "metadata": {},
   "source": [
    "Using transfer-leayer=0:"
   ]
  },
  {
   "cell_type": "code",
   "execution_count": 16,
   "metadata": {},
   "outputs": [
    {
     "name": "stdout",
     "output_type": "stream",
     "text": [
      "#!/bin/bash\r\n",
      "\r\n",
      "for i in {1..10}\r\n",
      "do\r\n",
      "\t# Train\r\n",
      "\t# Using repeated holdout strategy\r\n",
      "\t# Using the custom general model pre-trained on S, T, Y residues\r\n",
      "\t# Using nclass=1 and transfer-leayer=0\r\n",
      "\t# - initializing only the weights in last layer (for transfer learning)\r\n",
      "\tpython ../../MusiteDeep_Keras2.0/MusiteDeep/train_kinase.py -input ../fasta_files/all_train_MetOx_$i.fasta -background-prefix models/pre-train/custom_general_STY -output-prefix transfer-leayer/models/rephold-STY-nclass1-tl0/metox_model_custom_general_STY_$i -residue-types M -nclass 1 -transferlayer 0\r\n",
      "\r\n",
      "\t# Test\r\n",
      "\tpython ../../MusiteDeep_Keras2.0/MusiteDeep/predict.py -input ../fasta_files/all_test_MetOx_$i.fasta -predict-type custom -model-prefix transfer-leayer/models/rephold-STY-nclass1-tl0/metox_model_custom_general_STY_$i -output transfer-leayer/results/rephold-STY-nclass1-tl0/metox_result_custom_general_STY_$i\r\n",
      "done\r\n"
     ]
    }
   ],
   "source": [
    "!cat transfer-leayer/train_bootstrap_custom_model_STY_1_tl_0.sh"
   ]
  },
  {
   "cell_type": "code",
   "execution_count": null,
   "metadata": {},
   "outputs": [],
   "source": [
    "%%time\n",
    "!transfer-leayer/train_bootstrap_custom_model_STY_1_tl_0.sh"
   ]
  },
  {
   "cell_type": "markdown",
   "metadata": {},
   "source": [
    "Using transfer-leayer=3:"
   ]
  },
  {
   "cell_type": "code",
   "execution_count": 18,
   "metadata": {},
   "outputs": [
    {
     "name": "stdout",
     "output_type": "stream",
     "text": [
      "#!/bin/bash\r\n",
      "\r\n",
      "for i in {1..10}\r\n",
      "do\r\n",
      "\t# Train\r\n",
      "\t# Using repeated holdout strategy\r\n",
      "\t# Using the custom general model pre-trained on S, T, Y residues\r\n",
      "\t# Using nclass=1 and transfer-leayer=3\r\n",
      "\t# - initializing only the weights in last layer (for transfer learning)\r\n",
      "\tpython ../../MusiteDeep_Keras2.0/MusiteDeep/train_kinase.py -input ../fasta_files/all_train_MetOx_$i.fasta -background-prefix models/pre-train/custom_general_STY -output-prefix transfer-leayer/models/rephold-STY-nclass1-tl3/metox_model_custom_general_STY_$i -residue-types M -nclass 1 -transferlayer 3\r\n",
      "\r\n",
      "\t# Test\r\n",
      "\tpython ../../MusiteDeep_Keras2.0/MusiteDeep/predict.py -input ../fasta_files/all_test_MetOx_$i.fasta -predict-type custom -model-prefix transfer-leayer/models/rephold-STY-nclass1-tl3/metox_model_custom_general_STY_$i -output transfer-leayer/results/rephold-STY-nclass1-tl3/metox_result_custom_general_STY_$i\r\n",
      "done\r\n"
     ]
    }
   ],
   "source": [
    "!cat transfer-leayer/train_bootstrap_custom_model_STY_1_tl_3.sh"
   ]
  },
  {
   "cell_type": "code",
   "execution_count": null,
   "metadata": {},
   "outputs": [],
   "source": [
    "%%time\n",
    "!transfer-leayer/train_bootstrap_custom_model_STY_1_tl_3.sh"
   ]
  },
  {
   "cell_type": "markdown",
   "metadata": {},
   "source": [
    "Using transfer-leayer=5:"
   ]
  },
  {
   "cell_type": "code",
   "execution_count": 25,
   "metadata": {
    "scrolled": true
   },
   "outputs": [
    {
     "name": "stdout",
     "output_type": "stream",
     "text": [
      "#!/bin/bash\r\n",
      "\r\n",
      "for i in {1..10}\r\n",
      "do\r\n",
      "\t# Train\r\n",
      "\t# Using repeated holdout strategy\r\n",
      "\t# Using the custom general model pre-trained on S, T, Y residues\r\n",
      "\t# Using nclass=1 and transfer-leayer=5\r\n",
      "\t# - initializing only the weights in last layer (for transfer learning)\r\n",
      "\tpython ../../MusiteDeep_Keras2.0/MusiteDeep/train_kinase.py -input ../fasta_files/all_train_MetOx_$i.fasta -background-prefix models/pre-train/custom_general_STY -output-prefix transfer-leayer/models/rephold-STY-nclass1-tl5/metox_model_custom_general_STY_$i -residue-types M -nclass 1 -transferlayer 5\r\n",
      "\r\n",
      "\t# Test\r\n",
      "\tpython ../../MusiteDeep_Keras2.0/MusiteDeep/predict.py -input ../fasta_files/all_test_MetOx_$i.fasta -predict-type custom -model-prefix transfer-leayer/models/rephold-STY-nclass1-tl5/metox_model_custom_general_STY_$i -output transfer-leayer/results/rephold-STY-nclass1-tl5/metox_result_custom_general_STY_$i\r\n",
      "done\r\n"
     ]
    }
   ],
   "source": [
    "!cat transfer-leayer/train_bootstrap_custom_model_STY_1_tl_5.sh"
   ]
  },
  {
   "cell_type": "code",
   "execution_count": null,
   "metadata": {},
   "outputs": [],
   "source": [
    "%%time\n",
    "!transfer-leayer/train_bootstrap_custom_model_STY_1_tl_5.sh"
   ]
  },
  {
   "cell_type": "markdown",
   "metadata": {},
   "source": [
    "#### Transfer-leayer and learning-rate"
   ]
  },
  {
   "cell_type": "markdown",
   "metadata": {},
   "source": [
    "Using transfer-leayer=0 and lr=0.00075:"
   ]
  },
  {
   "cell_type": "code",
   "execution_count": 27,
   "metadata": {},
   "outputs": [
    {
     "name": "stdout",
     "output_type": "stream",
     "text": [
      "#!/bin/bash\r\n",
      "\r\n",
      "for i in {1..10}\r\n",
      "do\r\n",
      "\t# Train\r\n",
      "\t# Using repeated holdout strategy\r\n",
      "\t# Using the custom general model pre-trained on S, T, Y residues\r\n",
      "\t# Using nclass=1, transfer-leayer=0 and lr=0.00075\r\n",
      "\t# - initializing only the weights in last layer (for transfer learning)\r\n",
      "\tpython ../../MusiteDeep_Keras2.0/MusiteDeep/train_kinase.py -input ../fasta_files/all_train_MetOx_$i.fasta -background-prefix models/pre-train/custom_general_STY -output-prefix transfer-leayer/models/rephold-STY-nclass1-tl0-lr00075/metox_model_custom_general_STY_$i -residue-types M -nclass 1 -transferlayer 0 -lr 0.00075\r\n",
      "\r\n",
      "\t# Test\r\n",
      "\tpython ../../MusiteDeep_Keras2.0/MusiteDeep/predict.py -input ../fasta_files/all_test_MetOx_$i.fasta -predict-type custom -model-prefix transfer-leayer/models/rephold-STY-nclass1-tl0-lr00075/metox_model_custom_general_STY_$i -output transfer-leayer/results/rephold-STY-nclass1-tl0-lr00075/metox_result_custom_general_STY_$i\r\n",
      "done\r\n"
     ]
    }
   ],
   "source": [
    "!cat transfer-leayer/train_bootstrap_custom_model_STY_1_tl_0_lr_00075.sh"
   ]
  },
  {
   "cell_type": "code",
   "execution_count": null,
   "metadata": {},
   "outputs": [],
   "source": [
    "%%time\n",
    "!transfer-leayer/train_bootstrap_custom_model_STY_1_tl_0_lr_00075.sh"
   ]
  },
  {
   "cell_type": "markdown",
   "metadata": {},
   "source": [
    "Using transfer-leayer=0 and lr=0.0005:"
   ]
  },
  {
   "cell_type": "code",
   "execution_count": 29,
   "metadata": {},
   "outputs": [
    {
     "name": "stdout",
     "output_type": "stream",
     "text": [
      "#!/bin/bash\r\n",
      "\r\n",
      "for i in {1..10}\r\n",
      "do\r\n",
      "\t# Train\r\n",
      "\t# Using repeated holdout strategy\r\n",
      "\t# Using the custom general model pre-trained on S, T, Y residues\r\n",
      "\t# Using nclass=1, transfer-leayer=0 and lr=0.0005\r\n",
      "\t# - initializing only the weights in last layer (for transfer learning)\r\n",
      "\tpython ../../MusiteDeep_Keras2.0/MusiteDeep/train_kinase.py -input ../fasta_files/all_train_MetOx_$i.fasta -background-prefix models/pre-train/custom_general_STY -output-prefix transfer-leayer/models/rephold-STY-nclass1-tl0-lr0005/metox_model_custom_general_STY_$i -residue-types M -nclass 1 -transferlayer 0 -lr 0.0005\r\n",
      "\r\n",
      "\t# Test\r\n",
      "\tpython ../../MusiteDeep_Keras2.0/MusiteDeep/predict.py -input ../fasta_files/all_test_MetOx_$i.fasta -predict-type custom -model-prefix transfer-leayer/models/rephold-STY-nclass1-tl0-lr0005/metox_model_custom_general_STY_$i -output transfer-leayer/results/rephold-STY-nclass1-tl0-lr0005/metox_result_custom_general_STY_$i\r\n",
      "done\r\n"
     ]
    }
   ],
   "source": [
    "!cat transfer-leayer/train_bootstrap_custom_model_STY_1_tl_0_lr_0005.sh"
   ]
  },
  {
   "cell_type": "code",
   "execution_count": null,
   "metadata": {},
   "outputs": [],
   "source": [
    "%%time\n",
    "!transfer-leayer/train_bootstrap_custom_model_STY_1_tl_0_lr_0005.sh"
   ]
  },
  {
   "cell_type": "markdown",
   "metadata": {},
   "source": [
    "Using transfer-leayer=0 and lr=0.0001:"
   ]
  },
  {
   "cell_type": "code",
   "execution_count": 1,
   "metadata": {},
   "outputs": [
    {
     "name": "stdout",
     "output_type": "stream",
     "text": [
      "#!/bin/bash\r\n",
      "\r\n",
      "for i in {1..10}\r\n",
      "do\r\n",
      "\t# Train\r\n",
      "\t# Using repeated holdout strategy\r\n",
      "\t# Using the custom general model pre-trained on S, T, Y residues\r\n",
      "\t# Using nclass=1, transfer-leayer=0 and lr=0.0001\r\n",
      "\t# - initializing only the weights in last layer (for transfer learning)\r\n",
      "\tpython ../../MusiteDeep_Keras2.0/MusiteDeep/train_kinase.py -input ../fasta_files/all_train_MetOx_$i.fasta -background-prefix models/pre-train/custom_general_STY -output-prefix transfer-leayer/models/rephold-STY-nclass1-tl0-lr0001/metox_model_custom_general_STY_$i -residue-types M -nclass 1 -transferlayer 0 -lr 0.0001\r\n",
      "\r\n",
      "\t# Test\r\n",
      "\tpython ../../MusiteDeep_Keras2.0/MusiteDeep/predict.py -input ../fasta_files/all_test_MetOx_$i.fasta -predict-type custom -model-prefix transfer-leayer/models/rephold-STY-nclass1-tl0-lr0001/metox_model_custom_general_STY_$i -output transfer-leayer/results/rephold-STY-nclass1-tl0-lr0001/metox_result_custom_general_STY_$i\r\n",
      "done\r\n"
     ]
    }
   ],
   "source": [
    "!cat transfer-leayer/train_bootstrap_custom_model_STY_1_tl_0_lr_0001.sh"
   ]
  },
  {
   "cell_type": "code",
   "execution_count": null,
   "metadata": {},
   "outputs": [],
   "source": [
    "%%time\n",
    "!transfer-leayer/train_bootstrap_custom_model_STY_1_tl_0_lr_0001.sh"
   ]
  },
  {
   "cell_type": "markdown",
   "metadata": {},
   "source": [
    "#### Fasta files with no initial M\n",
    "\n",
    "Using nclass=1:"
   ]
  },
  {
   "cell_type": "code",
   "execution_count": 6,
   "metadata": {},
   "outputs": [
    {
     "name": "stdout",
     "output_type": "stream",
     "text": [
      "#!/bin/bash\r\n",
      "\r\n",
      "for i in {1..10}\r\n",
      "do\r\n",
      "\t# Train\r\n",
      "\t# Using repeated holdout strategy\r\n",
      "\t# Using the custom general model pre-trained on S, T, Y residues\r\n",
      "\t# Using nclass=1\r\n",
      "\t# - initializing only the weights in last layer (for transfer learning)\r\n",
      "\tpython ../../MusiteDeep_Keras2.0/MusiteDeep/train_kinase.py -input fasta_files_M/all_train_MetOx_$i.fasta -background-prefix models/pre-train/custom_general_STY -output-prefix musite-fasta-M/models/fine-tune/rephold-STY-nclass1/metox_model_custom_general_STY_$i -residue-types M -nclass 1 -transferlayer 1\r\n",
      "\r\n",
      "\t# Test\r\n",
      "\tpython ../../MusiteDeep_Keras2.0/MusiteDeep/predict.py -input fasta_files_M/all_test_MetOx_$i.fasta -predict-type custom -model-prefix musite-fasta-M/models/fine-tune/rephold-STY-nclass1/metox_model_custom_general_STY_$i -output musite-fasta-M/results/rephold-STY-nclass1/metox_result_custom_general_STY_$i\r\n",
      "done\r\n"
     ]
    }
   ],
   "source": [
    "!cat musite-fasta-M/train_bootstrap_custom_model_STY_1.sh"
   ]
  },
  {
   "cell_type": "code",
   "execution_count": null,
   "metadata": {},
   "outputs": [],
   "source": [
    "%%time\n",
    "!musite-fasta-M/train_bootstrap_custom_model_STY_1.sh"
   ]
  },
  {
   "cell_type": "markdown",
   "metadata": {},
   "source": [
    "## Using bootstrap strategy\n",
    "\n",
    "Models are fine-tuned on MetOx data.\n",
    "\n",
    "### Residues S, T\n",
    "\n",
    "Using nclass=5:"
   ]
  },
  {
   "cell_type": "code",
   "execution_count": 1,
   "metadata": {},
   "outputs": [
    {
     "name": "stdout",
     "output_type": "stream",
     "text": [
      "#!/bin/bash\r\n",
      "\r\n",
      "# Store current directory\r\n",
      "d=$PWD\r\n",
      "\r\n",
      "for i in {1..100}\r\n",
      "do\r\n",
      "\t# Train\r\n",
      "\t# Using bootstrap strategy\r\n",
      "\t# Using the custom general model pre-trained on S, T residues\r\n",
      "\t# Using nclass=5 (default)\r\n",
      "\t# - initializing only the weights in last layer (for transfer learning)\r\n",
      "\tpython ../../MusiteDeep_Keras2.0/MusiteDeep/train_kinase.py -input ../fasta_files_bs/all_train_MetOx_bs_$i.fasta -background-prefix models/pre-train/custom_general_ST -output-prefix models/fine-tune/bs-ST-nclass5/metox_model_custom_general_ST_bs_$i -residue-types M -transferlayer 1\r\n",
      "\r\n",
      "\t# Test\r\n",
      "\tpython ../../MusiteDeep_Keras2.0/MusiteDeep/predict.py -input ../fasta_files_bs/all_test_MetOx_bs_$i.fasta -predict-type custom -model-prefix models/fine-tune/bs-ST-nclass5/metox_model_custom_general_ST_bs_$i -output results/bs-ST-nclass5/metox_result_custom_general_ST_bs_$i\r\n",
      "\r\n",
      "\t# Remove model files\r\n",
      "        cd models/fine-tune/bs-ST-nclass5/\r\n",
      "        ls | grep metox_model_custom_general_ST_bs_.*_HDF5 | xargs -d\"\\n\" rm\r\n",
      "        cd $d\r\n",
      "done\r\n",
      "\r\n",
      "# Remove all parameters files except the last one\r\n",
      "cd models/fine-tune/bs-ST-nclass5/\r\n",
      "ls | grep -v metox_model_custom_general_ST_bs_..._ | xargs -d\"\\n\" rm\r\n"
     ]
    }
   ],
   "source": [
    "!cat train_bootstrap_BS_custom_model_ST_5.sh"
   ]
  },
  {
   "cell_type": "code",
   "execution_count": null,
   "metadata": {},
   "outputs": [],
   "source": [
    "%%time\n",
    "!./train_bootstrap_BS_custom_model_ST_5.sh"
   ]
  },
  {
   "cell_type": "markdown",
   "metadata": {},
   "source": [
    "Using nclass=1:"
   ]
  },
  {
   "cell_type": "code",
   "execution_count": 4,
   "metadata": {},
   "outputs": [
    {
     "name": "stdout",
     "output_type": "stream",
     "text": [
      "#!/bin/bash\r\n",
      "\r\n",
      "for i in {1..100}\r\n",
      "do\r\n",
      "\t# Train\r\n",
      "\t# Using bootstrap strategy\r\n",
      "\t# Using the custom general model pre-trained on S, T residues\r\n",
      "\t# Using nclass=1\r\n",
      "\t# - initializing only the weights in last layer (for transfer learning)\r\n",
      "\tpython ../../MusiteDeep_Keras2.0/MusiteDeep/train_kinase.py -input ../fasta_files_bs/all_train_MetOx_bs_$i.fasta -background-prefix models/pre-train/custom_general_ST -output-prefix models/fine-tune/bs-ST-nclass1/metox_model_custom_general_ST_bs_$i -residue-types M -nclass 1 -transferlayer 1\r\n",
      "\r\n",
      "\t# Test\r\n",
      "\tpython ../../MusiteDeep_Keras2.0/MusiteDeep/predict.py -input ../fasta_files_bs/all_test_MetOx_bs_$i.fasta -predict-type custom -model-prefix models/fine-tune/bs-ST-nclass1/metox_model_custom_general_ST_bs_$i -output results/bs-ST-nclass1/metox_result_custom_general_ST_bs_$i\r\n",
      "done"
     ]
    }
   ],
   "source": [
    "!cat train_bootstrap_BS_custom_model_ST_1.sh"
   ]
  },
  {
   "cell_type": "code",
   "execution_count": null,
   "metadata": {},
   "outputs": [],
   "source": [
    "%%time\n",
    "!./train_bootstrap_BS_custom_model_ST_1.sh"
   ]
  },
  {
   "cell_type": "markdown",
   "metadata": {},
   "source": [
    "#### Fasta files with no initial M\n",
    "\n",
    "Using nclass=1:"
   ]
  },
  {
   "cell_type": "code",
   "execution_count": 1,
   "metadata": {},
   "outputs": [
    {
     "name": "stdout",
     "output_type": "stream",
     "text": [
      "#!/bin/bash\r\n",
      "\r\n",
      "# Store current directory\r\n",
      "d=$PWD\r\n",
      "\r\n",
      "for i in {1..100}\r\n",
      "do\r\n",
      "\t# Train\r\n",
      "\t# Using bootstrap strategy\r\n",
      "\t# Using the custom general model pre-trained on S, T residues\r\n",
      "\t# Using nclass=1\r\n",
      "\t# - initializing only the weights in last layer (for transfer learning)\r\n",
      "\tpython ../../MusiteDeep_Keras2.0/MusiteDeep/train_kinase.py -input fasta_files_bs_M/all_train_MetOx_bs_$i.fasta -background-prefix models/pre-train/custom_general_ST -output-prefix musite-fasta-M/models/fine-tune/bs-ST-nclass1/metox_model_custom_general_ST_bs_$i -residue-types M -nclass 1 -transferlayer 1\r\n",
      "\r\n",
      "\t# Test\r\n",
      "\tpython ../../MusiteDeep_Keras2.0/MusiteDeep/predict.py -input fasta_files_bs_M/all_test_MetOx_bs_$i.fasta -predict-type custom -model-prefix musite-fasta-M/models/fine-tune/bs-ST-nclass1/metox_model_custom_general_ST_bs_$i -output musite-fasta-M/results/bs-ST-nclass1/metox_result_custom_general_ST_bs_$i\r\n",
      "\r\n",
      "\t# Remove model files\r\n",
      "        cd musite-fasta-M/models/fine-tune/bs-ST-nclass1/\r\n",
      "        ls | grep metox_model_custom_general_ST_bs_.*_HDF5 | xargs -d\"\\n\" rm\r\n",
      "        cd $d\r\n",
      "done\r\n",
      "\r\n",
      "# Remove all parameters files except the last one\r\n",
      "cd musite-fasta-M/models/fine-tune/bs-ST-nclass1/\r\n",
      "ls | grep -v metox_model_custom_general_ST_bs_..._ | xargs -d\"\\n\" rm\r\n"
     ]
    }
   ],
   "source": [
    "!cat musite-fasta-M/train_bootstrap_BS_custom_model_ST_1.sh"
   ]
  },
  {
   "cell_type": "code",
   "execution_count": null,
   "metadata": {},
   "outputs": [],
   "source": [
    "%%time\n",
    "!musite-fasta-M/train_bootstrap_BS_custom_model_ST_1.sh"
   ]
  },
  {
   "cell_type": "markdown",
   "metadata": {},
   "source": [
    "### Residues S, T, Y\n",
    "\n",
    "Using nclass=5:"
   ]
  },
  {
   "cell_type": "code",
   "execution_count": 5,
   "metadata": {},
   "outputs": [
    {
     "name": "stdout",
     "output_type": "stream",
     "text": [
      "#!/bin/bash\r\n",
      "\r\n",
      "# Store current directory\r\n",
      "d=$PWD\r\n",
      "\r\n",
      "for i in {1..100}\r\n",
      "do\r\n",
      "\t# Train\r\n",
      "\t# Using bootstrap strategy\r\n",
      "\t# Using the custom general model pre-trained on S, T, Y residues\r\n",
      "\t# Using nclass=5 (default)\r\n",
      "\t# - initializing only the weights in last layer (for transfer learning)\r\n",
      "\tpython ../../MusiteDeep_Keras2.0/MusiteDeep/train_kinase.py -input ../fasta_files_bs/all_train_MetOx_bs_$i.fasta -background-prefix models/pre-train/custom_general_STY -output-prefix models/fine-tune/bs-STY-nclass5/metox_model_custom_general_STY_bs_$i -residue-types M -transferlayer 1\r\n",
      "\r\n",
      "\t# Test\r\n",
      "\tpython ../../MusiteDeep_Keras2.0/MusiteDeep/predict.py -input ../fasta_files_bs/all_test_MetOx_bs_$i.fasta -predict-type custom -model-prefix models/fine-tune/bs-STY-nclass5/metox_model_custom_general_STY_bs_$i -output results/bs-STY-nclass5/metox_result_custom_general_STY_bs_$i\r\n",
      "\r\n",
      "\t# Remove model files\r\n",
      "\tcd models/fine-tune/bs-STY-nclass5/\r\n",
      "\tls | grep metox_model_custom_general_STY_bs_.*_HDF5 | xargs -d\"\\n\" rm\r\n",
      "\tcd $d\r\n",
      "done\r\n",
      "\r\n",
      "# Remove all parameters files except the last one\r\n",
      "cd models/fine-tune/bs-STY-nclass5/\r\n",
      "ls | grep -v metox_model_custom_general_STY_bs_..._ | xargs -d\"\\n\" rm\r\n"
     ]
    }
   ],
   "source": [
    "!cat train_bootstrap_BS_custom_model_STY_5.sh"
   ]
  },
  {
   "cell_type": "code",
   "execution_count": null,
   "metadata": {},
   "outputs": [],
   "source": [
    "%%time\n",
    "!./train_bootstrap_BS_custom_model_STY_5.sh"
   ]
  },
  {
   "cell_type": "markdown",
   "metadata": {},
   "source": [
    "Using nclass=1:"
   ]
  },
  {
   "cell_type": "code",
   "execution_count": 1,
   "metadata": {},
   "outputs": [
    {
     "name": "stdout",
     "output_type": "stream",
     "text": [
      "#!/bin/bash\r\n",
      "\r\n",
      "# Store current directory\r\n",
      "d=$PWD\r\n",
      "\r\n",
      "for i in {1..100}\r\n",
      "do\r\n",
      "\t# Train\r\n",
      "\t# Using bootstrap strategy\r\n",
      "\t# Using the custom general model pre-trained on S, T, Y residues\r\n",
      "\t# Using nclass=1\r\n",
      "\t# - initializing only the weights in last layer (for transfer learning)\r\n",
      "\tpython ../../MusiteDeep_Keras2.0/MusiteDeep/train_kinase.py -input ../fasta_files_bs/all_train_MetOx_bs_$i.fasta -background-prefix models/pre-train/custom_general_STY -output-prefix models/fine-tune/bs-STY-nclass1/metox_model_custom_general_STY_bs_$i -residue-types M -nclass 1 -transferlayer 1\r\n",
      "\r\n",
      "\t# Test\r\n",
      "\tpython ../../MusiteDeep_Keras2.0/MusiteDeep/predict.py -input ../fasta_files_bs/all_test_MetOx_bs_$i.fasta -predict-type custom -model-prefix models/fine-tune/bs-STY-nclass1/metox_model_custom_general_STY_bs_$i -output results/bs-STY-nclass1/metox_result_custom_general_STY_bs_$i\r\n",
      "\r\n",
      "\t# Remove model files\r\n",
      "\tcd models/fine-tune/bs-STY-nclass1/\r\n",
      "\tls | grep metox_model_custom_general_STY_bs_.*_HDF5 | xargs -d\"\\n\" rm\r\n",
      "\tcd $d\r\n",
      "done\r\n",
      "\r\n",
      "# Remove all parameters files except the last one\r\n",
      "cd models/fine-tune/bs-STY-nclass1/\r\n",
      "ls | grep -v metox_model_custom_general_STY_bs_..._ | xargs -d\"\\n\" rm\r\n"
     ]
    }
   ],
   "source": [
    "!cat train_bootstrap_BS_custom_model_STY_1.sh"
   ]
  },
  {
   "cell_type": "code",
   "execution_count": null,
   "metadata": {},
   "outputs": [],
   "source": [
    "%%time\n",
    "!./train_bootstrap_BS_custom_model_STY_1.sh"
   ]
  },
  {
   "cell_type": "markdown",
   "metadata": {},
   "source": [
    "#### Transfer-leayer and learning-rate\n",
    "\n",
    "Using lr=0.00075"
   ]
  },
  {
   "cell_type": "code",
   "execution_count": 40,
   "metadata": {},
   "outputs": [
    {
     "name": "stdout",
     "output_type": "stream",
     "text": [
      "#!/bin/bash\r\n",
      "\r\n",
      "# Store current directory\r\n",
      "d=$PWD\r\n",
      "\r\n",
      "for i in {1..100}\r\n",
      "do\r\n",
      "\t# Train\r\n",
      "\t# Using bootstrap strategy\r\n",
      "\t# Using the custom general model pre-trained on S, T, Y residues\r\n",
      "\t# Using nclass=1 and lr=0.00075\r\n",
      "\t# - initializing only the weights in last layer (for transfer learning)\r\n",
      "\tpython ../../MusiteDeep_Keras2.0/MusiteDeep/train_kinase.py -input ../fasta_files_bs/all_train_MetOx_bs_$i.fasta -background-prefix models/pre-train/custom_general_STY -output-prefix lr/models/fine-tune/bs-STY-nclass1-lr00075/metox_model_custom_general_STY_bs_$i -residue-types M -nclass 1 -transferlayer 1 -lr 0.00075\r\n",
      "\r\n",
      "\t# Test\r\n",
      "\tpython ../../MusiteDeep_Keras2.0/MusiteDeep/predict.py -input ../fasta_files_bs/all_test_MetOx_bs_$i.fasta -predict-type custom -model-prefix lr/models/fine-tune/bs-STY-nclass1-lr00075/metox_model_custom_general_STY_bs_$i -output lr/results/bs-STY-nclass1-lr00075/metox_result_custom_general_STY_bs_$i\r\n",
      "\r\n",
      "\t# Remove model files\r\n",
      "\tcd lr/models/fine-tune/bs-STY-nclass1-lr00075/\r\n",
      "\tls | grep metox_model_custom_general_STY_bs_.*_HDF5 | xargs -d\"\\n\" rm\r\n",
      "\tcd $d\r\n",
      "done\r\n",
      "\r\n",
      "# Remove all parameters files except the last one\r\n",
      "cd lr/models/fine-tune/bs-STY-nclass1-lr00075/\r\n",
      "ls | grep -v metox_model_custom_general_STY_bs_..._ | xargs -d\"\\n\" rm\r\n"
     ]
    }
   ],
   "source": [
    "!cat lr/train_bootstrap_BS_custom_model_STY_1_lr_00075.sh"
   ]
  },
  {
   "cell_type": "code",
   "execution_count": null,
   "metadata": {},
   "outputs": [],
   "source": [
    "%%time\n",
    "!lr/train_bootstrap_BS_custom_model_STY_1_lr_00075.sh"
   ]
  },
  {
   "cell_type": "markdown",
   "metadata": {},
   "source": [
    "Using lr=0.0005"
   ]
  },
  {
   "cell_type": "code",
   "execution_count": 2,
   "metadata": {},
   "outputs": [
    {
     "name": "stdout",
     "output_type": "stream",
     "text": [
      "#!/bin/bash\r\n",
      "\r\n",
      "# Store current directory\r\n",
      "d=$PWD\r\n",
      "\r\n",
      "for i in {1..100}\r\n",
      "do\r\n",
      "\t# Train\r\n",
      "\t# Using bootstrap strategy\r\n",
      "\t# Using the custom general model pre-trained on S, T, Y residues\r\n",
      "\t# Using nclass=1 and lr=0.0005\r\n",
      "\t# - initializing only the weights in last layer (for transfer learning)\r\n",
      "\tpython ../../MusiteDeep_Keras2.0/MusiteDeep/train_kinase.py -input ../fasta_files_bs/all_train_MetOx_bs_$i.fasta -background-prefix models/pre-train/custom_general_STY -output-prefix lr/models/fine-tune/bs-STY-nclass1-lr0005/metox_model_custom_general_STY_bs_$i -residue-types M -nclass 1 -transferlayer 1 -lr 0.0005\r\n",
      "\r\n",
      "\t# Test\r\n",
      "\tpython ../../MusiteDeep_Keras2.0/MusiteDeep/predict.py -input ../fasta_files_bs/all_test_MetOx_bs_$i.fasta -predict-type custom -model-prefix lr/models/fine-tune/bs-STY-nclass1-lr0005/metox_model_custom_general_STY_bs_$i -output lr/results/bs-STY-nclass1-lr0005/metox_result_custom_general_STY_bs_$i\r\n",
      "\r\n",
      "\t# Remove model files\r\n",
      "\tcd lr/models/fine-tune/bs-STY-nclass1-lr0005/\r\n",
      "\tls | grep metox_model_custom_general_STY_bs_.*_HDF5 | xargs -d\"\\n\" rm\r\n",
      "\tcd $d\r\n",
      "done\r\n",
      "\r\n",
      "# Remove all parameters files except the last one\r\n",
      "cd lr/models/fine-tune/bs-STY-nclass1-lr0005/\r\n",
      "ls | grep -v metox_model_custom_general_STY_bs_..._ | xargs -d\"\\n\" rm\r\n"
     ]
    }
   ],
   "source": [
    "!cat lr/train_bootstrap_BS_custom_model_STY_1_lr_0005.sh"
   ]
  },
  {
   "cell_type": "code",
   "execution_count": null,
   "metadata": {},
   "outputs": [],
   "source": [
    "%%time\n",
    "!lr/train_bootstrap_BS_custom_model_STY_1_lr_0005.sh"
   ]
  },
  {
   "cell_type": "markdown",
   "metadata": {},
   "source": [
    "Using lr=0.00025:"
   ]
  },
  {
   "cell_type": "code",
   "execution_count": 5,
   "metadata": {},
   "outputs": [
    {
     "name": "stdout",
     "output_type": "stream",
     "text": [
      "#!/bin/bash\r\n",
      "\r\n",
      "# Store current directory\r\n",
      "d=$PWD\r\n",
      "\r\n",
      "for i in {1..100}\r\n",
      "do\r\n",
      "\t# Train\r\n",
      "\t# Using bootstrap strategy\r\n",
      "\t# Using the custom general model pre-trained on S, T, Y residues\r\n",
      "\t# Using nclass=1 and lr=0.00025\r\n",
      "\t# - initializing only the weights in last layer (for transfer learning)\r\n",
      "\tpython ../../MusiteDeep_Keras2.0/MusiteDeep/train_kinase.py -input ../fasta_files_bs/all_train_MetOx_bs_$i.fasta -background-prefix models/pre-train/custom_general_STY -output-prefix lr/models/fine-tune/bs-STY-nclass1-lr00025/metox_model_custom_general_STY_bs_$i -residue-types M -nclass 1 -transferlayer 1 -lr 0.00025\r\n",
      "\r\n",
      "\t# Test\r\n",
      "\tpython ../../MusiteDeep_Keras2.0/MusiteDeep/predict.py -input ../fasta_files_bs/all_test_MetOx_bs_$i.fasta -predict-type custom -model-prefix lr/models/fine-tune/bs-STY-nclass1-lr00025/metox_model_custom_general_STY_bs_$i -output lr/results/bs-STY-nclass1-lr00025/metox_result_custom_general_STY_bs_$i\r\n",
      "\r\n",
      "\t# Remove model files\r\n",
      "\tcd lr/models/fine-tune/bs-STY-nclass1-lr00025/\r\n",
      "\tls | grep metox_model_custom_general_STY_bs_.*_HDF5 | xargs -d\"\\n\" rm\r\n",
      "\tcd $d\r\n",
      "done\r\n",
      "\r\n",
      "# Remove all parameters files except the last one\r\n",
      "cd lr/models/fine-tune/bs-STY-nclass1-lr00025/\r\n",
      "ls | grep -v metox_model_custom_general_STY_bs_..._ | xargs -d\"\\n\" rm\r\n"
     ]
    }
   ],
   "source": [
    "!cat lr/train_bootstrap_BS_custom_model_STY_1_lr_00025.sh"
   ]
  },
  {
   "cell_type": "code",
   "execution_count": null,
   "metadata": {},
   "outputs": [],
   "source": [
    "%%time\n",
    "!lr/train_bootstrap_BS_custom_model_STY_1_lr_00025.sh"
   ]
  },
  {
   "cell_type": "markdown",
   "metadata": {},
   "source": [
    "Using lr=0.0001:"
   ]
  },
  {
   "cell_type": "code",
   "execution_count": 7,
   "metadata": {},
   "outputs": [
    {
     "name": "stdout",
     "output_type": "stream",
     "text": [
      "#!/bin/bash\r\n",
      "\r\n",
      "# Store current directory\r\n",
      "d=$PWD\r\n",
      "\r\n",
      "for i in {1..100}\r\n",
      "do\r\n",
      "\t# Train\r\n",
      "\t# Using bootstrap strategy\r\n",
      "\t# Using the custom general model pre-trained on S, T, Y residues\r\n",
      "\t# Using nclass=1 and lr=0.0001\r\n",
      "\t# - initializing only the weights in last layer (for transfer learning)\r\n",
      "\tpython ../../MusiteDeep_Keras2.0/MusiteDeep/train_kinase.py -input ../fasta_files_bs/all_train_MetOx_bs_$i.fasta -background-prefix models/pre-train/custom_general_STY -output-prefix lr/models/fine-tune/bs-STY-nclass1-lr0001/metox_model_custom_general_STY_bs_$i -residue-types M -nclass 1 -transferlayer 1 -lr 0.0001\r\n",
      "\r\n",
      "\t# Test\r\n",
      "\tpython ../../MusiteDeep_Keras2.0/MusiteDeep/predict.py -input ../fasta_files_bs/all_test_MetOx_bs_$i.fasta -predict-type custom -model-prefix lr/models/fine-tune/bs-STY-nclass1-lr0001/metox_model_custom_general_STY_bs_$i -output lr/results/bs-STY-nclass1-lr0001/metox_result_custom_general_STY_bs_$i\r\n",
      "\r\n",
      "\t# Remove model files\r\n",
      "\tcd lr/models/fine-tune/bs-STY-nclass1-lr0001/\r\n",
      "\tls | grep metox_model_custom_general_STY_bs_.*_HDF5 | xargs -d\"\\n\" rm\r\n",
      "\tcd $d\r\n",
      "done\r\n",
      "\r\n",
      "# Remove all parameters files except the last one\r\n",
      "cd lr/models/fine-tune/bs-STY-nclass1-lr0001/\r\n",
      "ls | grep -v metox_model_custom_general_STY_bs_..._ | xargs -d\"\\n\" rm\r\n"
     ]
    }
   ],
   "source": [
    "!cat lr/train_bootstrap_BS_custom_model_STY_1_lr_0001.sh"
   ]
  },
  {
   "cell_type": "code",
   "execution_count": null,
   "metadata": {},
   "outputs": [],
   "source": [
    "%%time\n",
    "!lr/train_bootstrap_BS_custom_model_STY_1_lr_0001.sh"
   ]
  },
  {
   "cell_type": "markdown",
   "metadata": {},
   "source": [
    "Using lr=0.00001:"
   ]
  },
  {
   "cell_type": "code",
   "execution_count": 2,
   "metadata": {},
   "outputs": [
    {
     "name": "stdout",
     "output_type": "stream",
     "text": [
      "#!/bin/bash\r\n",
      "\r\n",
      "# Store current directory\r\n",
      "d=$PWD\r\n",
      "\r\n",
      "for i in {1..100}\r\n",
      "do\r\n",
      "\t# Train\r\n",
      "\t# Using bootstrap strategy\r\n",
      "\t# Using the custom general model pre-trained on S, T, Y residues\r\n",
      "\t# Using nclass=1 and lr=0.00001\r\n",
      "\t# - initializing only the weights in last layer (for transfer learning)\r\n",
      "\tpython ../../MusiteDeep_Keras2.0/MusiteDeep/train_kinase.py -input ../fasta_files_bs/all_train_MetOx_bs_$i.fasta -background-prefix models/pre-train/custom_general_STY -output-prefix lr/models/fine-tune/bs-STY-nclass1-lr00001/metox_model_custom_general_STY_bs_$i -residue-types M -nclass 1 -transferlayer 1 -lr 0.00001\r\n",
      "\r\n",
      "\t# Test\r\n",
      "\tpython ../../MusiteDeep_Keras2.0/MusiteDeep/predict.py -input ../fasta_files_bs/all_test_MetOx_bs_$i.fasta -predict-type custom -model-prefix lr/models/fine-tune/bs-STY-nclass1-lr00001/metox_model_custom_general_STY_bs_$i -output lr/results/bs-STY-nclass1-lr00001/metox_result_custom_general_STY_bs_$i\r\n",
      "\r\n",
      "\t# Remove model files\r\n",
      "\tcd lr/models/fine-tune/bs-STY-nclass1-lr00001/\r\n",
      "\tls | grep metox_model_custom_general_STY_bs_.*_HDF5 | xargs -d\"\\n\" rm\r\n",
      "\tcd $d\r\n",
      "done\r\n",
      "\r\n",
      "# Remove all parameters files except the last one\r\n",
      "cd lr/models/fine-tune/bs-STY-nclass1-lr00001/\r\n",
      "ls | grep -v metox_model_custom_general_STY_bs_..._ | xargs -d\"\\n\" rm\r\n"
     ]
    }
   ],
   "source": [
    "!cat lr/train_bootstrap_BS_custom_model_STY_1_lr_00001.sh"
   ]
  },
  {
   "cell_type": "code",
   "execution_count": null,
   "metadata": {},
   "outputs": [],
   "source": [
    "%%time\n",
    "!lr/train_bootstrap_BS_custom_model_STY_1_lr_00001.sh"
   ]
  },
  {
   "cell_type": "markdown",
   "metadata": {},
   "source": [
    "Using lr=0.00125:"
   ]
  },
  {
   "cell_type": "code",
   "execution_count": 1,
   "metadata": {},
   "outputs": [
    {
     "name": "stdout",
     "output_type": "stream",
     "text": [
      "#!/bin/bash\r\n",
      "\r\n",
      "# Store current directory\r\n",
      "d=$PWD\r\n",
      "\r\n",
      "for i in {1..100}\r\n",
      "do\r\n",
      "\t# Train\r\n",
      "\t# Using bootstrap strategy\r\n",
      "\t# Using the custom general model pre-trained on S, T, Y residues\r\n",
      "\t# Using nclass=1 and lr=0.00125\r\n",
      "\t# - initializing only the weights in last layer (for transfer learning)\r\n",
      "\tpython ../../MusiteDeep_Keras2.0/MusiteDeep/train_kinase.py -input ../fasta_files_bs/all_train_MetOx_bs_$i.fasta -background-prefix models/pre-train/custom_general_STY -output-prefix lr/models/fine-tune/bs-STY-nclass1-lr00125/metox_model_custom_general_STY_bs_$i -residue-types M -nclass 1 -transferlayer 1 -lr 0.00125\r\n",
      "\r\n",
      "\t# Test\r\n",
      "\tpython ../../MusiteDeep_Keras2.0/MusiteDeep/predict.py -input ../fasta_files_bs/all_test_MetOx_bs_$i.fasta -predict-type custom -model-prefix lr/models/fine-tune/bs-STY-nclass1-lr00125/metox_model_custom_general_STY_bs_$i -output lr/results/bs-STY-nclass1-lr00125/metox_result_custom_general_STY_bs_$i\r\n",
      "\r\n",
      "\t# Remove model files\r\n",
      "\tcd lr/models/fine-tune/bs-STY-nclass1-lr00125/\r\n",
      "\tls | grep metox_model_custom_general_STY_bs_.*_HDF5 | xargs -d\"\\n\" rm\r\n",
      "\tcd $d\r\n",
      "done\r\n",
      "\r\n",
      "# Remove all parameters files except the last one\r\n",
      "cd lr/models/fine-tune/bs-STY-nclass1-lr00125/\r\n",
      "ls | grep -v metox_model_custom_general_STY_bs_..._ | xargs -d\"\\n\" rm\r\n"
     ]
    }
   ],
   "source": [
    "!cat lr/train_bootstrap_BS_custom_model_STY_1_lr_00125.sh"
   ]
  },
  {
   "cell_type": "code",
   "execution_count": null,
   "metadata": {},
   "outputs": [],
   "source": [
    "%%time\n",
    "!lr/train_bootstrap_BS_custom_model_STY_1_lr_00125.sh"
   ]
  },
  {
   "cell_type": "markdown",
   "metadata": {},
   "source": [
    "Using lr=0.0015:"
   ]
  },
  {
   "cell_type": "code",
   "execution_count": 3,
   "metadata": {},
   "outputs": [
    {
     "name": "stdout",
     "output_type": "stream",
     "text": [
      "#!/bin/bash\r\n",
      "\r\n",
      "# Store current directory\r\n",
      "d=$PWD\r\n",
      "\r\n",
      "for i in {1..100}\r\n",
      "do\r\n",
      "\t# Train\r\n",
      "\t# Using bootstrap strategy\r\n",
      "\t# Using the custom general model pre-trained on S, T, Y residues\r\n",
      "\t# Using nclass=1 and lr=0.0015\r\n",
      "\t# - initializing only the weights in last layer (for transfer learning)\r\n",
      "\tpython ../../MusiteDeep_Keras2.0/MusiteDeep/train_kinase.py -input ../fasta_files_bs/all_train_MetOx_bs_$i.fasta -background-prefix models/pre-train/custom_general_STY -output-prefix lr/models/fine-tune/bs-STY-nclass1-lr0015/metox_model_custom_general_STY_bs_$i -residue-types M -nclass 1 -transferlayer 1 -lr 0.0015\r\n",
      "\r\n",
      "\t# Test\r\n",
      "\tpython ../../MusiteDeep_Keras2.0/MusiteDeep/predict.py -input ../fasta_files_bs/all_test_MetOx_bs_$i.fasta -predict-type custom -model-prefix lr/models/fine-tune/bs-STY-nclass1-lr0015/metox_model_custom_general_STY_bs_$i -output lr/results/bs-STY-nclass1-lr0015/metox_result_custom_general_STY_bs_$i\r\n",
      "\r\n",
      "\t# Remove model files\r\n",
      "\tcd lr/models/fine-tune/bs-STY-nclass1-lr0015/\r\n",
      "\tls | grep metox_model_custom_general_STY_bs_.*_HDF5 | xargs -d\"\\n\" rm\r\n",
      "\tcd $d\r\n",
      "done\r\n",
      "\r\n",
      "# Remove all parameters files except the last one\r\n",
      "cd lr/models/fine-tune/bs-STY-nclass1-lr0015/\r\n",
      "ls | grep -v metox_model_custom_general_STY_bs_..._ | xargs -d\"\\n\" rm\r\n"
     ]
    }
   ],
   "source": [
    "!cat lr/train_bootstrap_BS_custom_model_STY_1_lr_0015.sh"
   ]
  },
  {
   "cell_type": "code",
   "execution_count": null,
   "metadata": {},
   "outputs": [],
   "source": [
    "%%time\n",
    "!lr/train_bootstrap_BS_custom_model_STY_1_lr_0015.sh"
   ]
  },
  {
   "cell_type": "markdown",
   "metadata": {},
   "source": [
    "Using tl=0:"
   ]
  },
  {
   "cell_type": "code",
   "execution_count": 9,
   "metadata": {},
   "outputs": [
    {
     "name": "stdout",
     "output_type": "stream",
     "text": [
      "#!/bin/bash\r\n",
      "\r\n",
      "# Store current directory\r\n",
      "d=$PWD\r\n",
      "\r\n",
      "for i in {1..100}\r\n",
      "do\r\n",
      "\t# Train\r\n",
      "\t# Using bootstrap strategy\r\n",
      "\t# Using the custom general model pre-trained on S, T, Y residues\r\n",
      "\t# Using nclass=1 and transfer-leayer=0\r\n",
      "\t# - initializing only the weights in last layer (for transfer learning)\r\n",
      "\tpython ../../MusiteDeep_Keras2.0/MusiteDeep/train_kinase.py -input ../fasta_files_bs/all_train_MetOx_bs_$i.fasta -background-prefix models/pre-train/custom_general_STY -output-prefix transfer-leayer/models/bs-STY-nclass1-tl0/metox_model_custom_general_STY_bs_$i -residue-types M -nclass 1 -transferlayer 0\r\n",
      "\r\n",
      "\t# Test\r\n",
      "\tpython ../../MusiteDeep_Keras2.0/MusiteDeep/predict.py -input ../fasta_files_bs/all_test_MetOx_bs_$i.fasta -predict-type custom -model-prefix transfer-leayer/models/bs-STY-nclass1-tl0/metox_model_custom_general_STY_bs_$i -output transfer-leayer/results/bs-STY-nclass1-tl0/metox_result_custom_general_STY_bs_$i\r\n",
      "\r\n",
      "\t# Remove model files\r\n",
      "        cd transfer-leayer/models/bs-STY-nclass1-tl0/\r\n",
      "        ls | grep metox_model_custom_general_STY_bs_.*_HDF5 | xargs -d\"\\n\" rm\r\n",
      "        cd $d\r\n",
      "done\r\n",
      "\r\n",
      "# Remove all parameters files except the last one\r\n",
      "cd transfer-leayer/models/bs-STY-nclass1-tl0/\r\n",
      "ls | grep -v metox_model_custom_general_STY_bs_..._ | xargs -d\"\\n\" rm\r\n"
     ]
    }
   ],
   "source": [
    "!cat transfer-leayer/train_bootstrap_BS_custom_model_STY_1_tl_0.sh"
   ]
  },
  {
   "cell_type": "code",
   "execution_count": null,
   "metadata": {},
   "outputs": [],
   "source": [
    "%%time\n",
    "!transfer-leayer/train_bootstrap_BS_custom_model_STY_1_tl_0.sh"
   ]
  },
  {
   "cell_type": "markdown",
   "metadata": {},
   "source": [
    "Using tl=3:"
   ]
  },
  {
   "cell_type": "code",
   "execution_count": 5,
   "metadata": {},
   "outputs": [
    {
     "name": "stdout",
     "output_type": "stream",
     "text": [
      "#!/bin/bash\r\n",
      "\r\n",
      "# Store current directory\r\n",
      "d=$PWD\r\n",
      "\r\n",
      "for i in {1..100}\r\n",
      "do\r\n",
      "\t# Train\r\n",
      "\t# Using bootstrap strategy\r\n",
      "\t# Using the custom general model pre-trained on S, T, Y residues\r\n",
      "\t# Using nclass=1 and transfer-leayer=3\r\n",
      "\t# - initializing only the weights in last layer (for transfer learning)\r\n",
      "\tpython ../../MusiteDeep_Keras2.0/MusiteDeep/train_kinase.py -input ../fasta_files_bs/all_train_MetOx_bs_$i.fasta -background-prefix models/pre-train/custom_general_STY -output-prefix transfer-leayer/models/bs-STY-nclass1-tl3/metox_model_custom_general_STY_bs_$i -residue-types M -nclass 1 -transferlayer 3\r\n",
      "\r\n",
      "\t# Test\r\n",
      "\tpython ../../MusiteDeep_Keras2.0/MusiteDeep/predict.py -input ../fasta_files_bs/all_test_MetOx_bs_$i.fasta -predict-type custom -model-prefix transfer-leayer/models/bs-STY-nclass1-tl3/metox_model_custom_general_STY_bs_$i -output transfer-leayer/results/bs-STY-nclass1-tl3/metox_result_custom_general_STY_bs_$i\r\n",
      "\r\n",
      "\t# Remove model files\r\n",
      "        cd transfer-leayer/models/bs-STY-nclass1-tl3/\r\n",
      "        ls | grep metox_model_custom_general_STY_bs_.*_HDF5 | xargs -d\"\\n\" rm\r\n",
      "        cd $d\r\n",
      "done\r\n",
      "\r\n",
      "# Remove all parameters files except the last one\r\n",
      "cd transfer-leayer/models/bs-STY-nclass1-tl3/\r\n",
      "ls | grep -v metox_model_custom_general_STY_bs_..._ | xargs -d\"\\n\" rm\r\n"
     ]
    }
   ],
   "source": [
    "!cat transfer-leayer/train_bootstrap_BS_custom_model_STY_1_tl_3.sh"
   ]
  },
  {
   "cell_type": "code",
   "execution_count": null,
   "metadata": {},
   "outputs": [],
   "source": [
    "%%time\n",
    "!transfer-leayer/train_bootstrap_BS_custom_model_STY_1_tl_3.sh"
   ]
  },
  {
   "cell_type": "markdown",
   "metadata": {},
   "source": [
    "Using tl=5:"
   ]
  },
  {
   "cell_type": "code",
   "execution_count": 10,
   "metadata": {},
   "outputs": [
    {
     "name": "stdout",
     "output_type": "stream",
     "text": [
      "#!/bin/bash\r\n",
      "\r\n",
      "# Store current directory\r\n",
      "d=$PWD\r\n",
      "\r\n",
      "for i in {1..100}\r\n",
      "do\r\n",
      "\t# Train\r\n",
      "\t# Using bootstrap strategy\r\n",
      "\t# Using the custom general model pre-trained on S, T, Y residues\r\n",
      "\t# Using nclass=1 and transfer-leayer=5\r\n",
      "\t# - initializing only the weights in last layer (for transfer learning)\r\n",
      "\tpython ../../MusiteDeep_Keras2.0/MusiteDeep/train_kinase.py -input ../fasta_files_bs/all_train_MetOx_bs_$i.fasta -background-prefix models/pre-train/custom_general_STY -output-prefix transfer-leayer/models/bs-STY-nclass1-tl5/metox_model_custom_general_STY_bs_$i -residue-types M -nclass 1 -transferlayer 5\r\n",
      "\r\n",
      "\t# Test\r\n",
      "\tpython ../../MusiteDeep_Keras2.0/MusiteDeep/predict.py -input ../fasta_files_bs/all_test_MetOx_bs_$i.fasta -predict-type custom -model-prefix transfer-leayer/models/bs-STY-nclass1-tl5/metox_model_custom_general_STY_bs_$i -output transfer-leayer/results/bs-STY-nclass1-tl5/metox_result_custom_general_STY_bs_$i\r\n",
      "\r\n",
      "\t# Remove model files\r\n",
      "        cd transfer-leayer/models/bs-STY-nclass1-tl5/\r\n",
      "        ls | grep metox_model_custom_general_STY_bs_.*_HDF5 | xargs -d\"\\n\" rm\r\n",
      "        cd $d\r\n",
      "done\r\n",
      "\r\n",
      "# Remove all parameters files except the last one\r\n",
      "cd transfer-leayer/models/bs-STY-nclass1-tl5/\r\n",
      "ls | grep -v metox_model_custom_general_STY_bs_..._ | xargs -d\"\\n\" rm\r\n"
     ]
    }
   ],
   "source": [
    "!cat transfer-leayer/train_bootstrap_BS_custom_model_STY_1_tl_5.sh"
   ]
  },
  {
   "cell_type": "code",
   "execution_count": null,
   "metadata": {},
   "outputs": [],
   "source": [
    "%%time\n",
    "!transfer-leayer/train_bootstrap_BS_custom_model_STY_1_tl_5.sh"
   ]
  },
  {
   "cell_type": "markdown",
   "metadata": {},
   "source": [
    "Using tl=0 and lr=0.0005:"
   ]
  },
  {
   "cell_type": "code",
   "execution_count": 42,
   "metadata": {},
   "outputs": [
    {
     "name": "stdout",
     "output_type": "stream",
     "text": [
      "#!/bin/bash\r\n",
      "\r\n",
      "# Store current directory\r\n",
      "d=$PWD\r\n",
      "\r\n",
      "for i in {1..100}\r\n",
      "do\r\n",
      "\t# Train\r\n",
      "\t# Using bootstrap strategy\r\n",
      "\t# Using the custom general model pre-trained on S, T, Y residues\r\n",
      "\t# Using nclass=1, transfer-leayer=0 and lr=0.0005\r\n",
      "\t# - initializing only the weights in last layer (for transfer learning)\r\n",
      "\tpython ../../MusiteDeep_Keras2.0/MusiteDeep/train_kinase.py -input ../fasta_files_bs/all_train_MetOx_bs_$i.fasta -background-prefix models/pre-train/custom_general_STY -output-prefix transfer-leayer/models/bs-STY-nclass1-tl0-lr0005/metox_model_custom_general_STY_bs_$i -residue-types M -nclass 1 -transferlayer 0 -lr 0.0005\r\n",
      "\r\n",
      "\t# Test\r\n",
      "\tpython ../../MusiteDeep_Keras2.0/MusiteDeep/predict.py -input ../fasta_files_bs/all_test_MetOx_bs_$i.fasta -predict-type custom -model-prefix transfer-leayer/models/bs-STY-nclass1-tl0-lr0005/metox_model_custom_general_STY_bs_$i -output transfer-leayer/results/bs-STY-nclass1-tl0-lr0005/metox_result_custom_general_STY_bs_$i\r\n",
      "\r\n",
      "\t# Remove model files\r\n",
      "        cd transfer-leayer/models/bs-STY-nclass1-tl0-lr0005/\r\n",
      "        ls | grep metox_model_custom_general_STY_bs_.*_HDF5 | xargs -d\"\\n\" rm\r\n",
      "        cd $d\r\n",
      "done\r\n",
      "\r\n",
      "# Remove all parameters files except the last one\r\n",
      "cd transfer-leayer/models/bs-STY-nclass1-tl0-lr0005/\r\n",
      "ls | grep -v metox_model_custom_general_STY_bs_..._ | xargs -d\"\\n\" rm\r\n"
     ]
    }
   ],
   "source": [
    "!cat transfer-leayer/train_bootstrap_BS_custom_model_STY_1_tl_0_lr_0005.sh"
   ]
  },
  {
   "cell_type": "code",
   "execution_count": null,
   "metadata": {},
   "outputs": [],
   "source": [
    "%%time\n",
    "!transfer-leayer/train_bootstrap_BS_custom_model_STY_1_tl_0_lr_0005.sh"
   ]
  },
  {
   "cell_type": "markdown",
   "metadata": {},
   "source": [
    "Using tl=0 and lr=0.00025:"
   ]
  },
  {
   "cell_type": "code",
   "execution_count": 5,
   "metadata": {},
   "outputs": [
    {
     "name": "stdout",
     "output_type": "stream",
     "text": [
      "#!/bin/bash\r\n",
      "\r\n",
      "# Store current directory\r\n",
      "d=$PWD\r\n",
      "\r\n",
      "for i in {1..100}\r\n",
      "do\r\n",
      "\t# Train\r\n",
      "\t# Using bootstrap strategy\r\n",
      "\t# Using the custom general model pre-trained on S, T, Y residues\r\n",
      "\t# Using nclass=1, transfer-leayer=0 and lr=0.00025\r\n",
      "\t# - initializing only the weights in last layer (for transfer learning)\r\n",
      "\tpython ../../MusiteDeep_Keras2.0/MusiteDeep/train_kinase.py -input ../fasta_files_bs/all_train_MetOx_bs_$i.fasta -background-prefix models/pre-train/custom_general_STY -output-prefix transfer-leayer/models/bs-STY-nclass1-tl0-lr00025/metox_model_custom_general_STY_bs_$i -residue-types M -nclass 1 -transferlayer 0 -lr 0.00025\r\n",
      "\r\n",
      "\t# Test\r\n",
      "\tpython ../../MusiteDeep_Keras2.0/MusiteDeep/predict.py -input ../fasta_files_bs/all_test_MetOx_bs_$i.fasta -predict-type custom -model-prefix transfer-leayer/models/bs-STY-nclass1-tl0-lr00025/metox_model_custom_general_STY_bs_$i -output transfer-leayer/results/bs-STY-nclass1-tl0-lr00025/metox_result_custom_general_STY_bs_$i\r\n",
      "\r\n",
      "\t# Remove model files\r\n",
      "        cd transfer-leayer/models/bs-STY-nclass1-tl0-lr00025/\r\n",
      "        ls | grep metox_model_custom_general_STY_bs_.*_HDF5 | xargs -d\"\\n\" rm\r\n",
      "        cd $d\r\n",
      "done\r\n",
      "\r\n",
      "# Remove all parameters files except the last one\r\n",
      "cd transfer-leayer/models/bs-STY-nclass1-tl0-lr00025/\r\n",
      "ls | grep -v metox_model_custom_general_STY_bs_..._ | xargs -d\"\\n\" rm\r\n"
     ]
    }
   ],
   "source": [
    "!cat transfer-leayer/train_bootstrap_BS_custom_model_STY_1_tl_0_lr_00025.sh"
   ]
  },
  {
   "cell_type": "code",
   "execution_count": null,
   "metadata": {},
   "outputs": [],
   "source": [
    "%%time\n",
    "!transfer-leayer/train_bootstrap_BS_custom_model_STY_1_tl_0_lr_00025.sh"
   ]
  },
  {
   "cell_type": "markdown",
   "metadata": {},
   "source": [
    "Using tl=0 and lr=0.0001:"
   ]
  },
  {
   "cell_type": "code",
   "execution_count": 5,
   "metadata": {},
   "outputs": [
    {
     "name": "stdout",
     "output_type": "stream",
     "text": [
      "#!/bin/bash\r\n",
      "\r\n",
      "# Store current directory\r\n",
      "d=$PWD\r\n",
      "\r\n",
      "for i in {1..100}\r\n",
      "do\r\n",
      "\t# Train\r\n",
      "\t# Using bootstrap strategy\r\n",
      "\t# Using the custom general model pre-trained on S, T, Y residues\r\n",
      "\t# Using nclass=1, transfer-leayer=0 and lr=0.0001\r\n",
      "\t# - initializing only the weights in last layer (for transfer learning)\r\n",
      "\tpython ../../MusiteDeep_Keras2.0/MusiteDeep/train_kinase.py -input ../fasta_files_bs/all_train_MetOx_bs_$i.fasta -background-prefix models/pre-train/custom_general_STY -output-prefix transfer-leayer/models/bs-STY-nclass1-tl0-lr0001/metox_model_custom_general_STY_bs_$i -residue-types M -nclass 1 -transferlayer 0 -lr 0.0001\r\n",
      "\r\n",
      "\t# Test\r\n",
      "\tpython ../../MusiteDeep_Keras2.0/MusiteDeep/predict.py -input ../fasta_files_bs/all_test_MetOx_bs_$i.fasta -predict-type custom -model-prefix transfer-leayer/models/bs-STY-nclass1-tl0-lr0001/metox_model_custom_general_STY_bs_$i -output transfer-leayer/results/bs-STY-nclass1-tl0-lr0001/metox_result_custom_general_STY_bs_$i\r\n",
      "\r\n",
      "\t# Remove model files\r\n",
      "        cd transfer-leayer/models/bs-STY-nclass1-tl0-lr0001/\r\n",
      "        ls | grep metox_model_custom_general_STY_bs_.*_HDF5 | xargs -d\"\\n\" rm\r\n",
      "        cd $d\r\n",
      "done\r\n",
      "\r\n",
      "# Remove all parameters files except the last one\r\n",
      "cd transfer-leayer/models/bs-STY-nclass1-tl0-lr0001/\r\n",
      "ls | grep -v metox_model_custom_general_STY_bs_..._ | xargs -d\"\\n\" rm\r\n"
     ]
    }
   ],
   "source": [
    "!cat transfer-leayer/train_bootstrap_BS_custom_model_STY_1_tl_0_lr_0001.sh"
   ]
  },
  {
   "cell_type": "code",
   "execution_count": null,
   "metadata": {},
   "outputs": [],
   "source": [
    "%%time\n",
    "!transfer-leayer/train_bootstrap_BS_custom_model_STY_1_tl_0_lr_0001.sh"
   ]
  },
  {
   "cell_type": "markdown",
   "metadata": {},
   "source": [
    "Using tl=3 and lr=0.0005:"
   ]
  },
  {
   "cell_type": "code",
   "execution_count": 1,
   "metadata": {},
   "outputs": [
    {
     "name": "stdout",
     "output_type": "stream",
     "text": [
      "#!/bin/bash\r\n",
      "\r\n",
      "# Store current directory\r\n",
      "d=$PWD\r\n",
      "\r\n",
      "for i in {1..100}\r\n",
      "do\r\n",
      "\t# Train\r\n",
      "\t# Using bootstrap strategy\r\n",
      "\t# Using the custom general model pre-trained on S, T, Y residues\r\n",
      "\t# Using nclass=1, transfer-leayer=3 and lr=0.0005\r\n",
      "\t# - initializing only the weights in last layer (for transfer learning)\r\n",
      "\tpython ../../MusiteDeep_Keras2.0/MusiteDeep/train_kinase.py -input ../fasta_files_bs/all_train_MetOx_bs_$i.fasta -background-prefix models/pre-train/custom_general_STY -output-prefix transfer-leayer/models/bs-STY-nclass1-tl3-lr0005/metox_model_custom_general_STY_bs_$i -residue-types M -nclass 1 -transferlayer 3 -lr 0.0005\r\n",
      "\r\n",
      "\t# Test\r\n",
      "\tpython ../../MusiteDeep_Keras2.0/MusiteDeep/predict.py -input ../fasta_files_bs/all_test_MetOx_bs_$i.fasta -predict-type custom -model-prefix transfer-leayer/models/bs-STY-nclass1-tl3-lr0005/metox_model_custom_general_STY_bs_$i -output transfer-leayer/results/bs-STY-nclass1-tl3-lr0005/metox_result_custom_general_STY_bs_$i\r\n",
      "\r\n",
      "\t# Remove model files\r\n",
      "        cd transfer-leayer/models/bs-STY-nclass1-tl3-lr0005/\r\n",
      "        ls | grep metox_model_custom_general_STY_bs_.*_HDF5 | xargs -d\"\\n\" rm\r\n",
      "        cd $d\r\n",
      "done\r\n",
      "\r\n",
      "# Remove all parameters files except the last one\r\n",
      "cd transfer-leayer/models/bs-STY-nclass1-tl3-lr0005/\r\n",
      "ls | grep -v metox_model_custom_general_STY_bs_..._ | xargs -d\"\\n\" rm\r\n"
     ]
    }
   ],
   "source": [
    "!cat transfer-leayer/train_bootstrap_BS_custom_model_STY_1_tl_3_lr_0005.sh"
   ]
  },
  {
   "cell_type": "code",
   "execution_count": null,
   "metadata": {},
   "outputs": [],
   "source": [
    "%%time\n",
    "!transfer-leayer/train_bootstrap_BS_custom_model_STY_1_tl_3_lr_0005.sh"
   ]
  },
  {
   "cell_type": "markdown",
   "metadata": {},
   "source": [
    "Using tl=3 and lr=0.00025:"
   ]
  },
  {
   "cell_type": "code",
   "execution_count": 3,
   "metadata": {},
   "outputs": [
    {
     "name": "stdout",
     "output_type": "stream",
     "text": [
      "#!/bin/bash\r\n",
      "\r\n",
      "# Store current directory\r\n",
      "d=$PWD\r\n",
      "\r\n",
      "for i in {1..100}\r\n",
      "do\r\n",
      "\t# Train\r\n",
      "\t# Using bootstrap strategy\r\n",
      "\t# Using the custom general model pre-trained on S, T, Y residues\r\n",
      "\t# Using nclass=1, transfer-leayer=3 and lr=0.00025\r\n",
      "\t# - initializing only the weights in last layer (for transfer learning)\r\n",
      "\tpython ../../MusiteDeep_Keras2.0/MusiteDeep/train_kinase.py -input ../fasta_files_bs/all_train_MetOx_bs_$i.fasta -background-prefix models/pre-train/custom_general_STY -output-prefix transfer-leayer/models/bs-STY-nclass1-tl3-lr00025/metox_model_custom_general_STY_bs_$i -residue-types M -nclass 1 -transferlayer 3 -lr 0.00025\r\n",
      "\r\n",
      "\t# Test\r\n",
      "\tpython ../../MusiteDeep_Keras2.0/MusiteDeep/predict.py -input ../fasta_files_bs/all_test_MetOx_bs_$i.fasta -predict-type custom -model-prefix transfer-leayer/models/bs-STY-nclass1-tl3-lr00025/metox_model_custom_general_STY_bs_$i -output transfer-leayer/results/bs-STY-nclass1-tl3-lr00025/metox_result_custom_general_STY_bs_$i\r\n",
      "\r\n",
      "\t# Remove model files\r\n",
      "        cd transfer-leayer/models/bs-STY-nclass1-tl3-lr00025/\r\n",
      "        ls | grep metox_model_custom_general_STY_bs_.*_HDF5 | xargs -d\"\\n\" rm\r\n",
      "        cd $d\r\n",
      "done\r\n",
      "\r\n",
      "# Remove all parameters files except the last one\r\n",
      "cd transfer-leayer/models/bs-STY-nclass1-tl3-lr00025/\r\n",
      "ls | grep -v metox_model_custom_general_STY_bs_..._ | xargs -d\"\\n\" rm\r\n"
     ]
    }
   ],
   "source": [
    "!cat transfer-leayer/train_bootstrap_BS_custom_model_STY_1_tl_3_lr_00025.sh"
   ]
  },
  {
   "cell_type": "code",
   "execution_count": null,
   "metadata": {},
   "outputs": [],
   "source": [
    "%%time\n",
    "!transfer-leayer/train_bootstrap_BS_custom_model_STY_1_tl_3_lr_00025.sh"
   ]
  },
  {
   "cell_type": "markdown",
   "metadata": {},
   "source": [
    "#### Using all phosphorylation data"
   ]
  },
  {
   "cell_type": "markdown",
   "metadata": {},
   "source": [
    "Using nclass=1 and STY-residues:"
   ]
  },
  {
   "cell_type": "code",
   "execution_count": 1,
   "metadata": {},
   "outputs": [
    {
     "name": "stdout",
     "output_type": "stream",
     "text": [
      "#!/bin/bash\r\n",
      "\r\n",
      "# Store current directory\r\n",
      "d=$PWD\r\n",
      "\r\n",
      "for i in {1..100}\r\n",
      "do\r\n",
      "\t# Train\r\n",
      "\t# Using bootstrap strategy\r\n",
      "\t# Using the custom general model pre-trained on both training and test S, T, Y residues\r\n",
      "\t# Using nclass=1\r\n",
      "\t# - initializing only the weights in last layer (for transfer learning)\r\n",
      "\tpython ../../MusiteDeep_Keras2.0/MusiteDeep/train_kinase.py -input ../fasta_files_bs/all_train_MetOx_bs_$i.fasta -background-prefix all-phos-data/models/pre-train/custom_general_STY -output-prefix all-phos-data/models/fine-tune/bs-STY-nclass1/metox_model_custom_general_STY_bs_$i -residue-types M -nclass 1 -transferlayer 1\r\n",
      "\r\n",
      "\t# Test\r\n",
      "\tpython ../../MusiteDeep_Keras2.0/MusiteDeep/predict.py -input ../fasta_files_bs/all_test_MetOx_bs_$i.fasta -predict-type custom -model-prefix all-phos-data/models/fine-tune/bs-STY-nclass1/metox_model_custom_general_STY_bs_$i -output all-phos-data/results/bs-STY-nclass1/metox_result_custom_general_STY_bs_$i\r\n",
      "\r\n",
      "\t# Remove model files\r\n",
      "\tcd all-phos-data/models/fine-tune/bs-STY-nclass1/\r\n",
      "\tls | grep metox_model_custom_general_STY_bs_.*_HDF5 | xargs -d\"\\n\" rm\r\n",
      "\tcd $d\r\n",
      "done\r\n",
      "\r\n",
      "# Remove all parameters files except the last one\r\n",
      "cd all-phos-data/models/fine-tune/bs-STY-nclass1/\r\n",
      "ls | grep -v metox_model_custom_general_STY_bs_..._ | xargs -d\"\\n\" rm\r\n"
     ]
    }
   ],
   "source": [
    "!cat all-phos-data/train_bootstrap_BS_custom_model_STY_1.sh"
   ]
  },
  {
   "cell_type": "code",
   "execution_count": null,
   "metadata": {},
   "outputs": [],
   "source": [
    "%%time\n",
    "!all-phos-data/train_bootstrap_BS_custom_model_STY_1.sh"
   ]
  },
  {
   "cell_type": "markdown",
   "metadata": {},
   "source": [
    "Using nclass=1 and ST-residues:"
   ]
  },
  {
   "cell_type": "code",
   "execution_count": 11,
   "metadata": {},
   "outputs": [
    {
     "name": "stdout",
     "output_type": "stream",
     "text": [
      "#!/bin/bash\r\n",
      "\r\n",
      "\r\n",
      "# ----- Arguments management -----\r\n",
      "\r\n",
      "while [[ $# -gt 0 ]]\r\n",
      "do\r\n",
      "\r\n",
      "key=\"$1\"\r\n",
      "case $key in\r\n",
      "    -l|--learning-rate)\r\n",
      "    LR=$2\r\n",
      "    shift # past argument\r\n",
      "    shift # past value\r\n",
      "    ;;\r\n",
      "    -t|--transfer-leayer)\r\n",
      "    TL=$2\r\n",
      "    shift # past argument\r\n",
      "    shift # past value\r\n",
      "    ;;\r\n",
      "    -n|--nclass)\r\n",
      "    N=$2\r\n",
      "    shift # past argument\r\n",
      "    shift # past value\r\n",
      "    ;;\r\n",
      "    -b|--background)\r\n",
      "    B=$2\r\n",
      "    shift # past argument\r\n",
      "    shift # past value\r\n",
      "    ;;\r\n",
      "    -p|--phospho-residue)\r\n",
      "    PH=$2\r\n",
      "    shift # past argument\r\n",
      "    shift # past value\r\n",
      "    ;;\r\n",
      "    -f|--fine-output)\r\n",
      "    FT=$2\r\n",
      "    shift # past argument\r\n",
      "    shift # past value\r\n",
      "    ;;\r\n",
      "    -r|--result-output)\r\n",
      "    RES=$2\r\n",
      "    shift # past argument\r\n",
      "    shift # past value\r\n",
      "    ;;\r\n",
      "    -h|--help)\r\n",
      "\techo \"Usage: $0 [OPTION]...\r\n",
      "Example: $0 -l 0.003 -t 5\r\n",
      "\r\n",
      "Arguments:\r\n",
      " -l, --learning-rate=NUM\tLearning rate value used when fine-tuning\r\n",
      " \t\t\t\tthe model. It should be a FLOAT value.\r\n",
      " \t\t\t\tDefault value is 0.001\r\n",
      " -t, --transfer-leayer=NUM\tTransfer-leayer value used when fine-tuning \r\n",
      " \t\t\t\tthe model. It should be an INTEGER value.\r\n",
      " \t\t\t\tDefault value is 1\r\n",
      " -n, --nclass=NUM\t\tNumber of class value used when fine-tuning \r\n",
      " \t\t\t\tthe model. It should be an INTEGER value.\r\n",
      " \t\t\t\tDefault value is 1\r\n",
      " -p, --phospho-residue=STRING\t'ST' or 'STY' phosphorylatable residues used\r\n",
      " \t\t\t\tduring pre-training. Default value is STY\r\n",
      " -b, --background=STRING\tPrefix of the existing pre-trained model \r\n",
      " \t\t\t\tusing general phosphorylation data (without the ST or STY suffix).\r\n",
      " \t\t\t\tDefault value is all-phos-data/models/pre-train/custom_general_(value of -p)\r\n",
      " -f, --fine-output=DIRECTORY \tDirectory in which fine-tuned models will be\r\n",
      " \t\t\t\ttemporally stored (it will be created if it does not exist). \r\n",
      " \t\t\t\tAn indermediate directory whose name indicates the learning rate,\r\n",
      " \t\t\t\ttransfer-leayer and nclass used values will be created.\r\n",
      " \t\t\t\tDefault value is all-phos-data/models/fine-tune\r\n",
      " -r, --result-output=DIRECTORY \tDirectory in which results files will be\r\n",
      " \t\t\t\tstored (it will be created if it does not exist). \r\n",
      " \t\t\t\tAn indermediate directory whose name indicates the learning rate,\r\n",
      " \t\t\t\ttransfer-leayer and nclass used values will be created. \r\n",
      " \t\t\t\tDefault value is all-phos-data/results\r\n",
      " -h, --help\t\t\tIt shows this help and exits\"\r\n",
      "\texit\r\n",
      "\t;;\r\n",
      "    *)    # unknown option\r\n",
      "\techo \"ERROR: $1 is not a valid option. Use -h (--help) to see correct usage\"\r\n",
      "    exit\r\n",
      "    ;;\r\n",
      "esac\r\n",
      "done\r\n",
      "\r\n",
      "lr=${LR:-0.001}\r\n",
      "tl=${TL:-1}\r\n",
      "n=${N:-1}\r\n",
      "p=${PH:-STY}\r\n",
      "b=${B:-all-phos-data/models/pre-train/custom_general_}\r\n",
      "b=${b}$p\r\n",
      "ft=${FT:-all-phos-data/models/fine-tune}\r\n",
      "res=${RES:-all-phos-data/results}\r\n",
      "\r\n",
      "\r\n",
      "# ----- Bootstrap strategy ----- \r\n",
      "\r\n",
      "# Directories to create\r\n",
      "c=bs-$p-nclass$n-lr$lr-tl$tl\r\n",
      "ft=${ft}/$c\r\n",
      "res=${res}/$c\r\n",
      "\r\n",
      "# Create if not exist\r\n",
      "mkdir -p $ft\r\n",
      "mkdir -p $res\r\n",
      "\r\n",
      "# Store current directory\r\n",
      "d=$PWD\r\n",
      "\r\n",
      "for i in {1..100}\r\n",
      "do\r\n",
      "\t# Train\r\n",
      "\t# Using bootstrap strategy\r\n",
      "\t# Using the custom general model pre-trained on both training and test S, T, Y residues\r\n",
      "\t# Using nclass=1, transfer-leayer=1 and lr=0.001 by default\r\n",
      "\tpython ../../MusiteDeep_Keras2.0/MusiteDeep/train_kinase.py -input ../fasta_files_bs/all_train_MetOx_bs_$i.fasta -background-prefix $b -output-prefix $ft/metox_model_custom_general_${p}_bs_$i -residue-types M -nclass $n -transferlayer $tl -lr $lr\r\n",
      "\r\n",
      "\t# Test\r\n",
      "\tpython ../../MusiteDeep_Keras2.0/MusiteDeep/predict.py -input ../fasta_files_bs/all_test_MetOx_bs_$i.fasta -predict-type custom -model-prefix $ft/metox_model_custom_general_${p}_bs_$i -output $res/metox_result_custom_general_${p}_bs_$i\r\n",
      "\r\n",
      "\t# Remove model files\r\n",
      "\tcd $ft\r\n",
      "\tls | grep metox_model_custom_general_${p}_bs_.*_HDF5 | xargs -d\"\\n\" rm\r\n",
      "\tcd $d\r\n",
      "done\r\n",
      "\r\n",
      "# Remove all parameters files except the last one\r\n",
      "cd $ft\r\n",
      "ls | grep -v metox_model_custom_general_${p}_bs_..._ | xargs -d\"\\n\" rm\r\n"
     ]
    }
   ],
   "source": [
    "!cat all-phos-data/train_bootstrap_BS_custom_model.sh"
   ]
  },
  {
   "cell_type": "code",
   "execution_count": null,
   "metadata": {},
   "outputs": [],
   "source": [
    "%%time\n",
    "!all-phos-data/train_bootstrap_BS_custom_model.sh -p ST"
   ]
  },
  {
   "cell_type": "markdown",
   "metadata": {},
   "source": [
    "##### Transfer-leayer and learning-rate\n",
    "\n",
    "Using lr=0.00075"
   ]
  },
  {
   "cell_type": "code",
   "execution_count": 1,
   "metadata": {},
   "outputs": [
    {
     "name": "stdout",
     "output_type": "stream",
     "text": [
      "#!/bin/bash\r\n",
      "\r\n",
      "\r\n",
      "# ----- Arguments management -----\r\n",
      "\r\n",
      "while [[ $# -gt 0 ]]\r\n",
      "do\r\n",
      "\r\n",
      "key=\"$1\"\r\n",
      "case $key in\r\n",
      "    -l|--learning-rate)\r\n",
      "    LR=$2\r\n",
      "    shift # past argument\r\n",
      "    shift # past value\r\n",
      "    ;;\r\n",
      "    -t|--transfer-leayer)\r\n",
      "    TL=$2\r\n",
      "    shift # past argument\r\n",
      "    shift # past value\r\n",
      "    ;;\r\n",
      "    -n|--nclass)\r\n",
      "    N=$2\r\n",
      "    shift # past argument\r\n",
      "    shift # past value\r\n",
      "    ;;\r\n",
      "    -h|--help)\r\n",
      "\techo \"Usage: $0 [OPTION]...\r\n",
      "Example: $0 -l 0.003 -t 5\r\n",
      "\r\n",
      "Arguments:\r\n",
      " -l, --learning-rate=NUM\tLearning rate value used when fine-tuning\r\n",
      " \t\t\t\tthe model. It should be a FLOAT value.\r\n",
      " \t\t\t\tDefault value is 0.001\r\n",
      " -t, --transfer-leayer=NUM\tTransfer-leayer value used when fine-tuning \r\n",
      " \t\t\t\tthe model. It should be an INTEGER value.\r\n",
      " \t\t\t\tDefault value is 1\r\n",
      " -n, --nclass=NUM\t\tNumber of class value used when fine-tuning \r\n",
      " \t\t\t\tthe model. It should be an INTEGER value.\r\n",
      " \t\t\t\tDefault value is 1\r\n",
      " -h, --help\t\t\tIt shows this help and exits\"\r\n",
      "\texit\r\n",
      "\t;;\r\n",
      "    *)    # unknown option\r\n",
      "\techo \"ERROR: $1 is not a valid option. Use -h (--help) to see correct usage\"\r\n",
      "    exit\r\n",
      "    ;;\r\n",
      "esac\r\n",
      "done\r\n",
      "\r\n",
      "lr=${LR:-0.001}\r\n",
      "tl=${TL:-1}\r\n",
      "n=${N:-1}\r\n",
      "\r\n",
      "\r\n",
      "# ----- Bootstrap strategy ----- \r\n",
      "\r\n",
      "# Directories to create\r\n",
      "c=bs-STY-nclass$n-lr$lr-tl$tl\r\n",
      "ft=all-phos-data/models/fine-tune/$c\r\n",
      "res=all-phos-data/results/$c\r\n",
      "\r\n",
      "# Create if not exist\r\n",
      "mkdir -p $ft\r\n",
      "mkdir -p $res\r\n",
      "\r\n",
      "# Store current directory\r\n",
      "d=$PWD\r\n",
      "\r\n",
      "for i in {1..100}\r\n",
      "do\r\n",
      "\t# Train\r\n",
      "\t# Using bootstrap strategy\r\n",
      "\t# Using the custom general model pre-trained on both training and test S, T, Y residues\r\n",
      "\t# Using nclass=1, transfer-leayer=1 and lr=0.001 by default\r\n",
      "\tpython ../../MusiteDeep_Keras2.0/MusiteDeep/train_kinase.py -input ../fasta_files_bs/all_train_MetOx_bs_$i.fasta -background-prefix all-phos-data/models/pre-train/custom_general_STY -output-prefix $ft/metox_model_custom_general_STY_bs_$i -residue-types M -nclass $n -transferlayer $tl -lr $lr\r\n",
      "\r\n",
      "\t# Test\r\n",
      "\tpython ../../MusiteDeep_Keras2.0/MusiteDeep/predict.py -input ../fasta_files_bs/all_test_MetOx_bs_$i.fasta -predict-type custom -model-prefix $ft/metox_model_custom_general_STY_bs_$i -output $res/metox_result_custom_general_STY_bs_$i\r\n",
      "\r\n",
      "\t# Remove model files\r\n",
      "\tcd $ft\r\n",
      "\tls | grep metox_model_custom_general_STY_bs_.*_HDF5 | xargs -d\"\\n\" rm\r\n",
      "\tcd $d\r\n",
      "done\r\n",
      "\r\n",
      "# Remove all parameters files except the last one\r\n",
      "cd $ft\r\n",
      "ls | grep -v metox_model_custom_general_STY_bs_..._ | xargs -d\"\\n\" rm\r\n"
     ]
    }
   ],
   "source": [
    "!cat all-phos-data/train_bootstrap_BS_custom_model_STY.sh"
   ]
  },
  {
   "cell_type": "code",
   "execution_count": null,
   "metadata": {},
   "outputs": [],
   "source": [
    "%%time\n",
    "!all-phos-data/train_bootstrap_BS_custom_model_STY.sh -l 0.00075"
   ]
  },
  {
   "cell_type": "markdown",
   "metadata": {},
   "source": [
    "Using lr=0.0005"
   ]
  },
  {
   "cell_type": "code",
   "execution_count": null,
   "metadata": {},
   "outputs": [],
   "source": [
    "%%time\n",
    "!all-phos-data/train_bootstrap_BS_custom_model_STY.sh -l 0.0005"
   ]
  },
  {
   "cell_type": "markdown",
   "metadata": {},
   "source": [
    "Using lr=0.00025"
   ]
  },
  {
   "cell_type": "code",
   "execution_count": null,
   "metadata": {},
   "outputs": [],
   "source": [
    "%%time\n",
    "!all-phos-data/train_bootstrap_BS_custom_model_STY.sh -l 0.00025"
   ]
  },
  {
   "cell_type": "markdown",
   "metadata": {},
   "source": [
    "Using lr=0.00125"
   ]
  },
  {
   "cell_type": "code",
   "execution_count": null,
   "metadata": {},
   "outputs": [],
   "source": [
    "%%time\n",
    "!all-phos-data/train_bootstrap_BS_custom_model_STY.sh -l 0.00125"
   ]
  },
  {
   "cell_type": "markdown",
   "metadata": {},
   "source": [
    "Using lr=0.0015"
   ]
  },
  {
   "cell_type": "code",
   "execution_count": null,
   "metadata": {},
   "outputs": [],
   "source": [
    "%%time\n",
    "!all-phos-data/train_bootstrap_BS_custom_model_STY.sh -l 0.0015"
   ]
  },
  {
   "cell_type": "markdown",
   "metadata": {},
   "source": [
    "Using tl=0:"
   ]
  },
  {
   "cell_type": "code",
   "execution_count": null,
   "metadata": {},
   "outputs": [],
   "source": [
    "%%time\n",
    "!all-phos-data/train_bootstrap_BS_custom_model_STY.sh -t 0"
   ]
  },
  {
   "cell_type": "markdown",
   "metadata": {},
   "source": [
    "Using tl=3:"
   ]
  },
  {
   "cell_type": "code",
   "execution_count": null,
   "metadata": {},
   "outputs": [],
   "source": [
    "%%time\n",
    "!all-phos-data/train_bootstrap_BS_custom_model.sh -t 3"
   ]
  },
  {
   "cell_type": "markdown",
   "metadata": {},
   "source": [
    "Using tl=5:"
   ]
  },
  {
   "cell_type": "code",
   "execution_count": null,
   "metadata": {},
   "outputs": [],
   "source": [
    "%%time\n",
    "!all-phos-data/train_bootstrap_BS_custom_model_STY.sh -t 5"
   ]
  },
  {
   "cell_type": "markdown",
   "metadata": {},
   "source": [
    "Using lr=0.00025 and tl=3:"
   ]
  },
  {
   "cell_type": "code",
   "execution_count": null,
   "metadata": {},
   "outputs": [],
   "source": [
    "%%time\n",
    "!all-phos-data/train_bootstrap_BS_custom_model.sh -l 0.00025 -t 3"
   ]
  },
  {
   "cell_type": "markdown",
   "metadata": {},
   "source": [
    "Using lr=0.00025 and tl=0:"
   ]
  },
  {
   "cell_type": "code",
   "execution_count": null,
   "metadata": {},
   "outputs": [],
   "source": [
    "%%time\n",
    "!all-phos-data/train_bootstrap_BS_custom_model.sh -l 0.00025 -t 0"
   ]
  },
  {
   "cell_type": "markdown",
   "metadata": {},
   "source": [
    "Using lr=0.0005 and tl=3:"
   ]
  },
  {
   "cell_type": "code",
   "execution_count": null,
   "metadata": {},
   "outputs": [],
   "source": [
    "%%time\n",
    "!all-phos-data/train_bootstrap_BS_custom_model.sh -l 0.0005 -t 3"
   ]
  },
  {
   "cell_type": "markdown",
   "metadata": {},
   "source": [
    "Using lr=0.0005 and tl=0:"
   ]
  },
  {
   "cell_type": "code",
   "execution_count": null,
   "metadata": {},
   "outputs": [],
   "source": [
    "%%time\n",
    "!all-phos-data/train_bootstrap_BS_custom_model.sh -l 0.0005 -t 0"
   ]
  },
  {
   "cell_type": "markdown",
   "metadata": {},
   "source": [
    "##### Fasta files with no initial M\n",
    "\n",
    "Using nclass=1:"
   ]
  },
  {
   "cell_type": "code",
   "execution_count": 3,
   "metadata": {},
   "outputs": [
    {
     "name": "stdout",
     "output_type": "stream",
     "text": [
      "#!/bin/bash\r\n",
      "\r\n",
      "# Store current directory\r\n",
      "d=$PWD\r\n",
      "\r\n",
      "for i in {1..100}\r\n",
      "do\r\n",
      "\t# Train\r\n",
      "\t# Using bootstrap strategy\r\n",
      "\t# Using the custom general model pre-trained on S, T, Y residues\r\n",
      "\t# Using nclass=1\r\n",
      "\t# - initializing only the weights in last layer (for transfer learning)\r\n",
      "\tpython ../../MusiteDeep_Keras2.0/MusiteDeep/train_kinase.py -input fasta_files_bs_M/all_train_MetOx_bs_$i.fasta -background-prefix models/pre-train/custom_general_STY -output-prefix musite-fasta-M/models/fine-tune/bs-STY-nclass1/metox_model_custom_general_STY_bs_$i -residue-types M -nclass 1 -transferlayer 1\r\n",
      "\r\n",
      "\t# Test\r\n",
      "\tpython ../../MusiteDeep_Keras2.0/MusiteDeep/predict.py -input fasta_files_bs_M/all_test_MetOx_bs_$i.fasta -predict-type custom -model-prefix musite-fasta-M/models/fine-tune/bs-STY-nclass1/metox_model_custom_general_STY_bs_$i -output musite-fasta-M/results/bs-STY-nclass1/metox_result_custom_general_STY_bs_$i\r\n",
      "\r\n",
      "\t# Remove model files\r\n",
      "        cd musite-fasta-M/models/fine-tune/bs-STY-nclass1/\r\n",
      "        ls | grep metox_model_custom_general_STY_bs_.*_HDF5 | xargs -d\"\\n\" rm\r\n",
      "        cd $d\r\n",
      "done\r\n",
      "\r\n",
      "# Remove all parameters files except the last one\r\n",
      "cd musite-fasta-M/models/fine-tune/bs-STY-nclass1/\r\n",
      "ls | grep -v metox_model_custom_general_STY_bs_..._ | xargs -d\"\\n\" rm\r\n"
     ]
    }
   ],
   "source": [
    "!cat musite-fasta-M/train_bootstrap_BS_custom_model_STY_1.sh"
   ]
  },
  {
   "cell_type": "code",
   "execution_count": null,
   "metadata": {
    "scrolled": true
   },
   "outputs": [],
   "source": [
    "%%time\n",
    "!musite-fasta-M/train_bootstrap_BS_custom_model_STY_1.sh"
   ]
  },
  {
   "cell_type": "markdown",
   "metadata": {},
   "source": [
    "##### Transfer-leayer and learning-rate\n",
    "\n",
    "Using lr=0.00075"
   ]
  },
  {
   "cell_type": "code",
   "execution_count": 4,
   "metadata": {},
   "outputs": [
    {
     "name": "stdout",
     "output_type": "stream",
     "text": [
      "#!/bin/bash\r\n",
      "\r\n",
      "# Store current directory\r\n",
      "d=$PWD\r\n",
      "\r\n",
      "for i in {1..100}\r\n",
      "do\r\n",
      "\t# Train\r\n",
      "\t# Using bootstrap strategy\r\n",
      "\t# Using the custom general model pre-trained on S, T, Y residues\r\n",
      "\t# Using nclass=1 and lr=0.00075\r\n",
      "\t# - initializing only the weights in last layer (for transfer learning)\r\n",
      "\tpython ../../MusiteDeep_Keras2.0/MusiteDeep/train_kinase.py -input fasta_files_bs_M/all_train_MetOx_bs_$i.fasta -background-prefix models/pre-train/custom_general_STY -output-prefix musite-fasta-M/models/fine-tune/bs-STY-nclass1-lr00075/metox_model_custom_general_STY_bs_$i -residue-types M -nclass 1 -transferlayer 1 -lr 0.00075\r\n",
      "\r\n",
      "\t# Test\r\n",
      "\tpython ../../MusiteDeep_Keras2.0/MusiteDeep/predict.py -input fasta_files_bs_M/all_test_MetOx_bs_$i.fasta -predict-type custom -model-prefix musite-fasta-M/models/fine-tune/bs-STY-nclass1-lr00075/metox_model_custom_general_STY_bs_$i -output musite-fasta-M/results/bs-STY-nclass1-lr00075/metox_result_custom_general_STY_bs_$i\r\n",
      "\r\n",
      "\t# Remove model files\r\n",
      "\tcd musite-fasta-M/models/fine-tune/bs-STY-nclass1-lr00075/\r\n",
      "\tls | grep metox_model_custom_general_STY_bs_.*_HDF5 | xargs -d\"\\n\" rm\r\n",
      "\tcd $d\r\n",
      "done\r\n",
      "\r\n",
      "# Remove all parameters files except the last one\r\n",
      "cd musite-fasta-M/models/fine-tune/bs-STY-nclass1-lr00075/\r\n",
      "ls | grep -v metox_model_custom_general_STY_bs_..._ | xargs -d\"\\n\" rm\r\n"
     ]
    }
   ],
   "source": [
    "!cat musite-fasta-M/train_bootstrap_BS_custom_model_STY_1_lr_00075.sh"
   ]
  },
  {
   "cell_type": "code",
   "execution_count": null,
   "metadata": {},
   "outputs": [],
   "source": [
    "%%time\n",
    "!musite-fasta-M/train_bootstrap_BS_custom_model_STY_1_lr_00075.sh"
   ]
  },
  {
   "cell_type": "markdown",
   "metadata": {},
   "source": [
    "# MetOx prediction using DeepBind\n",
    "\n",
    "In this notebook, we will use the DeepBind model to try to solve the methionine-oxidation problem. We will pre-train DeepBind on general phosphorylation data, and then we will fine-tune it using our methionine-oxidation dataset."
   ]
  },
  {
   "cell_type": "markdown",
   "metadata": {},
   "source": [
    "## Custom general model\n",
    "\n",
    "We now pre-train a custom general model on the general phosphorylation dataset.\n",
    "\n",
    "General model pre-trained on S, T residues:"
   ]
  },
  {
   "cell_type": "code",
   "execution_count": null,
   "metadata": {},
   "outputs": [],
   "source": [
    "%%time\n",
    "!python ../../MusiteDeep_Keras2.0/MusiteDeep/train_general.py -input ../../testdata/training_proteins_nonredundant_STY.fasta -cnn 'DeepBind' -output-prefix deepbind/models/pre-train/deep_bind_ST -residue-types S,T -nclass=5"
   ]
  },
  {
   "cell_type": "markdown",
   "metadata": {},
   "source": [
    "General model pre-trained on S, T, Y residues:"
   ]
  },
  {
   "cell_type": "code",
   "execution_count": null,
   "metadata": {},
   "outputs": [],
   "source": [
    "%%time\n",
    "!python ../../MusiteDeep_Keras2.0/MusiteDeep/train_general.py -input ../../testdata/training_proteins_nonredundant_STY.fasta -output-prefix models/pre-train/custom_general_STY -residue-types S,T,Y -nclass=5"
   ]
  },
  {
   "cell_type": "markdown",
   "metadata": {},
   "source": [
    "### Using repeated holdout strategy\n",
    "\n",
    "Models are fine-tuned on MetOx data.\n",
    "\n",
    "#### Residues S, T\n",
    "\n",
    "Using nclass=1, "
   ]
  },
  {
   "cell_type": "code",
   "execution_count": 4,
   "metadata": {},
   "outputs": [
    {
     "name": "stdout",
     "output_type": "stream",
     "text": [
      "#!/bin/bash\r\n",
      "\r\n",
      "for i in {1..10}\r\n",
      "do\r\n",
      "\t# Train\r\n",
      "\t# Using repeated holdout strategy\r\n",
      "\t# Using the DeepBind pre-trained on S, T residues\r\n",
      "\t# Using nclass=1\r\n",
      "\t# - initializing only the weights in last layer (for transfer learning)\r\n",
      "\tpython ../../MusiteDeep_Keras2.0/MusiteDeep/train_kinase.py -input ../fasta_files/all_train_MetOx_$i.fasta -cnn DeepBind -background-prefix deepbind/models/pre-train/deep_bind_ST -output-prefix deepbind/models/fine-tune/rephold-ST-nclass1/metox_model_deep_bind_ST_$i -residue-types M -nclass 1 -transferlayer 1\r\n",
      "\r\n",
      "\t# Test\r\n",
      "\tpython ../../MusiteDeep_Keras2.0/MusiteDeep/predict.py -input ../fasta_files/all_test_MetOx_$i.fasta -cnn DeepBind -predict-type custom -model-prefix deepbind/models/fine-tune/rephold-ST-nclass1/metox_model_deep_bind_ST_$i -output deepbind/results/rephold-ST-nclass1/metox_result_deep_bind_ST_$i\r\n",
      "done\r\n"
     ]
    }
   ],
   "source": [
    "!cat deepbind/train_bootstrap_deep_bind_ST_1.sh"
   ]
  },
  {
   "cell_type": "code",
   "execution_count": null,
   "metadata": {},
   "outputs": [],
   "source": [
    "%%time\n",
    "!deepbind/train_bootstrap_deep_bind_ST_1.sh"
   ]
  }
 ],
 "metadata": {
  "kernelspec": {
   "display_name": "Python 2",
   "language": "python",
   "name": "python2"
  },
  "language_info": {
   "codemirror_mode": {
    "name": "ipython",
    "version": 2
   },
   "file_extension": ".py",
   "mimetype": "text/x-python",
   "name": "python",
   "nbconvert_exporter": "python",
   "pygments_lexer": "ipython2",
   "version": "2.7.15"
  }
 },
 "nbformat": 4,
 "nbformat_minor": 2
}
