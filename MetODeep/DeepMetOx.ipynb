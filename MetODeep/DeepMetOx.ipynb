{
 "cells": [
  {
   "cell_type": "markdown",
   "metadata": {},
   "source": [
    "# MetOx prediction using MusiteDeep\n",
    "\n",
    "In this notebook, we will use the framework MusiteDeep to try to solve the methionine-oxidation problem. We will pre-train the MusiteDeep model on general phosphorylation data, and then we will fine-tune it using our methionine-oxidation dataset."
   ]
  },
  {
   "cell_type": "code",
   "execution_count": 1,
   "metadata": {},
   "outputs": [
    {
     "name": "stdout",
     "output_type": "stream",
     "text": [
      "Python 2.7.15 :: Anaconda, Inc.\r\n"
     ]
    }
   ],
   "source": [
    "!python -V"
   ]
  },
  {
   "cell_type": "markdown",
   "metadata": {},
   "source": [
    "## Pre-trained models\n",
    "\n",
    "We pre-train a custom general model using both training and testing general phoshorylation datasets."
   ]
  },
  {
   "cell_type": "markdown",
   "metadata": {},
   "source": [
    "Firstly, we check the total number of resiudes contained only in the training dataset:"
   ]
  },
  {
   "cell_type": "code",
   "execution_count": 4,
   "metadata": {},
   "outputs": [
    {
     "name": "stdout",
     "output_type": "stream",
     "text": [
      "36284\r\n"
     ]
    }
   ],
   "source": [
    "# Positive residues (in the original article, 36284 are reported)\n",
    "!cat ../testdata/training_proteins_nonredundant_STY.fasta | grep \">sp\" -v | grep \"#\" -o | wc -l"
   ]
  },
  {
   "cell_type": "code",
   "execution_count": 5,
   "metadata": {},
   "outputs": [
    {
     "name": "stdout",
     "output_type": "stream",
     "text": [
      "840198\r\n"
     ]
    }
   ],
   "source": [
    "# Positive and negative residues (in the original article, 841448 are reported)\n",
    "!cat ../testdata/training_proteins_nonredundant_STY.fasta | grep \">sp\" -v | grep \"S|T|Y\" -Eo | wc -l"
   ]
  },
  {
   "cell_type": "code",
   "execution_count": 6,
   "metadata": {},
   "outputs": [
    {
     "data": {
      "text/plain": [
       "126757"
      ]
     },
     "execution_count": 6,
     "metadata": {},
     "output_type": "execute_result"
    }
   ],
   "source": [
    "# Negative Tyr residues (in the original article, 128007 are reported)\n",
    "a = !cat ../testdata/training_proteins_nonredundant_STY.fasta | grep \">sp\" -v | grep \"Y\" -o | wc -l\n",
    "p = !cat ../testdata/training_proteins_nonredundant_STY.fasta | grep \">sp\" -v | grep \"Y#\" -o | wc -l\n",
    "int(a[0]) - int(p[0])"
   ]
  },
  {
   "cell_type": "markdown",
   "metadata": {},
   "source": [
    "Regarding the training dataset described in the original article, this dataset lacks of 1250 Tyr negative sites."
   ]
  },
  {
   "cell_type": "markdown",
   "metadata": {},
   "source": [
    "Then, we check that there are not proteins contained both in training and testing datasets, based on their IDs:"
   ]
  },
  {
   "cell_type": "code",
   "execution_count": 8,
   "metadata": {},
   "outputs": [
    {
     "name": "stdout",
     "output_type": "stream",
     "text": [
      "7627\r\n"
     ]
    }
   ],
   "source": [
    "!cat ../testdata/training_testing_proteins_nonredundant_STY.fasta | grep \">sp\" | wc -l"
   ]
  },
  {
   "cell_type": "code",
   "execution_count": 7,
   "metadata": {},
   "outputs": [
    {
     "name": "stdout",
     "output_type": "stream",
     "text": [
      "7627\r\n"
     ]
    }
   ],
   "source": [
    "!cat ../testdata/training_testing_proteins_nonredundant_STY.fasta | grep \">sp\" | sort | uniq | wc -l"
   ]
  },
  {
   "cell_type": "markdown",
   "metadata": {},
   "source": [
    "Then, we check the total number of resiudes contained in the joined dataset:"
   ]
  },
  {
   "cell_type": "code",
   "execution_count": 9,
   "metadata": {},
   "outputs": [
    {
     "name": "stdout",
     "output_type": "stream",
     "text": [
      "38405\r\n"
     ]
    }
   ],
   "source": [
    "# Positive residues (in the original article, 38405 are reported)\n",
    "!cat ../testdata/training_testing_proteins_nonredundant_STY.fasta | grep \">sp\" -v | grep \"#\" -o | wc -l"
   ]
  },
  {
   "cell_type": "code",
   "execution_count": 10,
   "metadata": {},
   "outputs": [
    {
     "name": "stdout",
     "output_type": "stream",
     "text": [
      "1930\r\n"
     ]
    }
   ],
   "source": [
    "# Tyr positive residues (in the original article, 1930 are reported)\n",
    "!cat ../testdata/training_testing_proteins_nonredundant_STY.fasta | grep \">sp\" -v | grep \"Y#\" -o | wc -l"
   ]
  },
  {
   "cell_type": "code",
   "execution_count": 11,
   "metadata": {},
   "outputs": [
    {
     "data": {
      "text/plain": [
       "135931"
      ]
     },
     "execution_count": 11,
     "metadata": {},
     "output_type": "execute_result"
    }
   ],
   "source": [
    "# Tyr negative residues (in the original article, 137181 are reported)\n",
    "a = !cat ../testdata/training_testing_proteins_nonredundant_STY.fasta | grep \">sp\" -v | grep \"Y\" -o | wc -l\n",
    "p = !cat ../testdata/training_testing_proteins_nonredundant_STY.fasta | grep \">sp\" -v | grep \"Y#\" -o | wc -l\n",
    "int(a[0]) - int(p[0])"
   ]
  },
  {
   "cell_type": "code",
   "execution_count": 12,
   "metadata": {},
   "outputs": [
    {
     "name": "stdout",
     "output_type": "stream",
     "text": [
      "912373\r\n"
     ]
    }
   ],
   "source": [
    "# Positive and negative residues (in the original article, 913623 are reported)\n",
    "!cat ../testdata/training_testing_proteins_nonredundant_STY.fasta | grep \">sp\" -v | grep -Eo \"S|T|Y\" | wc -l"
   ]
  },
  {
   "cell_type": "markdown",
   "metadata": {},
   "source": [
    "Regarding the dataset described in the original article, this dataset lacks of the 1250 Tyr negative sites of the training set, as stated above."
   ]
  },
  {
   "cell_type": "markdown",
   "metadata": {},
   "source": [
    "General model pre-trained on S, T residues:"
   ]
  },
  {
   "cell_type": "code",
   "execution_count": null,
   "metadata": {},
   "outputs": [],
   "source": [
    "%%time\n",
    "!python ../MusiteDeep_Keras2.0/MusiteDeep/train_general.py -input ../testdata/training_testing_proteins_nonredundant_STY.fasta -output-prefix all-phos-data/models/pre-train/custom_general_ST -residue-types S,T -nclass=5"
   ]
  },
  {
   "cell_type": "markdown",
   "metadata": {},
   "source": [
    "General model pre-trained on S, T, Y residues:"
   ]
  },
  {
   "cell_type": "code",
   "execution_count": null,
   "metadata": {},
   "outputs": [],
   "source": [
    "%%time\n",
    "!python ../MusiteDeep_Keras2.0/MusiteDeep/train_general.py -input ../testdata/training_testing_proteins_nonredundant_STY.fasta -output-prefix all-phos-data/models/pre-train/custom_general_STY -residue-types S,T,Y -nclass=5"
   ]
  },
  {
   "cell_type": "markdown",
   "metadata": {},
   "source": [
    "## Fine-tuned models\n",
    "\n",
    "We now fine-tune the previously pre-trained custom models on methionine-oxidation data:"
   ]
  },
  {
   "cell_type": "markdown",
   "metadata": {},
   "source": [
    "### Using bootstrap strategy"
   ]
  },
  {
   "cell_type": "markdown",
   "metadata": {},
   "source": [
    "Using STY-residues:"
   ]
  },
  {
   "cell_type": "code",
   "execution_count": 13,
   "metadata": {},
   "outputs": [
    {
     "name": "stdout",
     "output_type": "stream",
     "text": [
      "#!/bin/bash\r\n",
      "\r\n",
      "\r\n",
      "# ----- Arguments management -----\r\n",
      "\r\n",
      "while [[ $# -gt 0 ]]\r\n",
      "do\r\n",
      "\r\n",
      "key=\"$1\"\r\n",
      "case $key in\r\n",
      "    -l|--learning-rate)\r\n",
      "    LR=$2\r\n",
      "    shift # past argument\r\n",
      "    shift # past value\r\n",
      "    ;;\r\n",
      "    -t|--transfer-leayer)\r\n",
      "    TL=$2\r\n",
      "    shift # past argument\r\n",
      "    shift # past value\r\n",
      "    ;;\r\n",
      "    -n|--nclass)\r\n",
      "    N=$2\r\n",
      "    shift # past argument\r\n",
      "    shift # past value\r\n",
      "    ;;\r\n",
      "    -b|--background)\r\n",
      "    B=$2\r\n",
      "    shift # past argument\r\n",
      "    shift # past value\r\n",
      "    ;;\r\n",
      "    -p|--phospho-residue)\r\n",
      "    PH=$2\r\n",
      "    shift # past argument\r\n",
      "    shift # past value\r\n",
      "    ;;\r\n",
      "    -f|--fine-output)\r\n",
      "    FT=$2\r\n",
      "    shift # past argument\r\n",
      "    shift # past value\r\n",
      "    ;;\r\n",
      "    -r|--result-output)\r\n",
      "    RES=$2\r\n",
      "    shift # past argument\r\n",
      "    shift # past value\r\n",
      "    ;;\r\n",
      "    -h|--help)\r\n",
      "\techo \"Usage: $0 [OPTION]...\r\n",
      "Example: $0 -l 0.003 -t 5\r\n",
      "\r\n",
      "Arguments:\r\n",
      " -l, --learning-rate=NUM\tLearning rate value used when fine-tuning\r\n",
      " \t\t\t\tthe model. It should be a FLOAT value.\r\n",
      " \t\t\t\tDefault value is 0.001\r\n",
      " -t, --transfer-leayer=NUM\tTransfer-leayer value used when fine-tuning \r\n",
      " \t\t\t\tthe model. It should be an INTEGER value.\r\n",
      " \t\t\t\tDefault value is 1\r\n",
      " -n, --nclass=NUM\t\tNumber of class value used when fine-tuning \r\n",
      " \t\t\t\tthe model. It should be an INTEGER value.\r\n",
      " \t\t\t\tDefault value is 1\r\n",
      " -p, --phospho-residue=STRING\t'ST' or 'STY' phosphorylatable residues used\r\n",
      " \t\t\t\tduring pre-training. Default value is STY\r\n",
      " -b, --background=STRING\tPrefix of the existing pre-trained model \r\n",
      " \t\t\t\tusing general phosphorylation data (without the ST or STY suffix).\r\n",
      " \t\t\t\tDefault value is all-phos-data/models/pre-train/custom_general_(value of -p)\r\n",
      " -f, --fine-output=DIRECTORY \tDirectory in which fine-tuned models will be\r\n",
      " \t\t\t\ttemporally stored (it will be created if it does not exist). \r\n",
      " \t\t\t\tAn indermediate directory whose name indicates the learning rate,\r\n",
      " \t\t\t\ttransfer-leayer and nclass used values will be created.\r\n",
      " \t\t\t\tDefault value is all-phos-data/models/fine-tune\r\n",
      " -r, --result-output=DIRECTORY \tDirectory in which results files will be\r\n",
      " \t\t\t\tstored (it will be created if it does not exist). \r\n",
      " \t\t\t\tAn indermediate directory whose name indicates the learning rate,\r\n",
      " \t\t\t\ttransfer-leayer and nclass used values will be created. \r\n",
      " \t\t\t\tDefault value is all-phos-data/results\r\n",
      " -h, --help\t\t\tIt shows this help and exits\"\r\n",
      "\texit\r\n",
      "\t;;\r\n",
      "    *)    # unknown option\r\n",
      "\techo \"ERROR: $1 is not a valid option. Use -h (--help) to see correct usage\"\r\n",
      "    exit\r\n",
      "    ;;\r\n",
      "esac\r\n",
      "done\r\n",
      "\r\n",
      "lr=${LR:-0.001}\r\n",
      "tl=${TL:-1}\r\n",
      "n=${N:-1}\r\n",
      "p=${PH:-STY}\r\n",
      "b=${B:-all-phos-data/models/pre-train/custom_general_}\r\n",
      "b=${b}$p\r\n",
      "ft=${FT:-all-phos-data/models/fine-tune}\r\n",
      "res=${RES:-all-phos-data/results}\r\n",
      "\r\n",
      "\r\n",
      "# ----- Bootstrap strategy ----- \r\n",
      "\r\n",
      "# Directories to create\r\n",
      "c=bs-$p-nclass$n-lr$lr-tl$tl\r\n",
      "ft=${ft}/$c\r\n",
      "res=${res}/$c\r\n",
      "\r\n",
      "# Create if not exist\r\n",
      "mkdir -p $ft\r\n",
      "mkdir -p $res\r\n",
      "\r\n",
      "# Store current directory\r\n",
      "d=$PWD\r\n",
      "\r\n",
      "for i in {1..100}\r\n",
      "do\r\n",
      "\t# Train\r\n",
      "\t# Using bootstrap strategy\r\n",
      "\t# Using the custom general model pre-trained on both training and test S, T, Y residues\r\n",
      "\t# Using nclass=1, transfer-leayer=1 and lr=0.001 by default\r\n",
      "\tpython ../MusiteDeep_Keras2.0/MusiteDeep/train_kinase.py -input fasta_files_bs/all_train_MetOx_bs_$i.fasta -background-prefix $b -output-prefix $ft/metox_model_custom_general_${p}_bs_$i -residue-types M -nclass $n -transferlayer $tl -lr $lr\r\n",
      "\r\n",
      "\t# Test\r\n",
      "\tpython ../MusiteDeep_Keras2.0/MusiteDeep/predict.py -input fasta_files_bs/all_test_MetOx_bs_$i.fasta -predict-type custom -model-prefix $ft/metox_model_custom_general_${p}_bs_$i -output $res/metox_result_custom_general_${p}_bs_$i\r\n",
      "\r\n",
      "\t# Remove model files\r\n",
      "\tcd $ft\r\n",
      "\tls | grep metox_model_custom_general_${p}_bs_.*_HDF5 | xargs -d\"\\n\" rm\r\n",
      "\tcd $d\r\n",
      "done\r\n",
      "\r\n",
      "# Remove all parameters files except the last one\r\n",
      "cd $ft\r\n",
      "ls | grep -v metox_model_custom_general_${p}_bs_..._ | xargs -d\"\\n\" rm\r\n"
     ]
    }
   ],
   "source": [
    "!cat train_bootstrap_BS_custom_model.sh"
   ]
  },
  {
   "cell_type": "code",
   "execution_count": null,
   "metadata": {},
   "outputs": [],
   "source": [
    "%%time\n",
    "!./train_bootstrap_BS_custom_model.sh"
   ]
  },
  {
   "cell_type": "markdown",
   "metadata": {},
   "source": [
    "Using ST-residues:"
   ]
  },
  {
   "cell_type": "code",
   "execution_count": null,
   "metadata": {},
   "outputs": [],
   "source": [
    "%%time\n",
    "!./train_bootstrap_BS_custom_model.sh -p ST"
   ]
  },
  {
   "cell_type": "markdown",
   "metadata": {},
   "source": [
    "#### Transfer-leayer and learning-rate\n",
    "\n",
    "Using lr=0.00075"
   ]
  },
  {
   "cell_type": "code",
   "execution_count": null,
   "metadata": {},
   "outputs": [],
   "source": [
    "%%time\n",
    "!./train_bootstrap_BS_custom_model.sh -l 0.00075"
   ]
  },
  {
   "cell_type": "markdown",
   "metadata": {},
   "source": [
    "Using lr=0.0005"
   ]
  },
  {
   "cell_type": "code",
   "execution_count": null,
   "metadata": {},
   "outputs": [],
   "source": [
    "%%time\n",
    "!./train_bootstrap_BS_custom_model.sh -l 0.0005"
   ]
  },
  {
   "cell_type": "markdown",
   "metadata": {},
   "source": [
    "Using lr=0.00025"
   ]
  },
  {
   "cell_type": "code",
   "execution_count": null,
   "metadata": {},
   "outputs": [],
   "source": [
    "%%time\n",
    "!./train_bootstrap_BS_custom_model.sh -l 0.00025"
   ]
  },
  {
   "cell_type": "markdown",
   "metadata": {},
   "source": [
    "Using lr=0.00125"
   ]
  },
  {
   "cell_type": "code",
   "execution_count": null,
   "metadata": {},
   "outputs": [],
   "source": [
    "%%time\n",
    "!./train_bootstrap_BS_custom_model.sh -l 0.00125"
   ]
  },
  {
   "cell_type": "markdown",
   "metadata": {},
   "source": [
    "Using lr=0.0015"
   ]
  },
  {
   "cell_type": "code",
   "execution_count": null,
   "metadata": {},
   "outputs": [],
   "source": [
    "%%time\n",
    "!./train_bootstrap_BS_custom_model.sh -l 0.0015"
   ]
  },
  {
   "cell_type": "markdown",
   "metadata": {},
   "source": [
    "Using tl=0:"
   ]
  },
  {
   "cell_type": "code",
   "execution_count": null,
   "metadata": {},
   "outputs": [],
   "source": [
    "%%time\n",
    "!./train_bootstrap_BS_custom_model.sh -t 0"
   ]
  },
  {
   "cell_type": "markdown",
   "metadata": {},
   "source": [
    "Using tl=3:"
   ]
  },
  {
   "cell_type": "code",
   "execution_count": null,
   "metadata": {},
   "outputs": [],
   "source": [
    "%%time\n",
    "!./train_bootstrap_BS_custom_model.sh -t 3"
   ]
  },
  {
   "cell_type": "markdown",
   "metadata": {},
   "source": [
    "Using tl=5:"
   ]
  },
  {
   "cell_type": "code",
   "execution_count": null,
   "metadata": {},
   "outputs": [],
   "source": [
    "%%time\n",
    "!./train_bootstrap_BS_custom_model.sh -t 5"
   ]
  },
  {
   "cell_type": "markdown",
   "metadata": {},
   "source": [
    "Using lr=0.00025 and tl=3:"
   ]
  },
  {
   "cell_type": "code",
   "execution_count": null,
   "metadata": {},
   "outputs": [],
   "source": [
    "%%time\n",
    "!./train_bootstrap_BS_custom_model.sh -l 0.00025 -t 3"
   ]
  },
  {
   "cell_type": "markdown",
   "metadata": {},
   "source": [
    "Using lr=0.00025 and tl=0:"
   ]
  },
  {
   "cell_type": "code",
   "execution_count": null,
   "metadata": {},
   "outputs": [],
   "source": [
    "%%time\n",
    "!./train_bootstrap_BS_custom_model.sh -l 0.00025 -t 0"
   ]
  },
  {
   "cell_type": "markdown",
   "metadata": {},
   "source": [
    "Using lr=0.0005 and tl=3:"
   ]
  },
  {
   "cell_type": "code",
   "execution_count": null,
   "metadata": {},
   "outputs": [],
   "source": [
    "%%time\n",
    "!./train_bootstrap_BS_custom_model.sh -l 0.0005 -t 3"
   ]
  },
  {
   "cell_type": "markdown",
   "metadata": {},
   "source": [
    "Using lr=0.0005 and tl=0:"
   ]
  },
  {
   "cell_type": "code",
   "execution_count": null,
   "metadata": {},
   "outputs": [],
   "source": [
    "%%time\n",
    "!./train_bootstrap_BS_custom_model.sh -l 0.0005 -t 0"
   ]
  }
 ],
 "metadata": {
  "kernelspec": {
   "display_name": "Python 2",
   "language": "python",
   "name": "python2"
  },
  "language_info": {
   "codemirror_mode": {
    "name": "ipython",
    "version": 2
   },
   "file_extension": ".py",
   "mimetype": "text/x-python",
   "name": "python",
   "nbconvert_exporter": "python",
   "pygments_lexer": "ipython2",
   "version": "2.7.15"
  }
 },
 "nbformat": 4,
 "nbformat_minor": 2
}
